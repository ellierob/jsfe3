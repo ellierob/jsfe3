{
 "cells": [
  {
   "cell_type": "markdown",
   "metadata": {},
   "source": [
    "# backend\n",
    "* server: serves up html, css, javascripts\n",
    "* applications: (javascript) web API\n",
    "* database: "
   ]
  },
  {
   "cell_type": "markdown",
   "metadata": {},
   "source": [
    "# Node\n",
    "allows javascript to access local files"
   ]
  },
  {
   "cell_type": "code",
   "execution_count": null,
   "metadata": {
    "vscode": {
     "languageId": "bat"
    }
   },
   "outputs": [],
   "source": [
    "!node 1.js"
   ]
  },
  {
   "cell_type": "markdown",
   "metadata": {},
   "source": [
    "### Node REPL\n",
    "read evaluation print loop  \n",
    "allows execute code in bitesized chunks  \n",
    "angle bracket"
   ]
  },
  {
   "cell_type": "code",
   "execution_count": null,
   "metadata": {
    "vscode": {
     "languageId": "bat"
    }
   },
   "outputs": [],
   "source": [
    "!node"
   ]
  },
  {
   "cell_type": "code",
   "execution_count": null,
   "metadata": {
    "vscode": {
     "languageId": "bat"
    }
   },
   "outputs": [],
   "source": [
    "!node console.log('something');"
   ]
  },
  {
   "cell_type": "markdown",
   "metadata": {},
   "source": [
    "## modules require\n",
    "backend application use require instead of module import"
   ]
  },
  {
   "cell_type": "code",
   "execution_count": 5,
   "metadata": {
    "vscode": {
     "languageId": "javascript"
    }
   },
   "outputs": [],
   "source": [
    "%%script node\n",
    "\n",
    "// returns the module\n",
    "// modules allow only import\n",
    "// to use require, type = 'module' cannot be in package.json\n",
    "const fs = require('fs');\n",
    "\n",
    "fs.copyFileSync(\n",
    "    // source\n",
    "    'file.txt',\n",
    "    // destination automatically created if unavailable\n",
    "    'file2.txt'\n",
    "    );"
   ]
  },
  {
   "cell_type": "markdown",
   "metadata": {},
   "source": [
    "## http"
   ]
  },
  {
   "cell_type": "code",
   "execution_count": null,
   "metadata": {
    "vscode": {
     "languageId": "javascript"
    }
   },
   "outputs": [],
   "source": [
    "%%script node\n",
    "\n",
    "const http = require('http');\n",
    "const url = require('url');\n",
    "\n",
    "const server = http.createServer(function(req,res){\n",
    "    let headers = req.headers;\n",
    "    let method = req.method.toLocaleLowerCase();\n",
    "\n",
    "    let parsedURL = url.parse(\n",
    "        // request url starts after root    \n",
    "        req.url, \n",
    "        // query string\n",
    "        true\n",
    "        );\n",
    "    \n",
    "    let qs = parsedURL.query;\n",
    "\n",
    "    let path = parsedURL.pathname;\n",
    "    path = path.replace(\n",
    "        // regular expression starts with /, ends with /g\n",
    "        // regex for one or more slashes at end or start of expression\n",
    "        /^\\/+|\\/+$/g, \n",
    "        ''\n",
    "        );\n",
    "    console.log(path);\n",
    "    \n",
    "    // 'data' event listener required for end event\n",
    "    req.on('data', function(){console.log(\"ain't got none\")});\n",
    "\n",
    "    req.on('end', function(){\n",
    "        console.log('send a response');\n",
    "        let route = \n",
    "        typeof routes[path] !== 'undefined' ? \n",
    "        routes[path] \n",
    "        : routes['notFound'];\n",
    "\n",
    "        let req2 = {\n",
    "            path: path,\n",
    "            queryString: qs,\n",
    "            headers: headers,\n",
    "            method: method\n",
    "        };\n",
    "\n",
    "        route(req2, res);\n",
    "    });\n",
    "})\n",
    "\n",
    "server.listen(\n",
    "    // in windows ports 1024-65535 are free from os software and pre-defined protocol\n",
    "    3001, \n",
    "    function(){\n",
    "    console.log('listening on port 3001')\n",
    "})\n",
    "\n",
    "const routes = {\n",
    "    'books': function(req2,res){\n",
    "        let payload = {\n",
    "            name: 'books'\n",
    "        };\n",
    "        // JSON.stringify converts JSON to string\n",
    "        let payldStr = JSON.stringify(payload);\n",
    "        // response header contains key-value pairs metadata about response body\n",
    "        res.setHeader('Content-Type','application/json');\n",
    "        res.setHeader('Access-Control-Allow-Origin','*');\n",
    "        // success, 200 response header is default\n",
    "        res.writeHead(200);\n",
    "        res.write(payldStr);\n",
    "        // response not sent to the browser until end funtion is called\n",
    "        res.end(\"\\n\");\n",
    "    },\n",
    "    'notFound': function(){}\n",
    "}"
   ]
  },
  {
   "cell_type": "markdown",
   "metadata": {},
   "source": [
    "# nodemon live server"
   ]
  },
  {
   "cell_type": "code",
   "execution_count": null,
   "metadata": {
    "vscode": {
     "languageId": "bat"
    }
   },
   "outputs": [],
   "source": [
    "!yarn add nodemon -D"
   ]
  },
  {
   "cell_type": "code",
   "execution_count": null,
   "metadata": {
    "vscode": {
     "languageId": "bat"
    }
   },
   "outputs": [],
   "source": [
    "# package.json > \"scripts\" > \"start:dev\" = \"nodemon server.js\"\n",
    "!yarn config set init-script-start:dev \"nodemon server.js\""
   ]
  },
  {
   "cell_type": "code",
   "execution_count": null,
   "metadata": {
    "vscode": {
     "languageId": "bat"
    }
   },
   "outputs": [],
   "source": [
    "# runs start:dev \"nodemon server.js\" script\n",
    "!yarn start:dev"
   ]
  },
  {
   "cell_type": "code",
   "execution_count": null,
   "metadata": {
    "vscode": {
     "languageId": "bat"
    }
   },
   "outputs": [],
   "source": [
    "!nodemon server.js"
   ]
  }
 ],
 "metadata": {
  "kernelspec": {
   "display_name": "Python 3.10.8 64-bit",
   "language": "python",
   "name": "python3"
  },
  "language_info": {
   "name": "python",
   "version": "3.10.8"
  },
  "orig_nbformat": 4,
  "vscode": {
   "interpreter": {
    "hash": "e7370f93d1d0cde622a1f8e1c04877d8463912d04d973331ad4851f04de6915a"
   }
  }
 },
 "nbformat": 4,
 "nbformat_minor": 2
}

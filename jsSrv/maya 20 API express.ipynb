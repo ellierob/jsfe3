{
 "cells": [
  {
   "cell_type": "markdown",
   "metadata": {},
   "source": [
    "# API https"
   ]
  },
  {
   "cell_type": "markdown",
   "metadata": {},
   "source": [
    "## https get"
   ]
  },
  {
   "cell_type": "code",
   "execution_count": null,
   "metadata": {
    "vscode": {
     "languageId": "javascript"
    }
   },
   "outputs": [],
   "source": [
    "%%script node\n",
    "\n",
    "// API get\n",
    "\n",
    "const fs = require('fs');\n",
    "\n",
    "const app = require('express')();\n",
    "\n",
    "const pth = require('path');\n",
    "\n",
    "const supeRoot = pth.join(__dirname, `/../../`);\n",
    "\n",
    "console.log(__dirname);\n",
    "\n",
    "const bP = require('body-parser');\n",
    "app.use(bP.urlencoded({extended:true}))\n",
    "\n",
    "const https = require(\"https\");\n",
    "\n",
    "app.get(\n",
    "    '/weather',\n",
    "    function(req,res){\n",
    "        const path = supeRoot+ 'frontend/1/html/index.html';\n",
    "        res.sendFile(path);\n",
    "    })\n",
    "\n",
    "app.post(\n",
    "    '/weather',\n",
    "    function(req,res){\n",
    "        const query = req.body.cityname;\n",
    "        const apiKey = \"41c040e5e8db4292851212852223110\";\n",
    "        const url = `https://api.weatherapi.com/v1/current.json?key=${apiKey}&q=${query}`;\n",
    "        https.get(\n",
    "            url,\n",
    "            function(\n",
    "                // response from the get method\n",
    "                resAPI\n",
    "                ){\n",
    "                console.log(resAPI.statusCode);\n",
    "                resAPI.on('data', function(data){\n",
    "                    // JSON.parse turns JSON string to javascript object\n",
    "                    const dataObj = JSON.parse(data);\n",
    "                    const temp = dataObj.current.temp_c;\n",
    "                    // JSON.stringify turns object to JSON string\n",
    "                    const JSONString = JSON.stringify(dataObj.current.condition);\n",
    "                    console.log(data, dataObj, JSONString, temp);\n",
    "                    res.write(`<p>${query} temperature is ${temp}ºC\\n</p>`);\n",
    "                    // \n",
    "                    res.write(`<img src='https:${dataObj.current.condition.icon}'/>`);\n",
    "                    res.send()\n",
    "                })\n",
    "            }\n",
    "        )\n",
    "    }\n",
    ")\n",
    "\n",
    "app.listen('3001', function(){console.log('server started on port 3001')});"
   ]
  },
  {
   "cell_type": "markdown",
   "metadata": {},
   "source": [
    "## endpoint\n",
    "API URL root without method"
   ]
  },
  {
   "cell_type": "raw",
   "metadata": {},
   "source": [
    "https://api.weatherapi.com/v1"
   ]
  },
  {
   "cell_type": "markdown",
   "metadata": {},
   "source": [
    "## paths\n",
    "route of endpoint with methods"
   ]
  },
  {
   "cell_type": "raw",
   "metadata": {},
   "source": [
    "/               --- root route\n",
    "/curren.json\n",
    "/forecast.json"
   ]
  },
  {
   "cell_type": "markdown",
   "metadata": {},
   "source": [
    "## parameters\n",
    "optional queries"
   ]
  },
  {
   "cell_type": "raw",
   "metadata": {},
   "source": [
    "?q=london"
   ]
  },
  {
   "cell_type": "markdown",
   "metadata": {},
   "source": [
    "## authentication"
   ]
  },
  {
   "cell_type": "raw",
   "metadata": {},
   "source": [
    "&key=41c040e5e8db4292851212852223110"
   ]
  },
  {
   "cell_type": "markdown",
   "metadata": {},
   "source": [
    "## https request write"
   ]
  },
  {
   "cell_type": "code",
   "execution_count": null,
   "metadata": {
    "vscode": {
     "languageId": "javascript"
    }
   },
   "outputs": [],
   "source": [
    "%%script node\n",
    "\n",
    "const xpr = require('express');\n",
    "const app = xpr();\n",
    "\n",
    "const pth = require('path');\n",
    "const supeRoot = pth.join(__dirname, `/../../`);\n",
    "\n",
    "const bP = require('body-parser');\n",
    "app.use(bP.urlencoded({extended:true}))\n",
    "\n",
    "app.use(xpr.static(supeRoot+\"frontend/1/public\"))\n",
    "\n",
    "// API request write\n",
    "\n",
    "app.get(\n",
    "    '/mailinglist',\n",
    "    function(req,res){\n",
    "        const path = supeRoot+ 'frontend/1/html/index.html';\n",
    "        res.sendFile(path);\n",
    "    })\n",
    "\n",
    "app.post(\n",
    "    '/mailinglist',\n",
    "    function(req,res){\n",
    "        const fName = req.body.fname;\n",
    "        const lName = req.body.lname;\n",
    "        const email = req.body.email;\n",
    "        const data = {\n",
    "            members: [\n",
    "                {\n",
    "                    email_address: email,\n",
    "                    status: 'subscribed',\n",
    "                    merge_fields: {\n",
    "                        FNAME: fName,\n",
    "                        LNAME: lName\n",
    "                    }\n",
    "                }\n",
    "            ]\n",
    "        }\n",
    "        const dataJSON = JSON.stringify(data);\n",
    "        const url = process.env.MAILCHIMP_API;\n",
    "        const options = {\n",
    "            method: 'POST',\n",
    "            // user:apiKey\n",
    "            auth: 'engyba:4de3d6e1c7a835d239074115497c7466-us18'\n",
    "        }\n",
    "\n",
    "        const request = https.request(\n",
    "            url,\n",
    "            //options\n",
    "            options,\n",
    "            function(\n",
    "                // response from the get method\n",
    "                resAPI\n",
    "                ){\n",
    "                console.log(resAPI.statusCode);\n",
    "                resAPI.on('data', function(data){\n",
    "                    console.log(JSON.parse(data));\n",
    "                });\n",
    "            }\n",
    "        )\n",
    "\n",
    "        request.write(dataJSON);\n",
    "        request.end();\n",
    "    }\n",
    ")\n",
    "\n",
    "\n",
    "\n",
    "// start server by require('express')().listen\n",
    "app.listen(\n",
    "    // listening on port\n",
    "    // react frontend app listens on 3000\n",
    "    3001, \n",
    "    // callback\n",
    "    function(){console.log('server started on port 3001');\n",
    "});"
   ]
  }
 ],
 "metadata": {
  "kernelspec": {
   "display_name": "Python 3.10.8 64-bit",
   "language": "python",
   "name": "python3"
  },
  "language_info": {
   "codemirror_mode": {
    "name": "ipython",
    "version": 3
   },
   "file_extension": ".py",
   "mimetype": "text/x-python",
   "name": "python",
   "nbconvert_exporter": "python",
   "pygments_lexer": "ipython3",
   "version": "3.10.8"
  },
  "orig_nbformat": 4,
  "vscode": {
   "interpreter": {
    "hash": "e7370f93d1d0cde622a1f8e1c04877d8463912d04d973331ad4851f04de6915a"
   }
  }
 },
 "nbformat": 4,
 "nbformat_minor": 2
}

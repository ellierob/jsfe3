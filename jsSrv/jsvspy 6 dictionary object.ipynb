{
  "cells": [
    {
      "cell_type": "markdown",
      "metadata": {},
      "source": [
        "Python dictionary key strings must be written in quotes"
      ]
    },
    {
      "cell_type": "code",
      "execution_count": null,
      "metadata": {},
      "outputs": [],
      "source": [
        "dict = {\"man\":\"john\", \"married\":False}"
      ]
    },
    {
      "cell_type": "markdown",
      "metadata": {},
      "source": [
        "Javascript object 'property' strings can be written without quotes  \n",
        "but typecast as string"
      ]
    },
    {
      "cell_type": "code",
      "execution_count": null,
      "metadata": {
        "vscode": {
          "languageId": "javascript"
        }
      },
      "outputs": [],
      "source": [
        "%%script node\n",
        "\n",
        "obj = {name:\"john\", married:false};\n",
        "\n",
        "console.log(obj['name'])"
      ]
    },
    {
      "cell_type": "markdown",
      "metadata": {},
      "source": [
        "accessing values by python dictionary keys and javascript object properties"
      ]
    },
    {
      "cell_type": "code",
      "execution_count": 3,
      "metadata": {},
      "outputs": [
        {
          "data": {
            "text/plain": [
              "'john'"
            ]
          },
          "execution_count": 3,
          "metadata": {},
          "output_type": "execute_result"
        }
      ],
      "source": [
        "dict = {\"man\":\"john\", \"married\":False}\n",
        "\n",
        "# by dictionary keys\n",
        "dict['man']"
      ]
    },
    {
      "cell_type": "code",
      "execution_count": 8,
      "metadata": {
        "vscode": {
          "languageId": "javascript"
        }
      },
      "outputs": [
        {
          "name": "stdout",
          "output_type": "stream",
          "text": [
            "john\n",
            "john\n",
            "pam\n"
          ]
        }
      ],
      "source": [
        "%%script node\n",
        "\n",
        "obj = {name:\"john\", married:false};\n",
        "\n",
        "// by bracket notation, using object property\n",
        "console.log(obj['name'])\n",
        "\n",
        "// by dot notation, but only when property doesn't have space\n",
        "console.log(obj.name)\n",
        "\n",
        "\n",
        "allNames = {1: 'jonah', 2: 'pam', 3: 'gumby'};\n",
        "\n",
        "playerNum = 2;\n",
        "\n"
      ]
    },
    {
      "cell_type": "markdown",
      "metadata": {},
      "source": [
        "bracket notation use case"
      ]
    },
    {
      "cell_type": "code",
      "execution_count": null,
      "metadata": {
        "vscode": {
          "languageId": "javascript"
        }
      },
      "outputs": [],
      "source": [
        "%%script node\n",
        "\n",
        "// using variable as index\n",
        "playerName = allNames[playerNum]\n",
        "\n",
        "console.log(playerName)\n",
        "\n",
        "// bracket notation also helps in interactive\n",
        "\n",
        "choices = {y:'yes', n: 'no'}\n",
        "\n",
        "choice = prompt(`choose between 'y' and 'n'`)\n",
        "\n",
        "if (!choices[choice]) { \n",
        "    'not found'\n",
        "} else {\n",
        "    choices[choice]\n",
        "}"
      ]
    },
    {
      "cell_type": "markdown",
      "metadata": {},
      "source": [
        "\n",
        "updating and adding new values"
      ]
    },
    {
      "cell_type": "code",
      "execution_count": 7,
      "metadata": {},
      "outputs": [
        {
          "name": "stdout",
          "output_type": "stream",
          "text": [
            "{'name': 'john', 'married': True}\n",
            "{'name': 'john', 'married': True, 'horns': 5}\n"
          ]
        }
      ],
      "source": [
        "dict = {'name':\"john\", 'married':False}\n",
        "\n",
        "# update existing value\n",
        "dict['married'] = True\n",
        "\n",
        "print(dict)\n",
        "\n",
        "# new key\n",
        "dict['horns'] = 5\n",
        "\n",
        "print(dict)"
      ]
    },
    {
      "cell_type": "code",
      "execution_count": null,
      "metadata": {
        "vscode": {
          "languageId": "javascript"
        }
      },
      "outputs": [],
      "source": [
        "%%script node\n",
        "\n",
        "obj = {name:\"john\", married:false};\n",
        "\n",
        "// update existing value\n",
        "obj['married'] = true;\n",
        "\n",
        "console.log(obj)\n",
        "\n",
        "// new property\n",
        "obj.horns = 5;\n",
        "\n",
        "console.log(obj)"
      ]
    },
    {
      "cell_type": "markdown",
      "metadata": {},
      "source": [
        "\n",
        "deleting properties and keys\n",
        "\n",
        "(javascript objects are of undefined length)"
      ]
    },
    {
      "cell_type": "code",
      "execution_count": 9,
      "metadata": {},
      "outputs": [
        {
          "name": "stdout",
          "output_type": "stream",
          "text": [
            "{'name': 'john', 'married': False} 2\n",
            "{'married': False} 1\n"
          ]
        }
      ],
      "source": [
        "dict = {\"name\":\"john\", \"married\":False}\n",
        "\n",
        "print(dict, len(dict))\n",
        "\n",
        "del dict[\"name\"]\n",
        "\n",
        "print(dict, len(dict))"
      ]
    },
    {
      "cell_type": "code",
      "execution_count": null,
      "metadata": {
        "vscode": {
          "languageId": "javascript"
        }
      },
      "outputs": [],
      "source": [
        "%%script node\n",
        "\n",
        "obj = {name:\"john\", married:false};\n",
        "\n",
        "console.log(obj, obj.length)\n",
        "\n",
        "delete obj[\"name\"];\n",
        "\n",
        "console.log(obj, obj.length)"
      ]
    },
    {
      "cell_type": "code",
      "execution_count": null,
      "metadata": {
        "vscode": {
          "languageId": "javascript"
        }
      },
      "outputs": [],
      "source": [
        "%%script node \n",
        "\n",
        "scores = {\n",
        "     'hole-in-one': -4, \n",
        "           'eagle': [-3, -2], \n",
        "          'birdie': -1, \n",
        "             'par': 0, \n",
        "           'bogey': 1, \n",
        "    'double bogey': 2, \n",
        "         'go home': 3};\n",
        "\n",
        "console.log(Object.keys(scores))\n",
        "function golfy(par, strokes) {\n",
        "    score = strokes-par;\n",
        "    msg = Object.keys(scores);\n",
        "    for (i = 0; i < msg.length; i++)  {\n",
        "        if (score == scores[msg[i]]) {\n",
        "            return msg[i]\n",
        "        } else if (Array.isArray(scores[msg[i]]) && scores[msg[i]].includes(score)) {\n",
        "            return msg[i];\n",
        "        }\n",
        "    }\n",
        "}\n",
        "\n",
        "console.log(golfy(5, 3));"
      ]
    },
    {
      "cell_type": "markdown",
      "metadata": {},
      "source": [
        "\n",
        "update nested objects in multidimensional objects"
      ]
    },
    {
      "cell_type": "code",
      "execution_count": null,
      "metadata": {},
      "outputs": [],
      "source": []
    },
    {
      "cell_type": "code",
      "execution_count": null,
      "metadata": {
        "vscode": {
          "languageId": "javascript"
        }
      },
      "outputs": [],
      "source": [
        "%%script node\n",
        "\n",
        "cata = {\n",
        "    '1': {\n",
        "        'album': 'a',\n",
        "        'artist': 'b'\n",
        "    },\n",
        "    '2': {\n",
        "        'album': 'c',\n",
        "        'tracks': [\n",
        "            'ddd',\n",
        "            'eee',\n",
        "            'fff'\n",
        "        ]\n",
        "    }\n",
        "}\n",
        "\n",
        "// backup\n",
        "cataBak = JSON.parse(JSON.stringify(cata))\n",
        "\n",
        "function updateRec(id, prop, val) {\n",
        "    if (prop === 'tracks') {\n",
        "        if (cata[id][prop] in cata[id] == false) {\n",
        "            cata[id][prop] = []\n",
        "        }\n",
        "        cata[id][prop].push(val);     // pushes new track\n",
        "    } else if (val === '') {\n",
        "        delete cata[id][prop];        // deletes property\n",
        "    } else {\n",
        "        cata[id][prop] = val;         // update property value\n",
        "    }\n",
        "    return cata;\n",
        "}\n",
        "\n",
        "console.log(updateRec(1, 'tracks', 'ccc'));\n",
        "console.log(updateRec(2, 'artist', 'd'));\n",
        "console.log(updateRec(1, 'artist'));"
      ]
    },
    {
      "cell_type": "markdown",
      "metadata": {},
      "source": [
        "\n",
        "destructuring to assign values to variables from dictionary through keys"
      ]
    },
    {
      "cell_type": "code",
      "execution_count": 13,
      "metadata": {},
      "outputs": [
        {
          "name": "stdout",
          "output_type": "stream",
          "text": [
            "cd gh\n"
          ]
        }
      ],
      "source": [
        "myContacts = {'ab':'cd', 'ef':'gh'}\n",
        "\n",
        "#    key  var\n",
        "ij, kl  = [myContacts[x] for x in ['ab','ef']]\n",
        "\n",
        "print(ij, kl)"
      ]
    },
    {
      "cell_type": "code",
      "execution_count": null,
      "metadata": {
        "vscode": {
          "languageId": "javascript"
        }
      },
      "outputs": [],
      "source": [
        "%%script node\n",
        "\n",
        "myContacts = {ab:'cd', ef:'gh'};\n",
        "\n",
        "//    key  var\n",
        "let { ab : ij, ef : kl } = myContacts;\n",
        "\n",
        "console.log(ij, kl)\n",
        "\n",
        "\n",
        "// set variable to \n",
        "myContacts = { box1 : {left:'paratha', right:'labra'}, box2 : { left :'luchi', right :'bhaji'} };\n",
        "\n",
        "let { box1 : { left : prize1 }, box2 : { right : prize2 } } = myContacts;\n",
        "\n",
        "console.log(prize1, 'with', prize2)\n",
        "\n",
        "prize3 = myContacts['box2']['left']\n",
        "\n",
        "console.log(prize3)"
      ]
    },
    {
      "cell_type": "markdown",
      "metadata": {},
      "source": [
        "\n",
        "keyless object returning function inside parantheses assign values to argument names as keys"
      ]
    },
    {
      "cell_type": "code",
      "execution_count": null,
      "metadata": {
        "vscode": {
          "languageId": "javascript"
        }
      },
      "outputs": [],
      "source": [
        "%%script node\n",
        "\n",
        "//                                      put\n",
        "//                                 return inside\n",
        "//                                  parantheses\n",
        "const personGen = (name, age, gender) => ({name, age, gender});\n",
        "\n",
        "console.log(personGen('micky', 45, 'watery'));"
      ]
    },
    {
      "cell_type": "markdown",
      "metadata": {},
      "source": [
        "adding one object two the end of another"
      ]
    },
    {
      "cell_type": "code",
      "execution_count": 30,
      "metadata": {
        "vscode": {
          "languageId": "javascript"
        }
      },
      "outputs": [
        {
          "data": {
            "text/plain": [
              "({'a': 'b', 'c': 'd', 'e': 'f', 'g': 'h'}, {'e': 'f', 'g': 'h'})"
            ]
          },
          "execution_count": 30,
          "metadata": {},
          "output_type": "execute_result"
        }
      ],
      "source": [
        "dict1 = {'a': 'b', 'c': 'd'}\n",
        "dict2 = { 'e': 'f', 'g': 'h' }\n",
        "\n",
        "dict1.update(dict2)\n",
        "\n",
        "dict1, dict2"
      ]
    },
    {
      "cell_type": "code",
      "execution_count": 15,
      "metadata": {
        "vscode": {
          "languageId": "javascript"
        }
      },
      "outputs": [
        {
          "name": "stdout",
          "output_type": "stream",
          "text": [
            "{ a: 'b', c: 'd', e: 'f', g: 'h' } { e: 'f', g: 'h' }\n"
          ]
        }
      ],
      "source": [
        "%%script node\n",
        "\n",
        "const obj1 = { a: 'b', c: 'd' };\n",
        "const obj2 = { e: 'f', g: 'h' };\n",
        "\n",
        "Object.assign(obj1, obj2)\n",
        "\n",
        "console.log(obj1, obj2);"
      ]
    },
    {
      "cell_type": "markdown",
      "metadata": {},
      "source": [
        "adding two objects into new object"
      ]
    },
    {
      "cell_type": "code",
      "execution_count": 47,
      "metadata": {},
      "outputs": [
        {
          "data": {
            "text/plain": [
              "({'a': 'b', 'c': {'d': 'e', 'f': 'g2'}},\n",
              " {'h': 'i'},\n",
              " {'a': 'b', 'c': {'d': 'e', 'f': 'g2'}, 'h': 'i'})"
            ]
          },
          "execution_count": 47,
          "metadata": {},
          "output_type": "execute_result"
        }
      ],
      "source": [
        "dict1 = {'a': 'b', 'c': {'d':'e', 'f': 'g'}}\n",
        "dict2 = {'h': 'i'}\n",
        "\n",
        "# adding two dictionaries shallow into a new one using kwargs\n",
        "# dict3 = {**dict1, **dict2}\n",
        "\n",
        "import copy\n",
        "dict3 = copy.deepcopy({**dict1, **dict2})\n",
        "\n",
        "dict3['c']['f'] = 'g2'\n",
        "\n",
        "dict1, dict2, dict3"
      ]
    },
    {
      "cell_type": "code",
      "execution_count": 14,
      "metadata": {
        "vscode": {
          "languageId": "javascript"
        }
      },
      "outputs": [
        {
          "name": "stdout",
          "output_type": "stream",
          "text": [
            "{ a: 'b', c: 'd', e: 'f', g: 'h' } { a: 'b', c: 'd' } { e: 'f', g: 'h' }\n"
          ]
        }
      ],
      "source": [
        "%%script node\n",
        "\n",
        "obj1 = { a: 'b', c: 'd' };\n",
        "obj2 = { e: 'f', g: 'h' };\n",
        "\n",
        "obj3 = Object.assign({}, obj1, obj2)\n",
        "\n",
        "console.log(obj3, obj1, obj2);"
      ]
    },
    {
      "cell_type": "markdown",
      "metadata": {},
      "source": [
        "deepcopying object to new memory heap reference"
      ]
    },
    {
      "cell_type": "code",
      "execution_count": 38,
      "metadata": {},
      "outputs": [
        {
          "data": {
            "text/plain": [
              "({'a': 'b', 'c': {'d': 'e'}}, {'a': 'b', 'c': {'d': 'e', 'f': 'g'}})"
            ]
          },
          "execution_count": 38,
          "metadata": {},
          "output_type": "execute_result"
        }
      ],
      "source": [
        "dict1 = {'a': 'b', 'c': {'d': 'e'}}\n",
        "\n",
        "# shallow-copying dictionary using kwargs\n",
        "# dict2 = {**dict1}\n",
        "\n",
        "import copy\n",
        "dict2 = copy.deepcopy(dict1)\n",
        "\n",
        "dict2['c']['f'] = 'g'\n",
        "\n",
        "dict1, dict2"
      ]
    },
    {
      "cell_type": "code",
      "execution_count": null,
      "metadata": {
        "vscode": {
          "languageId": "javascript"
        }
      },
      "outputs": [],
      "source": [
        "%%script node\n",
        "\n",
        "const obj1 = { a: 'b', c: {'d': 'e', 'f': 'g'} };\n",
        "\n",
        "// shallow clone\n",
        "// const obj2 = Object.assign({}, obj1);\n",
        "\n",
        "// deep clone\n",
        "import _ from 'lodash';\n",
        "const obj2 = _.cloneDeep(obj1)\n",
        "\n",
        "obj2.c.f = 'g2';\n",
        "\n",
        "console.log(obj1, obj2)"
      ]
    }
  ],
  "metadata": {
    "kernelspec": {
      "display_name": "Python 3.10.4 ('xproj': conda)",
      "language": "python",
      "name": "python3"
    },
    "language_info": {
      "codemirror_mode": {
        "name": "ipython",
        "version": 3
      },
      "file_extension": ".py",
      "mimetype": "text/x-python",
      "name": "python",
      "nbconvert_exporter": "python",
      "pygments_lexer": "ipython3",
      "version": "3.10.4"
    },
    "orig_nbformat": 4,
    "vscode": {
      "interpreter": {
        "hash": "ab8c4c1aa065ef4bf45014346553f7c05662feb01cd522c7343b10a256a1e8d9"
      }
    }
  },
  "nbformat": 4,
  "nbformat_minor": 2
}

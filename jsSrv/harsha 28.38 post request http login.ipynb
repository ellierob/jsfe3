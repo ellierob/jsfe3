{
 "cells": [
  {
   "cell_type": "markdown",
   "metadata": {},
   "source": [
    "# post vs get\n",
    "* get support only 255 character url, post support unlimited\n",
    "* get query parameters are added to request url, in post in request body\n",
    "* get query supports ascii only, post supports unicode\n",
    "* get supports only text, post supports text /files"
   ]
  },
  {
   "cell_type": "markdown",
   "metadata": {},
   "source": [
    "# Post\n"
   ]
  },
  {
   "cell_type": "markdown",
   "metadata": {},
   "source": [
    "## request message\n",
    "* start url object: method and url\n",
    "* headers object\n",
    "* body query object"
   ]
  },
  {
   "cell_type": "code",
   "execution_count": null,
   "metadata": {
    "vscode": {
     "languageId": "javascript"
    }
   },
   "outputs": [],
   "source": [
    "%%script node\n",
    "\n",
    "const http = require('http');\n",
    "const url = require('url');\n",
    "const fs = require('fs');\n",
    "const qp = require('querystring');\n",
    "\n",
    "const server = http.createServer(function(req,res){\n",
    "    let headers = req.headers;\n",
    "    let method = req.method.toLocaleLowerCase();\n",
    "    console.log(`url:`, req.url)\n",
    "    let parsedURL = url.parse(\n",
    "        // request url starts after root    \n",
    "        req.url, \n",
    "        // query string\n",
    "        true\n",
    "        );\n",
    "    \n",
    "        let qs = parsedURL.query;\n",
    "        //let qs = qp.parse(parsedURL.query);\n",
    "        console.log(`parsed query:`, qs);\n",
    "        // res.write(JSON.stringify(qs));\n",
    "\n",
    "    let path = parsedURL.pathname;\n",
    "    path = path.replace(\n",
    "        // regular expression starts with /, ends with /g\n",
    "        // regex for one or more slashes at end or start of expression\n",
    "        /^\\/+|\\/+$/g, \n",
    "        ''\n",
    "        );\n",
    "    console.log(`path:`, path);\n",
    "    \n",
    "    if(req.url===\"/\"){\n",
    "        //let writeup = \n",
    "        fs.readFile(\"login.html\", \"utf8\", (err,data)=>{\n",
    "            if(err!==null){\n",
    "                res.write('couldnt read');\n",
    "            } else {\n",
    "                res.write(data);\n",
    "                res.end();\n",
    "            }\n",
    "        })\n",
    "    // } else if(req.url.startsWith(\"/home\")){\n",
    "    } else if(req.url.startsWith(\"/home\") && req.method===\"POST\"){\n",
    "        req.on(\n",
    "            // post method request trigger 'data' event on server\n",
    "            'data',\n",
    "            // 'data' event passes 'request body query' to callback\n",
    "            (q)=>{\n",
    "                // query need to be converted from buffer to string\n",
    "                let qs = q.toString();\n",
    "                let qO = qp.parse(qs);\n",
    "                console.log(`request body query:`, qO);\n",
    "                fs.readFile(\"home.html\", \"utf8\", (err,data)=>{\n",
    "                    if(err!==null){\n",
    "                        res.write('couldnt read');\n",
    "                    } else {\n",
    "                        res.write(data);\n",
    "                        // res.write(qs.name);\n",
    "                        res.write(qO.name)\n",
    "                        res.end();\n",
    "                    }\n",
    "                })\n",
    "            })\n",
    "    } else {\n",
    "        res.write('something else');\n",
    "        res.end();\n",
    "    }\n",
    "\n",
    "\n",
    "})\n",
    "\n",
    "server.listen(\n",
    "    // in windows ports 1024-65535 are free from os software and pre-defined protocol\n",
    "    3001, \n",
    "    function(){\n",
    "    console.log('listening on port 3001')\n",
    "})"
   ]
  }
 ],
 "metadata": {
  "kernelspec": {
   "display_name": "Python 3.10.8 64-bit",
   "language": "python",
   "name": "python3"
  },
  "language_info": {
   "name": "python",
   "version": "3.10.8 (main, Oct 13 2022, 21:13:48) [GCC 12.2.0]"
  },
  "orig_nbformat": 4,
  "vscode": {
   "interpreter": {
    "hash": "e7370f93d1d0cde622a1f8e1c04877d8463912d04d973331ad4851f04de6915a"
   }
  }
 },
 "nbformat": 4,
 "nbformat_minor": 2
}

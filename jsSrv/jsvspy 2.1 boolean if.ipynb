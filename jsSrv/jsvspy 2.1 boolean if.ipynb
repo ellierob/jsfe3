{
  "cells": [
    {
      "cell_type": "markdown",
      "metadata": {},
      "source": [
        "Python booleans are written in capital"
      ]
    },
    {
      "cell_type": "code",
      "execution_count": null,
      "metadata": {},
      "outputs": [],
      "source": [
        "dict = {\"man\":\"john\", \"married\":False}"
      ]
    },
    {
      "cell_type": "markdown",
      "metadata": {},
      "source": [
        "Javascript booleans are written in small letters"
      ]
    },
    {
      "cell_type": "code",
      "execution_count": null,
      "metadata": {
        "vscode": {
          "languageId": "javascript"
        }
      },
      "outputs": [],
      "source": [
        "obj = {man:\"john\", married:false};"
      ]
    },
    {
      "cell_type": "markdown",
      "metadata": {},
      "source": [
        "---\n",
        "functions calls skips the rest of the code in its scope when it executes first return"
      ]
    },
    {
      "cell_type": "code",
      "execution_count": 1,
      "metadata": {},
      "outputs": [
        {
          "name": "stdout",
          "output_type": "stream",
          "text": [
            "true\n"
          ]
        }
      ],
      "source": [
        "def skip2return(istrue):\n",
        "    if (istrue):\n",
        "        return 'true'\n",
        "    return 'also false'\n",
        "\n",
        "print(skip2return(True))"
      ]
    },
    {
      "cell_type": "code",
      "execution_count": null,
      "metadata": {
        "vscode": {
          "languageId": "javascript"
        }
      },
      "outputs": [],
      "source": [
        "%%script node\n",
        "\n",
        "function skip2return(istrue) {\n",
        "    if (istrue) {\n",
        "        return 'true';\n",
        "    }\n",
        "    return 'also false';\n",
        "}\n",
        "\n",
        "console.log(skip2return(true));"
      ]
    },
    {
      "cell_type": "markdown",
      "metadata": {},
      "source": [
        "---\n",
        "### comparison operator"
      ]
    },
    {
      "cell_type": "markdown",
      "metadata": {},
      "source": [
        "numeric comparison"
      ]
    },
    {
      "cell_type": "code",
      "execution_count": 4,
      "metadata": {},
      "outputs": [
        {
          "name": "stdout",
          "output_type": "stream",
          "text": [
            "True\n",
            "True\n",
            "True\n",
            "True\n",
            "True\n",
            "True\n",
            "True\n"
          ]
        }
      ],
      "source": [
        "print(2 == 2)\n",
        "print(3 > 2)\n",
        "print(1 < 2)\n",
        "print(2 >= 2)\n",
        "print(3 >= 2)\n",
        "print(1 <= 2)\n",
        "print(2 <= 2)"
      ]
    },
    {
      "cell_type": "code",
      "execution_count": null,
      "metadata": {
        "vscode": {
          "languageId": "javascript"
        }
      },
      "outputs": [],
      "source": [
        "%%script node\n",
        "\n",
        "console.log(2 === 2);\n",
        "console.log(3 > 2);\n",
        "console.log(1 < 2);\n",
        "console.log(2 >= 2);\n",
        "console.log(3 >= 2);\n",
        "console.log(1 <= 2);\n",
        "console.log(2 <= 2);"
      ]
    },
    {
      "cell_type": "markdown",
      "metadata": {},
      "source": [
        "python comparison operator checks if datatype of data are equal before comparing value"
      ]
    },
    {
      "cell_type": "code",
      "execution_count": null,
      "metadata": {},
      "outputs": [],
      "source": []
    },
    {
      "cell_type": "markdown",
      "metadata": {},
      "source": [
        "javascript comparison operator typecasts one data to the datatype of the other:\n"
      ]
    },
    {
      "cell_type": "code",
      "execution_count": null,
      "metadata": {
        "vscode": {
          "languageId": "javascript"
        }
      },
      "outputs": [],
      "source": [
        "%%script node\n",
        "\n",
        "// integer to string\n",
        "\n",
        "console.log(1 == '1')\n",
        "// true\n",
        "\n",
        "console.log(1 != '1')\n",
        "//false\n",
        "\n",
        "// array to sring\n",
        "\n",
        "console.log(['string'] == 'string')\n",
        "//true\n",
        "\n",
        "console.log(['string'] != 'string')\n",
        "//false\n",
        "\n",
        "console.log([1] == '1')\n",
        "//true\n",
        "\n",
        "console.log([1] != '1')\n",
        "//false\n",
        "\n",
        "// array to integer (/string?) \n",
        "\n",
        "console.log([1] == 1)\n",
        "//true\n",
        "\n",
        "console.log([1] != 1)\n",
        "//false"
      ]
    },
    {
      "cell_type": "markdown",
      "metadata": {},
      "source": [
        "but the es6 strict equality comparison operator checks datatype before comparing"
      ]
    },
    {
      "cell_type": "code",
      "execution_count": null,
      "metadata": {
        "vscode": {
          "languageId": "javascript"
        }
      },
      "outputs": [],
      "source": [
        "%%script node\n",
        "\n",
        "console.log(1 === '1')\n",
        "// false\n",
        "\n",
        "console.log(1 !== '1')\n",
        "// true\n",
        "\n",
        "\n",
        "console.log(['string'] === 'string')\n",
        "// false\n",
        "\n",
        "console.log(['string'] !== 'string')\n",
        "// true\n",
        "\n",
        "\n",
        "console.log([1] === '1')\n",
        "// false\n",
        "\n",
        "console.log([1] !== '1')\n",
        "// true\n",
        "\n",
        "\n",
        "console.log([1] === 1)\n",
        "// false\n",
        "\n",
        "console.log([1] !== 1)\n",
        "// true"
      ]
    },
    {
      "cell_type": "markdown",
      "metadata": {},
      "source": [
        "## logical operators\n",
        "\n",
        "python: and, or  \n",
        "javascript: &&, ||"
      ]
    },
    {
      "cell_type": "code",
      "execution_count": 5,
      "metadata": {},
      "outputs": [
        {
          "name": "stdout",
          "output_type": "stream",
          "text": [
            "bad\n"
          ]
        }
      ],
      "source": [
        "someNum = 0\n",
        "\n",
        "otherNum = -1\n",
        "\n",
        "if someNum>0 and otherNum>0:\n",
        "    print('cool')\n",
        "elif someNum>0 or otherNum>0:\n",
        "    print('not bad')\n",
        "else:\n",
        "    print('bad')"
      ]
    },
    {
      "cell_type": "code",
      "execution_count": 6,
      "metadata": {
        "vscode": {
          "languageId": "javascript"
        }
      },
      "outputs": [
        {
          "name": "stdout",
          "output_type": "stream",
          "text": [
            "bad\n"
          ]
        }
      ],
      "source": [
        "%%script node\n",
        "\n",
        "const someNum = 0;\n",
        "\n",
        "const otherNum = -1;\n",
        "\n",
        "if (someNum>0 && otherNum>0) {\n",
        "    console.log(`cool`);\n",
        "} else if (someNum>0 || otherNum>0){\n",
        "    console.log(`not bad`)\n",
        "} else {\n",
        "    console.log(`bad`)\n",
        "} "
      ]
    },
    {
      "cell_type": "markdown",
      "metadata": {},
      "source": [
        "nested if statements can be replaced by 'and' and 'or' keywords"
      ]
    },
    {
      "cell_type": "code",
      "execution_count": 9,
      "metadata": {},
      "outputs": [
        {
          "name": "stdout",
          "output_type": "stream",
          "text": [
            "yes\n",
            "yes\n"
          ]
        }
      ],
      "source": [
        "def check(val):\n",
        "    if (val <= 50):\n",
        "        if (val >= 25):\n",
        "            return 'yes'\n",
        "    return 'no'\n",
        "\n",
        "def check2(val):\n",
        "    if val <= 50 and val >= 25:\n",
        "        return 'yes'\n",
        "    return 'no'\n",
        "\n",
        "print(check(28))\n",
        "\n",
        "print(check2(28))"
      ]
    },
    {
      "cell_type": "code",
      "execution_count": null,
      "metadata": {
        "vscode": {
          "languageId": "javascript"
        }
      },
      "outputs": [],
      "source": [
        "%%script node\n",
        "\n",
        "function check(val) {\n",
        "    if (val <= 50) {\n",
        "        if (val >= 25) {\n",
        "            return 'yes';\n",
        "        }\n",
        "    } return 'no';\n",
        "}\n",
        "\n",
        "function check2(val) {\n",
        "    if (val <= 50 && val >= 25) {\n",
        "        return 'yes';\n",
        "    } return 'no';\n",
        "}\n",
        "\n",
        "console.log(check(28))\n",
        "\n",
        "console.log(check2(28))"
      ]
    },
    {
      "cell_type": "code",
      "execution_count": 7,
      "metadata": {},
      "outputs": [
        {
          "name": "stdout",
          "output_type": "stream",
          "text": [
            "outside\n"
          ]
        }
      ],
      "source": [
        "def check(val):\n",
        "    if val >= 50 or val <= 25:\n",
        "        return 'outside'\n",
        "    return 'inside'\n",
        "\n",
        "print(check(51))"
      ]
    },
    {
      "cell_type": "code",
      "execution_count": null,
      "metadata": {
        "vscode": {
          "languageId": "javascript"
        }
      },
      "outputs": [],
      "source": [
        "%%script node\n",
        "\n",
        "function check(val) {\n",
        "    if (val >= 50 || val <= 25) {\n",
        "        return 'outside';\n",
        "    } return 'inside';\n",
        "}\n",
        "\n",
        "console.log(check(49))"
      ]
    },
    {
      "cell_type": "markdown",
      "metadata": {},
      "source": [
        "multiple condition priority with else if statements\n",
        "* smaller first between two conditions checking for less than\n",
        "* bigger first between two conditions checking for bigger than"
      ]
    },
    {
      "cell_type": "code",
      "execution_count": 13,
      "metadata": {},
      "outputs": [
        {
          "name": "stdout",
          "output_type": "stream",
          "text": [
            "less than 5\n"
          ]
        }
      ],
      "source": [
        "\n",
        "def check(val):\n",
        "    if val < 5: return 'less than 5'\n",
        "    elif val < 10: return 'less than 10'\n",
        "    return 'greater than 10'\n",
        "\n",
        "\n",
        "print(check(4))"
      ]
    },
    {
      "cell_type": "code",
      "execution_count": null,
      "metadata": {
        "vscode": {
          "languageId": "javascript"
        }
      },
      "outputs": [],
      "source": [
        "%%script node\n",
        "\n",
        "function check(val) {\n",
        "    if (val < 5) {\n",
        "        return 'less than 5';\n",
        "    } else if (val < 10) {\n",
        "        return 'less than 10'\n",
        "    } return 'greater than 5';\n",
        "}\n",
        "\n",
        "console.log(check(8))"
      ]
    },
    {
      "cell_type": "code",
      "execution_count": null,
      "metadata": {
        "vscode": {
          "languageId": "javascript"
        }
      },
      "outputs": [],
      "source": [
        "names = ['1', '2'];\n",
        "\n",
        "function retorn(val) {\n",
        "    if (val = 1) {\n",
        "        return(name[1]) \n",
        "    }\n",
        "}\n",
        "\n",
        "console.log(retorn(1))"
      ]
    },
    {
      "cell_type": "markdown",
      "metadata": {},
      "source": [
        "switch statement should be used if multiple conditions are comparing one variable"
      ]
    },
    {
      "cell_type": "code",
      "execution_count": 11,
      "metadata": {
        "vscode": {
          "languageId": "javascript"
        }
      },
      "outputs": [
        {
          "name": "stdout",
          "output_type": "stream",
          "text": [
            "eagle\n"
          ]
        }
      ],
      "source": [
        "%%script node\n",
        "\n",
        "scores = ['hole-in-one', 'eagle', 'birdie', 'par', 'bogey', 'double bogey', 'go home']\n",
        "\n",
        "function golfy(par, strokes) {\n",
        "    score = strokes-par;\n",
        "    switch(score) {\n",
        "        case -4: answer = scores[0]; break;\n",
        "        // for multiple cases with same result\n",
        "        case -3: case -2: answer = scores[1]; break;\n",
        "        case -1: answer = scores[2]; break;\n",
        "        case 0: answer = scores[3]; break;\n",
        "        case 1: answer = scores[4]; break;\n",
        "        case 2: answer = scores[5]; break;\n",
        "        case 3: answer = scores[6]; break;\n",
        "        // for invalid input\n",
        "        default: answer = 'Enter valid numbers'\n",
        "    }\n",
        "    return answer;\n",
        "}\n",
        "\n",
        "console.log(golfy(5, 3))"
      ]
    },
    {
      "cell_type": "code",
      "execution_count": null,
      "metadata": {
        "vscode": {
          "languageId": "javascript"
        }
      },
      "outputs": [],
      "source": [
        "%%script node\n",
        "\n",
        "cards = [];\n",
        "\n",
        "function cc(card) {\n",
        "    count = 0;\n",
        "    switch(card) {\n",
        "        case 1: case 2: case 3: case 4: case 5: case 6: count++; break;\n",
        "        case 10: case 'J': case 'Q': case 'K': case 'A': count--; break;\n",
        "    }\n",
        "    holdbet = 'Hold';\n",
        "    if (count > 0) { holdbet = 'bet'; }\n",
        "    return `${count} ${holdbet}`;\n",
        "}\n",
        "\n",
        "cc(2); cc('K'); cc(10); cc('K'); cc('A');\n",
        "console.log(cc(4));"
      ]
    },
    {
      "cell_type": "markdown",
      "metadata": {},
      "source": [
        "### one line conditional statements"
      ]
    },
    {
      "cell_type": "code",
      "execution_count": 30,
      "metadata": {},
      "outputs": [
        {
          "data": {
            "text/plain": [
              "'i hate 2'"
            ]
          },
          "execution_count": 30,
          "metadata": {},
          "output_type": "execute_result"
        }
      ],
      "source": [
        "a = 2\n",
        "print(f'i like {a}') if a>3 else print(f\"i don't like {a}\") if a==3 else (f\"i hate {a}\")"
      ]
    },
    {
      "cell_type": "markdown",
      "metadata": {},
      "source": [
        "javacripts also has conditional statements:  \n",
        "uses ternary conditonal operator (... ? ... : ....)  \n",
        "both if and else blocks in one line  \n",
        "allows multiple statements restrictively"
      ]
    },
    {
      "cell_type": "code",
      "execution_count": 26,
      "metadata": {
        "vscode": {
          "languageId": "javascript"
        }
      },
      "outputs": [
        {
          "name": "stdout",
          "output_type": "stream",
          "text": [
            "i hate 1\n",
            "0\n"
          ]
        }
      ],
      "source": [
        "%%script node\n",
        "\n",
        "const a = 1;\n",
        "\n",
        "a>3 ? b = 4 & console.log(`i like ${a}`) : a==3 ? b = 5 & console.log(`i don't like ${a}`) : b = 6 & console.log(`i hate ${a}`)\n",
        "\n",
        "console.log(b)"
      ]
    },
    {
      "cell_type": "markdown",
      "metadata": {},
      "source": [
        "ternary operators are useful for conditional assignment"
      ]
    },
    {
      "cell_type": "code",
      "execution_count": 50,
      "metadata": {},
      "outputs": [
        {
          "name": "stdout",
          "output_type": "stream",
          "text": [
            "7\n"
          ]
        }
      ],
      "source": [
        "a = 1\n",
        "\n",
        "b=2 if a>3 else 5 if a==3 else 7\n",
        "b"
      ]
    },
    {
      "cell_type": "code",
      "execution_count": 52,
      "metadata": {
        "vscode": {
          "languageId": "javascript"
        }
      },
      "outputs": [
        {
          "name": "stdout",
          "output_type": "stream",
          "text": [
            "7\n",
            "undefined\n"
          ]
        }
      ],
      "source": [
        "%%script node\n",
        "\n",
        "const a = 1\n",
        "\n",
        "const b = a>3 ? 2 : a==3 ? 5 : 7\n",
        "\n",
        "console.log(b)"
      ]
    },
    {
      "cell_type": "markdown",
      "metadata": {},
      "source": [
        "ternary conditional statement in python is an expression,  \n",
        "in javascript it can switch from an assignment/expression to expression/statement"
      ]
    },
    {
      "cell_type": "code",
      "execution_count": 53,
      "metadata": {},
      "outputs": [
        {
          "name": "stdout",
          "output_type": "stream",
          "text": [
            "5\n"
          ]
        }
      ],
      "source": [
        "a = 3\n",
        "\n",
        "b=2 if a>3 else print(5) if a==3 else 7\n",
        "b"
      ]
    },
    {
      "cell_type": "code",
      "execution_count": 59,
      "metadata": {
        "vscode": {
          "languageId": "javascript"
        }
      },
      "outputs": [
        {
          "name": "stdout",
          "output_type": "stream",
          "text": [
            "5\n",
            "undefined\n"
          ]
        }
      ],
      "source": [
        "%%script node\n",
        "\n",
        "const a = 3\n",
        "                    // javascript ternary \n",
        "                    // allows statements \n",
        "                    // not just expressions\n",
        "let b = a>3 ? 2 : a==3 ? console.log(5) : 7\n",
        "\n",
        "console.log(b)"
      ]
    },
    {
      "cell_type": "markdown",
      "metadata": {},
      "source": [
        "ternary expressions can be inside template literals"
      ]
    },
    {
      "cell_type": "code",
      "execution_count": 48,
      "metadata": {},
      "outputs": [
        {
          "name": "stdout",
          "output_type": "stream",
          "text": [
            "7\n",
            "None\n"
          ]
        }
      ],
      "source": [
        "a = 1\n",
        "print(f\"{2 if a>3 else 5 if a==3 else print(7)}\")"
      ]
    },
    {
      "cell_type": "code",
      "execution_count": 71,
      "metadata": {
        "vscode": {
          "languageId": "javascript"
        }
      },
      "outputs": [
        {
          "name": "stdout",
          "output_type": "stream",
          "text": [
            "7\n",
            "undefined\n"
          ]
        }
      ],
      "source": [
        "%%script node\n",
        "\n",
        "const a = 1\n",
        "\n",
        "console.log( `${a>3 ? 2 : a==3 ? 5 : console.log(7)}` )"
      ]
    },
    {
      "cell_type": "markdown",
      "metadata": {},
      "source": [
        "---\n",
        "for both python dictionaries and javascript objects,  \n",
        "*in* keyword looks through keys"
      ]
    },
    {
      "cell_type": "code",
      "execution_count": null,
      "metadata": {},
      "outputs": [],
      "source": [
        "dict = {\"man\":\"john\", \"married\":False}\n",
        "\n",
        "\"man\" in dict"
      ]
    },
    {
      "cell_type": "code",
      "execution_count": null,
      "metadata": {
        "vscode": {
          "languageId": "javascript"
        }
      },
      "outputs": [],
      "source": [
        "%%script node\n",
        "\n",
        "obj = {man:\"john\", married:false};\n",
        "\n",
        "console.log(\"man\" in obj);"
      ]
    },
    {
      "cell_type": "markdown",
      "metadata": {},
      "source": [
        "but for lists, tuples(?) in python,  \n",
        "*in* keyword looks for values /items, not keys  \n",
        "while for javascript arrays,  \n",
        "*in* keyword looks through indexes like keys"
      ]
    },
    {
      "cell_type": "code",
      "execution_count": 14,
      "metadata": {},
      "outputs": [
        {
          "data": {
            "text/plain": [
              "False"
            ]
          },
          "execution_count": 14,
          "metadata": {},
          "output_type": "execute_result"
        }
      ],
      "source": [
        "1 in [2, 3, 4]"
      ]
    },
    {
      "cell_type": "code",
      "execution_count": null,
      "metadata": {
        "vscode": {
          "languageId": "javascript"
        }
      },
      "outputs": [],
      "source": [
        "%%script node\n",
        "\n",
        "console.log(1 in [2, 3, 4]);\n",
        "\n",
        "// check for items in an array\n",
        "console.log([2, 3, 4].includes(1))"
      ]
    },
    {
      "cell_type": "markdown",
      "metadata": {},
      "source": [
        "---\n",
        "ternary operator"
      ]
    },
    {
      "cell_type": "code",
      "execution_count": 5,
      "metadata": {},
      "outputs": [
        {
          "name": "stdout",
          "output_type": "stream",
          "text": [
            "bill\n"
          ]
        }
      ],
      "source": [
        "num = 2\n",
        "\n",
        "print('ill' if num < 0  else 'bill' if num <3  else 'zill')"
      ]
    },
    {
      "cell_type": "code",
      "execution_count": null,
      "metadata": {
        "vscode": {
          "languageId": "javascript"
        }
      },
      "outputs": [],
      "source": [
        "%%script node\n",
        "\n",
        "num = 2\n",
        "\n",
        "console.log(num < 0 ? 'ill' : num < 3 ? 'bill' : 'zill')"
      ]
    },
    {
      "cell_type": "markdown",
      "metadata": {},
      "source": [
        "---\n",
        "check datatype"
      ]
    },
    {
      "cell_type": "code",
      "execution_count": 1,
      "metadata": {},
      "outputs": [
        {
          "name": "stdout",
          "output_type": "stream",
          "text": [
            "True\n",
            "True\n",
            "True\n",
            "True\n",
            "True\n",
            "True\n"
          ]
        }
      ],
      "source": [
        "print(isinstance('string', str))\n",
        "print(isinstance(1, int))\n",
        "print(isinstance(1.0, float))\n",
        "print(isinstance(False, bool))\n",
        "print(isinstance([1, 2, 3], list))\n",
        "print(isinstance({'a': 1, 'b': 2, 'c': 3}, dict))\n",
        "#print(isinstance(None, NoneType))"
      ]
    },
    {
      "cell_type": "code",
      "execution_count": 24,
      "metadata": {
        "vscode": {
          "languageId": "javascript"
        }
      },
      "outputs": [
        {
          "data": {
            "application/javascript": "string = 'string'\nconsole.log(typeof 'string' === 'string');\nconsole.log(typeof 1 === 'number');\nconsole.log(typeof 1n === 'bigint');\nconsole.log(typeof false === 'boolean');\nconsole.log([1, 2, 3] instanceof Array);\nconsole.log({'a': 1, 'b': 2, 'c': 3} instanceof Object);\nconsole.log(undefined instanceof undefined);\n",
            "text/plain": [
              "<IPython.core.display.Javascript object>"
            ]
          },
          "metadata": {},
          "output_type": "display_data"
        }
      ],
      "source": [
        "%%script node\n",
        "string = 'string'\n",
        "console.log(typeof 'string' === 'string');\n",
        "console.log(typeof 1 === 'number');\n",
        "console.log(typeof 1n === 'bigint');\n",
        "console.log(typeof false === 'boolean');\n",
        "console.log([1, 2, 3] instanceof Array);\n",
        "console.log({'a': 1, 'b': 2, 'c': 3} instanceof Object);\n",
        "console.log(typeof undefined === 'undefined');\n",
        "console.log(typeof null === 'null');"
      ]
    },
    {
      "cell_type": "markdown",
      "metadata": {},
      "source": [
        "Advanced subtype check"
      ]
    },
    {
      "cell_type": "code",
      "execution_count": null,
      "metadata": {},
      "outputs": [],
      "source": []
    },
    {
      "cell_type": "code",
      "execution_count": null,
      "metadata": {
        "vscode": {
          "languageId": "javascript"
        }
      },
      "outputs": [],
      "source": [
        "%%script node\n",
        "\n",
        "console.log(Number.isInteger(2.0), Number.isInteger(2.1));\n",
        "console.log((2.0).isfloat, (2.1).isfloat);"
      ]
    },
    {
      "cell_type": "markdown",
      "metadata": {},
      "source": [
        "---"
      ]
    },
    {
      "cell_type": "markdown",
      "metadata": {},
      "source": [
        "for both python dictionaries and javascript objects,  \n",
        "*in* keyword looks through keys"
      ]
    },
    {
      "cell_type": "code",
      "execution_count": null,
      "metadata": {},
      "outputs": [
        {
          "data": {
            "text/plain": [
              "True"
            ]
          },
          "metadata": {},
          "output_type": "display_data"
        }
      ],
      "source": [
        "dict = {\"man\":\"john\", \"married\":False}\n",
        "\n",
        "\"man\" in dict"
      ]
    },
    {
      "cell_type": "code",
      "execution_count": null,
      "metadata": {
        "vscode": {
          "languageId": "javascript"
        }
      },
      "outputs": [
        {
          "data": {
            "application/javascript": "\nobj = {man:\"john\", married:false};\n\nconsole.log(\"man\" in obj);\n",
            "text/plain": [
              "<IPython.core.display.Javascript object>"
            ]
          },
          "metadata": {},
          "output_type": "display_data"
        }
      ],
      "source": [
        "%%script node\n",
        "\n",
        "obj = {man:\"john\", married:false};\n",
        "\n",
        "console.log(\"man\" in obj);"
      ]
    }
  ],
  "metadata": {
    "kernelspec": {
      "display_name": "Python 3.10.4 ('xproj': conda)",
      "language": "python",
      "name": "python3"
    },
    "language_info": {
      "codemirror_mode": {
        "name": "ipython",
        "version": 3
      },
      "file_extension": ".py",
      "mimetype": "text/x-python",
      "name": "python",
      "nbconvert_exporter": "python",
      "pygments_lexer": "ipython3",
      "version": "3.10.4"
    },
    "orig_nbformat": 4,
    "vscode": {
      "interpreter": {
        "hash": "ab8c4c1aa065ef4bf45014346553f7c05662feb01cd522c7343b10a256a1e8d9"
      }
    }
  },
  "nbformat": 4,
  "nbformat_minor": 2
}

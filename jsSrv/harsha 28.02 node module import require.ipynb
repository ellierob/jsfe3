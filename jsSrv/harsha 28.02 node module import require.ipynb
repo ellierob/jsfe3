{
 "cells": [
  {
   "cell_type": "markdown",
   "metadata": {},
   "source": [
    "# module\n",
    "can share its functions and variables to other modules"
   ]
  },
  {
   "cell_type": "markdown",
   "metadata": {},
   "source": [
    "## import statement vs require()"
   ]
  },
  {
   "cell_type": "code",
   "execution_count": 10,
   "metadata": {
    "vscode": {
     "languageId": "javascript"
    }
   },
   "outputs": [],
   "source": [
    "%%script node --input-type=\"module\"\n",
    "\n",
    "export {otherFunc};\n",
    "\n",
    "function otherFunc() { return 'successfully exported and imported function';}\n",
    "\n",
    "// default export only available with function definition\n",
    "export default function someFunc() { return 'successfully exported and imported function';}"
   ]
  },
  {
   "cell_type": "markdown",
   "metadata": {},
   "source": [
    "### require() \n",
    "* reads & executes javascript files passed to them & returns the export object\n",
    "* executed when called anywhere inside program\n",
    "* modules with require() need to be saved with .js extension\n",
    "* require can be called inside conditional statements"
   ]
  },
  {
   "cell_type": "code",
   "execution_count": 2,
   "metadata": {
    "vscode": {
     "languageId": "javascript"
    }
   },
   "outputs": [
    {
     "name": "stdout",
     "output_type": "stream",
     "text": [
      "couldn't load unexported function\n",
      "successfully imported exported function from all exports\n",
      "successfully imported by name from exported functions\n",
      "successfully imported renamed default export\n"
     ]
    }
   ],
   "source": [
    "%%script node\n",
    "\n",
    "// imports all functions\n",
    "let allImp = require(\"./js export.js\");\n",
    "\n",
    "let exported = require(\"./js export.js\").exported;\n",
    "\n",
    "let myDefault = require(\"./js export.js\").default;\n",
    "\n",
    "let expObs = [\n",
    "    {fn: allImp.unexported, nm: \"unexported function\"},\n",
    "    {fn: allImp.exported, nm: \"exported function from all exports\"},\n",
    "    {fn: exported, nm: \"by name from exported functions\"},\n",
    "    {fn: myDefault, nm: \"renamed default export\"}\n",
    "]\n",
    "\n",
    "expObs.forEach((ex)=>{\n",
    "    try{\n",
    "        ex.fn()\n",
    "        console.log(`successfully imported ${ex.nm}`);\n",
    "    } catch(e){\n",
    "        console.log(`couldn't load ${ex.nm}`)\n",
    "    }\n",
    "})"
   ]
  },
  {
   "cell_type": "markdown",
   "metadata": {},
   "source": [
    "### import \n",
    "* only reads export statement of ES modules\n",
    "* only works inside ES modules\n",
    "* executed before file loads\n",
    "* ES modules with import statements needs to be embedded with \"type=module\" in html\n",
    "* .mjs extension needed for import and export statements to work\n",
    "* \"type\"=\"module\" in package.json tells node to treat .js files as ES module"
   ]
  },
  {
   "cell_type": "code",
   "execution_count": 13,
   "metadata": {
    "vscode": {
     "languageId": "javascript"
    }
   },
   "outputs": [
    {
     "name": "stdout",
     "output_type": "stream",
     "text": [
      "couldn't load unexported function\n",
      "successfully imported exported function from all exports\n",
      "successfully imported by name from exported functions\n",
      "successfully imported renamed default export\n"
     ]
    }
   ],
   "source": [
    "%%script node --input-type=\"module\"\n",
    "\n",
    "// imports all functions\n",
    "import * as allImp from \"./js export.mjs\";\n",
    "\n",
    "import {exported} from \"./js export.mjs\";\n",
    "\n",
    "// import {default as myDefault} from \"./js export.js\";\n",
    "import myDefault from \"./js export.mjs\";\n",
    "\n",
    "let expObs = [\n",
    "    {fn: allImp.unexported, nm: \"unexported function\"},\n",
    "    {fn: allImp.exported, nm: \"exported function from all exports\"},\n",
    "    {fn: exported, nm: \"by name from exported functions\"},\n",
    "    {fn: myDefault, nm: \"renamed default export\"}\n",
    "]\n",
    "\n",
    "expObs.forEach((ex)=>{\n",
    "    try{\n",
    "        ex.fn()\n",
    "        console.log(`successfully imported ${ex.nm}`);\n",
    "    } catch(e){\n",
    "        console.log(`couldn't load ${ex.nm}`)\n",
    "    }\n",
    "})"
   ]
  },
  {
   "cell_type": "markdown",
   "metadata": {},
   "source": [
    "### import statement\n",
    "* put package.json in same directory for import export to work\n",
    "* inside add type:module in the json\n",
    "* filename must be in double quotes to skip .js extension\n",
    "* local modules must include path\n",
    "* standard library modules don't require path"
   ]
  },
  {
   "cell_type": "code",
   "execution_count": 9,
   "metadata": {
    "vscode": {
     "languageId": "javascript"
    }
   },
   "outputs": [
    {
     "name": "stdout",
     "output_type": "stream",
     "text": [
      "successfully exported and imported exported function\n"
     ]
    }
   ],
   "source": [
    "%%script node --input-type=\"module\"\n",
    "import {exported} from \"./js export.js\" ;\n",
    "\n",
    "console.log(exported());"
   ]
  },
  {
   "cell_type": "markdown",
   "metadata": {},
   "source": [
    "### import function"
   ]
  },
  {
   "cell_type": "code",
   "execution_count": 15,
   "metadata": {
    "vscode": {
     "languageId": "javascript"
    }
   },
   "outputs": [
    {
     "name": "stdout",
     "output_type": "stream",
     "text": [
      "undefined\n"
     ]
    }
   ],
   "source": [
    "%%script node --input-type=\"module\"\n",
    "let impAll;\n",
    "import(\"/home/gnostic/Golem/backend/1/js export.mjs\").then(module=>{impAll=module}).then(console.log(impAll));"
   ]
  }
 ],
 "metadata": {
  "kernelspec": {
   "display_name": "Python 3.10.4 ('xproj': conda)",
   "language": "python",
   "name": "python3"
  },
  "language_info": {
   "codemirror_mode": {
    "name": "ipython",
    "version": 3
   },
   "file_extension": ".py",
   "mimetype": "text/x-python",
   "name": "python",
   "nbconvert_exporter": "python",
   "pygments_lexer": "ipython3",
   "version": "3.10.4"
  },
  "orig_nbformat": 4,
  "vscode": {
   "interpreter": {
    "hash": "53ce4a372613acec3ced89ec12332be295014eb9a6e3df2a36b8fcc73e5ff10d"
   }
  }
 },
 "nbformat": 4,
 "nbformat_minor": 2
}

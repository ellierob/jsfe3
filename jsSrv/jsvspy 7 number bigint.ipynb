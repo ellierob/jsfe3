{
  "cells": [
    {
      "cell_type": "markdown",
      "metadata": {},
      "source": [
        "# Numeric datatypes"
      ]
    },
    {
      "cell_type": "markdown",
      "metadata": {},
      "source": [
        "in python,  \n",
        "there are two types of numeric data types"
      ]
    },
    {
      "cell_type": "code",
      "execution_count": 7,
      "metadata": {},
      "outputs": [
        {
          "name": "stdout",
          "output_type": "stream",
          "text": [
            "<class 'float'>\n",
            "<class 'int'>\n"
          ]
        }
      ],
      "source": [
        "for i in (42.0, 42): print(type(i))"
      ]
    },
    {
      "cell_type": "markdown",
      "metadata": {},
      "source": [
        "in javascript,  \n",
        "the older number /Number datatype was similar to python float"
      ]
    },
    {
      "cell_type": "markdown",
      "metadata": {},
      "source": [
        "in es11 (2022),  \n",
        "javascript bigint type replaced  number type"
      ]
    },
    {
      "cell_type": "code",
      "execution_count": null,
      "metadata": {
        "vscode": {
          "languageId": "javascript"
        }
      },
      "outputs": [],
      "source": [
        "%%js\n",
        "\n",
        "console.log(\n",
        "    typeof 42.0,  //number\n",
        "    typeof 42,  //number\n",
        "    typeof 42n  //bigint\n",
        "    )"
      ]
    },
    {
      "cell_type": "markdown",
      "metadata": {},
      "source": [
        "javascript number /Number datatype had several problems with precision"
      ]
    },
    {
      "cell_type": "code",
      "execution_count": null,
      "metadata": {
        "vscode": {
          "languageId": "javascript"
        }
      },
      "outputs": [],
      "source": [
        "%js\n",
        "\n",
        "console.log(0.1+0.2);\n",
        "// 0.30000000000000004\n",
        "\n",
        "console.log(\n",
        "    Number.MAX_SAFE_INTEGER+1, // 9007199254740992\n",
        "    Number.MAX_SAFE_INTEGER+2   // 9007199254740992\n",
        "    );"
      ]
    },
    {
      "cell_type": "code",
      "execution_count": null,
      "metadata": {
        "vscode": {
          "languageId": "javascript"
        }
      },
      "outputs": [],
      "source": [
        "%%js\n",
        "\n",
        "console.log(\n",
        "    BigInt(Number.MAX_SAFE_INTEGER)+1n,     //9007199254740992n\n",
        "    BigInt(Number.MAX_SAFE_INTEGER)+2n      //9007199254740993n\n",
        "    );\n",
        "                                 "
      ]
    },
    {
      "cell_type": "markdown",
      "metadata": {},
      "source": [
        "---\n",
        "# numeic operations"
      ]
    },
    {
      "cell_type": "markdown",
      "metadata": {},
      "source": [
        "---\n",
        "remainder"
      ]
    },
    {
      "cell_type": "code",
      "execution_count": 8,
      "metadata": {},
      "outputs": [
        {
          "data": {
            "text/plain": [
              "2"
            ]
          },
          "execution_count": 8,
          "metadata": {},
          "output_type": "execute_result"
        }
      ],
      "source": [
        "11 % 3"
      ]
    },
    {
      "cell_type": "code",
      "execution_count": null,
      "metadata": {
        "vscode": {
          "languageId": "javascript"
        }
      },
      "outputs": [],
      "source": [
        "%%js\n",
        "\n",
        "console.log(11 % 3)"
      ]
    },
    {
      "cell_type": "markdown",
      "metadata": {},
      "source": [
        "is od or even?"
      ]
    },
    {
      "cell_type": "code",
      "execution_count": 15,
      "metadata": {},
      "outputs": [
        {
          "name": "stdout",
          "output_type": "stream",
          "text": [
            "even\n"
          ]
        }
      ],
      "source": [
        "x = 26\n",
        "\n",
        "if x % 2 == 0: print('even')\n",
        "else: print('odd')"
      ]
    },
    {
      "cell_type": "code",
      "execution_count": null,
      "metadata": {
        "vscode": {
          "languageId": "javascript"
        }
      },
      "outputs": [],
      "source": [
        "%%js\n",
        "\n",
        "x = 26;\n",
        "\n",
        "if (x % 2 == 0) {console.log('even')} else {console.log('odd')}"
      ]
    },
    {
      "cell_type": "markdown",
      "metadata": {},
      "source": [
        "---\n",
        "increment and decrement and modify variables"
      ]
    },
    {
      "cell_type": "code",
      "execution_count": 17,
      "metadata": {},
      "outputs": [
        {
          "name": "stdout",
          "output_type": "stream",
          "text": [
            "6\n",
            "3\n",
            "6\n",
            "2.0\n"
          ]
        }
      ],
      "source": [
        "ting = 4\n",
        "\n",
        "# increment\n",
        "ting+= 2\n",
        "\n",
        "print(ting)\n",
        "\n",
        "# decrement\n",
        "ting-= 3\n",
        "\n",
        "print(ting)\n",
        "\n",
        "# multiply\n",
        "ting *= 2\n",
        "\n",
        "print(ting)\n",
        "\n",
        "# divide\n",
        "ting /= 3\n",
        "\n",
        "print(ting)"
      ]
    },
    {
      "cell_type": "code",
      "execution_count": null,
      "metadata": {
        "vscode": {
          "languageId": "javascript"
        }
      },
      "outputs": [],
      "source": [
        "%%js\n",
        "ting = 4;\n",
        "\n",
        "// increment\n",
        "ting += 2;\n",
        "console.log(ting);\n",
        "\n",
        "// decrement\n",
        "ting -= 3;\n",
        "console.log(ting);\n",
        "\n",
        "// increment by 1\n",
        "ting++;\n",
        "console.log(ting);\n",
        "\n",
        "// decrement by 1\n",
        "ting--;\n",
        "console.log(ting);\n",
        "\n",
        "// decrement by 1\n",
        "ting *= 2;\n",
        "console.log(ting);\n",
        "\n",
        "// decrement by 1\n",
        "ting /= 3;\n",
        "console.log(ting);"
      ]
    },
    {
      "cell_type": "markdown",
      "metadata": {},
      "source": [
        "---\n",
        "random number"
      ]
    },
    {
      "cell_type": "code",
      "execution_count": 7,
      "metadata": {},
      "outputs": [
        {
          "name": "stdout",
          "output_type": "stream",
          "text": [
            "28\n",
            "0.4448056379305402\n",
            "9.08366137927342\n"
          ]
        }
      ],
      "source": [
        "import random\n",
        "\n",
        "# random integer between 2 different integers /floats\n",
        "print(random.randint(8, 35))\n",
        "\n",
        "# random float between 0 and 1\n",
        "print(random.random())\n",
        "\n",
        "# random float between 2 different integers /floats\n",
        "print(random.uniform(8, 9.8))"
      ]
    },
    {
      "cell_type": "code",
      "execution_count": null,
      "metadata": {
        "vscode": {
          "languageId": "javascript"
        }
      },
      "outputs": [],
      "source": [
        "%%js\n",
        "\n",
        "// random integer less than given number\n",
        "console.log(Math.floor(Math.random() * 20));\n",
        "\n",
        "// random integer between two given numbers\n",
        "nMax = 24;\n",
        "nMin = 19;\n",
        "console.log(Math.floor(Math.random() * (nMax - nMin +1)) + nMin);\n",
        "\n",
        "\n",
        "// random float less than given number\n",
        "console.log(Math.random() * 35);\n",
        "\n",
        "// random float between 2 different floats / integers\n",
        "console.log(Math.random());"
      ]
    }
  ],
  "metadata": {
    "interpreter": {
      "hash": "a9cc20d490fd4c52c2a891e76f613cca792b188ff73a79b07cf606c6862e2c3f"
    },
    "kernelspec": {
      "display_name": "Python 3.9.7 ('base')",
      "language": "python",
      "name": "python3"
    },
    "language_info": {
      "codemirror_mode": {
        "name": "ipython",
        "version": 3
      },
      "file_extension": ".py",
      "mimetype": "text/x-python",
      "name": "python",
      "nbconvert_exporter": "python",
      "pygments_lexer": "ipython3",
      "version": "3.9.7"
    },
    "orig_nbformat": 4
  },
  "nbformat": 4,
  "nbformat_minor": 2
}

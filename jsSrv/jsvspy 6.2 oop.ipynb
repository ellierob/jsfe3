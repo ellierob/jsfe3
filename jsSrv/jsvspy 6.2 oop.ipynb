{
 "cells": [
  {
   "cell_type": "markdown",
   "metadata": {},
   "source": [
    "# OOP\n",
    "* organize spaghetti code\n",
    "* self-contained blocks of code turned into object  \n",
    "* interaction between code objects happen through \n",
    "* * public interface API, which are methods coded outside objects"
   ]
  },
  {
   "cell_type": "code",
   "execution_count": null,
   "metadata": {
    "vscode": {
     "languageId": "javascript"
    }
   },
   "outputs": [],
   "source": [
    "%%script node\n",
    "\n",
    "const obj = {\n",
    "    user: 'jonas',\n",
    "    password: 'dk23s',\n",
    "    login(password) {\n",
    "        //login logic\n",
    "    },\n",
    "    sendMessage(str){\n",
    "        //sending logic\n",
    "    }\n",
    "}"
   ]
  },
  {
   "cell_type": "markdown",
   "metadata": {},
   "source": [
    "## Object prototype vs class\n",
    "both class & prototypes have\n",
    "* properties & empty values\n",
    "\n",
    "instances of class\n",
    "* are created with constructor function\n",
    "* inherit from class\n",
    "\n",
    "instannce objects of prototypes\n",
    "* delegate behavior methods to prototype"
   ]
  },
  {
   "cell_type": "code",
   "execution_count": null,
   "metadata": {
    "vscode": {
     "languageId": "javascript"
    }
   },
   "outputs": [],
   "source": [
    "%%script node\n",
    "\n",
    "const obj = {\n",
    "    user: '',\n",
    "    password: '',\n",
    "    login(password) {\n",
    "        //login logic\n",
    "    },\n",
    "    sendMessage(str){\n",
    "        //sending logic\n",
    "    },\n",
    "    // constructor\n",
    "    instantiate(user,password){\n",
    "        this.user =  user;\n",
    "        this.password = password;\n",
    "    }\n",
    "}"
   ]
  },
  {
   "cell_type": "markdown",
   "metadata": {},
   "source": [
    "### datatype prototype methods\n",
    "arrays delegate their .map method to array.prototype"
   ]
  },
  {
   "cell_type": "code",
   "execution_count": null,
   "metadata": {
    "vscode": {
     "languageId": "javascript"
    }
   },
   "outputs": [],
   "source": [
    "%%script node"
   ]
  },
  {
   "cell_type": "markdown",
   "metadata": {},
   "source": [
    "### abstraction:\n",
    "hide unnecessary details from user"
   ]
  },
  {
   "cell_type": "code",
   "execution_count": null,
   "metadata": {
    "vscode": {
     "languageId": "javascript"
    }
   },
   "outputs": [],
   "source": [
    "%%script node\n",
    "\n",
    "const obj = {\n",
    "    user: '',\n",
    "    password: '',\n",
    "    login(password) {\n",
    "        //login logic\n",
    "    },\n",
    "    sendMessage(str){\n",
    "        //sending logic\n",
    "    },\n",
    "    // constructor\n",
    "    instanctiate(user,password){\n",
    "        this.user =  user;\n",
    "        this.password = password;\n",
    "    }\n",
    "}"
   ]
  },
  {
   "cell_type": "markdown",
   "metadata": {},
   "source": [
    "### polymorphism\n",
    "change details of methods in inherited classes"
   ]
  },
  {
   "cell_type": "code",
   "execution_count": null,
   "metadata": {
    "vscode": {
     "languageId": "javascript"
    }
   },
   "outputs": [],
   "source": [
    "%%script node\n",
    "\n",
    "const obj = {\n",
    "    user: '',\n",
    "    password: '',\n",
    "    login(password) {\n",
    "        //login logic\n",
    "    },\n",
    "    sendMessage(str){\n",
    "        //sending logic\n",
    "    },\n",
    "    // constructor\n",
    "    instanctiate(user,password){\n",
    "        this.user =  user;\n",
    "        this.password = password;\n",
    "    }\n",
    "}"
   ]
  },
  {
   "cell_type": "markdown",
   "metadata": {},
   "source": [
    "### ways of prototype implementation"
   ]
  },
  {
   "cell_type": "markdown",
   "metadata": {},
   "source": [
    "#### constructor function\n",
    "* same as regular function but called with a new operation"
   ]
  },
  {
   "cell_type": "code",
   "execution_count": null,
   "metadata": {
    "vscode": {
     "languageId": "javascript"
    }
   },
   "outputs": [],
   "source": [
    "%%script node\n",
    "\n",
    "// constructor must be function expression\n",
    "// cannot be accessed without new operator\n",
    "// convetion to write them in capital\n",
    "const Person= function(user,password){\n",
    "    // new operator creates new empty prototypeect\n",
    "    // and 'this' is attached to this new empty prototypeect\n",
    "    console.log(`new constructor instance before assignment: `, this);\n",
    "    this.user =  user;\n",
    "    this.password = password;\n",
    "    console.log(`new constructor instance after assignment: `, this);\n",
    "}\n",
    "\n",
    "// methods should be assigned in prototypes not in constructor\n",
    "// to avoid repeating in new instances\n",
    "Person.prototype.login = function (password) {\n",
    "    //login logic\n",
    "}\n",
    "\n",
    "// constant properties can also be added to prototype\n",
    "Person.prototype.species = 'Homo Sapiens';\n",
    "\n",
    "// new operator sets the calling 'this' to new empty object {}\n",
    "// adds __prot__ property and assigns it prototype of constructor\n",
    "const jonas2 = new Person('jonas', 'dk23y');\n",
    "\n",
    "console.log(\n",
    "    `is jonas2 instance of person:`, jonas2 instanceof Person,\n",
    "    `jonas2 prototype:`, jonas2.__proto__, '\\n',\n",
    "    jonas2.__proto__ === Person.prototype && Person === Person.prototype.constructor ? 'Person.prototype === jonas2.__proto__ \\n Person.prototype.constructor === Person': ``\n",
    "    );\n"
   ]
  },
  {
   "cell_type": "markdown",
   "metadata": {},
   "source": [
    "prototype chain"
   ]
  },
  {
   "cell_type": "code",
   "execution_count": null,
   "metadata": {
    "vscode": {
     "languageId": "javascript"
    }
   },
   "outputs": [],
   "source": [
    "%%script node\n",
    "\n",
    "console.log(\n",
    "    `prototype of jonas2 instance:`, jonas2.__proto__, '\\n',\n",
    "    `prototype of Person:`, jonas2.__proto__.__proto__, '\\n',\n",
    "    `prototype of Object datatype/prototype:`, jonas2.__proto__.__proto__.__proto__, '\\n',\n",
    "    //`prototype of prototype of Object:`, jonas2.__proto__.__proto__.__proto__.__proto__\n",
    ");\n",
    "\n",
    "console.log('prototype constructor inspect:')\n",
    "//inspect\n",
    "console.dir(\n",
    "    Person.prototype.constructor\n",
    ")"
   ]
  },
  {
   "cell_type": "markdown",
   "metadata": {},
   "source": [
    ".hasOwnProperty"
   ]
  },
  {
   "cell_type": "code",
   "execution_count": null,
   "metadata": {
    "vscode": {
     "languageId": "javascript"
    }
   },
   "outputs": [],
   "source": [
    "%%script node\n",
    "\n",
    "console.log(\n",
    "    `jonas2 has species:`, jonas2.hasOwnProperty('species'),\n",
    "    `jonas2 has user:`, jonas2.hasOwnProperty('user'),\n",
    "    );"
   ]
  },
  {
   "attachments": {},
   "cell_type": "markdown",
   "metadata": {},
   "source": [
    "### class"
   ]
  },
  {
   "cell_type": "code",
   "execution_count": 18,
   "metadata": {},
   "outputs": [
    {
     "name": "stdout",
     "output_type": "stream",
     "text": [
      "<__main__.PersonCl object at 0x7f3cad75bc40>\n",
      "26\n",
      "this is static variable\n",
      "Hey this is __main__\n"
     ]
    }
   ],
   "source": [
    "class PersonCl:\n",
    "    # __init__ instance method takes the arguments for the class\n",
    "    def __init__(self, firstNm, birthYr):\n",
    "        self.firstNm = firstNm\n",
    "        self.birthYr = birthYr\n",
    "    \n",
    "    # prototype methods /public interface\n",
    "\n",
    "    # instance method\n",
    "    def calcAge(self):\n",
    "        print(2022-self.birthYr)\n",
    "    \n",
    "    # static variable\n",
    "    staticVar = 'static variable'\n",
    "    \n",
    "    @classmethod\n",
    "    def classMeth(cls):\n",
    "        print(f'this is {cls.staticVar}')\n",
    "\n",
    "    # can't access either class or instance variables\n",
    "    @staticmethod\n",
    "    def static():\n",
    "        print(f'Hey this is {__name__}')\n",
    "\n",
    "\n",
    "# and class common properties\n",
    "# PersonCl.__class__.species = 'Homo Sapiens'\n",
    "\n",
    "jessy = PersonCl('jessy', 1996)\n",
    "\n",
    "print(jessy)\n",
    "jessy.calcAge()\n",
    "jessy.classMeth()\n",
    "PersonCl.static()"
   ]
  },
  {
   "cell_type": "markdown",
   "metadata": {},
   "source": [
    "#### ES6 classes\n",
    "* not actual classes\n",
    "* \"syntactic sugar\" abstraction over constructor function\n",
    "* but with the word function replaced with class\n",
    "* classes are not hoisted, even declarations\n",
    "* can be passed into and returned from functions"
   ]
  },
  {
   "cell_type": "code",
   "execution_count": 17,
   "metadata": {
    "vscode": {
     "languageId": "javascript"
    }
   },
   "outputs": [
    {
     "name": "stdout",
     "output_type": "stream",
     "text": [
      "PersonCl { firstNm: 'jessy', birthYr: 1996 }\n",
      "Hey! this is static var\n"
     ]
    }
   ],
   "source": [
    "%%script node\n",
    "\n",
    "class PersonCl {\n",
    "    // method needs to be called constructor\n",
    "    constructor(firstNm, birthYr){\n",
    "        this.firstNm = firstNm;\n",
    "        this.birthYr = birthYr;\n",
    "    }\n",
    "\n",
    "    //prototype methods /public interface\n",
    "\n",
    "    calcAge(){\n",
    "        console.log(2022-this.birthYr);\n",
    "    }\n",
    "\n",
    "    static staticVar = 'static var'\n",
    "    \n",
    "    // static method in class (not in instance)\n",
    "    static staticMeth = function(){\n",
    "        console.log('Hey! this is', this.staticVar) \n",
    "    }\n",
    "}\n",
    "\n",
    "//and prototype common properties\n",
    "PersonCl.prototype.species = 'Homo Sapiens';\n",
    "\n",
    "const jessy = new PersonCl('jessy', 1996);\n",
    "\n",
    "console.log(jessy);\n",
    "PersonCl.staticMeth()"
   ]
  },
  {
   "cell_type": "markdown",
   "metadata": {},
   "source": [
    "getters and setters\n",
    "are public interfaces"
   ]
  },
  {
   "cell_type": "code",
   "execution_count": null,
   "metadata": {
    "vscode": {
     "languageId": "javascript"
    }
   },
   "outputs": [],
   "source": [
    "%%script node\n",
    "\n",
    "class PersonCl {\n",
    "    // method needs to be called constructor\n",
    "    constructor(firstNm, birthYr){\n",
    "        this.firstNm = firstNm;\n",
    "        this.birthYr = birthYr;\n",
    "    }\n",
    "\n",
    "    //prototype methods \n",
    "\n",
    "    calcAge(){\n",
    "        console.log(2022-this.birthYr);\n",
    "    }\n",
    "\n",
    "    // getters and setters can be in class or objects\n",
    "    // getter\n",
    "    get age(){\n",
    "        return 2022 - this.birthYr;\n",
    "    }\n",
    "\n",
    "    // setter not necessary if getter exist\n",
    "    // even though given argument, actually should be assigned value\n",
    "    set age(yrOld){\n",
    "        this.birthYr = 2022 - yrOld;\n",
    "    }\n",
    "}\n",
    "\n",
    "const jessy = new PersonCl('jessy', 1996);\n",
    "\n",
    "console.log(jessy.age);\n",
    "// not parameter, but assigned value\n",
    "jessy.age = 50;\n",
    "console.log(jessy.age);"
   ]
  },
  {
   "cell_type": "markdown",
   "metadata": {},
   "source": [
    "constructor static methods  \n",
    "static methods cannot access instance properties and methods"
   ]
  },
  {
   "cell_type": "code",
   "execution_count": null,
   "metadata": {
    "vscode": {
     "languageId": "javascript"
    }
   },
   "outputs": [],
   "source": [
    "%%script node\n",
    "\n",
    "// from is a method in the array namespace\n",
    "// a static method of Array constructor not Array prototype\n",
    "// so is not inherited by instances\n",
    "Array.from(document.querySelectorAll('h1'))"
   ]
  },
  {
   "cell_type": "code",
   "execution_count": null,
   "metadata": {
    "vscode": {
     "languageId": "javascript"
    }
   },
   "outputs": [],
   "source": [
    "%%script node\n",
    "\n",
    "//static function of Person constructor\n",
    "Person.hey()= function(){\n",
    "    console.log('Hey!')\n",
    "}\n",
    "\n",
    "Person.hey()\n",
    "\n",
    "jonas2.hey()\n",
    "\n",
    "class PersonCl {\n",
    "    constructor(firstNm, birthYr){\n",
    "        this.firstNm = firstNm;\n",
    "        this.birthYr = birthYr;\n",
    "    }\n",
    "\n",
    "    //prototype /instance methods \n",
    "\n",
    "    calcAge(){\n",
    "        console.log(2022-this.birthYr);\n",
    "    }\n",
    "\n",
    "    // static method in class (not in instance)\n",
    "    static hey = function(){\n",
    "        console.log('Hey! this is', this) \n",
    "    }\n",
    "}\n",
    "\n",
    "jessy = PersonCl('jessy', 1996)\n",
    "\n",
    "jessy.hey();"
   ]
  },
  {
   "cell_type": "markdown",
   "metadata": {},
   "source": [
    "#### Object.create()\n",
    "manually set the prototype of new object to any other object that we want"
   ]
  },
  {
   "cell_type": "code",
   "execution_count": 13,
   "metadata": {
    "vscode": {
     "languageId": "javascript"
    }
   },
   "outputs": [
    {
     "name": "stdout",
     "output_type": "stream",
     "text": [
      "jonas3: { user: 'jonas', password: 'dk23y' } \n",
      " jonas3 prototype: { calcAge: [Function: calcAge], instance: [Function: instance] }\n"
     ]
    }
   ],
   "source": [
    "%%script node\n",
    "\n",
    "// prototype object\n",
    "const PersonProto = {\n",
    "    calcAge(){\n",
    "        console.log(2022-this.brthYr)\n",
    "    },\n",
    "    inst: function(usr, psswd){\n",
    "        // instance variables\n",
    "        this.user = usr;\n",
    "        this.password = psswd;\n",
    "        // you can just return this to skip object.create\n",
    "        // return this\n",
    "    }\n",
    "}\n",
    "\n",
    "PersonProto.species = 'Homo Sapiens'\n",
    "\n",
    "// Object.create static? method to delegate prototype to new object\n",
    "const jonas3 = Object.create(PersonProto);\n",
    "jonas3.inst('jonas', 'dk23y');\n",
    "\n",
    "// if you return 'this' in inst method, use method to skip object.create\n",
    "// const jonas3 = PersonProto.inst('jonas', 'dk23y')\n",
    "\n",
    "console.log(\n",
    "    `jonas3:`, jonas3, '\\n',\n",
    "    'jonas3 prototype:', jonas3.__proto__, '\\n',\n",
    "    'jonas3 instance of PersonProto?', jonas3 instanceof PersonProto.inst\n",
    "    );"
   ]
  },
  {
   "cell_type": "markdown",
   "metadata": {},
   "source": [
    "### inheritance\n",
    "* allows one class to inherit from other"
   ]
  },
  {
   "cell_type": "markdown",
   "metadata": {},
   "source": [
    "#### class to class inheritance"
   ]
  },
  {
   "cell_type": "markdown",
   "metadata": {},
   "source": [
    "using constructor"
   ]
  },
  {
   "cell_type": "code",
   "execution_count": null,
   "metadata": {
    "vscode": {
     "languageId": "javascript"
    }
   },
   "outputs": [],
   "source": [
    "%%script node\n",
    "\n",
    "// by constructor\n",
    "\n",
    "const Student = function(usr, psswd, course){\n",
    "    Person.call(\n",
    "        // call method on function allows specifying \n",
    "        // caller 'this' of called function\n",
    "        this, \n",
    "        usr,psswd\n",
    "        );\n",
    "    this.course = course;\n",
    "}\n",
    "\n",
    "console.log(Person.prototype);\n",
    "\n",
    "\n",
    "// even with constructor prototype needs to linked with Object.create\n",
    "Student.prototype = Object.create(Person.prototype);\n",
    "\n",
    "// to stop constructor from becoming constructor of parent\n",
    "Student.prototype.constructor = Student;\n",
    "\n",
    "console.log(\n",
    "    'person prototype:', Person.prototype, '\\n',\n",
    "    'student prototype:', Student.prototype\n",
    "    );\n",
    "\n",
    "Student.prototype.kind = 'student';\n",
    "\n",
    "const johnny = new Student('johnny', 'hoobamba', 'science bitch');\n",
    "\n",
    "console.log(johnny.species, johnny.kind);"
   ]
  },
  {
   "cell_type": "markdown",
   "metadata": {},
   "source": [
    "using class"
   ]
  },
  {
   "cell_type": "code",
   "execution_count": null,
   "metadata": {
    "vscode": {
     "languageId": "javascript"
    }
   },
   "outputs": [],
   "source": [
    "%%script node\n",
    "\n",
    "// using class\n",
    "class StudentCl6 extends PersonCl {\n",
    "    constructor(firstNm,birthYr,course){\n",
    "        // super calls the constructor function of parent class\n",
    "        super(firstNm,birthYr);\n",
    "        // without super, this does not apply to this class\n",
    "        this.course = course;\n",
    "    }\n",
    "};\n",
    "\n",
    "StudentCl6.prototype.kind = 'student';\n",
    "\n",
    "const jimmy = new StudentCl6('Jim', 1994, 'maths');\n",
    "\n",
    "console.log(jimmy);"
   ]
  },
  {
   "cell_type": "markdown",
   "metadata": {},
   "source": [
    "using object.create"
   ]
  },
  {
   "cell_type": "code",
   "execution_count": null,
   "metadata": {
    "vscode": {
     "languageId": "javascript"
    }
   },
   "outputs": [],
   "source": [
    "%%script node\n",
    "\n",
    "// by Object.create\n",
    "const StudentProto = Object.create(PersonProto);\n",
    "\n",
    "StudentProto.kind = 'student';\n",
    "\n",
    "StudentProto.inst = function(usr,psswd,crs){\n",
    "    PersonProto.inst.call(this,usr,psswd);\n",
    "    this.course = crs;\n",
    "    return this\n",
    "}\n",
    "\n",
    "const ruby = StudentProto.inst('ruby', 'jigz', 'waterboarding');\n",
    "\n",
    "console.log(ruby, ruby instanceof StudentProto.inst);\n",
    "\n",
    "\n",
    "PersonProto.species = 'Homo Erectus';\n",
    "\n",
    "console.log(PersonProto.species, ruby.species);"
   ]
  },
  {
   "cell_type": "markdown",
   "metadata": {},
   "source": [
    "### encapsulation: \n",
    "keep some methods and properties private, some methods can be exposed as public interface API, to avoid breaking code & security"
   ]
  },
  {
   "cell_type": "code",
   "execution_count": null,
   "metadata": {
    "vscode": {
     "languageId": "javascript"
    }
   },
   "outputs": [],
   "source": [
    "%%script node\n",
    "\n",
    "const obj = {\n",
    "    user: '',\n",
    "    password: '',\n",
    "    login(password) {\n",
    "        //login logic\n",
    "    },\n",
    "    sendMessage(str){\n",
    "        //sending logic\n",
    "    },\n",
    "    // constructor\n",
    "    instantiate(user,password){\n",
    "        this.user =  user;\n",
    "        this.password = password;\n",
    "    }\n",
    "}"
   ]
  },
  {
   "cell_type": "code",
   "execution_count": null,
   "metadata": {
    "vscode": {
     "languageId": "javascript"
    }
   },
   "outputs": [],
   "source": [
    "%%script node\n",
    "\n",
    "const obj = {\n",
    "    user: '',\n",
    "    password: '',\n",
    "    login(password) {\n",
    "        //login logic\n",
    "    },\n",
    "    sendMessage(str){\n",
    "        //sending logic\n",
    "    },\n",
    "    // constructor\n",
    "    instanctiate(user,password){\n",
    "        this.user =  user;\n",
    "        this.password = password;\n",
    "    }\n",
    "}"
   ]
  },
  {
   "cell_type": "markdown",
   "metadata": {},
   "source": [
    "fake data protection warning convention"
   ]
  },
  {
   "cell_type": "code",
   "execution_count": null,
   "metadata": {
    "vscode": {
     "languageId": "javascript"
    }
   },
   "outputs": [],
   "source": [
    "%%script node\n",
    "\n",
    "class Account {\n",
    "    constructor(owner, currency, pin){\n",
    "        this.owner = owner;\n",
    "        this.currency = currency;\n",
    "        this.pin = pin;\n",
    "        // underscore data protection warning convention\n",
    "        this._movements = [];\n",
    "    }\n",
    "    \n",
    "    // public API\n",
    "\n",
    "    deposit(val){\n",
    "        this._movements.push(val)\n",
    "    }\n",
    "    withdraw(val){\n",
    "        this.deposit(-val);\n",
    "    }\n",
    "\n",
    "    getMovements(){\n",
    "        return this._movements;\n",
    "    }\n",
    "\n",
    "    // protected methods\n",
    "\n",
    "    _approveLoan(val){\n",
    "        if(this._approveLoan(val)){\n",
    "            console.log('loan approved');\n",
    "        }\n",
    "    }\n",
    "}\n",
    "\n",
    "const acc1 = new Account('Jonas', 'tk', '3333')\n",
    "\n",
    "// safe way to get protected property\n",
    "acc1.getMovements()\n",
    "\n",
    "// can be accessed despite warning\n",
    "acc1._movements.push(250);"
   ]
  },
  {
   "cell_type": "markdown",
   "metadata": {},
   "source": [
    "private class fields\n",
    "* 4 kinds\n",
    "* * public\n",
    "* * private\n",
    "* * public methods\n",
    "* * private methods"
   ]
  },
  {
   "cell_type": "code",
   "execution_count": null,
   "metadata": {
    "vscode": {
     "languageId": "javascript"
    }
   },
   "outputs": [],
   "source": [
    "%%script node\n",
    "\n",
    "// class fields \n",
    "\n",
    "class Account {\n",
    "\n",
    "    constructor(owner, currency){\n",
    "        this.owner = owner;\n",
    "        this.currency = currency;\n",
    "    }\n",
    "\n",
    "    deposit(val){\n",
    "        this.#movements.push(val)\n",
    "        // to make methods chainable use return caller 'this'\n",
    "        return this;\n",
    "    }\n",
    "    withdraw(val){\n",
    "        return this.deposit(-val);\n",
    "    }\n",
    "\n",
    "\n",
    "}\n",
    "\n",
    "const acc1 = new Account('Jonas', 'tk')\n",
    "\n",
    "acc1.deposit(400).withdraw(60).deposit(70);"
   ]
  },
  {
   "cell_type": "markdown",
   "metadata": {},
   "source": [
    "make methods chainable"
   ]
  },
  {
   "cell_type": "code",
   "execution_count": null,
   "metadata": {
    "vscode": {
     "languageId": "javascript"
    }
   },
   "outputs": [],
   "source": [
    "%%script node\n",
    "\n",
    "class Account {\n",
    "\n",
    "    // public field (instance only, not in prototyps)\n",
    "    locale = navigator.language;\n",
    "\n",
    "    // private field: using # before name (instance only, not prototype)\n",
    "    #movements = [];\n",
    "    #pin;\n",
    "\n",
    "    constructor(owner, currency, pin){\n",
    "        this.owner = owner;\n",
    "        this.currency = currency;\n",
    "        this.#pin = pin;\n",
    "    }\n",
    "    \n",
    "    // public API\n",
    "\n",
    "    deposit(val){\n",
    "        this.#movements.push(val)\n",
    "        // to make methods chainable use return caller 'this'\n",
    "        return this;\n",
    "    }\n",
    "    withdraw(val){\n",
    "        return this.deposit(-val);\n",
    "    }\n",
    "\n",
    "    getMovements(){\n",
    "        return this.#movements;\n",
    "    }\n",
    "\n",
    "    // private methods (instance)\n",
    "\n",
    "    #approveLoan(val){ \n",
    "        if(this.#approveLoan(val)){\n",
    "            console.log('loan approved');\n",
    "        }\n",
    "    }\n",
    "\n",
    "    // static methods (on class only, not instances)\n",
    "\n",
    "\n",
    "}"
   ]
  },
  {
   "cell_type": "markdown",
   "metadata": {},
   "source": [
    "## this, self"
   ]
  },
  {
   "cell_type": "markdown",
   "metadata": {},
   "source": [
    "### 'this' of function\n",
    "* 'this' will never point to function or variable environment of the 'this'\n",
    "* undefined in strict mode\n",
    "* global in sloppy mode"
   ]
  },
  {
   "cell_type": "code",
   "execution_count": 23,
   "metadata": {
    "vscode": {
     "languageId": "javascript"
    }
   },
   "outputs": [
    {
     "name": "stdout",
     "output_type": "stream",
     "text": [
      "-1\n",
      "undefined\n"
     ]
    }
   ],
   "source": [
    "%%script node\n",
    "\n",
    "'use strict'\n",
    "\n",
    "const func1 = function(a){\n",
    "    console.log(a-2);\n",
    "    console.log(this);\n",
    "}\n",
    "\n",
    "func1(1)"
   ]
  },
  {
   "cell_type": "markdown",
   "metadata": {},
   "source": [
    "### 'this' of arrow function is the global object /'this' of its parent function/ object"
   ]
  },
  {
   "cell_type": "code",
   "execution_count": 59,
   "metadata": {
    "vscode": {
     "languageId": "javascript"
    }
   },
   "outputs": [
    {
     "name": "stdout",
     "output_type": "stream",
     "text": [
      "-1\n",
      "global 'var' variable stored in global object\n"
     ]
    }
   ],
   "source": [
    "%%script node\n",
    "\n",
    "'use strict'\n",
    "\n",
    "// global 'var' variables is stored in global object\n",
    "var global1 = `global 'var' variable stored in global object`\n",
    "\n",
    "const func1 = (a)=>{\n",
    "    console.log(a-2);\n",
    "    // global 'var' variables can be accessed from global object\n",
    "    console.log(this.global1);\n",
    "}\n",
    "\n",
    "func1(1)"
   ]
  },
  {
   "cell_type": "markdown",
   "metadata": {},
   "source": [
    "### 'this' of arrow function inside object is the 'this' of its parent"
   ]
  },
  {
   "cell_type": "code",
   "execution_count": 57,
   "metadata": {
    "vscode": {
     "languageId": "javascript"
    }
   },
   "outputs": [
    {
     "name": "stdout",
     "output_type": "stream",
     "text": [
      "{ funcExp: [Function: funcExp], arrowFunc: [Function: arrowFunc] } \n",
      " global 'var' variable stored in global object\n"
     ]
    }
   ],
   "source": [
    "%%script node\n",
    "'use strict'\n",
    "\n",
    "// global 'var' variables is stored in global object\n",
    "var global1 = `global 'var' variable stored in global object`\n",
    "\n",
    "const obj1 = {\n",
    "    var1 : 'var',\n",
    "    objNested : {\n",
    "        funcExp : function(){return this},\n",
    "        // global 'var' variables can be accessed from global object\n",
    "        arrowFunc : ()=>{return this.global1}\n",
    "    }\n",
    "}\n",
    "\n",
    "console.log(\n",
    "    obj1.objNested.funcExp(),\n",
    "    '\\n',\n",
    "    obj1.objNested.arrowFunc()\n",
    "    );\n"
   ]
  },
  {
   "cell_type": "markdown",
   "metadata": {},
   "source": [
    "### passing this to child scope as 'self'"
   ]
  },
  {
   "cell_type": "code",
   "execution_count": 34,
   "metadata": {
    "vscode": {
     "languageId": "javascript"
    }
   },
   "outputs": [
    {
     "name": "stdout",
     "output_type": "stream",
     "text": [
      "{ item: 'item', func: [Function: func], item2: 'item2' }\n",
      "false item\n",
      "item\n"
     ]
    }
   ],
   "source": [
    "%%script node\n",
    "\n",
    "'use strict'\n",
    "\n",
    "const obj = {\n",
    "    item: 'item',\n",
    "    func:  function() {\n",
    "        this.item2 = 'item2';\n",
    "        const self = this;\n",
    "        console.log(self);\n",
    "        const func2 = function(){\n",
    "            self.item3 = self.item\n",
    "            console.log(\n",
    "                //this,\n",
    "                //self, \n",
    "                self === this,\n",
    "                self.item\n",
    "                );\n",
    "            return self.item;\n",
    "        }\n",
    "        return func2();\n",
    "    }\n",
    "}\n",
    "\n",
    "console.log(\n",
    "    obj.func()\n",
    "    );"
   ]
  },
  {
   "cell_type": "markdown",
   "metadata": {},
   "source": [
    "ES6 does not need self variable since arrow function does not have own this"
   ]
  },
  {
   "cell_type": "code",
   "execution_count": 33,
   "metadata": {
    "vscode": {
     "languageId": "javascript"
    }
   },
   "outputs": [
    {
     "name": "stdout",
     "output_type": "stream",
     "text": [
      "true\n",
      "item\n",
      "item\n"
     ]
    }
   ],
   "source": [
    "%%script node\n",
    "\n",
    "'use strict'\n",
    "\n",
    "const obj = {\n",
    "    item: 'item',\n",
    "    func:  function() {\n",
    "        this.item2 = 'item2';\n",
    "        const self = this;\n",
    "        console.log(self);\n",
    "        const func2 = ()=>{\n",
    "            console.log(\n",
    "                //this,\n",
    "                //self, \n",
    "                this.item\n",
    "                );\n",
    "            return this.item;\n",
    "        }\n",
    "        return func2();\n",
    "    }\n",
    "}\n",
    "\n",
    "console.log(\n",
    "    obj.func()\n",
    "    );"
   ]
  },
  {
   "cell_type": "markdown",
   "metadata": {},
   "source": [
    "## Global this"
   ]
  },
  {
   "cell_type": "markdown",
   "metadata": {},
   "source": [
    "global 'this' in node.js is global object"
   ]
  },
  {
   "cell_type": "code",
   "execution_count": 58,
   "metadata": {
    "vscode": {
     "languageId": "javascript"
    }
   },
   "outputs": [
    {
     "name": "stdout",
     "output_type": "stream",
     "text": [
      "global 'var' variable stored in global object\n"
     ]
    }
   ],
   "source": [
    "%%script node\n",
    "\n",
    "'use strict'\n",
    "\n",
    "// global 'var' variables is stored in global object\n",
    "var global1 = `global 'var' variable stored in global object`\n",
    "let let1 = 'let';\n",
    "\n",
    "// global 'var' variables can be accessed from global object\n",
    "console.log(this.global1);"
   ]
  },
  {
   "cell_type": "markdown",
   "metadata": {},
   "source": [
    "### global this in browser is window"
   ]
  },
  {
   "cell_type": "code",
   "execution_count": null,
   "metadata": {
    "vscode": {
     "languageId": "javascript"
    }
   },
   "outputs": [],
   "source": [
    "%%script node\n",
    "\n",
    "\n",
    "var var1 = 'var';\n",
    "let let1 = 'let';\n",
    "\n",
    "this.alert(var1, let1)"
   ]
  },
  {
   "cell_type": "markdown",
   "metadata": {},
   "source": [
    "### this of an event listener callback \n",
    "is dom element it is attached to"
   ]
  },
  {
   "cell_type": "code",
   "execution_count": null,
   "metadata": {
    "vscode": {
     "languageId": "javascript"
    }
   },
   "outputs": [],
   "source": [
    "%%script node\n",
    "\n"
   ]
  },
  {
   "cell_type": "markdown",
   "metadata": {},
   "source": [
    "## object method"
   ]
  },
  {
   "cell_type": "code",
   "execution_count": null,
   "metadata": {},
   "outputs": [],
   "source": [
    "def funcEx():\n",
    "    self['item2'] = 'item2'\n",
    "    return self.item\n",
    "\n",
    "\n",
    "def func2Ex(): return self.item2\n",
    "\n",
    "obj = {\n",
    "    'item': 'item',\n",
    "    'func': funcEx,\n",
    "    'func2': func2Ex\n",
    "}\n",
    "\n",
    "print(\n",
    "    obj['func'](),\n",
    "    obj['func2'](),\n",
    "    obj\n",
    "    )"
   ]
  },
  {
   "cell_type": "code",
   "execution_count": 45,
   "metadata": {
    "vscode": {
     "languageId": "javascript"
    }
   },
   "outputs": [
    {
     "name": "stdout",
     "output_type": "stream",
     "text": [
      "undefined item item2 [Function: func2] undefined true\n"
     ]
    }
   ],
   "source": [
    "%%script node\n",
    "\n",
    "const obj = {\n",
    "    item: 'item',\n",
    "    func:  function( ) {\n",
    "        this.item2 = 'item2'; \n",
    "        return this.item;\n",
    "    },\n",
    "    func2: ()=>{return this.item2;},\n",
    "    func3: function(){return this}\n",
    "}\n",
    "\n",
    "console.log(\n",
    "    obj.item2, // undefined until declared by following function call func()\n",
    "    obj.func(),\n",
    "    obj.item2,\n",
    "    obj.func2,\n",
    "    obj['func2'](),\n",
    "    obj.func3() === obj,\n",
    "    );"
   ]
  }
 ],
 "metadata": {
  "kernelspec": {
   "display_name": "mlCond",
   "language": "python",
   "name": "python3"
  },
  "language_info": {
   "codemirror_mode": {
    "name": "ipython",
    "version": 3
   },
   "file_extension": ".py",
   "mimetype": "text/x-python",
   "name": "python",
   "nbconvert_exporter": "python",
   "pygments_lexer": "ipython3",
   "version": "3.10.4"
  },
  "orig_nbformat": 4,
  "vscode": {
   "interpreter": {
    "hash": "938f129a56432c24e47e1ec24c0af9ea66022dd35bc85d471375d62ef683242c"
   }
  }
 },
 "nbformat": 4,
 "nbformat_minor": 2
}

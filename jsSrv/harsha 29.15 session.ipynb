{
 "cells": [
  {
   "cell_type": "markdown",
   "metadata": {},
   "source": [
    "# session\n",
    "* temporariliy memory allocation in server\n",
    "* info about client browser\n",
    "* session id hash based on timestamp sent as cookie to browser"
   ]
  },
  {
   "cell_type": "code",
   "execution_count": null,
   "metadata": {
    "vscode": {
     "languageId": "javascript"
    }
   },
   "outputs": [],
   "source": [
    "const sess = require('express-session');\n",
    "\n",
    "app.use(sess({\n",
    "    // unique key\n",
    "    secretkey: \n",
    "    // encrypted session id\n",
    "    \"encrypted session id\",\n",
    "    cookie:{\n",
    "        maxAge: 5*60*1000\n",
    "    }\n",
    "}))\n",
    "\n",
    "app.use(\n",
    "    function(req,res){\n",
    "        req.session.key = 'gnostic';\n",
    "\n",
    "        // to delete single session key\n",
    "        req.sesion.key = null;\n",
    "\n",
    "        // to delete all session \n",
    "        // session automatically deleted when user doesn't make request within time\n",
    "        req.session.destroy();\n",
    "    }\n",
    ")"
   ]
  }
 ],
 "metadata": {
  "kernelspec": {
   "display_name": "Python 3.10.8 64-bit",
   "language": "python",
   "name": "python3"
  },
  "language_info": {
   "name": "python",
   "version": "3.10.8 (main, Oct 13 2022, 21:13:48) [GCC 12.2.0]"
  },
  "orig_nbformat": 4,
  "vscode": {
   "interpreter": {
    "hash": "e7370f93d1d0cde622a1f8e1c04877d8463912d04d973331ad4851f04de6915a"
   }
  }
 },
 "nbformat": 4,
 "nbformat_minor": 2
}

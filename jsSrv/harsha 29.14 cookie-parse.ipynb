{
 "cells": [
  {
   "cell_type": "markdown",
   "metadata": {},
   "source": [
    "# cookie parser"
   ]
  },
  {
   "cell_type": "code",
   "execution_count": null,
   "metadata": {
    "vscode": {
     "languageId": "javascript"
    }
   },
   "outputs": [],
   "source": [
    "const cookie = require('coookie-parser');\n",
    "\n",
    "app.use(cookie());\n",
    "\n",
    "app.use(\n",
    "    async function(req,res){\n",
    "        res.cookie(\n",
    "            // key cannot be null, cannot be duplicate\n",
    "            \"key\",\n",
    "            // value size must be under 20 kb\n",
    "            \"value\",\n",
    "            // options object\n",
    "            {\n",
    "                // lifetime of cookie in ms\n",
    "                maxAge: 5*60*1000,\n",
    "                // when true cannot be accessed in file protocol (file://)\n",
    "                httpOnly: true  \n",
    "            });\n",
    "        \n",
    "        res.end();\n",
    "\n",
    "        // read cookie from browser\n",
    "        req.cookies.key;\n",
    "        res.clearCookie('key');\n",
    "        }\n",
    ")"
   ]
  }
 ],
 "metadata": {
  "kernelspec": {
   "display_name": "Python 3",
   "language": "python",
   "name": "python3"
  },
  "language_info": {
   "name": "python",
   "version": "3.10.8 (main, Nov  1 2022, 14:18:21) [GCC 12.2.0]"
  },
  "orig_nbformat": 4,
  "vscode": {
   "interpreter": {
    "hash": "e7370f93d1d0cde622a1f8e1c04877d8463912d04d973331ad4851f04de6915a"
   }
  }
 },
 "nbformat": 4,
 "nbformat_minor": 2
}

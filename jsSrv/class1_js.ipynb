{
 "cells": [
  {
   "cell_type": "markdown",
   "metadata": {},
   "source": []
  },
  {
   "cell_type": "code",
   "execution_count": 4,
   "metadata": {
    "vscode": {
     "languageId": "javascript"
    }
   },
   "outputs": [
    {
     "name": "stdout",
     "output_type": "stream",
     "text": [
      "200\n",
      "string\n"
     ]
    }
   ],
   "source": [
    "%%script node\n",
    "\n",
    "var telerDaam = \"200\";\n",
    "\n",
    "console.log(telerDaam)\n",
    "\n",
    "console.log(typeof(telerDaam));\n",
    "\n",
    "// old way of declaring variable"
   ]
  },
  {
   "cell_type": "code",
   "execution_count": 5,
   "metadata": {
    "vscode": {
     "languageId": "javascript"
    }
   },
   "outputs": [
    {
     "data": {
      "application/javascript": "\n// new way of declaring variable\n\nlet frootErDaam = 65;\n\nfrootErDaam = 85;\n\nconsole.log(frootErDaam)\n",
      "text/plain": [
       "<IPython.core.display.Javascript object>"
      ]
     },
     "metadata": {},
     "output_type": "display_data"
    }
   ],
   "source": [
    "%%script node\n",
    "\n",
    "// new way of declaring variable\n",
    "\n",
    "let frootErDaam = 65;\n",
    "\n",
    "frootErDaam = 85;\n",
    "\n",
    "console.log(frootErDaam)"
   ]
  },
  {
   "cell_type": "markdown",
   "metadata": {},
   "source": []
  },
  {
   "cell_type": "markdown",
   "metadata": {},
   "source": [
    "constant cannot be changed"
   ]
  },
  {
   "cell_type": "code",
   "execution_count": null,
   "metadata": {
    "vscode": {
     "languageId": "javascript"
    }
   },
   "outputs": [],
   "source": [
    "%%script node\n",
    "\n",
    "const piErValue = 3.1416;\n",
    "\n",
    "piErValue = 70;\n",
    "\n",
    "console.log(piErValue)"
   ]
  },
  {
   "cell_type": "markdown",
   "metadata": {},
   "source": []
  },
  {
   "cell_type": "markdown",
   "metadata": {},
   "source": [
    "*Output* :  \n",
    "200  \n",
    "number"
   ]
  },
  {
   "cell_type": "markdown",
   "metadata": {},
   "source": [
    "type coercion forces number to string"
   ]
  },
  {
   "cell_type": "code",
   "execution_count": null,
   "metadata": {
    "vscode": {
     "languageId": "javascript"
    }
   },
   "outputs": [],
   "source": [
    "%%script node\n",
    "\n",
    "var telerDaam = \"200\";\n",
    "\n",
    "var chalerDaam = 70;\n",
    "\n",
    "var total  = telerDaam + chalerDaam // type coercion forces number to string\n",
    "\n",
    "console.log(total)"
   ]
  },
  {
   "cell_type": "code",
   "execution_count": null,
   "metadata": {
    "vscode": {
     "languageId": "javascript"
    }
   },
   "outputs": [],
   "source": [
    "%%script node\n",
    "\n",
    "let x =25;\n",
    "\n",
    "let y = 5;\n",
    "\n",
    "z = x +y;\n",
    "\n",
    "console.log(z);\n",
    "\n",
    "x += y;\n",
    "\n",
    "console.log(x);"
   ]
  },
  {
   "cell_type": "code",
   "execution_count": null,
   "metadata": {
    "vscode": {
     "languageId": "javascript"
    }
   },
   "outputs": [],
   "source": [
    "%%script node\n",
    "\n",
    "let telerDaam = 200;\n",
    "\n",
    "if (telerDaam < 200) {\n",
    "    console.log('Tel kinbo!')\n",
    "} else {\n",
    "    console.log('Tel kinbo na!')\n",
    "}\n",
    "\n",
    "console.log(telerDaam < 200);"
   ]
  },
  {
   "cell_type": "markdown",
   "metadata": {},
   "source": [
    "Ternary operator\n",
    "\n",
    "boolean data"
   ]
  },
  {
   "cell_type": "code",
   "execution_count": null,
   "metadata": {
    "vscode": {
     "languageId": "javascript"
    }
   },
   "outputs": [],
   "source": [
    "%%script node\n",
    "\n",
    "let telerDaam = 200;\n",
    "\n",
    "const output = telerDaam < 200 ? 'Tel kinbo!': 'Tel kinbo na!'\n",
    "\n",
    "console.log(output)"
   ]
  },
  {
   "cell_type": "markdown",
   "metadata": {},
   "source": [
    "set if statement by priority"
   ]
  },
  {
   "cell_type": "code",
   "execution_count": null,
   "metadata": {
    "vscode": {
     "languageId": "javascript"
    }
   },
   "outputs": [],
   "source": [
    "%%script node\n",
    "\n",
    "let soyabeanErDaam = 190;\n",
    "\n",
    "let sorishaRDaam = 50;\n",
    "\n",
    "if (soyabeanErDaam < 200) {\n",
    "    console.log('soyabean tel kinbo!')\n",
    "} else if (sorishaRDaam < 50) {\n",
    "    console.log('sorisha tel kinbo na!')\n",
    "} else {\n",
    "    console.log('to to kore ghure berabo')\n",
    "}\n"
   ]
  },
  {
   "cell_type": "markdown",
   "metadata": {},
   "source": []
  },
  {
   "cell_type": "code",
   "execution_count": null,
   "metadata": {
    "vscode": {
     "languageId": "javascript"
    }
   },
   "outputs": [],
   "source": [
    "%%%script node\n",
    "\n",
    "let shoppingCart = new Array; // = []]\n",
    "\n",
    "console.log(shoppingCart);\n",
    "\n",
    "shoppingCart = ['pepsi', 'chanachur', 'mango bar'];\n",
    "\n",
    "console.log(shoppingCart);\n",
    "\n",
    "console.log(shoppingCart.length);\n",
    "\n",
    "console.log(shoppingCart[1]);\n",
    "\n",
    "console.log(shoppingCart[-1]);\n",
    "\n",
    "console.log(shoppingCart[shoppingCart.length-1]);"
   ]
  },
  {
   "cell_type": "markdown",
   "metadata": {},
   "source": [
    "# loop"
   ]
  },
  {
   "cell_type": "code",
   "execution_count": null,
   "metadata": {
    "vscode": {
     "languageId": "javascript"
    }
   },
   "outputs": [],
   "source": [
    "%%script node\n",
    "\n",
    "const shoppingCart = ['pepsi', 'chanachur', 'mango bar'];\n",
    "\n",
    "for(let i=0; i < shoppingCart.length ; i++){\n",
    "    console.log('buy ' + shoppingCart[i])\n",
    "}"
   ]
  },
  {
   "cell_type": "markdown",
   "metadata": {},
   "source": [
    "infinite loops exceeds memory limit"
   ]
  },
  {
   "cell_type": "code",
   "execution_count": null,
   "metadata": {
    "vscode": {
     "languageId": "javascript"
    }
   },
   "outputs": [],
   "source": [
    "shoppingCart = ['pepsi', 'chanachur', 'mango bar'];"
   ]
  },
  {
   "cell_type": "markdown",
   "metadata": {},
   "source": [
    "HW"
   ]
  },
  {
   "cell_type": "code",
   "execution_count": null,
   "metadata": {
    "vscode": {
     "languageId": "javascript"
    }
   },
   "outputs": [],
   "source": [
    "%%script node\n",
    "\n",
    "shoppingCart = ['pepsi', 'ruchi jhaal chanachur', 'mango bar'];"
   ]
  },
  {
   "cell_type": "markdown",
   "metadata": {},
   "source": [
    "# object"
   ]
  },
  {
   "cell_type": "code",
   "execution_count": null,
   "metadata": {
    "vscode": {
     "languageId": "javascript"
    }
   },
   "outputs": [],
   "source": [
    "%%script node\n",
    "\n",
    "shoppingCart = {\n",
    "    'pepsi' : '', \n",
    "    'ruchi jhaal chanachur' : '', \n",
    "    'mango bar' : ''\n",
    "};"
   ]
  },
  {
   "cell_type": "markdown",
   "metadata": {},
   "source": [
    "dot notation to access value of property /key"
   ]
  },
  {
   "cell_type": "code",
   "execution_count": null,
   "metadata": {
    "vscode": {
     "languageId": "javascript"
    }
   },
   "outputs": [],
   "source": [
    "%%script node\n",
    "\n",
    "const book1 = {\n",
    "    title: 'Data Structure and Algorithm',\n",
    "    writer: 'Mahbub Hasan',\n",
    "    price: 380,\n",
    "    rating: 4.5\n",
    "}\n",
    "\n",
    "const book2 = {\n",
    "    title: 'Programming er Choddogushti',\n",
    "    writer: 'Jhankar Mahbub',\n",
    "    price: 360,\n",
    "    rating: 4.5\n",
    "}\n",
    "\n",
    "console.log(book2.price);\n",
    "\n",
    "console.log(book2['price']);\n",
    "\n",
    "let books = [book1, book2]\n",
    "\n",
    "let shoppingCart = [];\n",
    "\n",
    "\n",
    "for (let i = 0; i < books.length; i++){\n",
    "    shoppingCart.push(books[i])\n",
    "}\n",
    "\n",
    "let totalPrice = 0;\n",
    "\n",
    "const shipping = 50;\n",
    "\n",
    "for (let i = 0; i < shoppingCart.length; i++){\n",
    "    totalPrice += shoppingCart[i].price\n",
    "}\n",
    "\n",
    "if(shoppingCart.length == 0){\n",
    "    console.log('Payable total 0 taka')\n",
    "} else {\n",
    "    console.log(`Payable total : ${totalPrice + shipping} taka`);\n",
    "}"
   ]
  }
 ],
 "metadata": {
  "kernelspec": {
   "display_name": "Python 3.10.4 ('xproj': conda)",
   "language": "python",
   "name": "python3"
  },
  "language_info": {
   "codemirror_mode": {
    "name": "ipython",
    "version": 3
   },
   "file_extension": ".py",
   "mimetype": "text/x-python",
   "name": "python",
   "nbconvert_exporter": "python",
   "pygments_lexer": "ipython3",
   "version": "3.10.4"
  },
  "orig_nbformat": 4,
  "vscode": {
   "interpreter": {
    "hash": "53ce4a372613acec3ced89ec12332be295014eb9a6e3df2a36b8fcc73e5ff10d"
   }
  }
 },
 "nbformat": 4,
 "nbformat_minor": 2
}

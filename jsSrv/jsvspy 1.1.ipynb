{
 "cells": [
  {
   "cell_type": "markdown",
   "metadata": {},
   "source": [
    "### expression:\n",
    "gives a value  \n",
    "one line, multiline,  \n",
    "part of statements"
   ]
  },
  {
   "cell_type": "code",
   "execution_count": 1,
   "metadata": {
    "vscode": {
     "languageId": "javascript"
    }
   },
   "outputs": [
    {
     "name": "stdout",
     "output_type": "stream",
     "text": [
      "false\n"
     ]
    }
   ],
   "source": [
    "%%script node\n",
    "\n",
    "            // expression: gives va\n",
    "console.log(true && false && !false);"
   ]
  },
  {
   "cell_type": "markdown",
   "metadata": {},
   "source": [
    "### statement\n",
    "performs actions  \n",
    "multiline, single line, part of line,  \n",
    "stores value in memory (declaration, assignment statement)"
   ]
  },
  {
   "cell_type": "code",
   "execution_count": 15,
   "metadata": {
    "vscode": {
     "languageId": "javascript"
    }
   },
   "outputs": [
    {
     "name": "stdout",
     "output_type": "stream",
     "text": [
      "false\n"
     ]
    }
   ],
   "source": [
    "%%script node\n",
    "\n",
    "console.log(`${2==3}`)"
   ]
  },
  {
   "cell_type": "markdown",
   "metadata": {},
   "source": [
    "### front-end back-end\n",
    "\n",
    "* front-end\n",
    "* * browser\n",
    "* back-end\n",
    "* * web server\n",
    "* * nodejs"
   ]
  },
  {
   "cell_type": "markdown",
   "metadata": {},
   "source": [
    "example of writing camel case variable"
   ]
  },
  {
   "cell_type": "code",
   "execution_count": null,
   "metadata": {
    "vscode": {
     "languageId": "javascript"
    }
   },
   "outputs": [],
   "source": [
    "%%script node\n",
    "\n",
    "anotherVar = 1;"
   ]
  },
  {
   "cell_type": "markdown",
   "metadata": {},
   "source": [
    "python comment"
   ]
  },
  {
   "cell_type": "code",
   "execution_count": 85,
   "metadata": {},
   "outputs": [],
   "source": [
    "# comment"
   ]
  },
  {
   "cell_type": "markdown",
   "metadata": {},
   "source": [
    "javascript comment"
   ]
  },
  {
   "cell_type": "code",
   "execution_count": 86,
   "metadata": {
    "vscode": {
     "languageId": "javascript"
    }
   },
   "outputs": [
    {
     "data": {
      "application/javascript": "\n// comment\n",
      "text/plain": [
       "<IPython.core.display.Javascript object>"
      ]
     },
     "metadata": {},
     "output_type": "display_data"
    }
   ],
   "source": [
    "%%script node\n",
    "\n",
    "// comment"
   ]
  },
  {
   "cell_type": "markdown",
   "metadata": {},
   "source": [
    "in python EOL are automatic"
   ]
  },
  {
   "cell_type": "code",
   "execution_count": 84,
   "metadata": {},
   "outputs": [
    {
     "name": "stdout",
     "output_type": "stream",
     "text": [
      "5\n"
     ]
    }
   ],
   "source": [
    "total = 2 + 3\n",
    "str(4 + 5)\n",
    "\n",
    "print(total)"
   ]
  },
  {
   "cell_type": "markdown",
   "metadata": {},
   "source": [
    "javascript parser sometimes doesn't place auto-semicolons"
   ]
  },
  {
   "cell_type": "code",
   "execution_count": null,
   "metadata": {
    "vscode": {
     "languageId": "javascript"
    }
   },
   "outputs": [],
   "source": [
    "%%script node \n",
    "\n",
    "total = 2 + 3\n",
    "(4 + 5).toString()\n",
    "\n",
    "console.log(total)"
   ]
  },
  {
   "cell_type": "markdown",
   "metadata": {},
   "source": [
    "TypeError: 3 is not a function"
   ]
  },
  {
   "cell_type": "markdown",
   "metadata": {},
   "source": [
    "---\n",
    "# Data types\n",
    "\n",
    "2 primary types:\n",
    "1) primitive\n",
    "* undefiined (when variable is declared but not assigned) (like python none)\n",
    "* null (variable set as null) (like python none)\n",
    "* boolean: logical data type\n",
    "* string \n",
    "* symbol (immutable primitive value): introduced in es2015\n",
    "* number (like python float & integer)\n",
    "* bigint: introduced in es2020\n",
    "2) object (like python class)\n",
    "\n",
    "both javascript and python are dynamically-typed:  \n",
    "variables by themselves do not have fixed data-type  \n",
    "new value of different data-type can be assigned to same variable"
   ]
  },
  {
   "cell_type": "code",
   "execution_count": 3,
   "metadata": {},
   "outputs": [
    {
     "name": "stdout",
     "output_type": "stream",
     "text": [
      "<class 'str'>\n",
      "<class 'int'>\n",
      "<class 'float'>\n",
      "<class 'bool'>\n",
      "<class 'NoneType'>\n",
      "<class 'list'>\n",
      "<class 'dict'>\n"
     ]
    }
   ],
   "source": [
    "print(type('string'))                   # string\n",
    "print(type(1))                          # int\n",
    "print(type(1.0))                        # float\n",
    "print(type(False))                      # bool\n",
    "print(type(None))                       # NoneType\n",
    "print(type([1, 2, 3]))                  # list\n",
    "print(type({'a': 1, 'b': 2, 'c': 3}))   # dict"
   ]
  },
  {
   "cell_type": "code",
   "execution_count": 1,
   "metadata": {
    "vscode": {
     "languageId": "javascript"
    }
   },
   "outputs": [
    {
     "name": "stdout",
     "output_type": "stream",
     "text": [
      "string\n",
      "number\n",
      "number\n",
      "bigint\n",
      "boolean\n",
      "object\n",
      "undefined\n",
      "object\n",
      "object\n"
     ]
    }
   ],
   "source": [
    "%%script node\n",
    "\n",
    "console.log(typeof 'string');     // string\n",
    "console.log(typeof 1.5);          // number, not float\n",
    "console.log(typeof 2);            // number, not integer\n",
    "console.log(typeof 1n);           // bigint\n",
    "console.log(typeof false);        // boolean\n",
    "console.log(typeof undefined);    // undefined\n",
    "console.log(typeof null);         // null returns object\n",
    "console.log(typeof [1, 2, 3]);    // arrays return object to typeof\n",
    "console.log(typeof {'a': 1, 'b': 2, 'c': 3}) // object"
   ]
  },
  {
   "cell_type": "markdown",
   "metadata": {},
   "source": [
    "---\n",
    "### datatype conversion"
   ]
  },
  {
   "cell_type": "code",
   "execution_count": null,
   "metadata": {},
   "outputs": [],
   "source": []
  },
  {
   "cell_type": "code",
   "execution_count": 2,
   "metadata": {
    "vscode": {
     "languageId": "javascript"
    }
   },
   "outputs": [
    {
     "name": "stdout",
     "output_type": "stream",
     "text": [
      "8.8 NaN 8.3 8.8\n",
      "string string\n",
      "number string\n"
     ]
    }
   ],
   "source": [
    "%%script node\n",
    "\n",
    "// string\n",
    "console.log(\n",
    "    Number('5.8')+3, \n",
    "    Number('returns NaN when not a numeric string'), \n",
    "    parseInt('5.8')+3.3,\n",
    "    parseFloat('5.8')+3)\n",
    "\n",
    "// number to string\n",
    "console.log(typeof(String('123.0')+4), typeof('123.0'.toString()+4));\n",
    "\n",
    "// boolean \n",
    "console.log(typeof(Number(false)), typeof(String(false)));\n",
    "\n"
   ]
  },
  {
   "cell_type": "markdown",
   "metadata": {},
   "source": [
    "unary + operator converts variables as number"
   ]
  },
  {
   "cell_type": "code",
   "execution_count": null,
   "metadata": {
    "vscode": {
     "languageId": "javascript"
    }
   },
   "outputs": [],
   "source": [
    "%%script node\n",
    "\n",
    "let x = + '5';\n",
    "console.log(typeof(x));"
   ]
  },
  {
   "cell_type": "markdown",
   "metadata": {},
   "source": [
    "\n",
    "new empty item of each datatype"
   ]
  },
  {
   "cell_type": "code",
   "execution_count": null,
   "metadata": {},
   "outputs": [],
   "source": []
  },
  {
   "cell_type": "code",
   "execution_count": null,
   "metadata": {
    "vscode": {
     "languageId": "javascript"
    }
   },
   "outputs": [],
   "source": [
    "%%script node\n",
    "\n",
    "myString = new String;\n",
    "\n",
    "myString2 = '';\n",
    "\n",
    "myNum = new Number;\n",
    "\n",
    "myNum2 = +'';\n",
    "\n",
    "//myBigint = new BigInt;\n",
    "\n",
    "myBool = new Boolean;\n",
    "\n",
    "//myUndef = new undefined;\n",
    "\n",
    "myArray = new Array;\n",
    "myArray2 = [];\n",
    "\n",
    "myObj = new Object;\n",
    "myObj2 = {};\n",
    "\n",
    "[myString, myString2, myNum, myNum2, myBool, myArray, myArray2, myObj, myObj2].forEach(a=>{\n",
    "    console.log(a, 'of type:', typeof a);\n",
    "})"
   ]
  },
  {
   "cell_type": "markdown",
   "metadata": {},
   "source": [
    "## Type coercion"
   ]
  },
  {
   "cell_type": "markdown",
   "metadata": {},
   "source": [
    "python does not have type coercion"
   ]
  },
  {
   "cell_type": "markdown",
   "metadata": {},
   "source": [
    "javascript has type coercion  \n",
    "number > string  \n",
    "(numerical) string > number (with any operator other than plus)"
   ]
  },
  {
   "cell_type": "code",
   "execution_count": 9,
   "metadata": {
    "vscode": {
     "languageId": "javascript"
    }
   },
   "outputs": [
    {
     "name": "stdout",
     "output_type": "stream",
     "text": [
      "11\n",
      " 0\n"
     ]
    }
   ],
   "source": [
    "%%script node\n",
    "\n",
    "console.log('1'+1 + '\\n', '1'-1);"
   ]
  },
  {
   "cell_type": "markdown",
   "metadata": {},
   "source": [
    "Boolean coercion/converison: 5 falsy values of javascript"
   ]
  },
  {
   "cell_type": "code",
   "execution_count": 32,
   "metadata": {
    "vscode": {
     "languageId": "javascript"
    }
   },
   "outputs": [
    {
     "name": "stdout",
     "output_type": "stream",
     "text": [
      "0, NaN, undefined, null, '' are the 5 falsy values of javascript\n"
     ]
    }
   ],
   "source": [
    "%%script node\n",
    "\n",
    "if (!0){\n",
    "    if (!NaN){\n",
    "        if (!undefined){\n",
    "            if (!null){\n",
    "                if (!''){\n",
    "                    console.log(`0, NaN, undefined, null, ''`,\n",
    "                    `are the 5 falsy values of javascript`)\n",
    "                }\n",
    "            }\n",
    "        }\n",
    "    }\n",
    "}"
   ]
  },
  {
   "cell_type": "markdown",
   "metadata": {},
   "source": [
    "# Operator"
   ]
  },
  {
   "cell_type": "code",
   "execution_count": null,
   "metadata": {
    "vscode": {
     "languageId": "javascript"
    }
   },
   "outputs": [],
   "source": [
    "%%script node\n",
    "\n",
    "typeof 6"
   ]
  },
  {
   "cell_type": "code",
   "execution_count": null,
   "metadata": {
    "vscode": {
     "languageId": "javascript"
    }
   },
   "outputs": [],
   "source": []
  },
  {
   "cell_type": "markdown",
   "metadata": {},
   "source": [
    "---\n",
    "# fallback execution"
   ]
  },
  {
   "cell_type": "code",
   "execution_count": 18,
   "metadata": {},
   "outputs": [
    {
     "name": "stdout",
     "output_type": "stream",
     "text": [
      "Property already present\n",
      "{'a': ['b', 'c', 'd']}\n",
      "'e'\n",
      "{'a': ['b', 'c', 'd'], 'e': ['f']}\n"
     ]
    }
   ],
   "source": [
    "nested = {\n",
    "    'a': ['b', 'c']\n",
    "}\n",
    "\n",
    "def upArr(prop, val):\n",
    "    try: nested[prop] = nested[prop]\n",
    "    except Exception as ex: print(ex); nested[prop] = []\n",
    "    else: print('Property already present')\n",
    "    finally: nested[prop].append(val); return nested\n",
    "\n",
    "print(upArr('a', 'd'))\n",
    "print(upArr('e', 'f'))"
   ]
  },
  {
   "cell_type": "code",
   "execution_count": null,
   "metadata": {
    "vscode": {
     "languageId": "javascript"
    }
   },
   "outputs": [],
   "source": [
    "%%script node\n",
    "\n",
    "nested = {\n",
    "    a: ['b', 'c']\n",
    "}\n",
    "\n",
    "function upArr(prop, val) {\n",
    "    try { if (nested[prop] == undefined) {\n",
    "        throw 'no property';\n",
    "    } else {console.log('Property already present');}\n",
    "    } catch(err) { nested[prop] = []; console.log(err);\n",
    "    } finally { nested[prop].push(val); return nested; }\n",
    "}\n",
    "\n",
    "console.log(upArr('a', 'd'));\n",
    "console.log(upArr('e', 'f'));"
   ]
  },
  {
   "cell_type": "markdown",
   "metadata": {},
   "source": [
    "---\n",
    "fallback value"
   ]
  },
  {
   "cell_type": "code",
   "execution_count": 23,
   "metadata": {},
   "outputs": [
    {
     "data": {
      "text/plain": [
       "{'a': ['b', 'c', 'd'], 'e': ['f']}"
      ]
     },
     "execution_count": 23,
     "metadata": {},
     "output_type": "execute_result"
    }
   ],
   "source": [
    "nested = {\n",
    "    'a': ['b', 'c', 'd']\n",
    "}\n",
    "\n",
    "def upArr(prop, val):\n",
    "    try: nested[prop] = nested[prop]\n",
    "    except: nested[prop] = []\n",
    "    nested[prop].append(val)\n",
    "    return nested\n",
    "\n",
    "upArr('e', 'f')"
   ]
  },
  {
   "cell_type": "code",
   "execution_count": null,
   "metadata": {
    "vscode": {
     "languageId": "javascript"
    }
   },
   "outputs": [],
   "source": [
    "%%script node\n",
    "\n",
    "nested = {\n",
    "    a: ['b', 'c', 'd']\n",
    "}\n",
    "\n",
    "function upArr(prop, val) {\n",
    "    nested[prop] = nested[prop] || [];\n",
    "    nested[prop].push(val);\n",
    "    return nested\n",
    "}\n",
    "\n",
    "console.log(upArr('e', 'f'));"
   ]
  },
  {
   "cell_type": "markdown",
   "metadata": {},
   "source": [
    "---"
   ]
  },
  {
   "cell_type": "markdown",
   "metadata": {},
   "source": [
    "# object constructor function"
   ]
  },
  {
   "cell_type": "markdown",
   "metadata": {},
   "source": [
    "new keyword must be used  \n",
    "to construct new object   \n",
    "from object constructor funciton"
   ]
  },
  {
   "cell_type": "code",
   "execution_count": null,
   "metadata": {
    "vscode": {
     "languageId": "javascript"
    }
   },
   "outputs": [],
   "source": [
    "%%script node\n",
    "\n",
    "function Person(name) {\n",
    "    this.name = name;\n",
    "}\n",
    "\n",
    "bob = new Person('Bob')\n",
    "\n",
    "console.log(bob.name)"
   ]
  },
  {
   "cell_type": "markdown",
   "metadata": {},
   "source": [
    "ES6 class"
   ]
  },
  {
   "cell_type": "markdown",
   "metadata": {},
   "source": [
    "# no function signatures"
   ]
  },
  {
   "cell_type": "markdown",
   "metadata": {},
   "source": []
  },
  {
   "cell_type": "code",
   "execution_count": null,
   "metadata": {
    "vscode": {
     "languageId": "javascript"
    }
   },
   "outputs": [],
   "source": [
    "%%script node\n",
    "\n",
    "function truthy(expression) {\n",
    "    return !!expression;        // !! converts a value to boolean\n",
    "}\n",
    "\n",
    "console.log(\n",
    "    truthy(0, 52, \"apples\"),     // false\n",
    "    truthy()                    // false\n",
    ");"
   ]
  },
  {
   "cell_type": "markdown",
   "metadata": {},
   "source": [
    "'arguments' is  \n",
    "* array-like\n",
    "* * iterable\n",
    "* but unlike arrays it does not support  \n",
    "array methods such as:\n",
    "* * forEach\n",
    "* * reduce  \n",
    "* can be converted into an array by  \n",
    "destructuring it inside array brackets"
   ]
  },
  {
   "cell_type": "code",
   "execution_count": null,
   "metadata": {
    "vscode": {
     "languageId": "javascript"
    }
   },
   "outputs": [],
   "source": [
    "%%script node\n",
    "\n",
    "function sum() {\n",
    "    return [...arguments].reduce((a,x) => a+x);\n",
    "}\n",
    "\n",
    "console.log(\n",
    "    sum(1,2,4)  // 7\n",
    "    )"
   ]
  },
  {
   "cell_type": "markdown",
   "metadata": {},
   "source": [
    "---\n",
    "# Calling function context"
   ]
  },
  {
   "cell_type": "markdown",
   "metadata": {},
   "source": [
    "python 'self"
   ]
  },
  {
   "cell_type": "code",
   "execution_count": 1,
   "metadata": {},
   "outputs": [
    {
     "name": "stdout",
     "output_type": "stream",
     "text": [
      "inside cleese: <__main__.myClass object at 0x7f9ef46d8ee0>\n"
     ]
    }
   ],
   "source": [
    "name = 'global'\n",
    "# x = self\n",
    "# print('global: ' + self(name))\n",
    "\n",
    "def prind():\n",
    "    print('inside print: ', self.name)\n",
    "\n",
    "class myClass():\n",
    "    def cleese(self):\n",
    "        print('inside cleese:', self)\n",
    "\n",
    "#prind()\n",
    "\n",
    "john = myClass()\n",
    "\n",
    "john.cleese()"
   ]
  },
  {
   "cell_type": "markdown",
   "metadata": {},
   "source": [
    "javascript 'this'  \n",
    "refers to caller of the function.\n",
    "\n",
    "when no caller, global"
   ]
  },
  {
   "cell_type": "code",
   "execution_count": 62,
   "metadata": {
    "vscode": {
     "languageId": "javascript"
    }
   },
   "outputs": [
    {
     "data": {
      "application/javascript": "\nlet x = this;\nconsole.log('global: ', this);\n\nfunction print() {\n    console.log('inside print: ', this);\n}\n\njohn = {\n    name: 'John',\n    cleese: function() {console.log('inside cleese:', this)}\n}\n",
      "text/plain": [
       "<IPython.core.display.Javascript object>"
      ]
     },
     "metadata": {},
     "output_type": "display_data"
    }
   ],
   "source": [
    "%%script node\n",
    "\n",
    "name = 'globull';\n",
    "//let x = this;\n",
    "console.log('global: ', this.name);\n",
    "\n",
    "function print() {\n",
    "    console.log('inside print: ', this.name);\n",
    "}\n",
    "\n",
    "john = {\n",
    "    name: 'John',\n",
    "    cleese: function() {console.log('inside cleese:', this.name)}\n",
    "}\n",
    "\n",
    "print()\n",
    "\n",
    "john.cleese()"
   ]
  },
  {
   "cell_type": "markdown",
   "metadata": {},
   "source": [
    "anonymous functions have global context,  \n",
    "so 'this' will refer to global"
   ]
  },
  {
   "cell_type": "code",
   "execution_count": null,
   "metadata": {
    "vscode": {
     "languageId": "javascript"
    }
   },
   "outputs": [],
   "source": [
    "%%script node\n",
    "\n",
    "name = 'globull'\n",
    "\n",
    "console.log(this.name)\n",
    "\n",
    "fruit = {\n",
    "    name : 'fruit',\n",
    "    items: ['apple', 'banana', 'pear'],\n",
    "    show: function() {\n",
    "        that = this;\n",
    "        console.log(\"inside fruit show: \", this.name, that.name);\n",
    "        this.items.forEach( function(a) {\n",
    "            console.log(\"inside fruit.show.forEach: \", this.name, that.name);\n",
    "        },\n",
    "        this)\n",
    "    }\n",
    "}\n",
    "\n",
    "fruit.show()"
   ]
  },
  {
   "cell_type": "markdown",
   "metadata": {},
   "source": [
    "but arrow function does not change context to global,  \n",
    "but keeps the containing object as context\n",
    "\n",
    "arrow functions should be used inside object methods  \n",
    "to have 'this' behave like 'self' in python object/instance methods"
   ]
  },
  {
   "cell_type": "code",
   "execution_count": null,
   "metadata": {
    "vscode": {
     "languageId": "javascript"
    }
   },
   "outputs": [],
   "source": [
    "%%script node\n",
    "\n",
    "name = 'globull'\n",
    "\n",
    "console.log(this.name)\n",
    "\n",
    "fruit = {\n",
    "    name : 'fruit',\n",
    "    items: ['apple', 'banana', 'pear'],\n",
    "    display: function() {\n",
    "        that = this;\n",
    "        console.log(\"inside fruit show: \", this.name, that.name);\n",
    "        this.items.forEach( (item) => {\n",
    "            console.log(\"inside fruit.show.forEach: \", this.name, that.name);\n",
    "        })\n",
    "    }\n",
    "}\n",
    "\n",
    "fruit.display()"
   ]
  },
  {
   "cell_type": "markdown",
   "metadata": {},
   "source": [
    "but arrow functions should not be used in  \n",
    "defining object methods"
   ]
  },
  {
   "cell_type": "code",
   "execution_count": 2,
   "metadata": {
    "vscode": {
     "languageId": "javascript"
    }
   },
   "outputs": [
    {
     "data": {
      "application/javascript": "\nname = 'globull'\n\nconsole.log(this.name)\n\nfruit = {\n    that : this,\n    name : 'fruit',\n    items: ['apple', 'banana', 'pear'],\n    spear: () => {\n        console.log(\"inside fruit show: \", this.name, that.name);\n    }\n}\n\nfruit.spear()\n",
      "text/plain": [
       "<IPython.core.display.Javascript object>"
      ]
     },
     "metadata": {},
     "output_type": "display_data"
    }
   ],
   "source": [
    "%%script node\n",
    "\n",
    "name = 'globull'\n",
    "\n",
    "console.log(this.name)\n",
    "\n",
    "fruit = {\n",
    "    that : this,\n",
    "    name : 'fruit',\n",
    "    items: ['apple', 'banana', 'pear'],\n",
    "    spear: () => {\n",
    "        console.log(\"inside fruit show: \", this.name, that.name);\n",
    "    }\n",
    "}\n",
    "\n",
    "fruit.spear()"
   ]
  },
  {
   "cell_type": "code",
   "execution_count": null,
   "metadata": {
    "vscode": {
     "languageId": "javascript"
    }
   },
   "outputs": [],
   "source": [
    "%%script node\n",
    "\n",
    "name = 'globull'\n",
    "\n",
    "console.log(this.name)\n",
    "\n",
    "fruit = {\n",
    "    name : 'fruit',\n",
    "    items: ['apple', 'banana', 'pear'],\n",
    "    show: function() {\n",
    "        that = this;\n",
    "        console.log(\"inside fruit show: \", this.name, that.name);\n",
    "        this.items.forEach( function(a) {\n",
    "            console.log(\"inside fruit.show.forEach: \", this.name, that.name);\n",
    "        },\n",
    "        this)\n",
    "//   forEach method\n",
    "//  allows passing current context\n",
    "    }\n",
    "}\n",
    "\n",
    "fruit.show()"
   ]
  },
  {
   "cell_type": "code",
   "execution_count": null,
   "metadata": {
    "vscode": {
     "languageId": "javascript"
    }
   },
   "outputs": [],
   "source": [
    "%%script node\n",
    "\n",
    "name = 'globull'\n",
    "\n",
    "console.log(this.name)\n",
    "\n",
    "fruit = {\n",
    "    name : 'fruit',\n",
    "    items: ['apple', 'banana', 'pear'],\n",
    "    show: function() {\n",
    "        that = this;\n",
    "        console.log(\"inside fruit show: \", this.name, that.name);\n",
    "        this.items.forEach( function(a) {\n",
    "            console.log(\"inside fruit.show.forEach: \", this.name, that.name);\n",
    "        })\n",
    "\n",
    "    }\n",
    "}\n",
    "\n",
    "//fruit.show.bind(fruit)\n",
    "\n",
    "fruit.show()"
   ]
  },
  {
   "cell_type": "markdown",
   "metadata": {},
   "source": [
    "# Operators"
   ]
  },
  {
   "cell_type": "markdown",
   "metadata": {},
   "source": [
    "## precedence\n",
    "grouping  \n",
    "mathematical (left to right)  \n",
    "comparison (right to left)  \n",
    "(assignment) (right to left)  \n",
    "(typeof)"
   ]
  },
  {
   "cell_type": "code",
   "execution_count": 4,
   "metadata": {
    "vscode": {
     "languageId": "javascript"
    }
   },
   "outputs": [
    {
     "name": "stdout",
     "output_type": "stream",
     "text": [
      "5 5\n"
     ]
    }
   ],
   "source": [
    "%%script node\n",
    "\n",
    "x = y = 10 - 5;\n",
    "console.log(x,y)"
   ]
  },
  {
   "cell_type": "code",
   "execution_count": 5,
   "metadata": {
    "vscode": {
     "languageId": "javascript"
    }
   },
   "outputs": [
    {
     "name": "stdout",
     "output_type": "stream",
     "text": [
      "0.3125 0.032 true\n"
     ]
    }
   ],
   "source": [
    "%%script node\n",
    "\n",
    "console.log(5/4**2, 4/5**3, 5/4**2>4/5**3)"
   ]
  },
  {
   "cell_type": "markdown",
   "metadata": {},
   "source": [
    "# comparable functions with dissimilar actions"
   ]
  },
  {
   "cell_type": "code",
   "execution_count": 2,
   "metadata": {},
   "outputs": [
    {
     "name": "stdout",
     "output_type": "stream",
     "text": [
      "2\n",
      "None\n"
     ]
    }
   ],
   "source": [
    "# print function \n",
    "# is an expression\n",
    "# returns values\n",
    "b = print(2)\n",
    "print(b)"
   ]
  },
  {
   "cell_type": "code",
   "execution_count": 2,
   "metadata": {
    "vscode": {
     "languageId": "javascript"
    }
   },
   "outputs": [
    {
     "name": "stdout",
     "output_type": "stream",
     "text": [
      "2\n",
      "undefined\n"
     ]
    }
   ],
   "source": [
    "%%script node\n",
    "\n",
    "// console.log is\n",
    "// not an expression\n",
    "// which returns values\n",
    "let b = console.log(2)\n",
    "\n",
    "console.log(b)"
   ]
  },
  {
   "attachments": {},
   "cell_type": "markdown",
   "metadata": {},
   "source": [
    "## file reading writing"
   ]
  },
  {
   "cell_type": "code",
   "execution_count": 53,
   "metadata": {},
   "outputs": [
    {
     "name": "stdout",
     "output_type": "stream",
     "text": [
      "<class 'str'> {\"in\": \"python\"}\n",
      "<class 'dict'> {'in': 'python'}\n"
     ]
    }
   ],
   "source": [
    "obj = {\"in\":\"python\"}\n",
    "\n",
    "import json\n",
    "\n",
    "jsn=json.dumps(obj)\n",
    "\n",
    "with open(\"./test\", \"w+\") as test:\n",
    "    test.write(jsn)\n",
    "\n",
    "with open(\"./test\", \"r\") as test:\n",
    "    # file = testRead.read()\n",
    "    for line in test:\n",
    "        print(type(line), line)\n",
    "        print(type(json.loads(line)),json.loads(line))"
   ]
  },
  {
   "cell_type": "code",
   "execution_count": 47,
   "metadata": {
    "vscode": {
     "languageId": "javascript"
    }
   },
   "outputs": [
    {
     "name": "stdout",
     "output_type": "stream",
     "text": [
      "string {\"in\":\"node\"}\n",
      "object { in: 'node' }\n"
     ]
    }
   ],
   "source": [
    "%%script node\n",
    "\n",
    "let obj = {\"in\":\"node\"}\n",
    "\n",
    "let jsn = JSON.stringify(obj)\n",
    "\n",
    "const fs = require('fs')\n",
    "\n",
    "fs.writeFileSync(\"./test\", jsn, err=>{\n",
    "    if(err){\n",
    "        console.log(err.message);\n",
    "    }\n",
    "})\n",
    "\n",
    "fs.readFile(\"./test\", \"utf8\", (err,data)=>{\n",
    "    if(err){\n",
    "        console.log(err.message);\n",
    "    } else {\n",
    "        console.log(typeof data, data);\n",
    "        console.log(typeof JSON.parse(data), JSON.parse(data));\n",
    "    }\n",
    "})"
   ]
  },
  {
   "attachments": {},
   "cell_type": "markdown",
   "metadata": {},
   "source": [
    "## module name"
   ]
  },
  {
   "cell_type": "code",
   "execution_count": 62,
   "metadata": {},
   "outputs": [
    {
     "name": "stdout",
     "output_type": "stream",
     "text": [
      "in function: py_3_09_module\n",
      "works\n",
      "in main: __main__\n"
     ]
    }
   ],
   "source": [
    "import sys\n",
    "\n",
    "sys.path.append(\"../pySrv\")\n",
    "\n",
    "import py_3_09_module as mod\n",
    "\n",
    "mod.test()\n",
    "\n",
    "print(\"in main:\", __name__)"
   ]
  },
  {
   "cell_type": "code",
   "execution_count": null,
   "metadata": {
    "vscode": {
     "languageId": "javascript"
    }
   },
   "outputs": [],
   "source": [
    "%%script node"
   ]
  },
  {
   "attachments": {},
   "cell_type": "markdown",
   "metadata": {},
   "source": [
    "## Try catch except"
   ]
  },
  {
   "cell_type": "code",
   "execution_count": 73,
   "metadata": {},
   "outputs": [
    {
     "name": "stdout",
     "output_type": "stream",
     "text": [
      "exception: ZeroDivisionError\n"
     ]
    }
   ],
   "source": [
    "a = 0\n",
    "try:\n",
    "    3/a\n",
    "    print(\"success\")\n",
    "except Exception as e:\n",
    "    print('exception:', type(e).__name__)\n"
   ]
  },
  {
   "cell_type": "code",
   "execution_count": 72,
   "metadata": {
    "vscode": {
     "languageId": "javascript"
    }
   },
   "outputs": [
    {
     "name": "stdout",
     "output_type": "stream",
     "text": [
      "exception: yeah\n"
     ]
    }
   ],
   "source": [
    "%%script node\n",
    "let a = 0\n",
    "try {\n",
    "    // 0/a;\n",
    "    throw Error('yeah')\n",
    "    console.log(`success`);\n",
    "} catch(e){\n",
    "    console.log(`exception:`, e.message);\n",
    "}"
   ]
  }
 ],
 "metadata": {
  "kernelspec": {
   "display_name": "mlCond",
   "language": "python",
   "name": "python3"
  },
  "language_info": {
   "codemirror_mode": {
    "name": "ipython",
    "version": 3
   },
   "file_extension": ".py",
   "mimetype": "text/x-python",
   "name": "python",
   "nbconvert_exporter": "python",
   "pygments_lexer": "ipython3",
   "version": "3.10.4"
  },
  "orig_nbformat": 4,
  "vscode": {
   "interpreter": {
    "hash": "938f129a56432c24e47e1ec24c0af9ea66022dd35bc85d471375d62ef683242c"
   }
  }
 },
 "nbformat": 4,
 "nbformat_minor": 2
}

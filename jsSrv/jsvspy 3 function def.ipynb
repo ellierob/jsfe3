{
  "cells": [
    {
      "cell_type": "markdown",
      "metadata": {},
      "source": [
        "Function definition/declaration statement and function call  \n",
        "function call assigns argument as values to parameters as local variables    "
      ]
    },
    {
      "cell_type": "code",
      "execution_count": 1,
      "metadata": {},
      "outputs": [
        {
          "name": "stdout",
          "output_type": "stream",
          "text": [
            "this function is very based\n"
          ]
        }
      ],
      "source": [
        "\n",
        "# function definition\n",
        "def someFunc(adv, adj): print(f'this function is {adv} {adj}')\n",
        "#           ^parameters^\n",
        "\n",
        "# function call\n",
        "someFunc('very', 'based')\n",
        "#          ^arguments^"
      ]
    },
    {
      "cell_type": "code",
      "execution_count": null,
      "metadata": {
        "vscode": {
          "languageId": "javascript"
        }
      },
      "outputs": [],
      "source": [
        "%%script node\n",
        "\n",
        "// function definition\n",
        "function someFunc(adv, adj) {console.log(`this function is ${adv} ${adj}`)}\n",
        "//               parameters\n",
        "\n",
        "// function call\n",
        "someFunc('very', 'based')\n",
        "//         ^arguments^"
      ]
    },
    {
      "cell_type": "markdown",
      "metadata": {},
      "source": [
        "return statements"
      ]
    },
    {
      "cell_type": "code",
      "execution_count": 4,
      "metadata": {},
      "outputs": [
        {
          "name": "stdout",
          "output_type": "stream",
          "text": [
            "None 15 (15, 10)\n"
          ]
        }
      ],
      "source": [
        "# returns None\n",
        "def noReturn(num):\n",
        "    3 * num\n",
        "\n",
        "def Return1(num):\n",
        "    return 3 * num\n",
        "\n",
        "# multiple return value in list\n",
        "def Return2(num):\n",
        "    return 3 * num, 2*num\n",
        "\n",
        "print(noReturn(5), Return1(5), Return2(5))\n",
        "#            ^None^"
      ]
    },
    {
      "cell_type": "code",
      "execution_count": 29,
      "metadata": {
        "vscode": {
          "languageId": "javascript"
        }
      },
      "outputs": [
        {
          "data": {
            "application/javascript": "\nfunction noReturn(num) {\n    3 * num\n}\n\nconsole.log(noReturn(5))\n//          ^undefined^\n",
            "text/plain": [
              "<IPython.core.display.Javascript object>"
            ]
          },
          "metadata": {},
          "output_type": "display_data"
        }
      ],
      "source": [
        "%%script node\n",
        "\n",
        "// no return statement returns undefined\n",
        "function noReturn(num) {\n",
        "    3 * num\n",
        "}\n",
        "\n",
        "function Return1(num) {\n",
        "    return 3 * num\n",
        "}\n",
        "\n",
        "// multiple return value needs to be passed into array\n",
        "function Return2(num) {\n",
        "    return [3*num, 2*num];\n",
        "}\n",
        "\n",
        "console.log(noReturn(5), Return1(5), Return2(5))\n",
        "//          ^undefined^"
      ]
    },
    {
      "cell_type": "code",
      "execution_count": 35,
      "metadata": {
        "vscode": {
          "languageId": "javascript"
        }
      },
      "outputs": [
        {
          "data": {
            "application/javascript": "\nfunction queue(arr, item) {\n    arr.push(item);\n    return arr.shift();\n}\n\nlet testArr = [1, 2, 3];\n\nconsole.log('before:', JSON.stringify(testArr))\nconsole.log(queue(testArr, 4))\nconsole.log('before:', JSON.stringify(testArr))\n",
            "text/plain": [
              "<IPython.core.display.Javascript object>"
            ]
          },
          "metadata": {},
          "output_type": "display_data"
        }
      ],
      "source": [
        "%%script node\n",
        "\n",
        "function queue(arr, item) {\n",
        "    arr.push(item);\n",
        "    return arr.shift();\n",
        "}\n",
        "\n",
        "let testArr = [1, 2, 3];\n",
        "\n",
        "console.log('before:', JSON.stringify(testArr))\n",
        "console.log(queue(testArr, 4))\n",
        "console.log('before:', JSON.stringify(testArr))"
      ]
    },
    {
      "cell_type": "markdown",
      "metadata": {},
      "source": [
        "default parameter argument value"
      ]
    },
    {
      "cell_type": "code",
      "execution_count": 1,
      "metadata": {},
      "outputs": [
        {
          "name": "stdout",
          "output_type": "stream",
          "text": [
            "(15, 5) (10, 5)\n"
          ]
        }
      ],
      "source": [
        "def mult(number, multiplyer=2):\n",
        "    return number*multiplyer\n",
        "\n",
        "print(mult(5,3), mult(5))"
      ]
    },
    {
      "cell_type": "code",
      "execution_count": 3,
      "metadata": {
        "vscode": {
          "languageId": "javascript"
        }
      },
      "outputs": [
        {
          "data": {
            "application/javascript": "\nfunction mult(number, multiplyer = 2) {\n    return number * multiplyer//, number;\n}\n\nconst arrowMult = (number, multiplyer = 2) => number * multiplyer\n\nconsole.log(mult(5,3), mult(5), arrowMult(5,3), arrowMult(5))\n",
            "text/plain": [
              "<IPython.core.display.Javascript object>"
            ]
          },
          "metadata": {},
          "output_type": "display_data"
        }
      ],
      "source": [
        "%%script node\n",
        "\n",
        "function mult(number, multiplyer = 2) {\n",
        "    return number * multiplyer\n",
        "}\n",
        "\n",
        "const arrowMult = (number, multiplyer = 2) => number * multiplyer\n",
        "\n",
        "console.log(mult(5,3), mult(5))\n",
        "console.log(arrowMult(5,3), arrowMult(5))"
      ]
    },
    {
      "cell_type": "markdown",
      "metadata": {},
      "source": [
        "Arrow function does not get arguments keyword"
      ]
    },
    {
      "cell_type": "code",
      "execution_count": 6,
      "metadata": {
        "vscode": {
          "languageId": "javascript"
        }
      },
      "outputs": [
        {
          "name": "stdout",
          "output_type": "stream",
          "text": [
            "[Arguments] { '0': 1, '1': 2 } no arguments keyword\n"
          ]
        }
      ],
      "source": [
        "%%script node\n",
        "\n",
        "const funcExp = function(a, b) { return arguments};\n",
        "\n",
        "const arrowFunc = (a, b) => { try {return arguments} catch (e) {return `no arguments keyword`}};\n",
        "\n",
        "console.log(\n",
        "    funcExp(1,2), \n",
        "    arrowFunc(1,2)\n",
        "    );"
      ]
    },
    {
      "cell_type": "markdown",
      "metadata": {},
      "source": [
        "---\n",
        "*args, *kwargs, rest operator (...)"
      ]
    },
    {
      "cell_type": "code",
      "execution_count": 8,
      "metadata": {},
      "outputs": [
        {
          "name": "stdout",
          "output_type": "stream",
          "text": [
            "10\n",
            "{'a': 'z', 'c': 'd', 'e': 'f'}\n"
          ]
        }
      ],
      "source": [
        "def myAdd(*args):\n",
        "    add = 0\n",
        "    for arg in args:\n",
        "        add += arg\n",
        "    return add\n",
        "\n",
        "print(myAdd(5,3,2))\n",
        "\n",
        "\n",
        "contacts = {'a':'b'}\n",
        "\n",
        "def contact(**kwargs):\n",
        "    for key, value in kwargs.items():\n",
        "        contacts[key] = value\n",
        "    return contacts\n",
        "\n",
        "print(contact(c='d', e='f', a='z'))"
      ]
    },
    {
      "cell_type": "code",
      "execution_count": null,
      "metadata": {
        "vscode": {
          "languageId": "javascript"
        }
      },
      "outputs": [],
      "source": [
        "%%script node\n",
        "        //rest operator\n",
        "        //     v\n",
        "function myAdd(...args) {\n",
        "    return args.reduce((a,b)=>a+b,0);\n",
        "}\n",
        "\n",
        "console.log(myAdd(5,3,2));\n",
        "\n",
        "\n",
        "myContacts = {'a':'b'};\n",
        "\n",
        "function contact(kwargs):\n",
        "    for (key, value in kwargs.items()) {\n",
        "        myContacts[key] = value;\n",
        "    return myContacts;\n",
        "    }\n",
        "\n",
        "console.log(contact(c='d', e='f', a='z'));"
      ]
    },
    {
      "cell_type": "markdown",
      "metadata": {},
      "source": [
        "destructuring assigning to arguments values by object keys as parameters"
      ]
    },
    {
      "cell_type": "code",
      "execution_count": null,
      "metadata": {
        "vscode": {
          "languageId": "javascript"
        }
      },
      "outputs": [],
      "source": [
        "%%script node\n",
        "\n",
        "stats = {mean: 5, max: 8, min: 2};\n",
        "\n",
        "let {max : a, min : b} = stats\n",
        "\n",
        "console.log(a, b);\n",
        "\n",
        "function half({max, min}) { return (max+min)/2.0; }\n",
        "\n",
        "console.log(half(stats));"
      ]
    },
    {
      "cell_type": "markdown",
      "metadata": {},
      "source": [
        "---\n",
        "fallback return value"
      ]
    },
    {
      "cell_type": "code",
      "execution_count": null,
      "metadata": {},
      "outputs": [],
      "source": []
    },
    {
      "cell_type": "code",
      "execution_count": null,
      "metadata": {
        "vscode": {
          "languageId": "javascript"
        }
      },
      "outputs": [],
      "source": [
        "%%script node\n",
        "\n",
        "contacts = [\n",
        "    {\n",
        "        fName: 'a',\n",
        "        lName: 'b'\n",
        "    },\n",
        "    {\n",
        "        fName: 'c',\n",
        "        phNum: '123'\n",
        "    }\n",
        "]\n",
        "\n",
        "function profiler(name, prop){\n",
        "    for (let i = 0; i < contacts.length; i++) {\n",
        "        if (contacts[i].fName === name) {\n",
        "            return contacts[i][prop] || 'No such property';\n",
        "        }\n",
        "    }\n",
        "    return 'No such contact'\n",
        "}\n",
        "\n",
        "console.log(profiler('a', 'lName'))\n",
        "console.log(profiler('c', 'lName'))"
      ]
    },
    {
      "cell_type": "markdown",
      "metadata": {},
      "source": [
        "---\n",
        "assigning anonymous function arrow function constructor to variable"
      ]
    },
    {
      "cell_type": "code",
      "execution_count": null,
      "metadata": {},
      "outputs": [],
      "source": []
    },
    {
      "cell_type": "code",
      "execution_count": null,
      "metadata": {
        "vscode": {
          "languageId": "javascript"
        }
      },
      "outputs": [],
      "source": [
        "%%script node\n",
        "\n",
        "function() {return 'an anonymous function';}\n",
        "const anonFunc = function() { return 'an anonymous function'; }\n",
        "const arrowFunc1 = ()=> { return 'an arrow function';}\n",
        "const arrowFunc2 = ()=> 'an arrow function for only return statement';\n",
        "const arrowFunc3 = a => {myState = `this arrow function takes ${a} arguments.`; return myState};\n",
        "const arrowFunc4 = (a,b)=> a + b;\n",
        "// function var\n",
        "const newDate = () => new Date()\n",
        "\n",
        "console.log(anonFunc());\n",
        "console.log(arrowFunc1());\n",
        "console.log(arrowFunc2());\n",
        "console.log(arrowFunc3('one'));\n",
        "console.log(arrowFunc4('this arrow function ', 'takes multiple arguments'));\n",
        "console.log(newDate('print this'))"
      ]
    },
    {
      "cell_type": "markdown",
      "metadata": {},
      "source": [
        "---\n",
        "function declaration vs expression"
      ]
    },
    {
      "cell_type": "code",
      "execution_count": 39,
      "metadata": {},
      "outputs": [
        {
          "name": "stdout",
          "output_type": "stream",
          "text": [
            "<function sayer at 0x7f0ce5525ea0> sayer appears the function declaration and definition both were hoisted\n"
          ]
        },
        {
          "data": {
            "text/plain": [
              "(<function __main__.sayer()>, ':', 'sayer')"
            ]
          },
          "execution_count": 39,
          "metadata": {},
          "output_type": "execute_result"
        }
      ],
      "source": [
        "# functions assigned to variables are (not?) hoisted\n",
        "try:\n",
        "    print(sayer, sayer(), 'appears the function declaration and definition both were hoisted')\n",
        "except:\n",
        "    try:\n",
        "        print(sayer, 'appears the function declaration was hoisted but not definitoin')\n",
        "    except:\n",
        "        try:\n",
        "            print(sayer(), 'appears the function definition was hoisted but not the declaration')\n",
        "        except:\n",
        "            print('function definition or declaration none was hoisted')\n",
        "\n",
        "\n",
        "# function declaration stores the function as a variable in memory\n",
        "def sayer():\n",
        "    return 'sayer'\n",
        "\n",
        "sayer, ':', sayer()"
      ]
    },
    {
      "cell_type": "code",
      "execution_count": 26,
      "metadata": {
        "vscode": {
          "languageId": "javascript"
        }
      },
      "outputs": [
        {
          "name": "stdout",
          "output_type": "stream",
          "text": [
            "[Function: sayer] sayer appears the function declaration and assignment both were hoisted\n",
            "[Function: sayer] : sayer\n"
          ]
        }
      ],
      "source": [
        "%%script node\n",
        "\n",
        "// functions assigned to variables are (not?) hoisted\n",
        "try {\n",
        "    console.log(sayer, sayer(), `appears the function declaration and definition both were hoisted`)\n",
        "} catch(e) {\n",
        "    console.log(sayer, 'function declaration was hoisted but not definition')\n",
        "}\n",
        "\n",
        "// function declaration stores the function as a variable in memory\n",
        "function sayer(){\n",
        "    return 'sayer';\n",
        "}\n",
        "\n",
        "console.log(sayer, `:`, sayer())"
      ]
    },
    {
      "cell_type": "code",
      "execution_count": 31,
      "metadata": {
        "vscode": {
          "languageId": "javascript"
        }
      },
      "outputs": [
        {
          "name": "stdout",
          "output_type": "stream",
          "text": [
            "funciton expression assignment was not hoisted but the variable to which it was assigned with var was hosted as undefined\n",
            "arrow funciton assignment was not hoisted but the variable to which it was assigned with var was hosted as undefined\n",
            "[Function: undeclaredSayer] : undeclaredSayer : [Function: undeclaredArrow] : undeclaredArrow\n"
          ]
        }
      ],
      "source": [
        "%%script node\n",
        "\n",
        "// called before assignment statement\n",
        "// function expression & arrow function variables declared with var \n",
        "// are found 'not defined'\n",
        "\n",
        "// they cannot be called before assignment when declared with let, const\n",
        "\n",
        "\n",
        "try {\n",
        "    console.log(undeclaredSayer(), `appears the funtion expression assignment was hoisted`)\n",
        "} catch(e) {\n",
        "    console.log(`funciton expression assignment was not hoisted`, \n",
        "    `but the variable to which it was assigned with var was hosted as`, \n",
        "    undeclaredSayer)\n",
        "}\n",
        "\n",
        "// function expression is not stored in memory\n",
        "// cannot be invoked until assigned to a variable\n",
        "var undeclaredSayer = (function() {\n",
        "    return 'undeclaredSayer';\n",
        "})\n",
        "\n",
        "try {\n",
        "    console.log(undeclaredArrow())\n",
        "} catch(e) {\n",
        "    console.log(`arrow funciton assignment was not hoisted`,\n",
        "    `but the variable to which it was assigned with var was hosted as`, \n",
        "    undeclaredArrow)\n",
        "}\n",
        "\n",
        "// function expression is not stored in memory\n",
        "// cannot be invoked until assigned to a variable\n",
        "var undeclaredArrow = () => {\n",
        "    return 'undeclaredArrow';\n",
        "}\n",
        "\n",
        "console.log(undeclaredSayer, `:`, undeclaredSayer(), `:`, undeclaredArrow, `:`, undeclaredArrow())"
      ]
    },
    {
      "cell_type": "code",
      "execution_count": 8,
      "metadata": {
        "vscode": {
          "languageId": "javascript"
        }
      },
      "outputs": [
        {
          "name": "stdout",
          "output_type": "stream",
          "text": [
            "function definition\n",
            "undec function assignment is not hoisted, cannot accessed before initializaion\n",
            "undec arrow function assignment is not hoisted, cannot accessed before initializaion\n",
            "function definition function var Arrow\n"
          ]
        }
      ],
      "source": [
        "%%script node\n",
        "\n",
        "try {\n",
        "    console.log(defin())\n",
        "} catch(e) {\n",
        "    console.log(`function definition is not hoisted, cannot accessed before initializaion`)\n",
        "}\n",
        "\n",
        "function defin() {\n",
        "    return 'function definition';\n",
        "}\n",
        "\n",
        "// declarations for variables assigned with function expressions \n",
        "// and arrow functions are not hoisted\n",
        "// returns error not a function\n",
        "\n",
        "try {\n",
        "    console.log(Sayer())\n",
        "} catch(e) {\n",
        "    console.log(`undec function assignment is not hoisted, cannot accessed before initializaion`)\n",
        "}\n",
        "\n",
        "// function acts like function expression\n",
        "Sayer = function() {\n",
        "    return 'function';\n",
        "}\n",
        "\n",
        "try {\n",
        "    console.log(Arrow())\n",
        "} catch(e) {\n",
        "    console.log(`undec arrow function assignment is not hoisted, cannot accessed before initializaion`)\n",
        "}\n",
        "\n",
        "Arrow = ()=> {\n",
        "    return 'var Arrow';\n",
        "}\n",
        "\n",
        "console.log(defin(), Sayer(), Arrow())"
      ]
    },
    {
      "cell_type": "code",
      "execution_count": 7,
      "metadata": {
        "vscode": {
          "languageId": "javascript"
        }
      },
      "outputs": [
        {
          "name": "stdout",
          "output_type": "stream",
          "text": [
            "var function assignment is not hoisted, cannot accessed before initializaion\n",
            "var arrow function assignment is not hoisted, cannot accessed before initializaion\n",
            "var function var Arrow\n"
          ]
        }
      ],
      "source": [
        "%%script node\n",
        "\n",
        "// declarations for variables assigned with function expressions \n",
        "// and arrow functions are not hoisted\n",
        "// returns error not a function\n",
        "\n",
        "try {\n",
        "    console.log(varSayer())\n",
        "} catch(e) {\n",
        "    console.log(`var function assignment is not hoisted, cannot accessed before initializaion`)\n",
        "}\n",
        "\n",
        "// function acts like function expression\n",
        "var varSayer = function () {\n",
        "    return 'var function';\n",
        "}\n",
        "\n",
        "try {\n",
        "    console.log(varArrow())\n",
        "} catch(e) {\n",
        "    console.log(`var arrow function assignment is not hoisted, cannot accessed before initializaion`)\n",
        "}\n",
        "\n",
        "var varArrow = ()=> {\n",
        "    return 'var Arrow';\n",
        "}\n",
        "\n",
        "console.log(varSayer(), varArrow())"
      ]
    },
    {
      "cell_type": "code",
      "execution_count": 3,
      "metadata": {
        "vscode": {
          "languageId": "javascript"
        }
      },
      "outputs": [
        {
          "name": "stdout",
          "output_type": "stream",
          "text": [
            "let function assignment is not hoisted, cannot accessed before initializaion\n",
            "let arrow function cannot be accessed before initialization\n",
            "let function let Arrow\n"
          ]
        }
      ],
      "source": [
        "%%script node\n",
        "\n",
        "// cannot access before initializing let variables assigned \n",
        "// arrow functions and functions expressions\n",
        "\n",
        "try {\n",
        "    console.log(letSayer())\n",
        "} catch(e) {\n",
        "    console.log(`let function assignment is not hoisted, cannot accessed before initializaion`)\n",
        "}\n",
        "\n",
        "// anonymous function\n",
        "let letSayer = function() {\n",
        "    return 'let function';\n",
        "}\n",
        "\n",
        "try {\n",
        "    console.log(letArrow())\n",
        "} catch(e) {\n",
        "    console.log(`let arrow function cannot be accessed before initialization`)\n",
        "}\n",
        "\n",
        "let letArrow = ()=> {\n",
        "    return 'let Arrow';\n",
        "}\n",
        "\n",
        "console.log(letSayer(), letArrow())"
      ]
    },
    {
      "cell_type": "code",
      "execution_count": 5,
      "metadata": {
        "vscode": {
          "languageId": "javascript"
        }
      },
      "outputs": [
        {
          "name": "stdout",
          "output_type": "stream",
          "text": [
            "const function assignment is not hoisted, cannot accessed before initializaion\n",
            "const arrow function assignment is not hoisted, cannot accessed before initializaion\n",
            "const function const Arrow\n"
          ]
        }
      ],
      "source": [
        "%%script node\n",
        "\n",
        "// cannot access function constant before initialization\n",
        "\n",
        "try {\n",
        "    console.log(constSayer())\n",
        "} catch(e) {\n",
        "    console.log(`const function assignment is not hoisted, cannot accessed before initializaion`)\n",
        "}\n",
        "\n",
        "const constSayer = function() {\n",
        "    return 'const function';\n",
        "}\n",
        "\n",
        "try {\n",
        "    console.log(constArrow())\n",
        "} catch(e) {\n",
        "    console.log(`const arrow function assignment is not hoisted, cannot accessed before initializaion`)\n",
        "}\n",
        "\n",
        "const constArrow = ()=> {\n",
        "    return 'const Arrow';\n",
        "}\n",
        "\n",
        "console.log(constSayer(), constArrow())"
      ]
    },
    {
      "cell_type": "markdown",
      "metadata": {},
      "source": [
        "---\n",
        "higher order functions\n",
        "they take other callback functions as arguments  \n",
        "preferably pass arrow function"
      ]
    },
    {
      "cell_type": "code",
      "execution_count": null,
      "metadata": {},
      "outputs": [],
      "source": []
    },
    {
      "cell_type": "code",
      "execution_count": null,
      "metadata": {
        "vscode": {
          "languageId": "javascript"
        }
      },
      "outputs": [],
      "source": [
        "%%script node\n",
        "\n",
        "function callBack5(){\n",
        "    return 5;\n",
        "}\n",
        "                    // call back function arguments are passed as object\n",
        "function higherOrder(someCallBack){\n",
        "    // then called with parantheses\n",
        "    return someCallBack();\n",
        "}\n",
        "\n",
        "console.log(higherOrder(callBack5))\n",
        "\n",
        "\n",
        "let realNumArr = [1, 2.0, 3.1, -4]\n",
        "\n",
        "intOnly = realNumArr.filter(n => Number.isInteger(n) && n > 0);\n",
        "\n",
        "console.log(intOnly);\n",
        "\n",
        "sqInt = intOnly.map(x => x*x);\n",
        "\n",
        "console.log(sqInt)\n"
      ]
    },
    {
      "cell_type": "markdown",
      "metadata": {},
      "source": [
        "---\n",
        "constructor object class method"
      ]
    },
    {
      "cell_type": "code",
      "execution_count": null,
      "metadata": {},
      "outputs": [],
      "source": []
    },
    {
      "cell_type": "code",
      "execution_count": null,
      "metadata": {
        "vscode": {
          "languageId": "javascript"
        }
      },
      "outputs": [],
      "source": [
        "%%script node\n",
        "\n",
        "const bicycle = {\n",
        "    gear: 2,\n",
        "    setGear: function(newGear) {\n",
        "        this.gear = newGear;\n",
        "        return `gear set to ${this.gear}`;\n",
        "    },\n",
        "    // concise declarative function without key value separating colon\n",
        "    unset() {\n",
        "        this.gear = 2;\n",
        "        return `gear set back to ${this.gear}`;\n",
        "    }\n",
        "}\n",
        "\n",
        "console.log(bicycle.setGear(5));\n",
        "console.log(bicycle.unset())"
      ]
    },
    {
      "cell_type": "markdown",
      "metadata": {},
      "source": [
        "constructor function"
      ]
    },
    {
      "cell_type": "code",
      "execution_count": null,
      "metadata": {},
      "outputs": [],
      "source": []
    },
    {
      "cell_type": "code",
      "execution_count": 7,
      "metadata": {
        "vscode": {
          "languageId": "javascript"
        }
      },
      "outputs": [
        {
          "name": "stdout",
          "output_type": "stream",
          "text": [
            "Jupiter\n",
            "John\n",
            "Bill Bill\n"
          ]
        }
      ],
      "source": [
        "%%script node\n",
        "\n",
        "// constructor function\n",
        "rocket = function(targetPlanet){ this.targetPlanet = targetPlanet; }\n",
        "\n",
        "// constant declaration so that properties can be changed but not added or removed\n",
        "const zeus = new rocket('Jupiter');\n",
        "\n",
        "console.log(zeus.targetPlanet);\n",
        "\n",
        "\n",
        "class book {\n",
        "    // constructor\n",
        "    constructor(author){\n",
        "        this._author = author;\n",
        "    }\n",
        "    // getter, get property name\n",
        "    get writer(){\n",
        "        return this._author;\n",
        "    }\n",
        "    // setter\n",
        "    set writer(newAuth){\n",
        "        this._author = newAuth;\n",
        "    }\n",
        "}\n",
        "\n",
        "const zanga = new book('John');\n",
        "\n",
        "console.log(zanga._author);\n",
        "\n",
        "zanga.writer = 'Bill'\n",
        "\n",
        "console.log(zanga._author, zanga.writer);"
      ]
    },
    {
      "cell_type": "markdown",
      "metadata": {},
      "source": [
        "recursive function"
      ]
    },
    {
      "cell_type": "code",
      "execution_count": null,
      "metadata": {},
      "outputs": [],
      "source": []
    },
    {
      "cell_type": "code",
      "execution_count": null,
      "metadata": {
        "vscode": {
          "languageId": "javascript"
        }
      },
      "outputs": [],
      "source": []
    },
    {
      "cell_type": "markdown",
      "metadata": {},
      "source": [
        "---\n",
        "import code from standard library /local user module"
      ]
    },
    {
      "cell_type": "code",
      "execution_count": null,
      "metadata": {},
      "outputs": [],
      "source": []
    },
    {
      "cell_type": "code",
      "execution_count": 15,
      "metadata": {
        "vscode": {
          "languageId": "javascript"
        }
      },
      "outputs": [
        {
          "name": "stdout",
          "output_type": "stream",
          "text": [
            "couldn't load unexported function\n",
            "successfully imported exported function from all exports\n",
            "successfully imported by name from exported functions\n",
            "successfully imported renamed default export\n"
          ]
        }
      ],
      "source": [
        " %%script node --input-type=\"module\"\n",
        "\n",
        "import * as allImp from \"./js export.mjs\";\n",
        "// let allImp = require(\"./js export\");\n",
        "\n",
        "import {exported} from \"./js export.mjs\";\n",
        "// let exported = require(\"./js export\").exported;\n",
        "\n",
        "// import {default as myDefault} from \"./js export.js\";\n",
        "import myDefault from \"./js export.mjs\";\n",
        "// let myDefault = require(\"./js export\").default;\n",
        "\n",
        "let expObs = [\n",
        "    {fn: allImp.unexported, nm: \"unexported function\"},\n",
        "    {fn: allImp.exported, nm: \"exported function from all exports\"},\n",
        "    {fn: exported, nm: \"by name from exported functions\"},\n",
        "    {fn: myDefault, nm: \"renamed default export\"}\n",
        "]\n",
        "\n",
        "expObs.forEach((ex)=>{\n",
        "    try{\n",
        "        ex.fn()\n",
        "        console.log(`successfully imported ${ex.nm}`);\n",
        "    } catch(e){\n",
        "        console.log(`couldn't load ${ex.nm}`)\n",
        "    }\n",
        "})"
      ]
    },
    {
      "cell_type": "markdown",
      "metadata": {},
      "source": [
        "export code"
      ]
    },
    {
      "cell_type": "code",
      "execution_count": null,
      "metadata": {},
      "outputs": [],
      "source": []
    },
    {
      "cell_type": "code",
      "execution_count": 3,
      "metadata": {
        "vscode": {
          "languageId": "javascript"
        }
      },
      "outputs": [],
      "source": [
        "%%script node --input-type=\"module\"\n",
        "\n",
        "// es module export statement can be placed anywhere in module\n",
        "export {exported};\n",
        "\n",
        "// default export only available with function definition\n",
        "export default\n",
        "function defaultexport() { return 'successfully exported and imported default export';}\n",
        "\n",
        "function exported() { return 'successfully exported and imported exported function';}\n",
        "\n",
        "function unexported() { return 'successfully exported and imported unexported import';}\n",
        "\n",
        "// cjs module exports must be after function declarations\n",
        "// module.exports = {exported:exported}\n",
        "// module.exports.default = defaultexport"
      ]
    }
  ],
  "metadata": {
    "kernelspec": {
      "display_name": "Python 3.10.4 ('xproj': conda)",
      "language": "python",
      "name": "python3"
    },
    "language_info": {
      "codemirror_mode": {
        "name": "ipython",
        "version": 3
      },
      "file_extension": ".py",
      "mimetype": "text/x-python",
      "name": "python",
      "nbconvert_exporter": "python",
      "pygments_lexer": "ipython3",
      "version": "3.10.4"
    },
    "orig_nbformat": 4,
    "vscode": {
      "interpreter": {
        "hash": "53ce4a372613acec3ced89ec12332be295014eb9a6e3df2a36b8fcc73e5ff10d"
      }
    }
  },
  "nbformat": 4,
  "nbformat_minor": 2
}

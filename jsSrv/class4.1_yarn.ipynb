{
 "cells": [
  {
   "cell_type": "markdown",
   "metadata": {},
   "source": [
    "## Package manager"
   ]
  },
  {
   "cell_type": "markdown",
   "metadata": {},
   "source": [
    "### New project"
   ]
  },
  {
   "cell_type": "code",
   "execution_count": 4,
   "metadata": {
    "vscode": {
     "languageId": "bat"
    }
   },
   "outputs": [
    {
     "name": "stdout",
     "output_type": "stream",
     "text": [
      "\u001b[2K\u001b[1G\u001b[1myarn config v1.22.19\u001b[22m\n",
      "\u001b[2K\u001b[1G\u001b[32msuccess\u001b[39m Set \"init-author-name\" to \"Farhan Absar\".\n",
      "\u001b[2K\u001b[1GDone in 0.03s.\n",
      "\u001b[2K\u001b[1G\u001b[1myarn config v1.22.19\u001b[22m\n",
      "\u001b[2K\u001b[1G\u001b[32msuccess\u001b[39m Set \"init-license\" to \"MIT\".\n",
      "\u001b[2K\u001b[1GDone in 0.03s.\n",
      "\u001b[2K\u001b[1G\u001b[1myarn config v1.22.19\u001b[22m\n",
      "\u001b[2K\u001b[1G\u001b[32msuccess\u001b[39m Set \"main\" to \"server.js\".\n",
      "\u001b[2K\u001b[1GDone in 0.03s.\n"
     ]
    }
   ],
   "source": [
    "# configure\n",
    "!yarn config set init-author-name 'Farhan Absar'\n",
    "!yarn config set init-license 'MIT'\n",
    "!yarn config set init-main 'server.js'"
   ]
  },
  {
   "cell_type": "code",
   "execution_count": 5,
   "metadata": {
    "vscode": {
     "languageId": "bat"
    }
   },
   "outputs": [
    {
     "name": "stdout",
     "output_type": "stream",
     "text": [
      "\u001b[2K\u001b[1G\u001b[1myarn init v1.22.19\u001b[22m\n",
      "\u001b[2K\u001b[1G\u001b[33mwarning\u001b[39m The yes flag has been set. This will automatically answer yes to all questions, which may have security implications.\n",
      "\u001b[2K\u001b[1G\u001b[32msuccess\u001b[39m Saved package.json\n",
      "\u001b[2K\u001b[1GDone in 0.04s.\n"
     ]
    }
   ],
   "source": [
    "# initialize pakckage/project directory\n",
    "# -y/--yes flag accepts all default parameters /key value without prompt\n",
    "!yarn init -y"
   ]
  },
  {
   "cell_type": "code",
   "execution_count": null,
   "metadata": {
    "vscode": {
     "languageId": "bat"
    }
   },
   "outputs": [],
   "source": [
    "# Install packages listed in package.json\n",
    "\n",
    "#!yarn\n",
    "!yarn install"
   ]
  },
  {
   "cell_type": "markdown",
   "metadata": {},
   "source": [
    "### add /remove package from project"
   ]
  },
  {
   "cell_type": "markdown",
   "metadata": {},
   "source": [
    "As dependecy  \n",
    "-D/--dev flag adds package as dependency:  \n",
    "lists package and version as key value pair  \n",
    "in package.json dependency object  \n",
    "insided directory root-directory specified by --cwd"
   ]
  },
  {
   "cell_type": "code",
   "execution_count": null,
   "metadata": {
    "vscode": {
     "languageId": "bat"
    }
   },
   "outputs": [],
   "source": [
    "#!npm --prefix $gol/webapp/reactapp add lodash@4.17.3\n",
    "!yarn --cwd $gol/webapp/reactapp add lodash@4.17.3"
   ]
  },
  {
   "cell_type": "markdown",
   "metadata": {},
   "source": [
    "As development dependency"
   ]
  },
  {
   "cell_type": "code",
   "execution_count": null,
   "metadata": {
    "vscode": {
     "languageId": "bat"
    }
   },
   "outputs": [],
   "source": [
    "# development dependency\n",
    "# lists package with version as key value pair \n",
    "# inside package.json devDependencies object\n",
    "\n",
    "#!npm add --save-dev gulp\n",
    "!yarn add gulp -D"
   ]
  },
  {
   "cell_type": "code",
   "execution_count": null,
   "metadata": {
    "vscode": {
     "languageId": "bat"
    }
   },
   "outputs": [],
   "source": [
    "# remove package\n",
    "\n",
    "#!npm rm --save-dev gulp \n",
    "!yarn remove gulp"
   ]
  },
  {
   "cell_type": "markdown",
   "metadata": {},
   "source": [
    "As global dependency   \n",
    "goes in yarn global root directory: /home/user/.yarn/bin  \n",
    "not in node_modules folder or listed in packages.json   "
   ]
  },
  {
   "cell_type": "code",
   "execution_count": null,
   "metadata": {
    "vscode": {
     "languageId": "bat"
    }
   },
   "outputs": [],
   "source": [
    "#!npm add -g nodemon\n",
    "!yarn global add nodemon"
   ]
  },
  {
   "cell_type": "code",
   "execution_count": null,
   "metadata": {
    "vscode": {
     "languageId": "bat"
    }
   },
   "outputs": [],
   "source": [
    "# show root global yarn binary folder\n",
    "!yarn global bin"
   ]
  },
  {
   "cell_type": "code",
   "execution_count": null,
   "metadata": {
    "vscode": {
     "languageId": "bat"
    }
   },
   "outputs": [],
   "source": [
    "# remove\n",
    "!yarn global remove nodemon"
   ]
  },
  {
   "cell_type": "markdown",
   "metadata": {},
   "source": [
    "From package.json file"
   ]
  },
  {
   "cell_type": "code",
   "execution_count": null,
   "metadata": {
    "vscode": {
     "languageId": "bat"
    }
   },
   "outputs": [],
   "source": [
    "# install all packages from both package.json dependency \n",
    "# & devDependency objects\n",
    "\n",
    "#!npm install\n",
    "!yarn install"
   ]
  },
  {
   "cell_type": "code",
   "execution_count": null,
   "metadata": {
    "vscode": {
     "languageId": "bat"
    }
   },
   "outputs": [],
   "source": [
    "# installs only from package.json dependency object\n",
    "\n",
    "#!npm install --production\n",
    "!yarn install"
   ]
  },
  {
   "cell_type": "markdown",
   "metadata": {},
   "source": [
    "### check package version"
   ]
  },
  {
   "cell_type": "code",
   "execution_count": 3,
   "metadata": {
    "vscode": {
     "languageId": "bat"
    }
   },
   "outputs": [
    {
     "name": "stdout",
     "output_type": "stream",
     "text": [
      "\u001b[2K\u001b[1G\u001b[1myarn list v1.22.19\u001b[22m\n",
      "\u001b[2K\u001b[1G\u001b[33mwarning\u001b[39m package.json: No license field\n",
      "\u001b[2K\u001b[1G\u001b[33mwarning\u001b[39m No license field\n",
      "\u001b[1G⠁ \u001b[0K\u001b[2K\u001b[1G\u001b[2K\u001b[1GDone in 0.06s.\n"
     ]
    }
   ],
   "source": [
    "# package version\n",
    "!cd 1; yarn list --pattern 'fs'"
   ]
  },
  {
   "cell_type": "markdown",
   "metadata": {},
   "source": [
    "### upgrade packages"
   ]
  },
  {
   "cell_type": "code",
   "execution_count": null,
   "metadata": {
    "vscode": {
     "languageId": "bat"
    }
   },
   "outputs": [],
   "source": [
    "# yarn itself\n",
    "!npm uninstall yarn -g\n",
    "!npm install yarn -g"
   ]
  },
  {
   "cell_type": "code",
   "execution_count": null,
   "metadata": {
    "vscode": {
     "languageId": "bat"
    }
   },
   "outputs": [],
   "source": [
    "# individually\n",
    "#!npm update lodash\n",
    "!yarn upgrade lodash"
   ]
  },
  {
   "cell_type": "code",
   "execution_count": null,
   "metadata": {
    "vscode": {
     "languageId": "bat"
    }
   },
   "outputs": [],
   "source": [
    "# all packages\n",
    "!yarn upgrade"
   ]
  },
  {
   "cell_type": "code",
   "execution_count": null,
   "metadata": {
    "vscode": {
     "languageId": "bat"
    }
   },
   "outputs": [],
   "source": [
    "# cache size"
   ]
  },
  {
   "cell_type": "code",
   "execution_count": null,
   "metadata": {
    "vscode": {
     "languageId": "bat"
    }
   },
   "outputs": [],
   "source": [
    "# cache clean\n",
    "!yarn cache clean"
   ]
  },
  {
   "cell_type": "markdown",
   "metadata": {},
   "source": [
    "## Run"
   ]
  },
  {
   "cell_type": "code",
   "execution_count": 7,
   "metadata": {
    "vscode": {
     "languageId": "bat"
    }
   },
   "outputs": [
    {
     "name": "stdout",
     "output_type": "stream",
     "text": [
      "\u001b[2K\u001b[1G\u001b[1myarn run v1.22.19\u001b[22m\n",
      "\u001b[2K\u001b[1G\u001b[2m$ node server.js\u001b[22m\n",
      "server started on port 3001\n",
      "^C\n"
     ]
    }
   ],
   "source": [
    "# run main \"node server.js\" listed as start in package.json\n",
    "!yarn start"
   ]
  },
  {
   "cell_type": "code",
   "execution_count": 6,
   "metadata": {
    "vscode": {
     "languageId": "bat"
    }
   },
   "outputs": [
    {
     "name": "stdout",
     "output_type": "stream",
     "text": [
      "\u001b[2K\u001b[1G\u001b[1myarn run v1.22.19\u001b[22m\n",
      "\u001b[2K\u001b[1G\u001b[2m$ node server.js\u001b[22m\n",
      "server started on port 3001\n",
      "^C\n"
     ]
    }
   ],
   "source": [
    "# other scripts listed in package.json scripts\n",
    "!yarn run server_js"
   ]
  },
  {
   "cell_type": "markdown",
   "metadata": {},
   "source": [
    "# check integrity of project packages"
   ]
  },
  {
   "cell_type": "code",
   "execution_count": 5,
   "metadata": {
    "vscode": {
     "languageId": "bat"
    }
   },
   "outputs": [
    {
     "name": "stdout",
     "output_type": "stream",
     "text": [
      "\u001b[2K\u001b[1G\u001b[1myarn check v1.22.19\u001b[22m\n",
      "\u001b[2K\u001b[1G\u001b[33mwarning\u001b[39m package.json: No license field\n",
      "\u001b[2K\u001b[1G\u001b[33mwarning\u001b[39m No license field\n",
      "\u001b[2K\u001b[1G\u001b[32msuccess\u001b[39m Folder in sync.\n",
      "\u001b[2K\u001b[1GDone in 0.04s.\n"
     ]
    }
   ],
   "source": [
    "# \n",
    "!cd 1; yarn check --integrity"
   ]
  }
 ],
 "metadata": {
  "kernelspec": {
   "display_name": "Python 3.10.8 64-bit",
   "language": "python",
   "name": "python3"
  },
  "language_info": {
   "codemirror_mode": {
    "name": "ipython",
    "version": 3
   },
   "file_extension": ".py",
   "mimetype": "text/x-python",
   "name": "python",
   "nbconvert_exporter": "python",
   "pygments_lexer": "ipython3",
   "version": "3.10.8"
  },
  "orig_nbformat": 4,
  "vscode": {
   "interpreter": {
    "hash": "e7370f93d1d0cde622a1f8e1c04877d8463912d04d973331ad4851f04de6915a"
   }
  }
 },
 "nbformat": 4,
 "nbformat_minor": 2
}

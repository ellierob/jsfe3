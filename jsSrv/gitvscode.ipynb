{
 "cells": [
  {
   "cell_type": "code",
   "execution_count": 9,
   "metadata": {
    "vscode": {
     "languageId": "bat"
    }
   },
   "outputs": [
    {
     "name": "stdout",
     "output_type": "stream",
     "text": [
      "/mnt/f/Documents/chhatak companiganj/slot/sufi/mystic gnostic sethian demiurgic kabbalah samaritan/golem/gitbase\n"
     ]
    }
   ],
   "source": [
    "!pwd"
   ]
  },
  {
   "cell_type": "markdown",
   "metadata": {},
   "source": [
    "## Configure"
   ]
  },
  {
   "cell_type": "code",
   "execution_count": 83,
   "metadata": {
    "vscode": {
     "languageId": "bat"
    }
   },
   "outputs": [],
   "source": [
    "!git config --global user.name \"ellierob\"\n",
    "!git config --global user.email \"elliotrobot15@gmail.com\""
   ]
  },
  {
   "cell_type": "markdown",
   "metadata": {},
   "source": [
    "## Credentials"
   ]
  },
  {
   "cell_type": "code",
   "execution_count": null,
   "metadata": {
    "vscode": {
     "languageId": "bat"
    }
   },
   "outputs": [],
   "source": [
    "# generate new SSH key\n",
    "!ssh-keygen -t ed25519 -C \"elliotrobot15@gmail.com\""
   ]
  },
  {
   "cell_type": "code",
   "execution_count": 94,
   "metadata": {
    "vscode": {
     "languageId": "bat"
    }
   },
   "outputs": [
    {
     "name": "stdout",
     "output_type": "stream",
     "text": [
      "Agent pid 4302\n",
      "Could not open a connection to your authentication agent.\n"
     ]
    }
   ],
   "source": [
    "# start the ssh-agent in the background\n",
    "!eval \"$(ssh-agent -s)\"\n",
    "\n",
    "# add SSH private key ot ssh-agent\n",
    "!ssh-add ~/.ssh/id_ed25519"
   ]
  },
  {
   "cell_type": "code",
   "execution_count": 84,
   "metadata": {
    "vscode": {
     "languageId": "bat"
    }
   },
   "outputs": [
    {
     "name": "stdout",
     "output_type": "stream",
     "text": [
      "Hi ellierob! You've successfully authenticated, but GitHub does not provide shell access.\n"
     ]
    }
   ],
   "source": [
    "# tests authenticating with github\n",
    "!ssh -T git@github.com"
   ]
  },
  {
   "cell_type": "code",
   "execution_count": null,
   "metadata": {
    "vscode": {
     "languageId": "bat"
    }
   },
   "outputs": [],
   "source": [
    "# tests which key is used\n",
    "!ssh -vvv git@github.com"
   ]
  },
  {
   "cell_type": "code",
   "execution_count": null,
   "metadata": {
    "vscode": {
     "languageId": "bat"
    }
   },
   "outputs": [],
   "source": [
    "# add/change passphrase\n",
    "!ssh-keygen -p -f ~/.ssh/id_ed25519"
   ]
  },
  {
   "cell_type": "code",
   "execution_count": 81,
   "metadata": {
    "vscode": {
     "languageId": "bat"
    }
   },
   "outputs": [
    {
     "name": "stdout",
     "output_type": "stream",
     "text": [
      "zsh:1: permission denied: /home/gnostic/.ssh/id_ed25519.pub\n",
      "\n"
     ]
    }
   ],
   "source": [
    "# copy SSH key\n",
    "!echo \"$(~/.ssh/id_ed25519.pub)\""
   ]
  },
  {
   "cell_type": "code",
   "execution_count": 63,
   "metadata": {
    "vscode": {
     "languageId": "bat"
    }
   },
   "outputs": [
    {
     "name": "stdout",
     "output_type": "stream",
     "text": [
      "total 24\n",
      "drwx------  2 gnostic gnostic 4096 May 30 06:38 .\n",
      "drwx------ 19 gnostic gnostic 4096 Aug 28 16:47 ..\n",
      "-rw-------  1 gnostic gnostic  419 May 30 06:29 id_ed25519\n",
      "-rw-r--r--  1 gnostic gnostic  105 May 30 06:29 id_ed25519.pub\n",
      "-rw-------  1 gnostic gnostic  656 May 30 06:38 known_hosts\n",
      "-rw-r--r--  1 gnostic gnostic   92 May 30 06:38 known_hosts.old\n"
     ]
    }
   ],
   "source": [
    "# Lists the files in your .ssh directory\n",
    "!ls -al ~/.ssh"
   ]
  },
  {
   "cell_type": "code",
   "execution_count": 62,
   "metadata": {
    "vscode": {
     "languageId": "bat"
    }
   },
   "outputs": [
    {
     "name": "stdout",
     "output_type": "stream",
     "text": [
      "remote: Support for password authentication was removed on August 13, 2021.\n",
      "remote: Please see https://docs.github.com/en/get-started/getting-started-with-git/about-remote-repositories#cloning-with-https-urls for information on currently recommended modes of authentication.\n",
      "fatal: Authentication failed for 'https://github.com/ellierob/gitbase.git/'\n"
     ]
    }
   ],
   "source": [
    "!git config credential.helper store\n",
    "!git push \"ssh://git@github.com/ellierob/jsSrv.git\"\n",
    "\n",
    "!git config --global credential.helper 'cache --timeout 7200'"
   ]
  },
  {
   "cell_type": "markdown",
   "metadata": {},
   "source": [
    "## create, initialize"
   ]
  },
  {
   "cell_type": "code",
   "execution_count": 1,
   "metadata": {
    "vscode": {
     "languageId": "bat"
    }
   },
   "outputs": [
    {
     "name": "stdout",
     "output_type": "stream",
     "text": [
      "Reinitialized existing Git repository in /mnt/f/Documents/chhatak_companiganj/slot/sufi/mystic_gnostic_sethian_demiurgic_kabbalah_samaritan/golem/be/jsSrv/.git/\n"
     ]
    }
   ],
   "source": [
    "# in current directory\n",
    "!git init"
   ]
  },
  {
   "cell_type": "code",
   "execution_count": 3,
   "metadata": {
    "vscode": {
     "languageId": "bat"
    }
   },
   "outputs": [
    {
     "name": "stdout",
     "output_type": "stream",
     "text": [
      "Reinitialized existing Git repository in /mnt/f/Documents/chhatak companiganj/slot/sufi/mystic gnostic sethian demiurgic kabbalah samaritan/golem/backend/.git/\n"
     ]
    }
   ],
   "source": [
    "# in specific directory\n",
    "!git init $gol/jsSrv"
   ]
  },
  {
   "cell_type": "markdown",
   "metadata": {},
   "source": [
    "## Clone repo from url to current directory"
   ]
  },
  {
   "cell_type": "code",
   "execution_count": null,
   "metadata": {
    "vscode": {
     "languageId": "bat"
    }
   },
   "outputs": [],
   "source": [
    "!git clone \"https://github.com/ellierob/jsSrv\""
   ]
  },
  {
   "cell_type": "markdown",
   "metadata": {},
   "source": [
    "## Staging"
   ]
  },
  {
   "cell_type": "code",
   "execution_count": null,
   "metadata": {
    "vscode": {
     "languageId": "bat"
    }
   },
   "outputs": [],
   "source": [
    "# stages file to current branch\n",
    "!git add readme.md"
   ]
  },
  {
   "cell_type": "code",
   "execution_count": 4,
   "metadata": {
    "vscode": {
     "languageId": "bat"
    }
   },
   "outputs": [],
   "source": [
    "# stages all file to current branch\n",
    "!git add ."
   ]
  },
  {
   "cell_type": "code",
   "execution_count": 2,
   "metadata": {
    "vscode": {
     "languageId": "bat"
    }
   },
   "outputs": [
    {
     "name": "stdout",
     "output_type": "stream",
     "text": [
      "The following paths are ignored by one of your .gitignore files:\n",
      "complete-javascript-course-master\n",
      "node_modules\n",
      "yarn-error.log\n",
      "\u001b[33mhint: Use -f if you really want to add them.\u001b[m\n",
      "\u001b[33mhint: Turn this message off by running\u001b[m\n",
      "\u001b[33mhint: \"git config advice.addIgnoredFile false\"\u001b[m\n"
     ]
    }
   ],
   "source": [
    "# stages one or more file to current branch\n",
    "!git add *"
   ]
  },
  {
   "cell_type": "code",
   "execution_count": null,
   "metadata": {
    "vscode": {
     "languageId": "bat"
    }
   },
   "outputs": [],
   "source": [
    "# removes \n",
    "!git rm remove.txt"
   ]
  },
  {
   "cell_type": "markdown",
   "metadata": {},
   "source": [
    "## Commit"
   ]
  },
  {
   "cell_type": "code",
   "execution_count": 3,
   "metadata": {
    "vscode": {
     "languageId": "bat"
    }
   },
   "outputs": [
    {
     "name": "stdout",
     "output_type": "stream",
     "text": [
      "On branch master\n",
      "\n",
      "No commits yet\n",
      "\n",
      "Changes to be committed:\n",
      "  (use \"git rm --cached <file>...\" to unstage)\n",
      "\t\u001b[32mnew file:   Dockerfile\u001b[m\n",
      "\t\u001b[32mnew file:   Procfile\u001b[m\n",
      "\t\u001b[32mnew file:   app.js\u001b[m\n",
      "\t\u001b[32mnew file:   class1_js.ipynb\u001b[m\n",
      "\t\u001b[32mnew file:   class1_js.js\u001b[m\n",
      "\t\u001b[32mnew file:   class4.1_yarn.ipynb\u001b[m\n",
      "\t\u001b[32mnew file:   controllers/JSON web tokens.ipynb\u001b[m\n",
      "\t\u001b[32mnew file:   controllers/auth.js\u001b[m\n",
      "\t\u001b[32mnew file:   controllers/books.js\u001b[m\n",
      "\t\u001b[32mnew file:   controllers/home.html\u001b[m\n",
      "\t\u001b[32mnew file:   controllers/login.html\u001b[m\n",
      "\t\u001b[32mnew file:   controllers/login.js\u001b[m\n",
      "\t\u001b[32mnew file:   controllers/signup.js\u001b[m\n",
      "\t\u001b[32mnew file:   db/db.js\u001b[m\n",
      "\t\u001b[32mnew file:   db/mongodb.js\u001b[m\n",
      "\t\u001b[32mnew file:   db/mongoos.js\u001b[m\n",
      "\t\u001b[32mnew file:   docker-compose.yml\u001b[m\n",
      "\t\u001b[32mnew file:   docker-composeBAK.yml\u001b[m\n",
      "\t\u001b[32mnew file:   express docker.ipynb\u001b[m\n",
      "\t\u001b[32mnew file:   express.js\u001b[m\n",
      "\t\u001b[32mnew file:   file.txt\u001b[m\n",
      "\t\u001b[32mnew file:   fileRnm.txt\u001b[m\n",
      "\t\u001b[32mnew file:   gitvscode.ipynb\u001b[m\n",
      "\t\u001b[32mnew file:   harsha 28.02 node module import require.ipynb\u001b[m\n",
      "\t\u001b[32mnew file:   harsha 28.04 node standard modules.ipynb\u001b[m\n",
      "\t\u001b[32mnew file:   harsha 28.38 post request http login.ipynb\u001b[m\n",
      "\t\u001b[32mnew file:   harsha 29.14 cookie-parse.ipynb\u001b[m\n",
      "\t\u001b[32mnew file:   harsha 29.15 session.ipynb\u001b[m\n",
      "\t\u001b[32mnew file:   http.js\u001b[m\n",
      "\t\u001b[32mnew file:   js export.mjs\u001b[m\n",
      "\t\u001b[32mnew file:   js import.js\u001b[m\n",
      "\t\u001b[32mnew file:   jsvspy 1.1.ipynb\u001b[m\n",
      "\t\u001b[32mnew file:   jsvspy 1.2 var.ipynb\u001b[m\n",
      "\t\u001b[32mnew file:   jsvspy 2.1 boolean if.ipynb\u001b[m\n",
      "\t\u001b[32mnew file:   jsvspy 2.2 loops.ipynb\u001b[m\n",
      "\t\u001b[32mnew file:   jsvspy 3 function def.ipynb\u001b[m\n",
      "\t\u001b[32mnew file:   jsvspy 4 strings.ipynb\u001b[m\n",
      "\t\u001b[32mnew file:   jsvspy 5 list array.ipynb\u001b[m\n",
      "\t\u001b[32mnew file:   jsvspy 6 dictionary object.ipynb\u001b[m\n",
      "\t\u001b[32mnew file:   jsvspy 6.2 oop.ipynb\u001b[m\n",
      "\t\u001b[32mnew file:   jsvspy 7 number bigint.ipynb\u001b[m\n",
      "\t\u001b[32mnew file:   jsvspy 8 advanced.ipynb\u001b[m\n",
      "\t\u001b[32mnew file:   maya 17.01 node http backend.ipynb\u001b[m\n",
      "\t\u001b[32mnew file:   maya 17.02 express.ipynb\u001b[m\n",
      "\t\u001b[32mnew file:   maya 20 API express.ipynb\u001b[m\n",
      "\t\u001b[32mnew file:   maya 20.13 hosting.ipynb\u001b[m\n",
      "\t\u001b[32mnew file:   models/mongoos/admin/system.users.js\u001b[m\n",
      "\t\u001b[32mnew file:   models/mongoos/company/employees.js\u001b[m\n",
      "\t\u001b[32mnew file:   models/mongoos/test/books.js\u001b[m\n",
      "\t\u001b[32mnew file:   models/mongoos/test/users.js\u001b[m\n",
      "\t\u001b[32mnew file:   package-lock_BAK.json\u001b[m\n",
      "\t\u001b[32mnew file:   package.json\u001b[m\n",
      "\t\u001b[32mnew file:   readme.md\u001b[m\n",
      "\t\u001b[32mnew file:   routes/routes.js\u001b[m\n",
      "\t\u001b[32mnew file:   server.js\u001b[m\n",
      "\t\u001b[32mnew file:   tut.lnk\u001b[m\n",
      "\t\u001b[32mnew file:   yarn.lock\u001b[m\n",
      "\n",
      "Untracked files:\n",
      "  (use \"git add <file>...\" to include in what will be committed)\n",
      "\t\u001b[31m.env\u001b[m\n",
      "\t\u001b[31m.gitignore\u001b[m\n",
      "\n"
     ]
    }
   ],
   "source": [
    "# lists files to be committed\n",
    "!git status"
   ]
  },
  {
   "cell_type": "code",
   "execution_count": 12,
   "metadata": {
    "vscode": {
     "languageId": "bat"
    }
   },
   "outputs": [],
   "source": [
    "# lists unstaged changed contents \n",
    "!git diff"
   ]
  },
  {
   "cell_type": "code",
   "execution_count": null,
   "metadata": {
    "vscode": {
     "languageId": "bat"
    }
   },
   "outputs": [],
   "source": [
    "# lists changed and staged contents\n",
    "!git diff -staged"
   ]
  },
  {
   "cell_type": "code",
   "execution_count": null,
   "metadata": {
    "vscode": {
     "languageId": "bat"
    }
   },
   "outputs": [],
   "source": [
    "# records changes in repo version history\n",
    "!git commit -m \"new version\""
   ]
  },
  {
   "cell_type": "code",
   "execution_count": 4,
   "metadata": {
    "vscode": {
     "languageId": "bat"
    }
   },
   "outputs": [
    {
     "name": "stdout",
     "output_type": "stream",
     "text": [
      "[master (root-commit) 761bea9] new version\n",
      " 57 files changed, 45346 insertions(+)\n",
      " create mode 100644 Dockerfile\n",
      " create mode 100644 Procfile\n",
      " create mode 100644 app.js\n",
      " create mode 100644 class1_js.ipynb\n",
      " create mode 100644 class1_js.js\n",
      " create mode 100644 class4.1_yarn.ipynb\n",
      " create mode 100644 controllers/JSON web tokens.ipynb\n",
      " create mode 100644 controllers/auth.js\n",
      " create mode 100644 controllers/books.js\n",
      " create mode 100644 controllers/home.html\n",
      " create mode 100644 controllers/login.html\n",
      " create mode 100644 controllers/login.js\n",
      " create mode 100644 controllers/signup.js\n",
      " create mode 100644 db/db.js\n",
      " create mode 100644 db/mongodb.js\n",
      " create mode 100644 db/mongoos.js\n",
      " create mode 100644 docker-compose.yml\n",
      " create mode 100644 docker-composeBAK.yml\n",
      " create mode 100644 express docker.ipynb\n",
      " create mode 100644 express.js\n",
      " create mode 100644 file.txt\n",
      " create mode 100644 fileRnm.txt\n",
      " create mode 100644 gitvscode.ipynb\n",
      " create mode 100644 harsha 28.02 node module import require.ipynb\n",
      " create mode 100644 harsha 28.04 node standard modules.ipynb\n",
      " create mode 100644 harsha 28.38 post request http login.ipynb\n",
      " create mode 100644 harsha 29.14 cookie-parse.ipynb\n",
      " create mode 100644 harsha 29.15 session.ipynb\n",
      " create mode 100644 http.js\n",
      " create mode 100644 js export.mjs\n",
      " create mode 100644 js import.js\n",
      " create mode 100755 jsvspy 1.1.ipynb\n",
      " create mode 100644 jsvspy 1.2 var.ipynb\n",
      " create mode 100644 jsvspy 2.1 boolean if.ipynb\n",
      " create mode 100644 jsvspy 2.2 loops.ipynb\n",
      " create mode 100644 jsvspy 3 function def.ipynb\n",
      " create mode 100644 jsvspy 4 strings.ipynb\n",
      " create mode 100644 jsvspy 5 list array.ipynb\n",
      " create mode 100644 jsvspy 6 dictionary object.ipynb\n",
      " create mode 100644 jsvspy 6.2 oop.ipynb\n",
      " create mode 100644 jsvspy 7 number bigint.ipynb\n",
      " create mode 100644 jsvspy 8 advanced.ipynb\n",
      " create mode 100644 maya 17.01 node http backend.ipynb\n",
      " create mode 100644 maya 17.02 express.ipynb\n",
      " create mode 100644 maya 20 API express.ipynb\n",
      " create mode 100644 maya 20.13 hosting.ipynb\n",
      " create mode 100644 models/mongoos/admin/system.users.js\n",
      " create mode 100644 models/mongoos/company/employees.js\n",
      " create mode 100644 models/mongoos/test/books.js\n",
      " create mode 100644 models/mongoos/test/users.js\n",
      " create mode 100644 package-lock_BAK.json\n",
      " create mode 100644 package.json\n",
      " create mode 100755 readme.md\n",
      " create mode 100644 routes/routes.js\n",
      " create mode 100644 server.js\n",
      " create mode 100755 tut.lnk\n",
      " create mode 100644 yarn.lock\n"
     ]
    }
   ],
   "source": [
    "# commits all modified and created files to repo\n",
    "!git commit -a -m \"new version\""
   ]
  },
  {
   "cell_type": "markdown",
   "metadata": {},
   "source": [
    "## Reset"
   ]
  },
  {
   "cell_type": "code",
   "execution_count": null,
   "metadata": {
    "vscode": {
     "languageId": "bat"
    }
   },
   "outputs": [],
   "source": [
    "# unstages a file\n",
    "!git reset remove.txt"
   ]
  },
  {
   "cell_type": "code",
   "execution_count": null,
   "metadata": {
    "vscode": {
     "languageId": "bat"
    }
   },
   "outputs": [],
   "source": [
    "# rolls back to specified commit without changing local files\n",
    "!git reset \"new version\""
   ]
  },
  {
   "cell_type": "code",
   "execution_count": null,
   "metadata": {
    "vscode": {
     "languageId": "bat"
    }
   },
   "outputs": [],
   "source": [
    "# discards all history\n",
    "!git reset -hard \"new version\""
   ]
  },
  {
   "cell_type": "markdown",
   "metadata": {},
   "source": [
    "## Branch"
   ]
  },
  {
   "cell_type": "code",
   "execution_count": 7,
   "metadata": {
    "vscode": {
     "languageId": "bat"
    }
   },
   "outputs": [
    {
     "name": "stdout",
     "output_type": "stream",
     "text": [
      "* \u001b[32mmaster\u001b[m\n"
     ]
    }
   ],
   "source": [
    "# lists branches in repo\n",
    "!git branch"
   ]
  },
  {
   "cell_type": "code",
   "execution_count": null,
   "metadata": {
    "vscode": {
     "languageId": "bat"
    }
   },
   "outputs": [],
   "source": [
    "# creates new branch\n",
    "!git branch \"new_branch\""
   ]
  },
  {
   "cell_type": "code",
   "execution_count": null,
   "metadata": {
    "vscode": {
     "languageId": "bat"
    }
   },
   "outputs": [],
   "source": [
    "# deletes feature branch\n",
    "!git branch -d \"new_branch\""
   ]
  },
  {
   "cell_type": "code",
   "execution_count": null,
   "metadata": {
    "vscode": {
     "languageId": "bat"
    }
   },
   "outputs": [],
   "source": [
    "# checksout to branch\n",
    "!git checkout \"new_branch\""
   ]
  },
  {
   "cell_type": "code",
   "execution_count": null,
   "metadata": {
    "vscode": {
     "languageId": "bat"
    }
   },
   "outputs": [],
   "source": [
    "# creates and checks out to new branch\n",
    "!git checkout -b \"new_branch\""
   ]
  },
  {
   "cell_type": "markdown",
   "metadata": {},
   "source": [
    "## Merge"
   ]
  },
  {
   "cell_type": "code",
   "execution_count": null,
   "metadata": {
    "vscode": {
     "languageId": "bat"
    }
   },
   "outputs": [],
   "source": [
    "# merges specified branch to current branch\n",
    "git merge \"new_branch\""
   ]
  },
  {
   "cell_type": "markdown",
   "metadata": {},
   "source": [
    "## Push /remote update and share"
   ]
  },
  {
   "cell_type": "code",
   "execution_count": 5,
   "metadata": {
    "vscode": {
     "languageId": "bat"
    }
   },
   "outputs": [],
   "source": [
    "# connects local repo to remote server\n",
    "!git remote add jsSrv \"git+ssh://git@github.com/ellierob/jsSrv.git\""
   ]
  },
  {
   "cell_type": "code",
   "execution_count": 107,
   "metadata": {
    "vscode": {
     "languageId": "bat"
    }
   },
   "outputs": [],
   "source": [
    "# remove remote repo\n",
    "!git remote rm jsSrv"
   ]
  },
  {
   "cell_type": "code",
   "execution_count": 6,
   "metadata": {
    "vscode": {
     "languageId": "bat"
    }
   },
   "outputs": [
    {
     "name": "stdout",
     "output_type": "stream",
     "text": [
      "jsSrv\tgit+ssh://git@github.com/ellierob/jsSrv.git (fetch)\n",
      "jsSrv\tgit+ssh://git@github.com/ellierob/jsSrv.git (push)\n"
     ]
    }
   ],
   "source": [
    "# verify new remote\n",
    "!git remote -v"
   ]
  },
  {
   "cell_type": "code",
   "execution_count": 8,
   "metadata": {
    "vscode": {
     "languageId": "bat"
    }
   },
   "outputs": [
    {
     "name": "stdout",
     "output_type": "stream",
     "text": [
      "Enumerating objects: 67, done.\n",
      "Counting objects: 100% (67/67), done.\n",
      "Delta compression using up to 12 threads\n",
      "Compressing objects: 100% (58/58), done.\n",
      "Writing objects: 100% (67/67), 363.01 KiB | 2.40 MiB/s, done.\n",
      "Total 67 (delta 15), reused 0 (delta 0), pack-reused 0\n",
      "remote: Resolving deltas: 100% (15/15), done.\u001b[K\n",
      "To git+ssh://github.com/ellierob/jsSrv.git\n",
      " * [new branch]      master -> master\n"
     ]
    }
   ],
   "source": [
    "# uploads master branch\n",
    "!git push jsSrv \"master\""
   ]
  },
  {
   "cell_type": "code",
   "execution_count": null,
   "metadata": {
    "vscode": {
     "languageId": "bat"
    }
   },
   "outputs": [],
   "source": [
    "# uploads all branches to remote repo\n",
    "!git push -all \"jsSrv\""
   ]
  },
  {
   "cell_type": "code",
   "execution_count": 104,
   "metadata": {
    "vscode": {
     "languageId": "bat"
    }
   },
   "outputs": [
    {
     "name": "stdout",
     "output_type": "stream",
     "text": [
      "Agent pid 4318\n",
      "ERROR: Repository not found.\n",
      "fatal: Could not read from remote repository.\n",
      "\n",
      "Please make sure you have the correct access rights\n",
      "and the repository exists.\n"
     ]
    }
   ],
   "source": [
    "# upload new branch\n",
    "# git push --set-upstream \"jsSrv\" \"master\" \n",
    "!git push -u \"jsSrv\" \"master\""
   ]
  },
  {
   "cell_type": "code",
   "execution_count": 95,
   "metadata": {
    "vscode": {
     "languageId": "bat"
    }
   },
   "outputs": [
    {
     "name": "stdout",
     "output_type": "stream",
     "text": [
      "ERROR: Repository not found.\n",
      "fatal: Could not read from remote repository.\n",
      "\n",
      "Please make sure you have the correct access rights\n",
      "and the repository exists.\n"
     ]
    }
   ],
   "source": [
    "# sends branch commits to remore server\n",
    "!git push \"git+ssh://git@github.com/ellierob/jsSrv.git\""
   ]
  },
  {
   "cell_type": "markdown",
   "metadata": {},
   "source": [
    "## Pull /fetch"
   ]
  },
  {
   "cell_type": "code",
   "execution_count": null,
   "metadata": {
    "vscode": {
     "languageId": "bat"
    }
   },
   "outputs": [],
   "source": [
    "# fetches and merges changes from remote server to working directory\n",
    "!git pull \"https://github.com/ellierob/jsSrv.git\""
   ]
  }
 ],
 "metadata": {
  "kernelspec": {
   "display_name": "xproj",
   "language": "python",
   "name": "python3"
  },
  "language_info": {
   "codemirror_mode": {
    "name": "ipython",
    "version": 3
   },
   "file_extension": ".py",
   "mimetype": "text/x-python",
   "name": "python",
   "nbconvert_exporter": "python",
   "pygments_lexer": "ipython3",
   "version": "3.10.4 (main, Mar 31 2022, 08:41:55) [GCC 7.5.0]"
  },
  "orig_nbformat": 4,
  "vscode": {
   "interpreter": {
    "hash": "53ce4a372613acec3ced89ec12332be295014eb9a6e3df2a36b8fcc73e5ff10d"
   }
  }
 },
 "nbformat": 4,
 "nbformat_minor": 2
}

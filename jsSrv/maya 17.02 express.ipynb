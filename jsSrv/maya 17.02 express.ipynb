{
 "cells": [
  {
   "cell_type": "markdown",
   "metadata": {},
   "source": [
    "# Express framework"
   ]
  },
  {
   "cell_type": "code",
   "execution_count": 3,
   "metadata": {
    "vscode": {
     "languageId": "javascript"
    }
   },
   "outputs": [
    {
     "name": "stdout",
     "output_type": "stream",
     "text": [
      "server started on port 3001\n",
      "Process is interrupted.\n"
     ]
    }
   ],
   "source": [
    "%%script node\n",
    "\n",
    "//const xpr = require('express');\n",
    "\n",
    "const app = require('express')();\n",
    "//const app = xpr();\n",
    "\n",
    "app.get(\n",
    "    // route argument\n",
    "    // root\n",
    "    '/', \n",
    "    // callback\n",
    "    (req,res)=>{\n",
    "    res.send('Hi from server')\n",
    "})\n",
    "\n",
    "// start server by require('express')().listen\n",
    "app.listen(\n",
    "    // listening on port\n",
    "    // react frontend app listens on 3001\n",
    "    3001, \n",
    "    // callback\n",
    "    function(){console.log('server started on port 3001');\n",
    "});"
   ]
  },
  {
   "cell_type": "markdown",
   "metadata": {},
   "source": [
    "# nodemon live server"
   ]
  },
  {
   "cell_type": "code",
   "execution_count": null,
   "metadata": {
    "vscode": {
     "languageId": "bat"
    }
   },
   "outputs": [],
   "source": [
    "!yarn add nodemon -D"
   ]
  },
  {
   "cell_type": "code",
   "execution_count": null,
   "metadata": {
    "vscode": {
     "languageId": "bat"
    }
   },
   "outputs": [],
   "source": [
    "# package.json > \"scripts\" > \"start:dev\" = \"nodemon server.js\"\n",
    "!yarn config set init-script-start:dev \"nodemon server.js\""
   ]
  },
  {
   "cell_type": "code",
   "execution_count": null,
   "metadata": {
    "vscode": {
     "languageId": "bat"
    }
   },
   "outputs": [],
   "source": [
    "# runs start:dev \"nodemon server.js\" script\n",
    "!yarn start:dev"
   ]
  },
  {
   "cell_type": "code",
   "execution_count": null,
   "metadata": {
    "vscode": {
     "languageId": "bat"
    }
   },
   "outputs": [],
   "source": [
    "!nodemon server.js"
   ]
  },
  {
   "cell_type": "markdown",
   "metadata": {},
   "source": [
    "# API? get methods called by client"
   ]
  },
  {
   "cell_type": "markdown",
   "metadata": {},
   "source": [
    "## route handling"
   ]
  },
  {
   "cell_type": "markdown",
   "metadata": {},
   "source": [
    "### sending text"
   ]
  },
  {
   "cell_type": "code",
   "execution_count": null,
   "metadata": {
    "vscode": {
     "languageId": "javascript"
    }
   },
   "outputs": [],
   "source": [
    "%%script node\n",
    "\n",
    "app.get(\n",
    "    // route argument\n",
    "    '/about',\n",
    "    // callback\n",
    "    (req,res)=>{\n",
    "        // only one res.send() which exits the function\n",
    "        res.send('This is a test about page')\n",
    "    })"
   ]
  },
  {
   "cell_type": "markdown",
   "metadata": {},
   "source": [
    "### write several texts"
   ]
  },
  {
   "cell_type": "code",
   "execution_count": null,
   "metadata": {
    "vscode": {
     "languageId": "javascript"
    }
   },
   "outputs": [],
   "source": [
    "%%script node\n",
    "\n",
    "app.get(\n",
    "    // route argument\n",
    "    '/about',\n",
    "    // callback\n",
    "    (req,res)=>{\n",
    "        res.write('This is one res.write()');\n",
    "        res.write('This is a a separate res.write()');\n",
    "        res.send()\n",
    "    })"
   ]
  },
  {
   "cell_type": "markdown",
   "metadata": {},
   "source": [
    "### making filepath absolute"
   ]
  },
  {
   "cell_type": "code",
   "execution_count": null,
   "metadata": {
    "vscode": {
     "languageId": "javascript"
    }
   },
   "outputs": [],
   "source": [
    "%%script node\n",
    "\n",
    "const pth = require('path');\n",
    "\n",
    "const supeRoot = pth.join(\n",
    "    // javascript current directory\n",
    "    __dirname, \n",
    "    // relative path\n",
    "    `/../../`\n",
    "    )"
   ]
  },
  {
   "cell_type": "markdown",
   "metadata": {},
   "source": [
    "### sending file responses"
   ]
  },
  {
   "cell_type": "code",
   "execution_count": null,
   "metadata": {
    "vscode": {
     "languageId": "javascript"
    }
   },
   "outputs": [],
   "source": [
    "%%script node\n",
    "\n",
    "const fs = require('fs');\n",
    "\n",
    "const app = require('express')();\n",
    "\n",
    "const pth = require('path');\n",
    "\n",
    "const supeRoot = pth.join(__dirname, `/../../`);\n",
    "\n",
    "app.get(\n",
    "    // route argument\n",
    "    '/calculator',\n",
    "    // callback\n",
    "    (req,res)=>{\n",
    "        let path = supeRoot + `frontend/1/html/index.html`;\n",
    "        console.log(path);\n",
    "        res.sendFile(path);\n",
    "    });\n",
    "\n",
    "    app.listen('3001', function(){console.log('server started on port 3001')});"
   ]
  },
  {
   "cell_type": "markdown",
   "metadata": {},
   "source": [
    "## body parser for getting values from request object"
   ]
  },
  {
   "cell_type": "code",
   "execution_count": null,
   "metadata": {
    "vscode": {
     "languageId": "bat"
    }
   },
   "outputs": [],
   "source": [
    "!yarn add body-parser"
   ]
  },
  {
   "cell_type": "markdown",
   "metadata": {},
   "source": [
    "# Post methods called by client"
   ]
  },
  {
   "cell_type": "code",
   "execution_count": null,
   "metadata": {
    "vscode": {
     "languageId": "javascript"
    }
   },
   "outputs": [],
   "source": [
    "%%script node\n",
    "\n",
    "const bP = require('body-parser');\n",
    "\n",
    "// require('express')().use(require('body-parser').urlencoded)  \n",
    "// creates request.body property object inside request object of the express\n",
    "// that stores key value pairs for names and values of input fields\n",
    "app.use(bP.urlencoded({\n",
    "    // allows posting nested objects\n",
    "    extended:true\n",
    "}))\n",
    "\n",
    "app.post(\n",
    "    '/calculator',\n",
    "    function(req,res){\n",
    "        // inputs of html input elements can be accessed as values\n",
    "        // for names of html elements as keys of request.body object\n",
    "        let num1 = Number(req.body.num1);\n",
    "        let num2 = Number(req.body.num2);\n",
    "        let sum = num1 + num2;\n",
    "        console.log(req.body.para, req.body);\n",
    "        res.send(`result is ${sum}`);\n",
    "    }\n",
    ")"
   ]
  },
  {
   "cell_type": "markdown",
   "metadata": {},
   "source": [
    "## Redirect"
   ]
  },
  {
   "cell_type": "code",
   "execution_count": null,
   "metadata": {
    "vscode": {
     "languageId": "javascript"
    }
   },
   "outputs": [],
   "source": [
    "%%script node\n",
    "\n",
    "app.post('/failure', function(req, res){\n",
    "    res.redirect('/mailinglist');\n",
    "})"
   ]
  },
  {
   "cell_type": "markdown",
   "metadata": {},
   "source": [
    "# express | http\n",
    "post method request query object\n",
    "* req.body  | req.on(q=>  require('queryparser')(  \n",
    "__________|     q.stringify  \n",
    "__________| ));   \n",
    "\n",
    "get method request query object\n",
    "* req.query |    \n",
    "\n",
    "response status code\n",
    "* res.status() | res.writeHead()   \n",
    "\n",
    "response header\n",
    "* res.header() | res.setHead()\n",
    "\n",
    "file writing: doesn't require res.end()\n",
    "* res.sendFile( _dirname + 'file.txt') | fs.readFile('file.txt', 'utf8', async(f)=>res.write(f))\n",
    "\n",
    "send objects: doesn't require res.end()\n",
    "* res.send() | "
   ]
  },
  {
   "cell_type": "code",
   "execution_count": null,
   "metadata": {
    "vscode": {
     "languageId": "javascript"
    }
   },
   "outputs": [],
   "source": []
  }
 ],
 "metadata": {
  "kernelspec": {
   "display_name": "Python 3.10.8 64-bit",
   "language": "python",
   "name": "python3"
  },
  "language_info": {
   "codemirror_mode": {
    "name": "ipython",
    "version": 3
   },
   "file_extension": ".py",
   "mimetype": "text/x-python",
   "name": "python",
   "nbconvert_exporter": "python",
   "pygments_lexer": "ipython3",
   "version": "3.10.8"
  },
  "orig_nbformat": 4,
  "vscode": {
   "interpreter": {
    "hash": "e7370f93d1d0cde622a1f8e1c04877d8463912d04d973331ad4851f04de6915a"
   }
  }
 },
 "nbformat": 4,
 "nbformat_minor": 2
}

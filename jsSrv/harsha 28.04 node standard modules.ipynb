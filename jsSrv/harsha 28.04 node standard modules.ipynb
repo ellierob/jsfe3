{
 "cells": [
  {
   "cell_type": "markdown",
   "metadata": {},
   "source": [
    "# node standard library? modules"
   ]
  },
  {
   "cell_type": "markdown",
   "metadata": {},
   "source": [
    "## fs: file system functions"
   ]
  },
  {
   "cell_type": "markdown",
   "metadata": {},
   "source": [
    "### asychronous file reading\n",
    "more reliable, handles error"
   ]
  },
  {
   "cell_type": "code",
   "execution_count": 45,
   "metadata": {
    "vscode": {
     "languageId": "javascript"
    }
   },
   "outputs": [
    {
     "name": "stdout",
     "output_type": "stream",
     "text": [
      "File system callback is asynchronous, and may finish executing after this later line\n",
      "Can binary read unicode? বাংলা \n",
      " datatype: string \n",
      " data lenth: 30 \n",
      " data 1 hexadecimal to decimal:  \n"
     ]
    }
   ],
   "source": [
    "%%script node --input-type=\"module\"\n",
    "\n",
    "// let fs = require('node:fs')\n",
    "import * as fs from 'fs'\n",
    "// fs.readFile is a async call on the separate file system module /program \n",
    "// that executes on a separate thread than this calling module\n",
    "fs.readFile(\n",
    "    'file.txt', \n",
    "    // encoding parameter\n",
    "    // encoding turns data from buffer object to string\n",
    "    // binary encoding does not support unicode characters\n",
    "    // utf-8 is best\n",
    "    'utf-8', \n",
    "    // this callback function \n",
    "    // asychronously awaits the response /event emit of the file system\n",
    "    // on a separate thread,\n",
    "    // and only then executes\n",
    "    (err,data)=>{ console.log(\n",
    "        // if err !== null \n",
    "        err ? err : data, \n",
    "        '\\n datatype:', typeof data, \n",
    "        '\\n data lenth:', data.length, \n",
    "        '\\n data 1 hexadecimal to decimal:', data[3]\n",
    "        )  }\n",
    "    )\n",
    "\n",
    "console.log(`File system callback is asynchronous, and may finish executing after this later line`);"
   ]
  },
  {
   "cell_type": "code",
   "execution_count": null,
   "metadata": {
    "vscode": {
     "languageId": "javascript"
    }
   },
   "outputs": [],
   "source": [
    "%%script node --input-type=\"module\"\n",
    "\n",
    "// let fs = require('node:fs')\n",
    "import * as fs from 'fs'\n",
    "console.log(\n",
    "fs.readFileSync(\n",
    "    'file.txt', \n",
    "    'utf-8'\n",
    "    )\n",
    ");\n",
    "\n",
    "console.log(`synchronous file reading holds up the single thread, and this later line may never finish`);"
   ]
  },
  {
   "cell_type": "markdown",
   "metadata": {},
   "source": [
    "### sychronous file reading"
   ]
  },
  {
   "cell_type": "code",
   "execution_count": 52,
   "metadata": {
    "vscode": {
     "languageId": "javascript"
    }
   },
   "outputs": [
    {
     "name": "stdout",
     "output_type": "stream",
     "text": [
      "undefined\n"
     ]
    }
   ],
   "source": [
    "%%script node --input-type=\"module\"\n",
    "\n",
    "// let fs = require('node:fs')\n",
    "import * as fs from 'fs'\n",
    "\n",
    "let content = 'Has this been written?'\n",
    "let fPath = './file2.txt'\n",
    "\n",
    "fs.writeFile(\n",
    "    fPath,\n",
    "    content,\n",
    "    'utf-8',\n",
    "    (err,data)=>{console.log(err?err:data);}\n",
    ")"
   ]
  },
  {
   "cell_type": "code",
   "execution_count": 53,
   "metadata": {
    "vscode": {
     "languageId": "javascript"
    }
   },
   "outputs": [
    {
     "name": "stdout",
     "output_type": "stream",
     "text": [
      "undefined\n"
     ]
    }
   ],
   "source": [
    "%%script node --input-type=\"module\"\n",
    "\n",
    "// let fs = require('node:fs')\n",
    "import * as fs from 'fs'\n",
    "\n",
    "let fPath = './file2.txt'\n",
    "let renam = './fileRnm.txt'\n",
    "\n",
    "fs.rename( \n",
    "    fPath, renam,\n",
    "    (err,data)=>{console.log(err?err:data);}\n",
    "    )"
   ]
  },
  {
   "cell_type": "code",
   "execution_count": 54,
   "metadata": {
    "vscode": {
     "languageId": "javascript"
    }
   },
   "outputs": [
    {
     "name": "stdout",
     "output_type": "stream",
     "text": [
      "undefined\n"
     ]
    }
   ],
   "source": [
    "%%script node --input-type=\"module\"\n",
    "\n",
    "// let fs = require('node:fs')\n",
    "import * as fs from 'fs'\n",
    "\n",
    "let src = './file.txt'\n",
    "let dst = './fileDest.txt'\n",
    "\n",
    "fs.copyFile(\n",
    "    src,dst,\n",
    "    (err,data)=>{console.log(err?err:data);}\n",
    "    )"
   ]
  },
  {
   "cell_type": "code",
   "execution_count": 57,
   "metadata": {
    "vscode": {
     "languageId": "javascript"
    }
   },
   "outputs": [
    {
     "name": "stdout",
     "output_type": "stream",
     "text": [
      "undefined\n"
     ]
    }
   ],
   "source": [
    "%%script node --input-type=\"module\"\n",
    "\n",
    "// let fs = require('node:fs')\n",
    "import * as fs from 'fs'\n",
    "\n",
    "let fileDlt = './fileDest.txt'\n",
    "\n",
    "// delete\n",
    "fs.unlink(\n",
    "    fileDlt,\n",
    "    (err,data)=>{console.log(err?err:data);}\n",
    "    )"
   ]
  },
  {
   "cell_type": "code",
   "execution_count": 60,
   "metadata": {
    "vscode": {
     "languageId": "javascript"
    }
   },
   "outputs": [
    {
     "name": "stdout",
     "output_type": "stream",
     "text": [
      " accessed time: 2022-11-11T04:32:53.595Z \n",
      " modificationtime: 2022-11-11T04:32:53.272Z \n",
      " creation time: 2022-11-11T04:32:53.272Z \n",
      " file size: 40\n"
     ]
    }
   ],
   "source": [
    "%%script node --input-type=\"module\"\n",
    "\n",
    "// let fs = require('node:fs')\n",
    "import * as fs from 'fs'\n",
    "\n",
    "let fileStat = './file.txt'\n",
    "\n",
    "// delete\n",
    "fs.stat(\n",
    "    fileStat,\n",
    "    (err,stats)=>{console.log(err?err:\n",
    "        ` accessed time:`, stats.atime,\n",
    "        `\\n modificationtime:`, stats.mtime,\n",
    "        `\\n creation time:`, stats.ctime,\n",
    "        `\\n file size:`, stats.size,\n",
    "        );}\n",
    "    )"
   ]
  },
  {
   "cell_type": "code",
   "execution_count": null,
   "metadata": {
    "vscode": {
     "languageId": "javascript"
    }
   },
   "outputs": [],
   "source": [
    "%%script node --input-type=\"module\"\n",
    "\n",
    "// let fs = require('node:fs')\n",
    "import * as fs from 'fs'\n",
    "\n",
    "let dir = '.'\n",
    "\n",
    "// delete\n",
    "fs.readdir(\n",
    "    dir,\n",
    "    (err,data)=>{console.log(err?err:data);}\n",
    "    )"
   ]
  },
  {
   "cell_type": "code",
   "execution_count": null,
   "metadata": {
    "vscode": {
     "languageId": "javascript"
    }
   },
   "outputs": [],
   "source": [
    "%%script node --input-type=\"module\"\n"
   ]
  },
  {
   "cell_type": "code",
   "execution_count": null,
   "metadata": {
    "vscode": {
     "languageId": "javascript"
    }
   },
   "outputs": [],
   "source": [
    "%%script node --input-type=\"module\"\n"
   ]
  },
  {
   "cell_type": "code",
   "execution_count": null,
   "metadata": {
    "vscode": {
     "languageId": "javascript"
    }
   },
   "outputs": [],
   "source": [
    "%%script node --input-type=\"module\"\n"
   ]
  },
  {
   "cell_type": "code",
   "execution_count": null,
   "metadata": {
    "vscode": {
     "languageId": "javascript"
    }
   },
   "outputs": [],
   "source": [
    "%%script node --input-type=\"module\"\n"
   ]
  }
 ],
 "metadata": {
  "kernelspec": {
   "display_name": "Python 3.10.4 ('xproj': conda)",
   "language": "python",
   "name": "python3"
  },
  "language_info": {
   "codemirror_mode": {
    "name": "ipython",
    "version": 3
   },
   "file_extension": ".py",
   "mimetype": "text/x-python",
   "name": "python",
   "nbconvert_exporter": "python",
   "pygments_lexer": "ipython3",
   "version": "3.10.4"
  },
  "orig_nbformat": 4,
  "vscode": {
   "interpreter": {
    "hash": "53ce4a372613acec3ced89ec12332be295014eb9a6e3df2a36b8fcc73e5ff10d"
   }
  }
 },
 "nbformat": 4,
 "nbformat_minor": 2
}

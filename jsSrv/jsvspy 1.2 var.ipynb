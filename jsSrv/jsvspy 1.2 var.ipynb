{
 "cells": [
  {
   "cell_type": "markdown",
   "metadata": {},
   "source": [
    "## variable declaration\n",
    "stores value in memory\n",
    "\n",
    "javascript variables:  \n",
    "cannot start with numbers,  \n",
    "cannot contain ,  \n",
    "but may contain $,  \n",
    "conventionally written in camel case,  \n",
    "conventionally does not start with upper case except in object-oriented  \n",
    "conventionally all-caps variables are reserved for constants"
   ]
  },
  {
   "cell_type": "markdown",
   "metadata": {},
   "source": [
    "In javascript there are 4 ways to declare variables:\n",
    "* let\n",
    "* var\n",
    "* const\n",
    "* without declaration"
   ]
  },
  {
   "cell_type": "markdown",
   "metadata": {},
   "source": [
    "'var' variable declarations are hoisted to the top of the context  \n",
    "and are initialized as 'undefined' at the top of the context\n",
    "\n",
    "Their values are inaccessible from outside their global or local function context"
   ]
  },
  {
   "cell_type": "markdown",
   "metadata": {},
   "source": [
    "'let' variables declarations are not hoisted to the top of the context   \n",
    "and are initialized with 'undefined' after the declaration line\n",
    "\n",
    "their values are inaccessible from outside their block context"
   ]
  },
  {
   "cell_type": "markdown",
   "metadata": {},
   "source": [
    "variable without declaration before assignment is never hoisted  \n",
    "or initialized as undefined  \n",
    "\n",
    "but their values are accessible from outside their context"
   ]
  },
  {
   "cell_type": "markdown",
   "metadata": {},
   "source": [
    "### variable declaration scope, accessibility through variable call /reference"
   ]
  },
  {
   "cell_type": "markdown",
   "metadata": {},
   "source": [
    "in python"
   ]
  },
  {
   "cell_type": "markdown",
   "metadata": {},
   "source": [
    "In both python and javascript,  \n",
    "both global and local variable declarations  \n",
    "are hoisted to the top of their scope,  \n",
    "so if they are referenced before assignment statement,  \n",
    "in python it throws an error,  \n",
    "in javasript it finds undefined"
   ]
  },
  {
   "cell_type": "code",
   "execution_count": 1,
   "metadata": {},
   "outputs": [
    {
     "name": "stdout",
     "output_type": "stream",
     "text": [
      "global variables cannot be called until assigned\n"
     ]
    }
   ],
   "source": [
    "global a\n",
    "\n",
    "try:\n",
    "    print(a, f'variables can be called before assigned')\n",
    "except:\n",
    "    # global variables cannot be called until assigned\n",
    "    print(f'global variables cannot be called until assigned')\n",
    "\n",
    "a = 'global'\n",
    "    "
   ]
  },
  {
   "cell_type": "code",
   "execution_count": 1,
   "metadata": {
    "vscode": {
     "languageId": "javascript"
    }
   },
   "outputs": [
    {
     "name": "stdout",
     "output_type": "stream",
     "text": [
      "undefined global let variables can be called before assigned\n",
      "undefined global var variables can be called before assigned\n",
      "declaring constant without initialization throws syntax error\n",
      "global variables cannot be called until declared/assigned\n"
     ]
    }
   ],
   "source": [
    "%%script node\n",
    "\n",
    "let a\n",
    "\n",
    "try{\n",
    "    //undefined global let variables can be called before assigned\n",
    "    console.log(a, 'global let variables can be called before assigned')\n",
    "}\n",
    "catch(e){\n",
    "    console.log('global let variables cannot be called until assigned')\n",
    "}\n",
    "\n",
    "var e\n",
    "\n",
    "try{\n",
    "    // undefined global var variables can be called before assigned\n",
    "    console.log(e, 'global var variables can be called before assigned')\n",
    "}\n",
    "catch(err){\n",
    "    console.log('global var variables cannot be called until assigned')\n",
    "}\n",
    "\n",
    "// declaring constant without initialization throws syntax error'\n",
    "console.log('declaring constant without initialization throws syntax error')\n",
    "\n",
    "try{\n",
    "    console.log(m, 'variables can be called before assigned')\n",
    "}\n",
    "catch(e){\n",
    "    //global variables cannot be called until declared/assigned\n",
    "    console.log('global variables cannot be called until declared/assigned')\n",
    "}\n",
    "\n",
    "a = 'global'\n",
    "e = 'global'\n",
    "const i = 'global'\n",
    "m = 'global'"
   ]
  },
  {
   "cell_type": "code",
   "execution_count": 2,
   "metadata": {},
   "outputs": [
    {
     "name": "stdout",
     "output_type": "stream",
     "text": [
      "locally undeclared globally assigned variables can be accessed from local scope\n"
     ]
    }
   ],
   "source": [
    "def scope():\n",
    "    if a == 'global':\n",
    "        # locally undeclared globally assigned variables can be accessed from local scope\n",
    "        print(f'locally undeclared globally assigned variables can be accessed from local scope')\n",
    "    \n",
    "scope()"
   ]
  },
  {
   "cell_type": "code",
   "execution_count": null,
   "metadata": {
    "vscode": {
     "languageId": "javascript"
    }
   },
   "outputs": [],
   "source": [
    "%%script node\n",
    "\n",
    "function scope(){\n",
    "    if (a == 'global'){\n",
    "        //locally undeclared globally assigned let variables can be accessed from local scope\n",
    "        console.log('locally undeclared globally assigned let variables can be accessed from local scope')\n",
    "    }\n",
    "    if (e == 'global'){\n",
    "        //locally undeclared globally assigned var variables can be accessed from local scope\n",
    "        console.log('locally undeclared globally assigned var variables can be accessed from local scope')\n",
    "    }\n",
    "    if (i == 'global'){\n",
    "        //locally undeclared globally assigned constants can be accessed from local scope\n",
    "        console.log('locally undeclared globally assigned constants can be accessed from local scope')\n",
    "    }\n",
    "    if (m == 'global'){\n",
    "        //locally undeclared globally assigned variables can be accessed from local scope\n",
    "        console.log('locally undeclared globally assigned variables can be accessed from local scope')\n",
    "    }\n",
    "}\n",
    "\n",
    "scope()"
   ]
  },
  {
   "cell_type": "markdown",
   "metadata": {},
   "source": [
    "before declaration statement:  \n",
    "variables cannot be called  \n",
    "in both python and javascript"
   ]
  },
  {
   "cell_type": "code",
   "execution_count": 3,
   "metadata": {},
   "outputs": [
    {
     "name": "stdout",
     "output_type": "stream",
     "text": [
      "global variables cannot be called until declared/assigned\n"
     ]
    }
   ],
   "source": [
    "try:\n",
    "    print(b, f'variables can be called before declared/assigned')\n",
    "except:\n",
    "    # global variables cannot be called until declared/assigned\n",
    "    print(f'global variables cannot be called until declared/assigned')\n",
    "\n",
    "b = 'global'"
   ]
  },
  {
   "cell_type": "code",
   "execution_count": 4,
   "metadata": {
    "vscode": {
     "languageId": "javascript"
    }
   },
   "outputs": [
    {
     "name": "stdout",
     "output_type": "stream",
     "text": [
      "before declaration/assignment statement:\n",
      "global let variables cannot be called\n",
      "calling global var varibales gives undefined\n",
      "global constants cannot be called\n",
      "global variables cannot be called until assigned\n"
     ]
    }
   ],
   "source": [
    "%%script node\n",
    "\n",
    "console.log('before declaration/assignment statement:')\n",
    "\n",
    "try{\n",
    "    console.log('calling global let varibales gives', b)\n",
    "    }                \n",
    "catch(e){\n",
    "    // global variables cannot be called until declared\n",
    "    console.log('global let variables cannot be called')\n",
    "}\n",
    "\n",
    "try{\n",
    "    // undefined global var variables can be called before assigned\n",
    "    console.log('calling global var varibales gives', f)\n",
    "    }                \n",
    "catch(err){\n",
    "    console.log('global var variables cannot be called until assigned')\n",
    "}\n",
    "\n",
    "try{\n",
    "    console.log('calling global constants gives', j)\n",
    "    }                \n",
    "catch(e){\n",
    "    // global constants cannot be called until assigned\n",
    "    console.log('global constants cannot be called')\n",
    "}\n",
    "\n",
    "try{\n",
    "    console.log(n, 'variables can be called before assigned')\n",
    "    }                \n",
    "catch(e){\n",
    "    // global variables cannot be called until declared/assigned\n",
    "    console.log('global variables cannot be called until assigned')\n",
    "}\n",
    "\n",
    "let b = 'global'\n",
    "var f = 'global'\n",
    "const j = 'global'\n",
    "n = 'global'"
   ]
  },
  {
   "cell_type": "code",
   "execution_count": 4,
   "metadata": {},
   "outputs": [
    {
     "name": "stdout",
     "output_type": "stream",
     "text": [
      "called locally, locally assigned value overrides global assignment\n"
     ]
    }
   ],
   "source": [
    "def scope():\n",
    "    b = 'local'\n",
    "    if b == 'local':\n",
    "        # called locally, locally assigned value overrides global assignment\n",
    "        print(f'called locally, locally assigned value overrides global assignment')\n",
    "\n",
    "scope()"
   ]
  },
  {
   "cell_type": "code",
   "execution_count": 5,
   "metadata": {
    "vscode": {
     "languageId": "javascript"
    }
   },
   "outputs": [
    {
     "name": "stdout",
     "output_type": "stream",
     "text": [
      "called locally, locally assigned let value overrides global assignment\n",
      "called locally, locally assigned var value overrides global assignment\n",
      "called locally, locally assigned constant value overrides global assignment\n",
      "called locally, locally assigned value overrides global assignment\n"
     ]
    }
   ],
   "source": [
    "%%script node\n",
    "\n",
    "function scope(){\n",
    "    let b = 'local'\n",
    "    var f = 'local'\n",
    "    const j = 'local'\n",
    "    n = 'local'\n",
    "\n",
    "    if (b == 'local'){\n",
    "        //called locally, locally assigned value overrides global assignment\n",
    "        console.log('called locally, locally assigned let value overrides global assignment')\n",
    "    }\n",
    "    \n",
    "    if (f == 'local'){\n",
    "        //called locally, locally assigned value overrides global assignment\n",
    "        console.log('called locally, locally assigned var value overrides global assignment')\n",
    "    }\n",
    "    \n",
    "    if (j == 'local'){\n",
    "        //called locally, locally assigned value overrides global assignment\n",
    "        console.log('called locally, locally assigned constant value overrides global assignment')\n",
    "    }\n",
    "\n",
    "    if (n == 'local'){\n",
    "        //called locally, locally assigned value overrides global assignment\n",
    "        console.log('called locally, locally assigned value overrides global assignment')\n",
    "    }\n",
    "}\n",
    "\n",
    "scope()"
   ]
  },
  {
   "cell_type": "code",
   "execution_count": 5,
   "metadata": {},
   "outputs": [
    {
     "name": "stdout",
     "output_type": "stream",
     "text": [
      "global variable reassigned in local scope does not change in global scope\n"
     ]
    }
   ],
   "source": [
    "if b == 'global':\n",
    "    # global variable reassigned in local scope does not change in global scope\n",
    "    print(f'global variable reassigned in local scope does not change in global scope')"
   ]
  },
  {
   "cell_type": "code",
   "execution_count": null,
   "metadata": {
    "vscode": {
     "languageId": "javascript"
    }
   },
   "outputs": [],
   "source": [
    "%%script node\n",
    "\n",
    "if (b == 'global'){\n",
    "    //global variable reassigned in local scope does not change in global scope\n",
    "    console.log('global let variable reassigned in local scope does not change in global scope')\n",
    "}\n",
    "if (f == 'global'){\n",
    "    //global variable reassigned in local scope does not change in global scope\n",
    "    console.log('global var variable reassigned in local scope does not change in global scope')\n",
    "}\n",
    "if (j == 'global'){\n",
    "    //global constant reassigned in local scope does not change in global scope\n",
    "    console.log('global constant redeclared & reassigned in local scope does not change in global scope')\n",
    "}\n",
    "if (n == 'local'){\n",
    "    //global variable reassigned in local scope changes in global scope\n",
    "    console.log('global variable reassigned in local scope changes in global scope')\n",
    "}"
   ]
  },
  {
   "cell_type": "code",
   "execution_count": 6,
   "metadata": {},
   "outputs": [
    {
     "name": "stdout",
     "output_type": "stream",
     "text": [
      "but such global variables can be changed from local scope by using global keyword in local scope\n"
     ]
    }
   ],
   "source": [
    "\n",
    "c = 'global'\n",
    "\n",
    "def scope():    \n",
    "    global c\n",
    "    c = 'local'\n",
    "    \n",
    "scope()\n",
    "\n",
    "if c == 'local':\n",
    "    # but such global variables can be changed from local scope by using global \n",
    "    print(f'but such global variables can be changed from local scope by using global keyword in local scope')\n"
   ]
  },
  {
   "cell_type": "code",
   "execution_count": null,
   "metadata": {
    "vscode": {
     "languageId": "javascript"
    }
   },
   "outputs": [],
   "source": [
    "%%script node\n",
    "\n",
    "let c = 'global'\n",
    "var g = 'global'\n",
    "const k = 'global'\n",
    "o = 'global'\n",
    "\n",
    "function scope(){\n",
    "    c = 'local'\n",
    "    g = 'local'\n",
    "\n",
    "    try{\n",
    "        k = 'local';\n",
    "        console.log('global constants can be reassigned in local scope without redeclaring a local variable.');\n",
    "    }\n",
    "    catch(e){\n",
    "        hookable = false;\n",
    "    }\n",
    "    \n",
    "    o\n",
    "    o = 'local'\n",
    "}\n",
    "\n",
    "scope()\n",
    "\n",
    "if (c == 'local'){\n",
    "    //but such global variables can be reassigned from local scope by not redeclaring it in local scope\n",
    "    console.log('but such global variables can be reassigned from local scope by not redeclaring it in local scope')\n",
    "}\n",
    "if (g == 'local'){\n",
    "    console.log('but such global variables can be changed from local scope by reassigning without redeclaring it as local variable in local scope')\n",
    "}\n",
    "\n",
    "if (hookable==false){\n",
    "    // global constants cannot be reassigned in local scope by not redeclaring a local variable.\n",
    "    console.log('global constants cannot be reassigned in local scope just by not redeclaring a local variable.')\n",
    "}\n",
    "\n",
    "if (o == 'local'){\n",
    "    //but such global variables can be changed from local scope by using global keyword in local scope\n",
    "    console.log('but such global variables can be reassigned from local scope by not redeclaring it as local variable in local scope')\n",
    "}"
   ]
  },
  {
   "cell_type": "code",
   "execution_count": 1,
   "metadata": {},
   "outputs": [
    {
     "name": "stdout",
     "output_type": "stream",
     "text": [
      "local variables cannot be called until declared/assigned\n"
     ]
    }
   ],
   "source": [
    "def scope():\n",
    "    try:\n",
    "        if d=='local':\n",
    "            print(d, f'variables can be called before declared')\n",
    "    except:\n",
    "        # local variables cannot be called until declared/assigned\n",
    "        print(f'local variables cannot be called until declared/assigned')\n",
    "    d = 'local'\n",
    "\n",
    "scope()"
   ]
  },
  {
   "cell_type": "code",
   "execution_count": 7,
   "metadata": {
    "vscode": {
     "languageId": "javascript"
    }
   },
   "outputs": [
    {
     "name": "stdout",
     "output_type": "stream",
     "text": [
      "local let variables cannot be called until declared\n",
      "undefined local var variables can be called before declared\n",
      "local constants cannot be called until assigned\n",
      "local variables cannot be called until declared/assigned\n"
     ]
    }
   ],
   "source": [
    "%%script node\n",
    "\n",
    "function scope(){\n",
    "    try{\n",
    "        console.log(d, 'let variables can be called before declared')\n",
    "    }        \n",
    "    catch(e){\n",
    "        // local let variables cannot be called until declared\n",
    "        console.log('local let variables cannot be called until declared')\n",
    "    }\n",
    "\n",
    "    try{\n",
    "        // undefined local variables can be called before declared\n",
    "        console.log(h, 'local var variables can be called before declared')\n",
    "    }        \n",
    "    catch(e){\n",
    "        console.log('local var cannot be called until declared')\n",
    "    }\n",
    "\n",
    "    try{\n",
    "        console.log(l, 'constants can be called before declared')        \n",
    "    }        \n",
    "    catch(e){\n",
    "        // local constants cannot be called until assigned\n",
    "        console.log('local constants cannot be called until assigned')\n",
    "    }\n",
    "\n",
    "    try{\n",
    "        if (p==='local'){\n",
    "            console.log(p, 'variables can be called before declared')\n",
    "        }        \n",
    "    }        \n",
    "    catch(e){\n",
    "        // local variables cannot be called until declared/assigned\n",
    "        console.log('local variables cannot be called until declared/assigned')\n",
    "    }\n",
    "\n",
    "    let d = 'local'\n",
    "    var h = 'local'\n",
    "    const l = 'local'\n",
    "    p = 'local'\n",
    "}\n",
    "\n",
    "scope()"
   ]
  },
  {
   "cell_type": "code",
   "execution_count": 2,
   "metadata": {},
   "outputs": [
    {
     "name": "stdout",
     "output_type": "stream",
     "text": [
      "local variable cannot be accessed from global scope\n"
     ]
    }
   ],
   "source": [
    "try:\n",
    "    print(d, 'scope variable can be accessed from global scope')\n",
    "except:\n",
    "    # local variable cannot be accessed from global scope\n",
    "    print(f'local variable cannot be accessed from global scope')"
   ]
  },
  {
   "cell_type": "code",
   "execution_count": 8,
   "metadata": {
    "vscode": {
     "languageId": "javascript"
    }
   },
   "outputs": [
    {
     "name": "stdout",
     "output_type": "stream",
     "text": [
      "local let variable cannot be accessed from global scope\n",
      "local var variable cannot be accessed from global scope\n",
      "local constant cannot be accessed from global scope\n",
      "local variable cannot be accessed from global scope\n"
     ]
    }
   ],
   "source": [
    "%%script node\n",
    "\n",
    "try{\n",
    "    console.log(d,'scope let variable can be accessed from global scope')\n",
    "}\n",
    "    \n",
    "catch(e){\n",
    "    //local variable cannot be accessed from global scope\n",
    "    console.log('local let variable cannot be accessed from global scope')\n",
    "}\n",
    "    \n",
    "try{\n",
    "    console.log(h,'scope var variable can be accessed from global scope')\n",
    "}\n",
    "    \n",
    "catch(err){\n",
    "    //local scope variable cannot be accessed from global scope\n",
    "    console.log('local var variable cannot be accessed from global scope')\n",
    "}\n",
    "\n",
    "try{\n",
    "    console.log(l,'scope constant can be accessed from global scope')\n",
    "}\n",
    "    \n",
    "catch(e){\n",
    "    //local constant cannot be accessed from global scope\n",
    "    console.log('local constant cannot be accessed from global scope')\n",
    "}\n",
    "\n",
    "try{\n",
    "    //local scope variable can be accessed from global scope\n",
    "    console.log(p,'scope variable can be accessed from global scope')\n",
    "}\n",
    "    \n",
    "catch(e){\n",
    "    console.log('local variable cannot be accessed from global scope')\n",
    "}"
   ]
  },
  {
   "cell_type": "code",
   "execution_count": null,
   "metadata": {
    "vscode": {
     "languageId": "javascript"
    }
   },
   "outputs": [],
   "source": [
    "%%script node\n",
    "\n",
    "function store() {myVar = 4;}\n",
    "\n",
    "store();\n",
    "\n",
    "function fun2() {\n",
    "    if (typeof myVar == 'undefined') {\n",
    "        console.log(`seems myVar is out of scope`);\n",
    "    } else {\n",
    "        console.log(`myVar: ${myVar}`);\n",
    "}\n",
    "}\n",
    "\n",
    "fun2();"
   ]
  },
  {
   "cell_type": "markdown",
   "metadata": {},
   "source": [
    "const"
   ]
  },
  {
   "cell_type": "code",
   "execution_count": null,
   "metadata": {
    "vscode": {
     "languageId": "javascript"
    }
   },
   "outputs": [],
   "source": [
    "%%script node\n",
    "\n",
    "// constant number\n",
    "const PI = 3.14;\n",
    "\n",
    "// constant object, but mutable items\n",
    "const MATH_CONSTANT1 = { PY: 3.136 }\n",
    "const MATH_CONSTANT2 = { PY: 3.136 };\n",
    "\n",
    "// freezes items in object as read-only\n",
    "Object.freeze(MATH_CONSTANT2)\n",
    "\n",
    "try {\n",
    "    MATH_CONSTANT1.PY = 99;\n",
    "    MATH_CONSTANT2.PY = 99;\n",
    "} catch(ex) {\n",
    "    console.log(ex);\n",
    "}\n",
    "\n",
    "console.log(MATH_CONSTANT1.PY, MATH_CONSTANT2.PY)"
   ]
  },
  {
   "cell_type": "code",
   "execution_count": null,
   "metadata": {
    "vscode": {
     "languageId": "javascript"
    }
   },
   "outputs": [],
   "source": [
    "%%script node\n",
    "\n",
    "// prevents assignment without declaration\n",
    "'use strict';"
   ]
  }
 ],
 "metadata": {
  "kernelspec": {
   "display_name": "Python 3.10.4 ('xproj': conda)",
   "language": "python",
   "name": "python3"
  },
  "language_info": {
   "codemirror_mode": {
    "name": "ipython",
    "version": 3
   },
   "file_extension": ".py",
   "mimetype": "text/x-python",
   "name": "python",
   "nbconvert_exporter": "python",
   "pygments_lexer": "ipython3",
   "version": "3.10.4"
  },
  "orig_nbformat": 4,
  "vscode": {
   "interpreter": {
    "hash": "ab8c4c1aa065ef4bf45014346553f7c05662feb01cd522c7343b10a256a1e8d9"
   }
  }
 },
 "nbformat": 4,
 "nbformat_minor": 2
}

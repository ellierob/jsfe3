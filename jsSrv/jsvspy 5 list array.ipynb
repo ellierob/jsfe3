{
 "cells": [
  {
   "cell_type": "markdown",
   "metadata": {},
   "source": [
    "# Python list vs javascript array"
   ]
  },
  {
   "cell_type": "markdown",
   "metadata": {},
   "source": [
    "python list"
   ]
  },
  {
   "cell_type": "code",
   "execution_count": 46,
   "metadata": {},
   "outputs": [
    {
     "name": "stdout",
     "output_type": "stream",
     "text": [
      "['orange', 'apple', 'banana']\n"
     ]
    }
   ],
   "source": [
    "fruit = ['orange', 'apple', 'banana']\n",
    "\n",
    "print(fruit)"
   ]
  },
  {
   "cell_type": "code",
   "execution_count": 1,
   "metadata": {},
   "outputs": [
    {
     "name": "stdout",
     "output_type": "stream",
     "text": [
      "['orange', 1, 'banana']\n"
     ]
    }
   ],
   "source": [
    "fruit = ['orange', 1, 'banana']\n",
    "\n",
    "print(fruit)"
   ]
  },
  {
   "cell_type": "markdown",
   "metadata": {},
   "source": [
    "javascript array\n",
    "* like python dictionary with hidden keys"
   ]
  },
  {
   "cell_type": "code",
   "execution_count": 2,
   "metadata": {
    "vscode": {
     "languageId": "javascript"
    }
   },
   "outputs": [
    {
     "name": "stdout",
     "output_type": "stream",
     "text": [
      "[ 'orange', 'apple', 'banana' ]\n"
     ]
    }
   ],
   "source": [
    "%%script node\n",
    "\n",
    "fruit = ['orange', 'apple', 'banana'];\n",
    "\n",
    "console.log(fruit);"
   ]
  },
  {
   "cell_type": "markdown",
   "metadata": {},
   "source": [
    "### check if item in list"
   ]
  },
  {
   "cell_type": "code",
   "execution_count": 5,
   "metadata": {},
   "outputs": [
    {
     "data": {
      "text/plain": [
       "True"
      ]
     },
     "execution_count": 5,
     "metadata": {},
     "output_type": "execute_result"
    }
   ],
   "source": [
    "myArray = ['item']\n",
    "\n",
    "'item' in myArray"
   ]
  },
  {
   "cell_type": "code",
   "execution_count": 4,
   "metadata": {
    "vscode": {
     "languageId": "javascript"
    }
   },
   "outputs": [
    {
     "name": "stdout",
     "output_type": "stream",
     "text": [
      "true 0\n"
     ]
    }
   ],
   "source": [
    "%%script node\n",
    "\n",
    "myArray = ['item']\n",
    "\n",
    "console.log(\n",
    "    myArray.includes('item')\n",
    "    )"
   ]
  },
  {
   "cell_type": "markdown",
   "metadata": {},
   "source": [
    "### (1st) index of item in list"
   ]
  },
  {
   "cell_type": "code",
   "execution_count": 28,
   "metadata": {},
   "outputs": [
    {
     "data": {
      "text/plain": [
       "2"
      ]
     },
     "execution_count": 28,
     "metadata": {},
     "output_type": "execute_result"
    }
   ],
   "source": [
    "myArray = ['item', 'item', '23']\n",
    "\n",
    "print(\n",
    "    myArray.index('item'), \n",
    "    # unavailable item returns error\n",
    "    myArray.index('23')\n",
    "    )"
   ]
  },
  {
   "cell_type": "code",
   "execution_count": 26,
   "metadata": {
    "vscode": {
     "languageId": "javascript"
    }
   },
   "outputs": [
    {
     "name": "stdout",
     "output_type": "stream",
     "text": [
      "0 2\n"
     ]
    }
   ],
   "source": [
    "%%script node\n",
    "\n",
    "myArray = ['item', 'item', 23]\n",
    "\n",
    "console.log(\n",
    "    myArray.indexOf('item'), \n",
    "    // unavailable item returns index -1\n",
    "    myArray.indexOf(23)\n",
    "    )"
   ]
  },
  {
   "cell_type": "markdown",
   "metadata": {},
   "source": [
    "---\n",
    "### Modifying lists /arrays"
   ]
  },
  {
   "cell_type": "markdown",
   "metadata": {},
   "source": [
    "updating /mutating lists /arrays by index"
   ]
  },
  {
   "cell_type": "code",
   "execution_count": 3,
   "metadata": {},
   "outputs": [
    {
     "data": {
      "text/plain": [
       "['updated']"
      ]
     },
     "execution_count": 3,
     "metadata": {},
     "output_type": "execute_result"
    }
   ],
   "source": [
    "myArray = ['original']\n",
    "\n",
    "myArray[0] = 'updated'\n",
    "\n",
    "myArray"
   ]
  },
  {
   "cell_type": "code",
   "execution_count": 3,
   "metadata": {
    "vscode": {
     "languageId": "javascript"
    }
   },
   "outputs": [
    {
     "name": "stdout",
     "output_type": "stream",
     "text": [
      "[ 'updated' ]\n"
     ]
    }
   ],
   "source": [
    "%%script node\n",
    "\n",
    "myArray = ['original']\n",
    "\n",
    "myArray[0] = 'updated'\n",
    "\n",
    "console.log(myArray)"
   ]
  },
  {
   "cell_type": "markdown",
   "metadata": {},
   "source": [
    "---\n",
    "adding items to ends of arrays"
   ]
  },
  {
   "cell_type": "code",
   "execution_count": 4,
   "metadata": {},
   "outputs": [
    {
     "name": "stdout",
     "output_type": "stream",
     "text": [
      "None [1, 2, 3, [4, 5]]\n",
      "None [1, 2, 3, [4, 5], 6, 7, 8]\n"
     ]
    }
   ],
   "source": [
    "myList = [1, 2, 3]\n",
    "\n",
    "print(\n",
    "    # pushing a single nested array to the end of the array\n",
    "    # returns nothing\n",
    "    myList.append([4, 5]), \n",
    "    myList\n",
    "    )\n",
    "\n",
    "print(\n",
    "    # extending list with multiple value\n",
    "    # returns nothing\n",
    "    myList.extend([6, 7, 8]), \n",
    "    myList\n",
    "    )\n"
   ]
  },
  {
   "cell_type": "code",
   "execution_count": 5,
   "metadata": {
    "vscode": {
     "languageId": "javascript"
    }
   },
   "outputs": [
    {
     "name": "stdout",
     "output_type": "stream",
     "text": [
      "4 [ 1, 2, 3, [ 4, 5 ] ]\n",
      "7 [ 1, 2, 3, [ 4, 5 ], 6, 7, 8 ]\n"
     ]
    }
   ],
   "source": [
    "%%script node\n",
    "\n",
    "myArray = [1, 2, 3]\n",
    "\n",
    "console.log(\n",
    "    // pushing a single nested array to the end of the array\n",
    "    // returns new length of array\n",
    "    myArray.push([4, 5]),\n",
    "    myArray\n",
    "    )\n",
    "\n",
    "console.log(\n",
    "    // pushing a multiple elements to the end of the array\n",
    "    // returns new length of array\n",
    "    myArray.push(6, 7 ,8),  \n",
    "    //myArray.push.apply(6, 7 ,8)\n",
    "    myArray\n",
    "    )"
   ]
  },
  {
   "cell_type": "markdown",
   "metadata": {},
   "source": [
    "---\n",
    "Adding item to start of array"
   ]
  },
  {
   "cell_type": "code",
   "execution_count": 4,
   "metadata": {},
   "outputs": [
    {
     "name": "stdout",
     "output_type": "stream",
     "text": [
      "[0, 1, 2, 3]\n",
      "[-2, -1, 0, 1, 2, 3]\n",
      "[-4, -3, -2, -1, 0, 1, 2, 3]\n"
     ]
    }
   ],
   "source": [
    "# single item to the begining of list\n",
    "myArray = [1, 2, 3]\n",
    "\n",
    "myArray = [0] + myArray\n",
    "\n",
    "print(myArray)\n",
    "\n",
    "# multiple items to the begining of list\n",
    "myArray = [-2, -1] + myArray\n",
    "\n",
    "print(myArray)\n",
    "\n",
    "# alternative\n",
    "myArray[0:0] = [-4, -3]\n",
    "\n",
    "print(myArray)"
   ]
  },
  {
   "cell_type": "code",
   "execution_count": 6,
   "metadata": {
    "vscode": {
     "languageId": "javascript"
    }
   },
   "outputs": [
    {
     "name": "stdout",
     "output_type": "stream",
     "text": [
      "5 [ -1, 0, 1, 2, 3 ]\n"
     ]
    }
   ],
   "source": [
    "%%script node\n",
    "\n",
    "myArray = [1, 2, 3];\n",
    "\n",
    "console.log(\n",
    "    // add items to the begining of list\n",
    "    // returns new length of array\n",
    "    myArray.unshift(-1, 0),\n",
    "    myArray\n",
    "    );"
   ]
  },
  {
   "cell_type": "markdown",
   "metadata": {},
   "source": [
    "---\n",
    "inserting elements in lists /arrays"
   ]
  },
  {
   "cell_type": "code",
   "execution_count": 9,
   "metadata": {},
   "outputs": [
    {
     "name": "stdout",
     "output_type": "stream",
     "text": [
      "[1, 2, 5, 6]\n",
      "[1, 2, 3, 4, 5, 6]\n"
     ]
    }
   ],
   "source": [
    "myArray = [1, 5, 6]\n",
    "\n",
    "# insert single element\n",
    "myArray.insert(1, 2)\n",
    "\n",
    "print(myArray)\n",
    "\n",
    "# insert multiple element\n",
    "myArray[2:2] = [3,4]\n",
    "\n",
    "print(myArray)"
   ]
  },
  {
   "cell_type": "code",
   "execution_count": 6,
   "metadata": {
    "vscode": {
     "languageId": "javascript"
    }
   },
   "outputs": [
    {
     "name": "stdout",
     "output_type": "stream",
     "text": [
      "[ 1, 2, 5, 6 ]\n",
      "[ 1, 2, 3, 4, 5, 6 ]\n"
     ]
    }
   ],
   "source": [
    "%%script node\n",
    "\n",
    "myArray = [1, 5, 6]\n",
    "\n",
    "// insert single element at index\n",
    "myArray.splice(1, 0, 2)\n",
    "\n",
    "console.log(myArray)\n",
    "\n",
    "// insert multiple elements by splice function\n",
    "myArray.splice(2, 0, 3, 4)\n",
    "\n",
    "// insert multiple element by slice and spread operator\n",
    "// myArray = [...myArray.slice(0,2), 3, 4, ...myArray.slice(2)]\n",
    "\n",
    "// or by slice and concat method\n",
    "// myArray = myArray.slice(0,1).concat([2, 3, 4], myArray.slice(1))\n",
    "// myArray.splice(myArray, 0, 2, 3, 4)\n",
    "\n",
    "console.log(myArray)"
   ]
  },
  {
   "cell_type": "markdown",
   "metadata": {},
   "source": [
    "---\n",
    "removing items from arrays"
   ]
  },
  {
   "cell_type": "code",
   "execution_count": 21,
   "metadata": {},
   "outputs": [
    {
     "name": "stdout",
     "output_type": "stream",
     "text": [
      "6 [1, 2, 3, 4, 5]\n",
      "1 [2, 3, 4, 5]\n",
      "4 [2, 3, 5]\n"
     ]
    }
   ],
   "source": [
    "myArray = [1, 2, 3, 4, 5, 6]\n",
    "\n",
    "print(\n",
    "    # from the end of array\n",
    "    # returns removed item\n",
    "    myArray.pop(),\n",
    "    myArray\n",
    "    )\n",
    "\n",
    "print(\n",
    "    # pop single element from the start of an array\n",
    "    myArray.pop(0), \n",
    "    myArray\n",
    "    )\n",
    "\n",
    "print(\n",
    "    # pop single element from given index of an array\n",
    "    myArray.pop(2), \n",
    "    myArray)"
   ]
  },
  {
   "cell_type": "code",
   "execution_count": 13,
   "metadata": {
    "vscode": {
     "languageId": "javascript"
    }
   },
   "outputs": [
    {
     "name": "stdout",
     "output_type": "stream",
     "text": [
      "6 [ 1, 2, 3, 4, 5 ]\n",
      "1 [ 2, 3, 4, 5 ]\n",
      "5 [ 2, 3, 4 ]\n"
     ]
    }
   ],
   "source": [
    "%%script node\n",
    "\n",
    "myArray = [1, 2, 3, 4, 5, 6]\n",
    "\n",
    "console.log(\n",
    "    // from end of an array\n",
    "    myArray.pop(),\n",
    "    myArray\n",
    "    )\n",
    "\n",
    "console.log(\n",
    "    // remove single element from first element of array\n",
    "    myArray.shift(),\n",
    "    myArray\n",
    "    )\n",
    "\n",
    "console.log(\n",
    "    // single item from given index of an array\n",
    "    myArray.pop(2, 3),\n",
    "    myArray\n",
    "    )"
   ]
  },
  {
   "cell_type": "markdown",
   "metadata": {},
   "source": [
    "Deleting multiple items by index"
   ]
  },
  {
   "cell_type": "code",
   "execution_count": null,
   "metadata": {},
   "outputs": [],
   "source": [
    "myArray = [1, 2, 3, 4, 5, 6]\n",
    "\n",
    "print(\n",
    "    # multiple items from given indices of an array\n",
    "    myArray.pop(2,3),\n",
    "    myArray\n",
    "    )"
   ]
  },
  {
   "cell_type": "code",
   "execution_count": 38,
   "metadata": {
    "vscode": {
     "languageId": "javascript"
    }
   },
   "outputs": [
    {
     "name": "stdout",
     "output_type": "stream",
     "text": [
      "6 [ 1, 2, 3, 4, 5 ]\n"
     ]
    }
   ],
   "source": [
    "%%script node\n",
    "\n",
    "myArray = [1, 2, 3, 4, 5, 6]\n",
    "\n",
    "console.log(\n",
    "    // multiple items from given indices of an array\n",
    "    myArray.pop(2,3),\n",
    "    myArray\n",
    "    )"
   ]
  },
  {
   "cell_type": "markdown",
   "metadata": {},
   "source": [
    "deleting an list item in python shortens the list"
   ]
  },
  {
   "cell_type": "code",
   "execution_count": 37,
   "metadata": {},
   "outputs": [
    {
     "name": "stdout",
     "output_type": "stream",
     "text": [
      "['orange', 'banana'] 2 orange\n"
     ]
    }
   ],
   "source": [
    "fruit = ['orange', 'apple', 'banana']\n",
    "\n",
    "del fruit[1]\n",
    "\n",
    "print(\n",
    "    fruit,          # ['orange', 'banana']\n",
    "    len(fruit),     # 2\n",
    "    fruit[0]        # banana\n",
    "    )"
   ]
  },
  {
   "cell_type": "markdown",
   "metadata": {},
   "source": [
    "deleting an array item in javascript leaves undefined value in index"
   ]
  },
  {
   "cell_type": "code",
   "execution_count": 29,
   "metadata": {
    "vscode": {
     "languageId": "javascript"
    }
   },
   "outputs": [
    {
     "name": "stdout",
     "output_type": "stream",
     "text": [
      "[ 'orange', <1 empty item>, 'banana' ] 3 undefined\n"
     ]
    }
   ],
   "source": [
    "%%script node\n",
    "\n",
    "fruit = ['orange', 'apple', 'banana'];\n",
    "\n",
    "delete fruit[1];\n",
    "\n",
    "console.log(\n",
    "    fruit,          // ['orange', , 'banana']\n",
    "    fruit.length,   //  3\n",
    "    fruit[1]        //  undefined\n",
    "    );"
   ]
  },
  {
   "cell_type": "markdown",
   "metadata": {},
   "source": [
    "---\n",
    "modify array elements"
   ]
  },
  {
   "cell_type": "code",
   "execution_count": null,
   "metadata": {},
   "outputs": [],
   "source": []
  },
  {
   "cell_type": "code",
   "execution_count": 10,
   "metadata": {
    "vscode": {
     "languageId": "javascript"
    }
   },
   "outputs": [
    {
     "name": "stdout",
     "output_type": "stream",
     "text": [
      "undefined [ 4, 5, 6 ] [ 12, 15, 18 ]\n",
      "[ 8, 10, 12 ] [ 4, 5, 6 ] [ 12, 15, 18 ]\n",
      "[ 4, 6 ] [ 4, 5, 6 ] []\n"
     ]
    }
   ],
   "source": [
    "%%script node\n",
    "\n",
    "arr = [4, 5, 6];\n",
    "arr2 = []\n",
    "// forEach does nothing with the returns from the callback arrow function\n",
    "console.log(\n",
    "    arr.forEach(a => {arr2.push(3 * a); return 2 * a}), \n",
    "    arr,\n",
    "    arr2\n",
    "    );\n",
    "\n",
    "arr = [4, 5, 6];\n",
    "arr2 = []\n",
    "\n",
    "// renews calling array with the returns from callback arrow function \n",
    "console.log(\n",
    "    arr.map(a => {arr2.push(3 * a); return 2 * a}), \n",
    "    arr,\n",
    "    arr2\n",
    "    );\n",
    "\n",
    "arr = [4, 5, 6];\n",
    "arr2 = []\n",
    "\n",
    "// filter takes condition as argument not callback function\n",
    "console.log(\n",
    "    arr.filter(a => a % 2 == 0), \n",
    "    arr,\n",
    "    arr2\n",
    "    );"
   ]
  },
  {
   "cell_type": "markdown",
   "metadata": {},
   "source": [
    "---"
   ]
  },
  {
   "cell_type": "markdown",
   "metadata": {},
   "source": [
    "In python list, inserting items in out of range index throws error"
   ]
  },
  {
   "cell_type": "code",
   "execution_count": 37,
   "metadata": {},
   "outputs": [
    {
     "ename": "IndexError",
     "evalue": "list assignment index out of range",
     "output_type": "error",
     "traceback": [
      "\u001b[0;31m---------------------------------------------------------------------------\u001b[0m",
      "\u001b[0;31mIndexError\u001b[0m                                Traceback (most recent call last)",
      "\u001b[0;32m/tmp/ipykernel_4321/556143214.py\u001b[0m in \u001b[0;36m<module>\u001b[0;34m\u001b[0m\n\u001b[1;32m      1\u001b[0m \u001b[0mfruit\u001b[0m \u001b[0;34m=\u001b[0m \u001b[0;34m[\u001b[0m\u001b[0;34m'apple'\u001b[0m\u001b[0;34m,\u001b[0m \u001b[0;34m'cat'\u001b[0m\u001b[0;34m]\u001b[0m\u001b[0;34m\u001b[0m\u001b[0;34m\u001b[0m\u001b[0m\n\u001b[1;32m      2\u001b[0m \u001b[0;34m\u001b[0m\u001b[0m\n\u001b[0;32m----> 3\u001b[0;31m \u001b[0mfruit\u001b[0m\u001b[0;34m[\u001b[0m\u001b[0;36m6\u001b[0m\u001b[0;34m]\u001b[0m \u001b[0;34m=\u001b[0m \u001b[0;34m'cherry'\u001b[0m\u001b[0;34m\u001b[0m\u001b[0;34m\u001b[0m\u001b[0m\n\u001b[0m\u001b[1;32m      4\u001b[0m \u001b[0;34m\u001b[0m\u001b[0m\n\u001b[1;32m      5\u001b[0m \u001b[0mprint\u001b[0m\u001b[0;34m(\u001b[0m\u001b[0mfruit\u001b[0m\u001b[0;34m)\u001b[0m\u001b[0;34m\u001b[0m\u001b[0;34m\u001b[0m\u001b[0m\n",
      "\u001b[0;31mIndexError\u001b[0m: list assignment index out of range"
     ]
    }
   ],
   "source": [
    "fruit[6] = 'cherry'\n",
    "\n",
    "print(fruit)"
   ]
  },
  {
   "cell_type": "markdown",
   "metadata": {},
   "source": [
    "In javascript array, items can be inserted at any index"
   ]
  },
  {
   "cell_type": "code",
   "execution_count": 1,
   "metadata": {
    "vscode": {
     "languageId": "javascript"
    }
   },
   "outputs": [
    {
     "name": "stdout",
     "output_type": "stream",
     "text": [
      "[ 'orange', <1 empty item>, 'banana', <3 empty items>, 'cherry' ]\n"
     ]
    }
   ],
   "source": [
    "%%script node\n",
    "\n",
    "fruit = ['orange', , 'banana'];\n",
    "\n",
    "fruit[6] = 'cherry';\n",
    "\n",
    "console.log(fruit);"
   ]
  },
  {
   "cell_type": "markdown",
   "metadata": {},
   "source": [
    "---"
   ]
  },
  {
   "cell_type": "markdown",
   "metadata": {},
   "source": [
    "splicing python list\n",
    "* takes 2 arguments:\n",
    "* * start index\n",
    "* * end index\n",
    "* and **doesn't modify** original list"
   ]
  },
  {
   "cell_type": "code",
   "execution_count": 38,
   "metadata": {},
   "outputs": [
    {
     "name": "stdout",
     "output_type": "stream",
     "text": [
      "['Viper']\n",
      "['Tesla', 'Mustang', 'Viper', 'Tesla']\n"
     ]
    }
   ],
   "source": [
    "cars = [\"Tesla\", \"Mustang\", \"Viper\", \"Tesla\"]\n",
    "\n",
    "print(cars[2:3])\n",
    "\n",
    "print(cars)"
   ]
  },
  {
   "cell_type": "markdown",
   "metadata": {},
   "source": [
    "splicing javascript array \n",
    "* takes 3 arguments:\n",
    "* * index of the starting splice\n",
    "* * length of the splice\n",
    "* * item to be inserted in start index\n",
    "* and **modifies** the original array\n",
    "* Rather than 'delete' keyword, splice() method works more like 'del' keyword in python"
   ]
  },
  {
   "cell_type": "code",
   "execution_count": 11,
   "metadata": {
    "vscode": {
     "languageId": "javascript"
    }
   },
   "outputs": [
    {
     "name": "stdout",
     "output_type": "stream",
     "text": [
      "[ 'Viper', 'Tesla' ]\n",
      "[ 'Tesla', 'Mustang', 'teslaAtInd2' ]\n"
     ]
    }
   ],
   "source": [
    "%%script node\n",
    "\n",
    "cars = [\"Tesla\", \"Mustang\", \"Viper\", \"Tesla\"];\n",
    "\n",
    "console.log(cars.splice(2,2, 'teslaAtInd2'));\n",
    "//          [ 'Viper', 'Tesla' ]]\n",
    "\n",
    "console.log(cars);\n",
    "//      [ 'Tesla', 'Mustang', 'teslaAtInd2' ]"
   ]
  },
  {
   "cell_type": "markdown",
   "metadata": {},
   "source": [
    "to get like python splice use slice"
   ]
  },
  {
   "cell_type": "code",
   "execution_count": 13,
   "metadata": {
    "vscode": {
     "languageId": "javascript"
    }
   },
   "outputs": [
    {
     "name": "stdout",
     "output_type": "stream",
     "text": [
      "[ 'Tesla', 'Mustang', 'Viper', 'Tesla' ] [ 'Mustang', 'Viper', 'Tesla' ] [ 'Viper', 'Tesla' ]\n"
     ]
    }
   ],
   "source": [
    "%%script node\n",
    "\n",
    "cars = [\"Tesla\", \"Mustang\", \"Viper\", \"Tesla\"];\n",
    "\n",
    "\n",
    "cars2 = cars.slice(1)   // by default end index is end of original index\n",
    "cars3 = cars.slice(2,4)\n",
    "\n",
    "console.log(\n",
    "    cars,    // [ 'Tesla', 'Mustang', 'Viper', 'Tesla' ] original is intact\n",
    "    cars2,   // [ 'Mustang', 'Viper', 'Tesla' ]\n",
    "    cars3    // [ 'Viper', 'Tesla' ]\n",
    "    )"
   ]
  },
  {
   "cell_type": "markdown",
   "metadata": {},
   "source": [
    "adding arrays /lists into new"
   ]
  },
  {
   "cell_type": "code",
   "execution_count": 30,
   "metadata": {},
   "outputs": [
    {
     "name": "stdout",
     "output_type": "stream",
     "text": [
      "[1, 2, 3] [4, 5, 6] [1, 2, 3, 4, 5, 6]\n"
     ]
    }
   ],
   "source": [
    "arr1 = [1, 2, 3]\n",
    "arr2 = [4, 5, 6]\n",
    "\n",
    "arr3 = arr1 + arr2\n",
    "\n",
    "print(\n",
    "    arr1,   # [ 1, 2, 3 ]  \n",
    "    arr2,   # [ 4, 5, 6 ]\n",
    "    arr3    # [ 1, 2, 3, 4, 5, 6 ]\n",
    "    )"
   ]
  },
  {
   "cell_type": "code",
   "execution_count": 32,
   "metadata": {
    "vscode": {
     "languageId": "javascript"
    }
   },
   "outputs": [
    {
     "name": "stdout",
     "output_type": "stream",
     "text": [
      "[ 1, 2, 3 ] [ 4, 5, 6 ] [ 1, 2, 3, 4, 5, 6 ]\n"
     ]
    }
   ],
   "source": [
    "%%script node\n",
    "\n",
    "arr1 = [1, 2, 3]\n",
    "arr2 = [4, 5, 6]\n",
    "\n",
    "arr3 = arr1.concat(arr2)\n",
    "\n",
    "console.log(\n",
    "    arr1,   // [ 1, 2, 3 ]  \n",
    "    arr2,   // [ 4, 5, 6 ]\n",
    "    arr3    // [ 1, 2, 3, 4, 5, 6 ]\n",
    "    );"
   ]
  },
  {
   "cell_type": "markdown",
   "metadata": {},
   "source": [
    "### adding items of lists into new list"
   ]
  },
  {
   "cell_type": "code",
   "execution_count": 25,
   "metadata": {},
   "outputs": [
    {
     "name": "stdout",
     "output_type": "stream",
     "text": [
      "[1, 2, 3, 7] [4, 5, 6] [5, 7, 9]\n"
     ]
    }
   ],
   "source": [
    "arr1 = [1, 2, 3, 7]\n",
    "arr2 = [4, 5, 6]\n",
    "\n",
    "arr3 = [ i1 + i2 for [i1, i2] in zip(arr1, arr2)]\n",
    "\n",
    "# arr3 = [ \n",
    "#     arr1[idx]+arr2[idx] \n",
    "#     for idx in range(len(arr1) \n",
    "#     if len(arr1)<=len(arr2) \n",
    "#     else len(arr2))\n",
    "#     ]\n",
    "\n",
    "print(\n",
    "    arr1,   # [ 1, 2, 3 ]  \n",
    "    arr2,   # [ 4, 5, 6, 7 ]\n",
    "    \n",
    "    # extra elements are ignored\n",
    "    arr3    # [5, 7, 9]\n",
    "    )"
   ]
  },
  {
   "cell_type": "code",
   "execution_count": 10,
   "metadata": {
    "vscode": {
     "languageId": "javascript"
    }
   },
   "outputs": [
    {
     "name": "stdout",
     "output_type": "stream",
     "text": [
      "[ 1, 2, 3, 7 ] [ 4, 5, 6 ] [ 5, 7, 9, NaN ]\n"
     ]
    }
   ],
   "source": [
    "%%script node\n",
    "\n",
    "arr1 = [1, 2, 3, 7]\n",
    "arr2 = [4, 5, 6]\n",
    "\n",
    "arr3 = arr1.map( (elem, idx) => elem + arr2[idx] );\n",
    "\n",
    "// arr3 = [arr1[idx]+arr2[idx] for(idx=0; arr1.length<=arr2.length? arr1.length: arr2.length; idx++)]\n",
    "\n",
    "console.log(\n",
    "    arr1,   // [ 1, 2, 3 ]  \n",
    "    arr2,   // [ 4, 5, 6 ]\n",
    "    \n",
    "    // extra elements in original array gives NaN\n",
    "    arr3,    // [ 5, 7, 9, NaN ]\n",
    "    );"
   ]
  },
  {
   "cell_type": "markdown",
   "metadata": {},
   "source": [
    "---"
   ]
  },
  {
   "cell_type": "markdown",
   "metadata": {},
   "source": [
    "In Python,  \n",
    "list of integers are sorted numerically"
   ]
  },
  {
   "cell_type": "code",
   "execution_count": 51,
   "metadata": {},
   "outputs": [
    {
     "name": "stdout",
     "output_type": "stream",
     "text": [
      "[7, 53, 112, 2000]\n"
     ]
    }
   ],
   "source": [
    "list = [53, 112, 7, 2000]\n",
    "\n",
    "list.sort()\n",
    "\n",
    "print(list)"
   ]
  },
  {
   "cell_type": "markdown",
   "metadata": {},
   "source": [
    "In javascript,  \n",
    "array of integers are typecast as strings before sorting"
   ]
  },
  {
   "cell_type": "code",
   "execution_count": 15,
   "metadata": {
    "vscode": {
     "languageId": "javascript"
    }
   },
   "outputs": [
    {
     "name": "stdout",
     "output_type": "stream",
     "text": [
      "[ 112, 2000, 53, 7 ]\n"
     ]
    }
   ],
   "source": [
    "%%script node\n",
    "\n",
    "list = [53, 112, 7, 2000];\n",
    "\n",
    "list.sort();\n",
    "\n",
    "console.log(list)"
   ]
  },
  {
   "cell_type": "markdown",
   "metadata": {},
   "source": [
    "numeric sorting requires comparison function being passed to the sort call"
   ]
  },
  {
   "cell_type": "code",
   "execution_count": 16,
   "metadata": {
    "vscode": {
     "languageId": "javascript"
    }
   },
   "outputs": [
    {
     "name": "stdout",
     "output_type": "stream",
     "text": [
      "[ 7, 53, 112, 2000 ]\n"
     ]
    }
   ],
   "source": [
    "%%script node\n",
    "\n",
    "list = [53, 112, 7, 2000];\n",
    "\n",
    "list.sort((a, b) => a -b );\n",
    "\n",
    "console.log(list)"
   ]
  },
  {
   "cell_type": "markdown",
   "metadata": {},
   "source": [
    "---\n",
    "duplicating array with javascript spread operator (...)"
   ]
  },
  {
   "cell_type": "code",
   "execution_count": 1,
   "metadata": {},
   "outputs": [
    {
     "name": "stdout",
     "output_type": "stream",
     "text": [
      "[0, 2, 3] [1, 2, 3]\n"
     ]
    }
   ],
   "source": [
    "arr1 = [1, 2, 3]\n",
    "\n",
    "# make duplicate by splicing with default 0 and length index of original array\n",
    "arr2 = arr1[:]\n",
    "\n",
    "arr1[0]= 0\n",
    "\n",
    "print(arr1, arr2)"
   ]
  },
  {
   "cell_type": "code",
   "execution_count": 17,
   "metadata": {
    "vscode": {
     "languageId": "javascript"
    }
   },
   "outputs": [
    {
     "name": "stdout",
     "output_type": "stream",
     "text": [
      "[ 0, 2, 3 ] [ 1, 2, 3 ]\n"
     ]
    }
   ],
   "source": [
    "%%script node\n",
    "\n",
    "arr1 = [1, 2, 3];\n",
    "\n",
    "// duplicate with spread operator on original array inside an empty array\n",
    "arr2 = [...arr1];\n",
    "\n",
    "arr1[0]= 0;\n",
    "\n",
    "console.log(arr1, arr2)"
   ]
  },
  {
   "cell_type": "markdown",
   "metadata": {},
   "source": [
    "---\n",
    "### nested lists /arrays in multidimensional outer array /list"
   ]
  },
  {
   "cell_type": "markdown",
   "metadata": {},
   "source": [
    "accessing nested arrays and elements within inner arrays by index"
   ]
  },
  {
   "cell_type": "code",
   "execution_count": 5,
   "metadata": {},
   "outputs": [
    {
     "name": "stdout",
     "output_type": "stream",
     "text": [
      "[2, 3, 4]\n"
     ]
    },
    {
     "data": {
      "text/plain": [
       "3"
      ]
     },
     "execution_count": 5,
     "metadata": {},
     "output_type": "execute_result"
    }
   ],
   "source": [
    "outerList = [1, [2, 3, 4], 5, 6]\n",
    "\n",
    "# accessing nested array by index\n",
    "print(outerList[1])\n",
    "\n",
    "# accessing elements within nested array by index\n",
    "print(outerList[1][1])"
   ]
  },
  {
   "cell_type": "code",
   "execution_count": 18,
   "metadata": {
    "vscode": {
     "languageId": "javascript"
    }
   },
   "outputs": [
    {
     "name": "stdout",
     "output_type": "stream",
     "text": [
      "[ 2, 3, 4 ]\n",
      "3\n"
     ]
    }
   ],
   "source": [
    "%%script node\n",
    "\n",
    "outerArray = [1, [2, 3, 4], 5, 6]\n",
    "\n",
    "// accessing nested array by index\n",
    "console.log(outerArray[1])\n",
    "\n",
    "// accessing elements within nested array by index\n",
    "console.log(outerArray[1][1])"
   ]
  },
  {
   "cell_type": "markdown",
   "metadata": {},
   "source": [
    "---\n",
    "accessing elements from nested objects in arrays"
   ]
  },
  {
   "cell_type": "code",
   "execution_count": 8,
   "metadata": {},
   "outputs": [
    {
     "name": "stdout",
     "output_type": "stream",
     "text": [
      "b\n",
      "d\n"
     ]
    }
   ],
   "source": [
    "cata = [\n",
    "    {\n",
    "        'typE': 'one',\n",
    "        'things': [\n",
    "            'a', \n",
    "            'b' \n",
    "        ]\n",
    "    },\n",
    "    {\n",
    "        'typE': 'other',\n",
    "        'things': [\n",
    "            'c', \n",
    "            'd' \n",
    "        ]\n",
    "    }\n",
    "]\n",
    "\n",
    "print(cata[0]['things'][1])\n",
    "print(cata[1]['things'][0])"
   ]
  },
  {
   "cell_type": "code",
   "execution_count": 19,
   "metadata": {
    "vscode": {
     "languageId": "javascript"
    }
   },
   "outputs": [
    {
     "name": "stdout",
     "output_type": "stream",
     "text": [
      "b\n",
      "c\n"
     ]
    }
   ],
   "source": [
    "%%script node\n",
    "\n",
    "cata = [\n",
    "    {\n",
    "        typE: 'one',\n",
    "        things: [\n",
    "            'a', \n",
    "            'b' \n",
    "        ]\n",
    "    },\n",
    "    {\n",
    "        typE: 'other',\n",
    "        things: [\n",
    "            'c', \n",
    "            'd' \n",
    "        ]\n",
    "    }\n",
    "]\n",
    "\n",
    "console.log(cata[0].things[1])\n",
    "console.log(cata[1]['things'][0])"
   ]
  },
  {
   "cell_type": "markdown",
   "metadata": {},
   "source": [
    "---\n",
    "assigning list elements to variables by destructuring"
   ]
  },
  {
   "cell_type": "code",
   "execution_count": null,
   "metadata": {},
   "outputs": [],
   "source": []
  },
  {
   "cell_type": "code",
   "execution_count": 20,
   "metadata": {
    "vscode": {
     "languageId": "javascript"
    }
   },
   "outputs": [
    {
     "name": "stdout",
     "output_type": "stream",
     "text": [
      "She enjoys slaps\n"
     ]
    }
   ],
   "source": [
    "%%script node\n",
    "\n",
    "const [hairStyle , height, , likes] = ['horn', 'tall', 'pizza', 'slaps'];\n",
    "\n",
    "console.log('She enjoys', likes);"
   ]
  },
  {
   "cell_type": "markdown",
   "metadata": {},
   "source": [
    "switch variables by python multiple assignment & javascript destructuring"
   ]
  },
  {
   "cell_type": "code",
   "execution_count": 2,
   "metadata": {},
   "outputs": [
    {
     "name": "stdout",
     "output_type": "stream",
     "text": [
      "9 8\n"
     ]
    }
   ],
   "source": [
    "a = 8\n",
    "b = 9\n",
    "\n",
    "# in python no destructuring is required, b\n",
    "a, b = b, a\n",
    "\n",
    "print(a, b)"
   ]
  },
  {
   "cell_type": "code",
   "execution_count": 21,
   "metadata": {
    "vscode": {
     "languageId": "javascript"
    }
   },
   "outputs": [
    {
     "name": "stdout",
     "output_type": "stream",
     "text": [
      "9 8\n"
     ]
    }
   ],
   "source": [
    "%%script node\n",
    "\n",
    "a = 8;\n",
    "b = 9;\n",
    "\n",
    "[a, b] = [b, a];\n",
    "\n",
    "console.log(a, b);"
   ]
  },
  {
   "cell_type": "markdown",
   "metadata": {},
   "source": [
    "modified list with first elements removed using spread operator and destructuring"
   ]
  },
  {
   "cell_type": "code",
   "execution_count": null,
   "metadata": {},
   "outputs": [],
   "source": []
  },
  {
   "cell_type": "code",
   "execution_count": 22,
   "metadata": {
    "vscode": {
     "languageId": "javascript"
    }
   },
   "outputs": [
    {
     "name": "stdout",
     "output_type": "stream",
     "text": [
      "[ 4, 5 ] [ 3, 4, 5 ]\n"
     ]
    }
   ],
   "source": [
    "%%script node\n",
    "\n",
    "list1 = [1, 2, 3, 4, 5]\n",
    "\n",
    "let [  , , ...list2] = list1; // new variables must be assigned with let /const\n",
    "\n",
    "[,,,...list1] = list1\n",
    "\n",
    "console.log(list1, list2)"
   ]
  },
  {
   "cell_type": "markdown",
   "metadata": {},
   "source": [
    "### convert anything to array"
   ]
  },
  {
   "cell_type": "code",
   "execution_count": null,
   "metadata": {
    "vscode": {
     "languageId": "javascript"
    }
   },
   "outputs": [],
   "source": [
    "%%script node\n",
    "\n",
    "Array.from(document.querySelectorAll('h1'))"
   ]
  }
 ],
 "metadata": {
  "kernelspec": {
   "display_name": "Python 3.10.4 ('xproj': conda)",
   "language": "python",
   "name": "python3"
  },
  "language_info": {
   "codemirror_mode": {
    "name": "ipython",
    "version": 3
   },
   "file_extension": ".py",
   "mimetype": "text/x-python",
   "name": "python",
   "nbconvert_exporter": "python",
   "pygments_lexer": "ipython3",
   "version": "3.10.4"
  },
  "orig_nbformat": 4,
  "vscode": {
   "interpreter": {
    "hash": "ab8c4c1aa065ef4bf45014346553f7c05662feb01cd522c7343b10a256a1e8d9"
   }
  }
 },
 "nbformat": 4,
 "nbformat_minor": 2
}

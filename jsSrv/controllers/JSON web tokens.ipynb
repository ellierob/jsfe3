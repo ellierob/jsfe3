{
 "cells": [
  {
   "attachments": {},
   "cell_type": "markdown",
   "metadata": {},
   "source": [
    "# JSON web token (JWT)\n",
    "in decoded form :\n",
    "* Header:{}, \n",
    "* * contain algorithm used by JWT\n",
    "* Payload:{}, \n",
    "* * contain non-sensitive user data\n",
    "* Verification Signature:{}, \n",
    "* * used by server to verify \n",
    "* * created by server by hashing \n",
    "* * * browser successful login request header and payload \n",
    "* * * with server secret string\n",
    "\n",
    "in encoded form:\n",
    "* hash"
   ]
  },
  {
   "cell_type": "code",
   "execution_count": null,
   "metadata": {
    "vscode": {
     "languageId": "javascript"
    }
   },
   "outputs": [],
   "source": []
  },
  {
   "cell_type": "code",
   "execution_count": null,
   "metadata": {
    "vscode": {
     "languageId": "javascript"
    }
   },
   "outputs": [],
   "source": [
    "%%script node\n",
    "\n"
   ]
  }
 ],
 "metadata": {
  "language_info": {
   "name": "python"
  },
  "orig_nbformat": 4
 },
 "nbformat": 4,
 "nbformat_minor": 2
}

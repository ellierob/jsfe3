{
  "cells": [
    {
      "cell_type": "markdown",
      "metadata": {},
      "source": [
        "## high-level  \n",
        "abstraction manages resources\n",
        "* garbage-collection removes old unused objects from memory"
      ]
    },
    {
      "cell_type": "markdown",
      "metadata": {},
      "source": [
        "## just-in-time compilation\n",
        "used to be interpreted\n",
        "* javascript engine interprets line-by-line human-readable code to machine-readable code\n",
        "\n",
        "modern javascript use just-in-time compilation\n",
        "* compiles entire code to machine code \n",
        "* but just before execution\n",
        "* machine code not saved in portable executable file\n",
        "\n",
        "unlike compilation\n",
        "* where entire source code converted at once to machine code\n",
        "\n",
        "### browser javascript runtime\n",
        "contains \n",
        "* javascript engine  \n",
        "* web APIs\n",
        "* * not available in node.js\n",
        "* * * which instead provides c++ bindings & thread pool\n",
        "* event loop\n",
        "* * data structure containing execution-ready callback functions (like event-handlers attached to dom elements)\n",
        "* * after the event, first the event loop sends callback function in callback queue\n",
        "* * then when the call stak empties, event loop sendds the callback funtion to call stack\n",
        "\n",
        "### javascript engine\n",
        "every browser has own javascript engine  \n",
        "chrome uses v8 engine\n",
        "\n",
        "* javascript engine first parses a line of code into abstract syntax tree\n",
        "* resulting AST then converted to machine code\n",
        "* first as un-optimized machine code\n",
        "* then gradually optimized while executing\n",
        "* these parsing & optimization happen in special thread which cannot be accessed from code\n",
        "\n",
        "### execution \n",
        "happens in call stack in the main thread\n",
        "* call stack made up of global and other local execution contexts\n",
        "* * global execution context \n",
        "* * * for top-level code\n",
        "* * * created after code is compiled\n",
        "* * local execution context\n",
        "* * * for functions and callback funtions\n",
        "* * exectution contexts contain scope chain\n",
        "* * * to access global and external function variables\n",
        "* * * execution contexts of arrow functions do not get argument object and this keyword"
      ]
    },
    {
      "cell_type": "markdown",
      "metadata": {},
      "source": [
        "## multiparadigm  \n",
        "* both imperative, declarative programming styles\n",
        "* procedural, object-oriented, functional are 3 paradigms\n",
        "\n",
        "javascript is object-oriented  \n",
        "* most kind of data treated as objects except primitive values (strings, numbers)\n",
        "\n",
        "prototype-based (python is not)\n",
        "* arrays inherit methods from keys in object prototype template\n",
        "\n",
        "uses first-class functions (python does not)\n",
        "* functions are treated as other variables\n",
        "* can pass functions to return them from other functions\n",
        "* allows functional paradigm"
      ]
    },
    {
      "cell_type": "markdown",
      "metadata": {},
      "source": [
        "## dynamically typed \n",
        "(python is both strongly and dynamically typed)  \n",
        "data-types are assigned to variables only when executed  \n",
        "data-types of variables can be changed by reassigning  \n",
        "cannot prevent data-type bugs\n",
        "\n",
        "typescript is strongly typed version of javascript"
      ]
    },
    {
      "cell_type": "markdown",
      "metadata": {},
      "source": [
        "## single-threaded\n",
        "\n",
        "non-blocking event loop\n",
        "* concurrency model: handle multiple tasks happening at the same time\n",
        "* takes long-running task away from main-thread\n",
        "* executes them in the background \n",
        "* and puts back in main thread after finished"
      ]
    },
    {
      "cell_type": "markdown",
      "metadata": {},
      "source": [
        "## scoping\n",
        "* 3 types:\n",
        "* * global: top-level\n",
        "* * function\n",
        "* * * 'var' is function scoped\n",
        "* * block (starting with ES6)\n",
        "* * * only apply to 'let' & 'const' variables\n",
        "* variable scope  \n",
        "* variable environment  \n",
        "* temporal dead zone of a variable: lines in scope before declaration of the 'let/const' variable\n",
        "* lexical scoping: \n",
        "* * sibling scopes cannot access each others' variables\n",
        "* * variables are organized & accessed depending on placement of function and blocks"
      ]
    },
    {
      "cell_type": "code",
      "execution_count": null,
      "metadata": {
        "vscode": {
          "languageId": "javascript"
        }
      },
      "outputs": [],
      "source": [
        "%%script node\n",
        "\n",
        "function func() {\n",
        "    if(true){\n",
        "        const const1 = 'const';\n",
        "        var var1 = 'var';\n",
        "        let let1 = 'var';\n",
        "        undec = 'undec';\n",
        "    }\n",
        "    try {\n",
        "        console.log(`block-scope ${const1} can be accessed from parent function`);\n",
        "    } catch {\n",
        "        console.log(`block-scope const cannot be accessed from parent function`);\n",
        "    }\n",
        "    try {\n",
        "        console.log(`block-scope ${let1} can be accessed from parent function`);\n",
        "    } catch {\n",
        "        console.log(`block-scope let cannot be accessed from parent function`);\n",
        "    }\n",
        "    try {\n",
        "        console.log(`block-scope ${var1} can be accessed from parent function`);\n",
        "    } catch {\n",
        "        console.log(`block-scope var cannot be accessed from parent function`);\n",
        "    }\n",
        "    try {\n",
        "        console.log(`block-scope ${undec} can be accessed from parent function`);\n",
        "    } catch {\n",
        "        console.log(`block-scope undec cannot be accessed from parent function`);\n",
        "    }\n",
        "}\n",
        "\n",
        "func()\n",
        "\n",
        "try {\n",
        "    console.log(`block-scope ${const1} can be accessed from global scope`);\n",
        "} catch {\n",
        "    console.log(`block-scope const cannot be accessed from global scope`);\n",
        "}\n",
        "try {\n",
        "    console.log(`block-scope ${let1} can be accessed from global scope`);\n",
        "} catch {\n",
        "    console.log(`block-scope let cannot be accessed from global scope`);\n",
        "}\n",
        "try {\n",
        "    console.log(`block-scope ${var1} can be accessed from global scope`);\n",
        "} catch {\n",
        "    console.log(`block-scope var cannot be accessed from global scope`);\n",
        "}\n",
        "try {\n",
        "    console.log(`block-scope ${undec} can be accessed from global scope`);\n",
        "} catch {\n",
        "    console.log(`block-scope undec cannot be accessed from global scope`);\n",
        "}"
      ]
    },
    {
      "cell_type": "markdown",
      "metadata": {},
      "source": [
        "## scope chain\n",
        "how every scope does variable lookup from all its outer /parent scopes"
      ]
    },
    {
      "cell_type": "code",
      "execution_count": null,
      "metadata": {
        "vscode": {
          "languageId": "javascript"
        }
      },
      "outputs": [],
      "source": [
        "%%script node\n",
        "\n",
        "'use sloppy'\n",
        "\n",
        "console.log(`${let1}`);\n",
        "\n",
        "var var1 = 'var';\n",
        "let let1 = 'let';"
      ]
    },
    {
      "cell_type": "markdown",
      "metadata": {},
      "source": [
        "## memory management\n",
        "primitives are primitive types stored in call stack in function context  \n",
        "reference to the object stored in memory heap is stored in call stack"
      ]
    },
    {
      "cell_type": "code",
      "execution_count": null,
      "metadata": {
        "vscode": {
          "languageId": "javascript"
        }
      },
      "outputs": [],
      "source": [
        "%%script node\n",
        "\n"
      ]
    }
  ],
  "metadata": {
    "kernelspec": {
      "display_name": "Python 3.10.4 ('xproj': conda)",
      "language": "python",
      "name": "python3"
    },
    "language_info": {
      "codemirror_mode": {
        "name": "ipython",
        "version": 3
      },
      "file_extension": ".py",
      "mimetype": "text/x-python",
      "name": "python",
      "nbconvert_exporter": "python",
      "pygments_lexer": "ipython3",
      "version": "3.10.4"
    },
    "orig_nbformat": 4,
    "vscode": {
      "interpreter": {
        "hash": "53ce4a372613acec3ced89ec12332be295014eb9a6e3df2a36b8fcc73e5ff10d"
      }
    }
  },
  "nbformat": 4,
  "nbformat_minor": 2
}

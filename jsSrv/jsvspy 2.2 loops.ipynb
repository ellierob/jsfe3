{
 "cells": [
  {
   "cell_type": "markdown",
   "metadata": {},
   "source": [
    "# Python javascript loops"
   ]
  },
  {
   "cell_type": "markdown",
   "metadata": {},
   "source": [
    "python for loop for recursive command on elements in list by list length"
   ]
  },
  {
   "cell_type": "code",
   "execution_count": 21,
   "metadata": {},
   "outputs": [
    {
     "name": "stdout",
     "output_type": "stream",
     "text": [
      "orange\n",
      "banana\n",
      "cherry\n"
     ]
    }
   ],
   "source": [
    "fruit = ['orange', 'banana', 'cherry']\n",
    "\n",
    "for i in range(len(fruit)):\n",
    "    print(fruit[i])\n",
    "    i+=1"
   ]
  },
  {
   "cell_type": "markdown",
   "metadata": {},
   "source": [
    "javascript for loop for recursive command on elements in array by array length"
   ]
  },
  {
   "cell_type": "code",
   "execution_count": 1,
   "metadata": {
    "vscode": {
     "languageId": "javascript"
    }
   },
   "outputs": [
    {
     "name": "stdout",
     "output_type": "stream",
     "text": [
      "orange\n",
      "undefined\n",
      "banana\n",
      "undefined\n",
      "undefined\n",
      "undefined\n",
      "cherry\n"
     ]
    }
   ],
   "source": [
    "%%script node\n",
    "\n",
    "fruit = ['orange', , 'banana', , , , 'cherry'];\n",
    "\n",
    "for(i=0; i<fruit.length; i++){\n",
    "    console.log(fruit[i])\n",
    "}"
   ]
  },
  {
   "cell_type": "markdown",
   "metadata": {},
   "source": [
    "for loop with iteration generator"
   ]
  },
  {
   "cell_type": "code",
   "execution_count": 15,
   "metadata": {},
   "outputs": [
    {
     "name": "stdout",
     "output_type": "stream",
     "text": [
      "cherry\n",
      "None\n",
      "banana\n"
     ]
    }
   ],
   "source": [
    "fruit = ['orange', None, 'banana', None, None, None, 'cherry']\n",
    "\n",
    "#                start       stop\n",
    "#                 idx       before  interval\n",
    "for i in range(len(fruit)-1,   0,   -2):\n",
    "    print(fruit[i])\n",
    "    i+=1"
   ]
  },
  {
   "cell_type": "code",
   "execution_count": null,
   "metadata": {
    "vscode": {
     "languageId": "javascript"
    }
   },
   "outputs": [],
   "source": [
    "%%script node\n",
    "\n",
    "fruit = ['orange', , 'banana', , , , 'cherry'];\n",
    "\n",
    "for(i=fruit.length-1; i > 0; i-= 2){\n",
    "    console.log(fruit[i])\n",
    "}"
   ]
  },
  {
   "cell_type": "markdown",
   "metadata": {},
   "source": [
    "### continue\n",
    "abandons the rest of current iteration of loop,  \n",
    "and continues to next iteration"
   ]
  },
  {
   "cell_type": "code",
   "execution_count": 1,
   "metadata": {},
   "outputs": [
    {
     "name": "stdout",
     "output_type": "stream",
     "text": [
      "1\n",
      "2\n"
     ]
    }
   ],
   "source": [
    "lst = [1, 'a', 2]\n",
    "\n",
    "for v in lst:\n",
    "    if type(v) != int:\n",
    "        continue\n",
    "    else:\n",
    "        print(v)"
   ]
  },
  {
   "cell_type": "code",
   "execution_count": 12,
   "metadata": {
    "vscode": {
     "languageId": "javascript"
    }
   },
   "outputs": [
    {
     "name": "stdout",
     "output_type": "stream",
     "text": [
      "1\n",
      "2\n"
     ]
    }
   ],
   "source": [
    "%%script node\n",
    "\n",
    "const arr = [1, 'a', 2]\n",
    "\n",
    "for(i=0; i<arr.length; i++){\n",
    "    if(typeof arr[i] !== 'number'){\n",
    "        continue\n",
    "    } else {\n",
    "        console.log(arr[i])\n",
    "    }\n",
    "}"
   ]
  },
  {
   "cell_type": "markdown",
   "metadata": {},
   "source": [
    "### Break\n",
    "terminates entire loop,  \n",
    "continues to next statement"
   ]
  },
  {
   "cell_type": "code",
   "execution_count": 13,
   "metadata": {},
   "outputs": [
    {
     "name": "stdout",
     "output_type": "stream",
     "text": [
      "1\n"
     ]
    }
   ],
   "source": [
    "lst = [1, 'a', 2]\n",
    "\n",
    "for v in lst:\n",
    "    if type(v) != int:\n",
    "        break\n",
    "    else:\n",
    "        print(v)"
   ]
  },
  {
   "cell_type": "code",
   "execution_count": 14,
   "metadata": {
    "vscode": {
     "languageId": "javascript"
    }
   },
   "outputs": [
    {
     "name": "stdout",
     "output_type": "stream",
     "text": [
      "1\n"
     ]
    }
   ],
   "source": [
    "%%script node\n",
    "\n",
    "const arr = [1, 'a', 2]\n",
    "\n",
    "for(i=0; i<arr.length; i++){\n",
    "    if(typeof arr[i] !== 'number'){\n",
    "        break\n",
    "    } else {\n",
    "        console.log(arr[i])\n",
    "    }\n",
    "}"
   ]
  },
  {
   "cell_type": "markdown",
   "metadata": {},
   "source": [
    "### infinite loop"
   ]
  },
  {
   "cell_type": "code",
   "execution_count": 12,
   "metadata": {},
   "outputs": [
    {
     "data": {
      "text/plain": [
       "1"
      ]
     },
     "execution_count": 12,
     "metadata": {},
     "output_type": "execute_result"
    }
   ],
   "source": [
    "for _ in iter(int, 1):\n",
    "    if _ > 6:\n",
    "        break\n",
    "    else:\n",
    "        print('infinite')"
   ]
  },
  {
   "cell_type": "code",
   "execution_count": 13,
   "metadata": {
    "vscode": {
     "languageId": "javascript"
    }
   },
   "outputs": [
    {
     "data": {
      "application/javascript": "\n1\n",
      "text/plain": [
       "<IPython.core.display.Javascript object>"
      ]
     },
     "metadata": {},
     "output_type": "display_data"
    }
   ],
   "source": [
    "%%script node\n",
    "\n",
    "for(i=0;;){\n",
    "    if(i >5){\n",
    "        break\n",
    "    } else {\n",
    "        console.log('infinite')\n",
    "    }\n",
    "}"
   ]
  },
  {
   "cell_type": "markdown",
   "metadata": {},
   "source": [
    "in for loop,  \n",
    "the 'in' keyword passes    \n",
    "entries in python dictionary,  \n",
    "and properties in javascript object"
   ]
  },
  {
   "cell_type": "code",
   "execution_count": 6,
   "metadata": {},
   "outputs": [
    {
     "name": "stdout",
     "output_type": "stream",
     "text": [
      "7\n",
      "8\n",
      "9\n",
      "7\n"
     ]
    }
   ],
   "source": [
    "dict = {\n",
    "    'entry1': 7,\n",
    "    'entry2': 8,\n",
    "    'entry3': 9\n",
    "}\n",
    "\n",
    "for entry in dict:\n",
    "    print(dict[entry])\n",
    "\n",
    "\n",
    "print(dict['entry1'])"
   ]
  },
  {
   "cell_type": "code",
   "execution_count": 1,
   "metadata": {
    "vscode": {
     "languageId": "javascript"
    }
   },
   "outputs": [
    {
     "data": {
      "application/javascript": "\nobj = {\n    attr1: 1,\n    attr2: 2,\n    attr3: 3\n}\n\nfor(attr in obj){\n    console.log(attr)\n}\n\nconsole.log(obj.attr1)\n",
      "text/plain": [
       "<IPython.core.display.Javascript object>"
      ]
     },
     "metadata": {},
     "output_type": "display_data"
    }
   ],
   "source": [
    "obj = {\n",
    "    attr1: 7,\n",
    "    attr2: 8,\n",
    "    attr3: 9\n",
    "}\n",
    "\n",
    "for(attr in obj){\n",
    "    console.log(obj[attr])\n",
    "}\n",
    "\n",
    "console.log(obj.attr1)"
   ]
  },
  {
   "cell_type": "markdown",
   "metadata": {},
   "source": [
    "the 'in' keyword runs through  \n",
    "values in a python list"
   ]
  },
  {
   "cell_type": "code",
   "execution_count": 5,
   "metadata": {},
   "outputs": [
    {
     "name": "stdout",
     "output_type": "stream",
     "text": [
      "4\n",
      "5\n",
      "6\n"
     ]
    }
   ],
   "source": [
    "list = [4, 5, 6];\n",
    "\n",
    "for el in list:\n",
    "    print(el)"
   ]
  },
  {
   "cell_type": "markdown",
   "metadata": {},
   "source": [
    "but indices of a javascript array"
   ]
  },
  {
   "cell_type": "code",
   "execution_count": null,
   "metadata": {
    "vscode": {
     "languageId": "javascript"
    }
   },
   "outputs": [],
   "source": [
    "%%script node\n",
    "\n",
    "arr = [4, 5, 6];\n",
    "\n",
    "for(el in arr){\n",
    "    console.log(arr[el])\n",
    "}"
   ]
  },
  {
   "cell_type": "markdown",
   "metadata": {},
   "source": [
    "to return values in an array,  \n",
    "use 'of' keyword instead"
   ]
  },
  {
   "cell_type": "code",
   "execution_count": null,
   "metadata": {
    "vscode": {
     "languageId": "javascript"
    }
   },
   "outputs": [],
   "source": [
    "%%script node\n",
    "\n",
    "arr = [4, 5, 6];\n",
    "\n",
    "for(el of arr){\n",
    "    console.log(el)\n",
    "}"
   ]
  },
  {
   "cell_type": "markdown",
   "metadata": {},
   "source": [
    "but the best way to run through items in a javascript array is  \n",
    "by passing anonymous /arrow function to 'forEach' array method"
   ]
  },
  {
   "cell_type": "code",
   "execution_count": null,
   "metadata": {
    "vscode": {
     "languageId": "javascript"
    }
   },
   "outputs": [],
   "source": [
    "%%script node\n",
    "\n",
    "arr = [4, 5, 6];\n",
    "\n",
    "// forEach does nothing with the returns from the callback arrow function\n",
    "console.log(arr.forEach(a => {return a}));\n",
    "\n",
    "// renews calling array with the returns from callback arrow function \n",
    "console.log(arr.map(a => {return a}));"
   ]
  },
  {
   "cell_type": "markdown",
   "metadata": {},
   "source": [
    "---\n",
    "nested array for loop"
   ]
  },
  {
   "cell_type": "code",
   "execution_count": 17,
   "metadata": {},
   "outputs": [
    {
     "name": "stdout",
     "output_type": "stream",
     "text": [
      "720\n"
     ]
    }
   ],
   "source": [
    "nested = [[1],[2, 3],[4, 5, 6]]\n",
    "product = 1\n",
    "\n",
    "for i in range(0, len(nested), 1):\n",
    "    for j in range(len(nested[i])):\n",
    "        product *= nested[i][j]\n",
    "\n",
    "print(product)"
   ]
  },
  {
   "cell_type": "code",
   "execution_count": null,
   "metadata": {
    "vscode": {
     "languageId": "javascript"
    }
   },
   "outputs": [],
   "source": [
    "%%script node\n",
    "\n",
    "nested = [[1],[2, 3],[4, 5, 6]];\n",
    "product = 1;\n",
    "\n",
    "for (i=0; i < nested.length; i++) {\n",
    "    for (j=0; j < nested[i].length; j++) {\n",
    "        product *= nested[i][j];\n",
    "    }\n",
    "}\n",
    "\n",
    "console.log(product)"
   ]
  },
  {
   "cell_type": "markdown",
   "metadata": {},
   "source": [
    "## while loop"
   ]
  },
  {
   "cell_type": "code",
   "execution_count": 31,
   "metadata": {},
   "outputs": [
    {
     "name": "stdout",
     "output_type": "stream",
     "text": [
      "you rolled a 3\n",
      "you rolled a 6\n"
     ]
    }
   ],
   "source": [
    "import random\n",
    "\n",
    "dice = random.randint(0,6)\n",
    "while dice !=6:\n",
    "    print(f'you rolled a {dice}')\n",
    "    dice = random.randint(0,6)\n",
    "\n",
    "\n",
    "print(f'you rolled a {dice}')"
   ]
  },
  {
   "cell_type": "code",
   "execution_count": 29,
   "metadata": {
    "vscode": {
     "languageId": "javascript"
    }
   },
   "outputs": [
    {
     "name": "stdout",
     "output_type": "stream",
     "text": [
      "you rolled a 2\n",
      "you rolled a 4\n",
      "you rolled a 1\n",
      "you rolled a 2\n",
      "you rolled a 6\n"
     ]
    }
   ],
   "source": [
    "%%script node\n",
    "\n",
    "let dice = Math.trunc(Math.random()*6)+1\n",
    "while(dice !==6) {\n",
    "    console.log(`you rolled a ${dice}`);\n",
    "    dice = Math.trunc(Math.random()*6)+1;\n",
    "}\n",
    "\n",
    "console.log(`you rolled a ${dice}`)"
   ]
  },
  {
   "cell_type": "markdown",
   "metadata": {},
   "source": []
  },
  {
   "cell_type": "code",
   "execution_count": 23,
   "metadata": {},
   "outputs": [
    {
     "name": "stdout",
     "output_type": "stream",
     "text": [
      "6 []\n"
     ]
    }
   ],
   "source": [
    "myArr = []\n",
    "i = 6\n",
    "\n",
    "while 3 < i < 6:\n",
    "    myArr.append(i)\n",
    "    i-=1\n",
    " \n",
    "print(i, myArr)"
   ]
  },
  {
   "cell_type": "markdown",
   "metadata": {},
   "source": [
    "'do while' runs the loop at least once"
   ]
  },
  {
   "cell_type": "code",
   "execution_count": 15,
   "metadata": {
    "vscode": {
     "languageId": "javascript"
    }
   },
   "outputs": [
    {
     "name": "stdout",
     "output_type": "stream",
     "text": [
      "3 [ 6, 5, 4 ]\n"
     ]
    }
   ],
   "source": [
    "%%script node\n",
    "\n",
    "myArr = [];\n",
    "i = 6;\n",
    "\n",
    "do {\n",
    "    myArr.push(i)\n",
    "    i--\n",
    "} while(3 < i && i < 6);\n",
    "\n",
    "console.log(i, myArr)"
   ]
  },
  {
   "cell_type": "markdown",
   "metadata": {},
   "source": []
  }
 ],
 "metadata": {
  "kernelspec": {
   "display_name": "Python 3.10.4 ('xproj': conda)",
   "language": "python",
   "name": "python3"
  },
  "language_info": {
   "codemirror_mode": {
    "name": "ipython",
    "version": 3
   },
   "file_extension": ".py",
   "mimetype": "text/x-python",
   "name": "python",
   "nbconvert_exporter": "python",
   "pygments_lexer": "ipython3",
   "version": "3.10.4"
  },
  "orig_nbformat": 4,
  "vscode": {
   "interpreter": {
    "hash": "ab8c4c1aa065ef4bf45014346553f7c05662feb01cd522c7343b10a256a1e8d9"
   }
  }
 },
 "nbformat": 4,
 "nbformat_minor": 2
}

{
  "cells": [
    {
      "cell_type": "markdown",
      "metadata": {},
      "source": [
        "## String escape"
      ]
    },
    {
      "cell_type": "code",
      "execution_count": 10,
      "metadata": {},
      "outputs": [
        {
          "name": "stdout",
          "output_type": "stream",
          "text": [
            "this is \"quotation\" inside string quotation\n",
            "this is 'quotation' inside string quotation\n",
            "this is \"quotation\" inside string quotation\n"
          ]
        }
      ],
      "source": [
        "\n",
        "print('this is \"quotation\" inside string quotation')\n",
        "print(\"this is 'quotation' inside string quotation\")\n",
        "print(\"this is \\\"quotation\\\" inside string quotation\")"
      ]
    },
    {
      "cell_type": "code",
      "execution_count": null,
      "metadata": {
        "vscode": {
          "languageId": "javascript"
        }
      },
      "outputs": [],
      "source": [
        "%%script node\n",
        "\n",
        "\n",
        "console.log('this is \"quotation\" inside string quotation')\n",
        "console.log(`this is \"quotation\" inside string quotation`)\n",
        "console.log(\"this is 'quotation' inside string quotation\")\n",
        "console.log(\"this is \\\"quotation\\\" inside string quotation\")"
      ]
    },
    {
      "cell_type": "markdown",
      "metadata": {},
      "source": [
        "## template literals string formatting\n",
        "\n",
        "for including expressions inside stirngs"
      ]
    },
    {
      "cell_type": "code",
      "execution_count": 8,
      "metadata": {},
      "outputs": [
        {
          "name": "stdout",
          "output_type": "stream",
          "text": [
            "1.1 string strn_var\n",
            "1.1 string strn_var\n",
            "1.1 string strn_var\n",
            "1.1 string strn_var\n",
            "multi\n",
            "line strn_var\n",
            "1.1\n",
            "multi\n",
            "line\n",
            "strn_var\n"
          ]
        }
      ],
      "source": [
        "flt = 1.1\n",
        "\n",
        "strn = 'strn_var'\n",
        "\n",
        "print(flt, 'string', strn)\n",
        "print(str(flt) + ' string ' + strn)\n",
        "\n",
        "# old style\n",
        "print('%s string %s' % (flt, strn))\n",
        "#                    arguments supplied\n",
        "#                           as tuple\n",
        "\n",
        "# new style f-string format\n",
        "print(f'{flt} string {strn}')\n",
        "\n",
        "# triple quoted multi-line\n",
        "print('''multi\n",
        "line,\n",
        "string''')\n",
        "\n",
        "# triple quoted multi-line string with f template string\n",
        "print(f'''{flt}\n",
        "multi\n",
        "line\n",
        "{strn}''')"
      ]
    },
    {
      "cell_type": "markdown",
      "metadata": {},
      "source": [
        "Javascript uses backticks for template literals, dollar sign curly braces for placeholder javascript code"
      ]
    },
    {
      "cell_type": "code",
      "execution_count": 1,
      "metadata": {
        "vscode": {
          "languageId": "javascript"
        }
      },
      "outputs": [
        {
          "name": "stdout",
          "output_type": "stream",
          "text": [
            "1.1 string str_var\n",
            "1.1 string str_var\n",
            "1.1 string str_var\n",
            "1.1 string str_var\n",
            "1.1\n",
            "multi\n",
            "line\n",
            "str_var\n"
          ]
        }
      ],
      "source": [
        "%%script node\n",
        "\n",
        "flt = 1.1\n",
        "\n",
        "strn = 'str_var';\n",
        "\n",
        "console.log(flt, 'string', strn)\n",
        "console.log(flt + ' string ' + strn)\n",
        "\n",
        "console.log('%s string %s', flt, strn)\n",
        "//                      comma separated string\n",
        "//                       formatting arguments\n",
        "\n",
        "console.log(`${flt} string ${strn}`)\n",
        "\n",
        "// multiline backtick template string\n",
        "console.log(`${flt}\n",
        "multi\n",
        "line\n",
        "${strn}`)"
      ]
    },
    {
      "cell_type": "markdown",
      "metadata": {},
      "source": [
        "---\n",
        "# escape characters"
      ]
    },
    {
      "cell_type": "code",
      "execution_count": 40,
      "metadata": {},
      "outputs": [
        {
          "name": "stdout",
          "output_type": "stream",
          "text": [
            "a\n",
            "cb\n",
            "e\n",
            "fg\n",
            "\fg\n"
          ]
        }
      ],
      "source": [
        "print('a' # multiple strings are concatenated\n",
        "'\\n\\tb'   # new line, tab\n",
        "'\\rc'     # carriage return puts c before b\n",
        "'d\\b'     # backspace deletes d\n",
        "'''\\ne\n",
        "f\\\n",
        "g'''      # backslash before EOL ignores new line in triple quote multiline stirng template\n",
        "'\\n\\fh')  # form feed"
      ]
    },
    {
      "cell_type": "code",
      "execution_count": 41,
      "metadata": {
        "vscode": {
          "languageId": "javascript"
        }
      },
      "outputs": [
        {
          "data": {
            "application/javascript": "\nconsole.log('a',\n'\\n\\tb',\n'\\rc',\n'd\\b',\n`f\\\ng`,\n'\\n\\fh')\n\n",
            "text/plain": [
              "<IPython.core.display.Javascript object>"
            ]
          },
          "metadata": {},
          "output_type": "display_data"
        }
      ],
      "source": [
        "%%script node\n",
        "\n",
        "console.log('a',\n",
        "'\\n\\tb',\n",
        "'\\rc',\n",
        "'d\\b',\n",
        "`f\\\n",
        "g`,\n",
        "'\\n\\fh')\n",
        "\n"
      ]
    },
    {
      "cell_type": "markdown",
      "metadata": {},
      "source": [
        "string append"
      ]
    },
    {
      "cell_type": "code",
      "execution_count": 45,
      "metadata": {},
      "outputs": [
        {
          "name": "stdout",
          "output_type": "stream",
          "text": [
            "dog, cat, bird\n",
            "My name is farhan\n"
          ]
        }
      ],
      "source": [
        "\n",
        "string = 'dog, cat'\n",
        "string += ', bird'\n",
        "\n",
        "print(string)\n",
        "\n",
        "playerIntro = 'My name is '\n",
        "\n",
        "myName = input()\n",
        "\n",
        "playerIntro += myName\n",
        "\n",
        "print(playerIntro)"
      ]
    },
    {
      "cell_type": "code",
      "execution_count": 42,
      "metadata": {
        "vscode": {
          "languageId": "javascript"
        }
      },
      "outputs": [
        {
          "data": {
            "application/javascript": "\nstring = 'dog, cat'\nstring += ', bird'\n\nconsole.log(string)\n",
            "text/plain": [
              "<IPython.core.display.Javascript object>"
            ]
          },
          "metadata": {},
          "output_type": "display_data"
        }
      ],
      "source": [
        "%%script node\n",
        "\n",
        "string = 'dog, cat';\n",
        "string += ', bird';\n",
        "\n",
        "console.log(string);\n",
        "\n",
        "playerIntro = 'My name is ';\n",
        "\n",
        "prompt = require('prompt-sync')({sigint: true});\n",
        "\n",
        "playerName = prompt(playerIntro);\n",
        "\n",
        "playerIntro = playerIntro + playerName;\n",
        "\n",
        "console.log(playerIntro)"
      ]
    },
    {
      "cell_type": "markdown",
      "metadata": {},
      "source": [
        "string length"
      ]
    },
    {
      "cell_type": "code",
      "execution_count": 53,
      "metadata": {},
      "outputs": [
        {
          "data": {
            "text/plain": [
              "6"
            ]
          },
          "execution_count": 53,
          "metadata": {},
          "output_type": "execute_result"
        }
      ],
      "source": [
        "string = 'string'\n",
        "\n",
        "len(string)"
      ]
    },
    {
      "cell_type": "code",
      "execution_count": 55,
      "metadata": {
        "vscode": {
          "languageId": "javascript"
        }
      },
      "outputs": [
        {
          "data": {
            "application/javascript": "\nstring = 'string';\n\nconsole.log(string.length)\n",
            "text/plain": [
              "<IPython.core.display.Javascript object>"
            ]
          },
          "metadata": {},
          "output_type": "display_data"
        }
      ],
      "source": [
        "%%script node\n",
        "\n",
        "string = 'string';\n",
        "\n",
        "console.log(string.length)"
      ]
    },
    {
      "cell_type": "markdown",
      "metadata": {},
      "source": [
        "find string character with bracket notation"
      ]
    },
    {
      "cell_type": "code",
      "execution_count": 58,
      "metadata": {},
      "outputs": [
        {
          "name": "stdout",
          "output_type": "stream",
          "text": [
            "t\n",
            "g\n"
          ]
        }
      ],
      "source": [
        "string = 'string'\n",
        "\n",
        "# second letter\n",
        "print(string[1])\n",
        "\n",
        "# n-th to last letter\n",
        "print(string[-2])"
      ]
    },
    {
      "cell_type": "code",
      "execution_count": 60,
      "metadata": {
        "vscode": {
          "languageId": "javascript"
        }
      },
      "outputs": [
        {
          "data": {
            "application/javascript": "\nstring = 'string';\n\nconsole.log(string[1])\n\nconsole.log(string[string.len-2])\n",
            "text/plain": [
              "<IPython.core.display.Javascript object>"
            ]
          },
          "metadata": {},
          "output_type": "display_data"
        }
      ],
      "source": [
        "%%script node\n",
        "\n",
        "string = 'string';\n",
        "\n",
        "// second letter\n",
        "console.log(string[1])\n",
        "\n",
        "// n-th to last letter\n",
        "console.log(string[string.length-2])"
      ]
    },
    {
      "cell_type": "markdown",
      "metadata": {},
      "source": [
        "change characters within strings"
      ]
    },
    {
      "cell_type": "code",
      "execution_count": 64,
      "metadata": {},
      "outputs": [
        {
          "name": "stdout",
          "output_type": "stream",
          "text": [
            "bring\n",
            "strong\n"
          ]
        }
      ],
      "source": [
        "string = 'string'\n",
        "\n",
        "\n",
        "# slice from given index to end\n",
        "print('b' + string[2:])\n",
        "\n",
        "# slice from start to character before the given index\n",
        "string = string[:3] + 'ong'\n",
        "\n",
        "print(string)\n",
        "\n"
      ]
    },
    {
      "cell_type": "code",
      "execution_count": null,
      "metadata": {
        "vscode": {
          "languageId": "javascript"
        }
      },
      "outputs": [],
      "source": [
        "%%script node\n",
        "\n",
        "string = 'string'\n",
        "\n",
        "// slice from given index to end\n",
        "string = 'b' + string.slice(2)\n",
        "\n",
        "console.log(string)\n",
        "\n",
        "// slice from start to given index\n",
        "string = string.slice(0,2) + 'ong'\n",
        "\n",
        "console.log(string)\n"
      ]
    },
    {
      "cell_type": "markdown",
      "metadata": {},
      "source": [
        "---\n",
        "return html with template literal"
      ]
    },
    {
      "cell_type": "code",
      "execution_count": null,
      "metadata": {},
      "outputs": [],
      "source": []
    },
    {
      "cell_type": "code",
      "execution_count": null,
      "metadata": {
        "vscode": {
          "languageId": "javascript"
        }
      },
      "outputs": [],
      "source": [
        "%%script node\n",
        "result = {\n",
        "score5: [`Abdur Razzak's head`, `Mizanur Azhari's head`]\n",
        "};\n",
        "\n",
        "htmlDom = [`\n",
        "   <li class='text-warning>Your prize is:</li>`];\n",
        "\n",
        "result.score5.forEach(a => htmlDom.push(`\n",
        "   <li class='text-warning>${a}</li>`));\n",
        "\n",
        "console.log(htmlDom);"
      ]
    }
  ],
  "metadata": {
    "kernelspec": {
      "display_name": "Python 3.10.4 ('xproj': conda)",
      "language": "python",
      "name": "python3"
    },
    "language_info": {
      "codemirror_mode": {
        "name": "ipython",
        "version": 3
      },
      "file_extension": ".py",
      "mimetype": "text/x-python",
      "name": "python",
      "nbconvert_exporter": "python",
      "pygments_lexer": "ipython3",
      "version": "3.10.4"
    },
    "orig_nbformat": 4,
    "vscode": {
      "interpreter": {
        "hash": "ab8c4c1aa065ef4bf45014346553f7c05662feb01cd522c7343b10a256a1e8d9"
      }
    }
  },
  "nbformat": 4,
  "nbformat_minor": 2
}

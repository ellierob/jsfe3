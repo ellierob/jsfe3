{
 "cells": [
  {
   "cell_type": "markdown",
   "metadata": {},
   "source": [
    "## Package manager"
   ]
  },
  {
   "cell_type": "markdown",
   "metadata": {},
   "source": [
    "### New project"
   ]
  },
  {
   "cell_type": "code",
   "execution_count": null,
   "metadata": {
    "vscode": {
     "languageId": "bat"
    }
   },
   "outputs": [],
   "source": [
    "# configure\n",
    "!yarn config set init-author-name 'Farhan Absar'"
   ]
  },
  {
   "cell_type": "code",
   "execution_count": null,
   "metadata": {
    "vscode": {
     "languageId": "bat"
    }
   },
   "outputs": [],
   "source": [
    "# initialize pakckage/project directory\n",
    "# -y/--yes flag accepts all default parameters /key value without prompt\n",
    "!yarn init -y"
   ]
  },
  {
   "cell_type": "code",
   "execution_count": null,
   "metadata": {
    "vscode": {
     "languageId": "bat"
    }
   },
   "outputs": [],
   "source": [
    "# Install packages listed in package.json\n",
    "\n",
    "#!yarn\n",
    "!yarn install"
   ]
  },
  {
   "cell_type": "markdown",
   "metadata": {},
   "source": [
    "### add /remove package from project"
   ]
  },
  {
   "cell_type": "markdown",
   "metadata": {},
   "source": [
    "As dependecy  \n",
    "-D/--dev flag adds package as dependency:  \n",
    "lists package and version as key value pair  \n",
    "in package.json dependency object  \n",
    "insided directory root-directory specified by --cwd"
   ]
  },
  {
   "cell_type": "code",
   "execution_count": null,
   "metadata": {
    "vscode": {
     "languageId": "bat"
    }
   },
   "outputs": [],
   "source": [
    "#!npm --prefix $gol/webapp/reactapp add lodash@4.17.3\n",
    "!yarn --cwd $gol/webapp/reactapp add lodash@4.17.3"
   ]
  },
  {
   "cell_type": "markdown",
   "metadata": {},
   "source": [
    "As development dependency"
   ]
  },
  {
   "cell_type": "code",
   "execution_count": null,
   "metadata": {
    "vscode": {
     "languageId": "bat"
    }
   },
   "outputs": [],
   "source": [
    "# development dependency\n",
    "# lists package with version as key value pair \n",
    "# inside package.json devDependencies object\n",
    "\n",
    "#!npm add --save-dev gulp\n",
    "!yarn add gulp -D"
   ]
  },
  {
   "cell_type": "code",
   "execution_count": null,
   "metadata": {
    "vscode": {
     "languageId": "bat"
    }
   },
   "outputs": [],
   "source": [
    "# remove package\n",
    "\n",
    "#!npm rm --save-dev gulp \n",
    "!yarn remove gulp"
   ]
  },
  {
   "cell_type": "markdown",
   "metadata": {},
   "source": [
    "As global dependency   \n",
    "goes in yarn global root directory: /home/user/.yarn/bin  \n",
    "not in node_modules folder or listed in packages.json   "
   ]
  },
  {
   "cell_type": "code",
   "execution_count": null,
   "metadata": {
    "vscode": {
     "languageId": "bat"
    }
   },
   "outputs": [],
   "source": [
    "#!npm add -g nodemon\n",
    "!yarn global add nodemon"
   ]
  },
  {
   "cell_type": "code",
   "execution_count": null,
   "metadata": {
    "vscode": {
     "languageId": "bat"
    }
   },
   "outputs": [],
   "source": [
    "# show root global yarn binary folder\n",
    "!yarn global bin"
   ]
  },
  {
   "cell_type": "code",
   "execution_count": null,
   "metadata": {
    "vscode": {
     "languageId": "bat"
    }
   },
   "outputs": [],
   "source": [
    "# remove\n",
    "!yarn global remove nodemon"
   ]
  },
  {
   "cell_type": "markdown",
   "metadata": {},
   "source": [
    "From package.json file"
   ]
  },
  {
   "cell_type": "code",
   "execution_count": null,
   "metadata": {
    "vscode": {
     "languageId": "bat"
    }
   },
   "outputs": [],
   "source": [
    "# install all packages from both package.json dependency \n",
    "# & devDependency objects\n",
    "\n",
    "#!npm install\n",
    "!yarn install"
   ]
  },
  {
   "cell_type": "code",
   "execution_count": null,
   "metadata": {
    "vscode": {
     "languageId": "bat"
    }
   },
   "outputs": [],
   "source": [
    "# installs only from package.json dependency object\n",
    "\n",
    "#!npm install --production\n",
    "!yarn install"
   ]
  },
  {
   "cell_type": "markdown",
   "metadata": {},
   "source": [
    "### check package version"
   ]
  },
  {
   "cell_type": "code",
   "execution_count": 3,
   "metadata": {
    "vscode": {
     "languageId": "bat"
    }
   },
   "outputs": [
    {
     "name": "stdout",
     "output_type": "stream",
     "text": [
      "\u001b[2K\u001b[1G\u001b[1myarn list v1.22.19\u001b[22m\n",
      "\u001b[2K\u001b[1G\u001b[33mwarning\u001b[39m package.json: No license field\n",
      "\u001b[2K\u001b[1G\u001b[33mwarning\u001b[39m No license field\n",
      "\u001b[1G⠁ \u001b[0K\u001b[2K\u001b[1G\u001b[2K\u001b[1GDone in 0.06s.\n"
     ]
    }
   ],
   "source": [
    "# package version\n",
    "!cd 1; yarn list --pattern 'fs'"
   ]
  },
  {
   "cell_type": "markdown",
   "metadata": {},
   "source": [
    "### upgrade packages"
   ]
  },
  {
   "cell_type": "code",
   "execution_count": null,
   "metadata": {
    "vscode": {
     "languageId": "bat"
    }
   },
   "outputs": [],
   "source": [
    "# yarn itself\n",
    "!npm uninstall yarn -g\n",
    "!npm install yarn -g"
   ]
  },
  {
   "cell_type": "code",
   "execution_count": null,
   "metadata": {
    "vscode": {
     "languageId": "bat"
    }
   },
   "outputs": [],
   "source": [
    "# individually\n",
    "#!npm update lodash\n",
    "!yarn upgrade lodash"
   ]
  },
  {
   "cell_type": "code",
   "execution_count": null,
   "metadata": {
    "vscode": {
     "languageId": "bat"
    }
   },
   "outputs": [],
   "source": [
    "# all packages\n",
    "!yarn upgrade"
   ]
  },
  {
   "cell_type": "code",
   "execution_count": null,
   "metadata": {
    "vscode": {
     "languageId": "bat"
    }
   },
   "outputs": [],
   "source": [
    "# cache size"
   ]
  },
  {
   "cell_type": "code",
   "execution_count": null,
   "metadata": {
    "vscode": {
     "languageId": "bat"
    }
   },
   "outputs": [],
   "source": [
    "# cache clean\n",
    "!yarn cache clean"
   ]
  },
  {
   "cell_type": "markdown",
   "metadata": {},
   "source": [
    "## Run"
   ]
  },
  {
   "cell_type": "code",
   "execution_count": 2,
   "metadata": {
    "vscode": {
     "languageId": "bat"
    }
   },
   "outputs": [
    {
     "name": "stdout",
     "output_type": "stream",
     "text": [
      "\u001b[2K\u001b[1G\u001b[1myarn run v1.22.19\u001b[22m\n",
      "\u001b[2K\u001b[1G\u001b[2m$ PORT=3000 CHOKIDAR_USEPOLLING=true react-scripts start\u001b[22m\n",
      "(node:4500) [DEP_WEBPACK_DEV_SERVER_ON_AFTER_SETUP_MIDDLEWARE] DeprecationWarning: 'onAfterSetupMiddleware' option is deprecated. Please use the 'setupMiddlewares' option.\n",
      "(Use `node --trace-deprecation ...` to show where the warning was created)\n",
      "(node:4500) [DEP_WEBPACK_DEV_SERVER_ON_BEFORE_SETUP_MIDDLEWARE] DeprecationWarning: 'onBeforeSetupMiddleware' option is deprecated. Please use the 'setupMiddlewares' option.\n",
      "\u001b[2J\u001b[3J\u001b[H\u001b[36mStarting the development server...\u001b[39m\n",
      "\u001b[36m\u001b[39m\n",
      "\u001b[2J\u001b[3J\u001b[H\u001b[33mCompiled with warnings.\u001b[39m\n",
      "\u001b[33m\u001b[39m\n",
      "[eslint] \n",
      "src/App.js\n",
      "  \u001b[1mLine 19:9:\u001b[22m  'username' is assigned a value but never used  \u001b[33m\u001b[4mno-unused-vars\u001b[24m\u001b[39m\n",
      "\n",
      "src/components/Form.js\n",
      "  \u001b[1mLine 10:12:\u001b[22m  'books' is assigned a value but never used   \u001b[33m\u001b[4mno-unused-vars\u001b[24m\u001b[39m\n",
      "  \u001b[1mLine 10:29:\u001b[22m  'errLog' is assigned a value but never used  \u001b[33m\u001b[4mno-unused-vars\u001b[24m\u001b[39m\n",
      "\n",
      "src/customHooks/useFetch.js\n",
      "  \u001b[1mLine 50:3:\u001b[22m  React Hook useEffect has a missing dependency: 'errLog'. Either include it or remove the dependency array  \u001b[33m\u001b[4mreact-hooks/exhaustive-deps\u001b[24m\u001b[39m\n",
      "\n",
      "src/pages/Home/Home.js\n",
      "  \u001b[1mLine 9:9:\u001b[22m  'useEffect' is defined but never used  \u001b[33m\u001b[4mno-unused-vars\u001b[24m\u001b[39m\n",
      "\n",
      "Search for the \u001b[4m\u001b[33mkeywords\u001b[39m\u001b[24m to learn more about each warning.\n",
      "To ignore, add \u001b[36m// eslint-disable-next-line\u001b[39m to the line before.\n",
      "\n",
      "\u001b[1m\u001b[33mWARNING\u001b[39m\u001b[22m in [eslint] \n",
      "src/App.js\n",
      "  \u001b[1mLine 19:9:\u001b[22m  'username' is assigned a value but never used  \u001b[33m\u001b[4mno-unused-vars\u001b[24m\u001b[39m\n",
      "\n",
      "src/components/Form.js\n",
      "  \u001b[1mLine 10:12:\u001b[22m  'books' is assigned a value but never used   \u001b[33m\u001b[4mno-unused-vars\u001b[24m\u001b[39m\n",
      "  \u001b[1mLine 10:29:\u001b[22m  'errLog' is assigned a value but never used  \u001b[33m\u001b[4mno-unused-vars\u001b[24m\u001b[39m\n",
      "\n",
      "src/customHooks/useFetch.js\n",
      "  \u001b[1mLine 50:3:\u001b[22m  React Hook useEffect has a missing dependency: 'errLog'. Either include it or remove the dependency array  \u001b[33m\u001b[4mreact-hooks/exhaustive-deps\u001b[24m\u001b[39m\n",
      "\n",
      "src/pages/Home/Home.js\n",
      "  \u001b[1mLine 9:9:\u001b[22m  'useEffect' is defined but never used  \u001b[33m\u001b[4mno-unused-vars\u001b[24m\u001b[39m\n",
      "\n",
      "webpack compiled with \u001b[1m\u001b[33m1 warning\u001b[39m\u001b[22m\n",
      "^C\n"
     ]
    }
   ],
   "source": [
    "# run \"react-scripts start\" listed as start in package.json scripts\n",
    "!yarn start"
   ]
  },
  {
   "cell_type": "code",
   "execution_count": null,
   "metadata": {
    "vscode": {
     "languageId": "bat"
    }
   },
   "outputs": [],
   "source": [
    "# other scripts listed in package.json scripts\n",
    "!yarn run src_index_js"
   ]
  },
  {
   "cell_type": "markdown",
   "metadata": {},
   "source": [
    "# check integrity of project packages"
   ]
  },
  {
   "cell_type": "code",
   "execution_count": 5,
   "metadata": {
    "vscode": {
     "languageId": "bat"
    }
   },
   "outputs": [
    {
     "name": "stdout",
     "output_type": "stream",
     "text": [
      "\u001b[2K\u001b[1G\u001b[1myarn check v1.22.19\u001b[22m\n",
      "\u001b[2K\u001b[1G\u001b[33mwarning\u001b[39m package.json: No license field\n",
      "\u001b[2K\u001b[1G\u001b[33mwarning\u001b[39m No license field\n",
      "\u001b[2K\u001b[1G\u001b[32msuccess\u001b[39m Folder in sync.\n",
      "\u001b[2K\u001b[1GDone in 0.04s.\n"
     ]
    }
   ],
   "source": [
    "# \n",
    "!cd 1; yarn check --integrity"
   ]
  }
 ],
 "metadata": {
  "kernelspec": {
   "display_name": "Python 3.10.4 ('xproj': conda)",
   "language": "python",
   "name": "python3"
  },
  "language_info": {
   "codemirror_mode": {
    "name": "ipython",
    "version": 3
   },
   "file_extension": ".py",
   "mimetype": "text/x-python",
   "name": "python",
   "nbconvert_exporter": "python",
   "pygments_lexer": "ipython3",
   "version": "3.10.4"
  },
  "orig_nbformat": 4,
  "vscode": {
   "interpreter": {
    "hash": "ab8c4c1aa065ef4bf45014346553f7c05662feb01cd522c7343b10a256a1e8d9"
   }
  }
 },
 "nbformat": 4,
 "nbformat_minor": 2
}

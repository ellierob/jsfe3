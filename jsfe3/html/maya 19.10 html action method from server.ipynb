{
 "cells": [
  {
   "cell_type": "markdown",
   "metadata": {},
   "source": [
    "# html action method"
   ]
  },
  {
   "cell_type": "code",
   "execution_count": null,
   "metadata": {
    "vscode": {
     "languageId": "html"
    }
   },
   "outputs": [],
   "source": [
    "<!-- action is where ithe post method sends to? -->\n",
    "    <form action=\"/\" method=\"post\">\n",
    "        <input type=\"text\" name=\"num1\" placeholder=\"1st number\">\n",
    "        <input type=\"text\" name=\"num2\" placeholder=\"2nd number\">\n",
    "        <button type=\"submit\"></button>\n",
    "    </form>"
   ]
  }
 ],
 "metadata": {
  "kernelspec": {
   "display_name": "Python 3.10.7 64-bit",
   "language": "python",
   "name": "python3"
  },
  "language_info": {
   "name": "python",
   "version": "3.10.7"
  },
  "orig_nbformat": 4,
  "vscode": {
   "interpreter": {
    "hash": "e7370f93d1d0cde622a1f8e1c04877d8463912d04d973331ad4851f04de6915a"
   }
  }
 },
 "nbformat": 4,
 "nbformat_minor": 2
}

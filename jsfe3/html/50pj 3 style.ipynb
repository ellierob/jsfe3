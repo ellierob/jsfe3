{
 "cells": [
  {
   "cell_type": "code",
   "execution_count": null,
   "metadata": {
    "vscode": {
     "languageId": "html"
    }
   },
   "outputs": [],
   "source": [
    "<style>\n",
    "\n",
    "@import url(\n",
    "    'https://fonts.googleapis.com/css2?family=Roboto:wght@400;700&display=swap'\n",
    "    );\n",
    "\n",
    "/* applies to everything */\n",
    "* {\n",
    "    /* keeps the width as before adding border, padding etc. */\n",
    "    box-sizing: border-box;\n",
    "}\n",
    "\n",
    "body {\n",
    "    font-family: 'Roboto', sans-serif;\n",
    "    margin: 0;\n",
    "\n",
    "}\n",
    "\n",
    ".thr {\n",
    "    /*centers elements inside element*/\n",
    "    display: flex;\n",
    "    flex-direction: row;\n",
    "    flex-wrap: wrap;\n",
    "    \n",
    "    /* aligns items vertically */\n",
    "    align-items: center;\n",
    "    \n",
    "    /* alignts items horizontally */\n",
    "    justify-content: center;\n",
    "    height: 100vh;\n",
    "}\n",
    "\n",
    ".cont {\n",
    "    flex-basis: 33.333333%;\n",
    "}\n",
    "</style>"
   ]
  }
 ],
 "metadata": {
  "kernelspec": {
   "display_name": "Python 3.10.7 64-bit",
   "language": "python",
   "name": "python3"
  },
  "language_info": {
   "name": "python",
   "version": "3.10.7"
  },
  "orig_nbformat": 4,
  "vscode": {
   "interpreter": {
    "hash": "e7370f93d1d0cde622a1f8e1c04877d8463912d04d973331ad4851f04de6915a"
   }
  }
 },
 "nbformat": 4,
 "nbformat_minor": 2
}

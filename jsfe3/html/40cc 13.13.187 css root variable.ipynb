{
 "cells": [
  {
   "cell_type": "markdown",
   "metadata": {},
   "source": [
    "# css root variables"
   ]
  },
  {
   "cell_type": "code",
   "execution_count": null,
   "metadata": {
    "vscode": {
     "languageId": "html"
    }
   },
   "outputs": [],
   "source": [
    "<style>\n",
    "    /* css root variables */\n",
    ":root {\n",
    "    --color-primary: #5ec576;\n",
    "}\n",
    "\n",
    "p {\n",
    "    /* use var to use root variables */\n",
    "    color: var(--color-primary);\n",
    "}\n",
    "</style>"
   ]
  }
 ],
 "metadata": {
  "kernelspec": {
   "display_name": "Python 3.10.4 ('xproj': conda)",
   "language": "python",
   "name": "python3"
  },
  "language_info": {
   "name": "python",
   "version": "3.10.4"
  },
  "orig_nbformat": 4,
  "vscode": {
   "interpreter": {
    "hash": "ab8c4c1aa065ef4bf45014346553f7c05662feb01cd522c7343b10a256a1e8d9"
   }
  }
 },
 "nbformat": 4,
 "nbformat_minor": 2
}

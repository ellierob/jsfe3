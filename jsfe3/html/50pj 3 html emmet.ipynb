{
 "cells": [
  {
   "cell_type": "markdown",
   "metadata": {
    "vscode": {
     "languageId": "html"
    }
   },
   "source": [
    "## emmet"
   ]
  },
  {
   "cell_type": "code",
   "execution_count": null,
   "metadata": {
    "vscode": {
     "languageId": "html"
    }
   },
   "outputs": [],
   "source": [
    "<!--\n",
    "    !!!\n",
    "-->\n",
    "<!DOCTYPE html>"
   ]
  },
  {
   "cell_type": "code",
   "execution_count": null,
   "metadata": {
    "vscode": {
     "languageId": "html"
    }
   },
   "outputs": [],
   "source": [
    "<!-- \n",
    "! \n",
    "-->\n",
    "\n",
    "<!DOCTYPE html>\n",
    "<html lang=\"en\">\n",
    "<head>\n",
    "    <meta charset=\"UTF-8\">\n",
    "    <meta http-equiv=\"X-UA-Compatible\" content=\"IE=edge\">\n",
    "    <meta name=\"viewport\" content=\"width=device-width, initial-scale=1.0\">\n",
    "    <title>Document</title>\n",
    "</head>\n",
    "<body>\n",
    "    \n",
    "</body>\n",
    "</html>"
   ]
  },
  {
   "cell_type": "code",
   "execution_count": null,
   "metadata": {
    "vscode": {
     "languageId": "html"
    }
   },
   "outputs": [],
   "source": [
    "<!-- .thr -->\n",
    "<div class=\"thr\">\n",
    "\n",
    "    <!-- .cont*5 -->\n",
    "    <div class=\"cont\">\n",
    "        Lorem ipsum dolor sit amet, consectetur adipisicing elit. Numquam sed in facere nesciunt reiciendis quas impedit ab aut voluptatum? Voluptate rerum deleniti saepe nihil corporis architecto dolor quibusdam iusto ea.\n",
    "    </div>\n",
    "    <div class=\"cont\">\n",
    "        Lorem ipsum dolor sit amet, consectetur adipisicing elit. Numquam sed in facere nesciunt reiciendis quas impedit ab aut voluptatum? Voluptate rerum deleniti saepe nihil corporis architecto dolor quibusdam iusto ea.\n",
    "    </div>\n",
    "    <div class=\"cont\">\n",
    "        Lorem ipsum dolor sit amet, consectetur adipisicing elit. Numquam sed in facere nesciunt reiciendis quas impedit ab aut voluptatum? Voluptate rerum deleniti saepe nihil corporis architecto dolor quibusdam iusto ea.\n",
    "    </div>\n",
    "    <div class=\"cont\">\n",
    "        Lorem ipsum dolor sit amet, consectetur adipisicing elit. Numquam sed in facere nesciunt reiciendis quas impedit ab aut voluptatum? Voluptate rerum deleniti saepe nihil corporis architecto dolor quibusdam iusto ea.\n",
    "    </div>\n",
    "    <div class=\"cont\">\n",
    "        Lorem ipsum dolor sit amet, consectetur adipisicing elit. Numquam sed in facere nesciunt reiciendis quas impedit ab aut voluptatum? Voluptate rerum deleniti saepe nihil corporis architecto dolor quibusdam iusto ea.\n",
    "    </div>\n",
    "\n",
    "</div>\n",
    "\n",
    "<!-- link -->\n",
    "<link rel=\"stylesheet\" href=\"\">\n",
    "\n",
    "<!-- script:src-->\n",
    "<script src=\"\"></script>"
   ]
  }
 ],
 "metadata": {
  "kernelspec": {
   "display_name": "Python 3.10.7 64-bit",
   "language": "python",
   "name": "python3"
  },
  "language_info": {
   "name": "python",
   "version": "3.10.7"
  },
  "orig_nbformat": 4,
  "vscode": {
   "interpreter": {
    "hash": "e7370f93d1d0cde622a1f8e1c04877d8463912d04d973331ad4851f04de6915a"
   }
  }
 },
 "nbformat": 4,
 "nbformat_minor": 2
}

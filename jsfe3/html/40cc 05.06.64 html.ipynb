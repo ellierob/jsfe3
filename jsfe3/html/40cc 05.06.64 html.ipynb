{
 "cells": [
  {
   "cell_type": "markdown",
   "metadata": {},
   "source": [
    "### HTML\n",
    "hypertext markup language  "
   ]
  },
  {
   "cell_type": "code",
   "execution_count": null,
   "metadata": {
    "vscode": {
     "languageId": "html"
    }
   },
   "outputs": [],
   "source": []
  },
  {
   "cell_type": "markdown",
   "metadata": {},
   "source": [
    "### element\n",
    "consists of elements enclosed with opening and closing tags  \n",
    "all elements are child elements of the html element"
   ]
  },
  {
   "cell_type": "code",
   "execution_count": null,
   "metadata": {
    "vscode": {
     "languageId": "html"
    }
   },
   "outputs": [],
   "source": []
  },
  {
   "cell_type": "markdown",
   "metadata": {},
   "source": [
    "inline elements are inside parent element's paragraph  \n",
    "block elements form new line"
   ]
  },
  {
   "cell_type": "code",
   "execution_count": null,
   "metadata": {
    "vscode": {
     "languageId": "html"
    }
   },
   "outputs": [],
   "source": [
    "<!-- (p>a+h1)+a+p+a -->\n",
    "<p>p\n",
    "    <!--inline elements are inside parent element's paragraph -->\n",
    "    <a href=\"\">a</a>\n",
    "    <!-- block elements form new line inside parent element -->\n",
    "    <h1>h1</h1>\n",
    "</p>\n",
    "<a href=\"\">a</a>\n",
    "<p>p</p>\n",
    "<a href=\"\">a</a>"
   ]
  },
  {
   "cell_type": "markdown",
   "metadata": {},
   "source": [
    "head  \n",
    "for setting of page"
   ]
  },
  {
   "cell_type": "markdown",
   "metadata": {},
   "source": [
    "title element"
   ]
  },
  {
   "cell_type": "code",
   "execution_count": null,
   "metadata": {
    "vscode": {
     "languageId": "html"
    }
   },
   "outputs": [],
   "source": [
    "<html>\n",
    "<head>\n",
    "    <!-- title appears on the tab name -->\n",
    "    <title>Document</title>\n",
    "</head>\n",
    "<body>\n",
    "</body>\n",
    "</html>"
   ]
  },
  {
   "cell_type": "markdown",
   "metadata": {},
   "source": [
    "### attributes\n",
    "\n",
    "describes elements"
   ]
  },
  {
   "cell_type": "code",
   "execution_count": null,
   "metadata": {
    "vscode": {
     "languageId": "html"
    }
   },
   "outputs": [],
   "source": [
    "<!-- a -->\n",
    "<a href=\"\"></a>\n",
    "\n",
    "<!-- script:src -->\n",
    "<script src=\"\"></script>\n",
    "\n",
    "<!-- img -->\n",
    "<img src=\"\" alt=\"\">"
   ]
  },
  {
   "cell_type": "markdown",
   "metadata": {},
   "source": [
    "input elements  \n",
    "does nothing without javascript"
   ]
  },
  {
   "cell_type": "code",
   "execution_count": null,
   "metadata": {
    "vscode": {
     "languageId": "html"
    }
   },
   "outputs": [],
   "source": [
    "<input type=\"text\">"
   ]
  },
  {
   "cell_type": "markdown",
   "metadata": {},
   "source": [
    "input type can be specified  \n",
    "rejects everything that is does not match type"
   ]
  },
  {
   "cell_type": "code",
   "execution_count": null,
   "metadata": {
    "vscode": {
     "languageId": "html"
    }
   },
   "outputs": [],
   "source": [
    "<input type=\"number\">"
   ]
  },
  {
   "cell_type": "markdown",
   "metadata": {},
   "source": [
    "button element  \n",
    "does nothing without javascript"
   ]
  },
  {
   "cell_type": "code",
   "execution_count": null,
   "metadata": {
    "vscode": {
     "languageId": "html"
    }
   },
   "outputs": [],
   "source": [
    "<button>push</button>"
   ]
  },
  {
   "cell_type": "markdown",
   "metadata": {},
   "source": [
    "Form element  \n",
    "contains inputs and buttons  \n",
    "semantic (meaningful) html, helps SEO ignore? inputs and buttons"
   ]
  },
  {
   "cell_type": "code",
   "execution_count": null,
   "metadata": {
    "vscode": {
     "languageId": "html"
    }
   },
   "outputs": [],
   "source": [
    "<!-- form>input+button -->\n",
    "<form action=\"\">\n",
    "    <input type=\"text\">\n",
    "    <button>press</button>\n",
    "</form>"
   ]
  },
  {
   "cell_type": "markdown",
   "metadata": {},
   "source": [
    "#### universal attributes\n",
    "works on any element"
   ]
  },
  {
   "cell_type": "code",
   "execution_count": null,
   "metadata": {
    "vscode": {
     "languageId": "html"
    }
   },
   "outputs": [],
   "source": [
    "<!-- .cl1 -->\n",
    "<div class=\"cl1\">div of class 'cl1'</div>\n",
    "<div class=\"cl1\">div of class 'cl1'</div>\n",
    "\n",
    "<!-- p#id1 -->\n",
    "<p id=\"id1\">p of id 'id1'</p>"
   ]
  }
 ],
 "metadata": {
  "kernelspec": {
   "display_name": "Python 3.10.7 64-bit",
   "language": "python",
   "name": "python3"
  },
  "language_info": {
   "name": "python",
   "version": "3.10.7"
  },
  "orig_nbformat": 4,
  "vscode": {
   "interpreter": {
    "hash": "e7370f93d1d0cde622a1f8e1c04877d8463912d04d973331ad4851f04de6915a"
   }
  }
 },
 "nbformat": 4,
 "nbformat_minor": 2
}

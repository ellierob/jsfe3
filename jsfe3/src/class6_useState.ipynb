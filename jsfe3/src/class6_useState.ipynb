{
 "cells": [
  {
   "cell_type": "markdown",
   "metadata": {},
   "source": [
    "## UseState hook"
   ]
  },
  {
   "cell_type": "code",
   "execution_count": null,
   "metadata": {
    "vscode": {
     "languageId": "javascript"
    }
   },
   "outputs": [],
   "source": [
    "%%script node\n",
    "\n",
    "// hooks need to be imported from react\n",
    "import {useState} from 'react';\n",
    "\n",
    "const [cartCount, upCart] = useState(0)\n",
    "\n",
    "(<Book\n",
    "    /* passing statehandler to child component as prop\n",
    "    allows state lift from child to parent component */\n",
    "    upCart={upCart} \n",
    "    cartCount={cartCount}\n",
    "/>)"
   ]
  },
  {
   "cell_type": "code",
   "execution_count": null,
   "metadata": {
    "vscode": {
     "languageId": "javascript"
    }
   },
   "outputs": [],
   "source": [
    "%%script node\n",
    "\n",
    "function Book(props){\n",
    "    function addToCart(){\n",
    "        console.log('Im Clicked');\n",
    "        props.upCart(cartCount=> cartCount+=1);\n",
    "    }\n",
    "    function removeFromCart(){\n",
    "        if (props.cartCount > 0){\n",
    "            props.upCart(cartCount=> cartCount-=1);\n",
    "        }\n",
    "        if (props.cartCount === 0){\n",
    "            alert(`Can't decrease less than 0`);\n",
    "        }\n",
    "    }\n",
    "    return (\n",
    "        <div>\n",
    "            <button onClick={addToCart}>Add to cart</button>\n",
    "            <button onClick={removeFromCart}>Remove from cart</button>\n",
    "        </div>\n",
    "    )\n",
    "}"
   ]
  }
 ],
 "metadata": {
  "kernelspec": {
   "display_name": "Python 3.10.4 ('xproj': conda)",
   "language": "python",
   "name": "python3"
  },
  "language_info": {
   "name": "python",
   "version": "3.10.4"
  },
  "orig_nbformat": 4,
  "vscode": {
   "interpreter": {
    "hash": "ab8c4c1aa065ef4bf45014346553f7c05662feb01cd522c7343b10a256a1e8d9"
   }
  }
 },
 "nbformat": 4,
 "nbformat_minor": 2
}

{
 "cells": [
  {
   "cell_type": "markdown",
   "metadata": {},
   "source": [
    "## initialize, state variable"
   ]
  },
  {
   "cell_type": "code",
   "execution_count": null,
   "metadata": {
    "vscode": {
     "languageId": "javascript"
    }
   },
   "outputs": [],
   "source": [
    "%%script node\n",
    "\n",
    "// starting conditions\n",
    "// declare global variables outside initialize function\n",
    "let scores, currentScore, activePlayer, playing;\n",
    "const ini = function() {\n",
    "    scores = [0,0];\n",
    "    currentScore = 0;\n",
    "    activePlayer = 0;\n",
    "    // boolean state variable\n",
    "    playing = true;\n",
    "    diceEl.style.visibility = 'hidden';\n",
    "    // forEach on querySelectorAll\n",
    "    document.querySelectorAll('.score').forEach(a => {\n",
    "        a.textContent = 0;\n",
    "    })\n",
    "    document.querySelectorAll('.current-score').forEach(a => {\n",
    "        a.textContent = 0;\n",
    "    });\n",
    "    document.querySelectorAll('.player').forEach(a =>{\n",
    "        a.classList.remove('player--winner')\n",
    "    });\n",
    "    player0.classList.add('player--active');\n",
    "}\n",
    "ini();"
   ]
  },
  {
   "cell_type": "code",
   "execution_count": null,
   "metadata": {
    "vscode": {
     "languageId": "javascript"
    }
   },
   "outputs": [],
   "source": [
    "%%script node\n",
    "\n",
    "// images\n",
    "const diceEl = document.querySelector('.dice');\n",
    "\n",
    "// buttons\n",
    "const btnRoll = document.querySelector('.btn--roll');\n",
    "const btnHold = document.querySelector('.btn--hold');\n",
    "const btnNew = document.querySelector('.btn--new')\n",
    "\n",
    "// elements\n",
    "const player0 = document.querySelector('.player--0');\n",
    "const player1 = document.querySelector('.player--1');\n",
    "\n",
    "\n",
    "const swithcPlr = function(){\n",
    "    // initialize player score\n",
    "    currentScore = 0;\n",
    "    document.getElementById(\n",
    "        `current--${activePlayer}`\n",
    "        ).textContent = 0;\n",
    "\n",
    "    // switch player\n",
    "    activePlayer = activePlayer === 0 ? 1: 0;\n",
    "    // toggle method adds or removes class\n",
    "    player0.classList.toggle('player--active');\n",
    "    player1.classList.toggle('player--active');\n",
    "}\n",
    "\n",
    "btnRoll.addEventListener(\n",
    "    'click',\n",
    "    ()=>{\n",
    "        if (playing) {\n",
    "            const dice = Math.trunc(Math.random()*6+1);\n",
    "            console.log(dice);\n",
    "            if (diceEl.style.visibility === 'hidden') {\n",
    "                diceEl.style.visibility = 'visible';\n",
    "            }\n",
    "            // using variable within element source string\n",
    "            diceEl.src = `dice-${dice}.png`;\n",
    "    \n",
    "            if (dice !== 1){\n",
    "                currentScore += dice;\n",
    "                // update score\n",
    "                document.getElementById(\n",
    "                    `current--${activePlayer}`\n",
    "                    ).textContent = currentScore;\n",
    "            } else {\n",
    "                swithcPlr()\n",
    "            }\n",
    "        }\n",
    "\n",
    "    }\n",
    ")\n",
    "\n",
    "btnHold.addEventListener(\n",
    "    'click',\n",
    "    ()=>{\n",
    "        if (playing) {\n",
    "            // update total score\n",
    "            scores[activePlayer] += currentScore;\n",
    "            document.getElementById(`score--${activePlayer}`).textContent \n",
    "            = scores[activePlayer];\n",
    "\n",
    "            // winning condition\n",
    "            if (scores[activePlayer] >= 100) {\n",
    "                document.querySelector(`.player--${activePlayer}`).classList.add('player--winner');\n",
    "                document.querySelector(`.player--${activePlayer}`).classList.toggle('player--active');\n",
    "                diceEl.style.visibility = 'hidden';\n",
    "                playing = false;\n",
    "            } else swithcPlr();\n",
    "        }\n",
    "        \n",
    "    }\n",
    ")\n",
    "\n",
    "btnNew.addEventListener(\n",
    "    'click',\n",
    "    ini\n",
    ")"
   ]
  },
  {
   "cell_type": "code",
   "execution_count": null,
   "metadata": {
    "vscode": {
     "languageId": "javascript"
    }
   },
   "outputs": [],
   "source": [
    "%%script node"
   ]
  }
 ],
 "metadata": {
  "kernelspec": {
   "display_name": "Python 3.10.4 ('xproj': conda)",
   "language": "python",
   "name": "python3"
  },
  "language_info": {
   "name": "python",
   "version": "3.10.4"
  },
  "orig_nbformat": 4,
  "vscode": {
   "interpreter": {
    "hash": "ab8c4c1aa065ef4bf45014346553f7c05662feb01cd522c7343b10a256a1e8d9"
   }
  }
 },
 "nbformat": 4,
 "nbformat_minor": 2
}

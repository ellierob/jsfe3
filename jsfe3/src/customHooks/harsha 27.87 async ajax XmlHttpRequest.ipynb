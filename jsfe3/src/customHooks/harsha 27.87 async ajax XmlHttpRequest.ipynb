{
 "cells": [
  {
   "cell_type": "markdown",
   "metadata": {},
   "source": [
    "## synchronous\n",
    "* execution (context) thread\n",
    "* one line/block of code finishes execution at one stretch\n",
    "* only after finishing executing one line, the next line startes execution"
   ]
  },
  {
   "cell_type": "code",
   "execution_count": null,
   "metadata": {
    "vscode": {
     "languageId": "javascript"
    }
   },
   "outputs": [],
   "source": [
    "%%script node\n",
    "\n",
    "alert(`next line won't be executed until you click OK`)\n",
    "\n",
    "console.log('finally you clicked ok');"
   ]
  },
  {
   "cell_type": "markdown",
   "metadata": {},
   "source": [
    "## async call & callback\n",
    "one program /module /function makes async call to a callback function  \n",
    "tje function proceeds to execute other synchronous functions,  \n",
    "or node processes other functions,  \n",
    "until the first function receives  \n",
    "return of the callback function triggered by an event emit"
   ]
  },
  {
   "cell_type": "code",
   "execution_count": null,
   "metadata": {
    "vscode": {
     "languageId": "javascript"
    }
   },
   "outputs": [],
   "source": [
    "%%script node --input-type=\"module\"\n",
    "\n",
    "// let fs = require('node:fs')\n",
    "import * as fs from 'fs'\n",
    "// fs.readFile is a async call on the separate file system module /program \n",
    "// that executes on a separate thread than this calling module\n",
    "fs.readFile(\n",
    "    '/home/gnostic/Golem/backend/1/file.txt', \n",
    "    // encoding parameter\n",
    "    // encoding turns data from buffer object to string\n",
    "    // binary encoding does not support unicode characters\n",
    "    // utf-8 is best\n",
    "    'utf-8', \n",
    "    // this callback function \n",
    "    // asychronously awaits the response /event emit of the file system\n",
    "    // on a separate thread,\n",
    "    // and only then executes\n",
    "    (err,data)=>{ console.log(\n",
    "        // if err !== null \n",
    "        err ? err : data, \n",
    "        '\\n datatype:', typeof data, \n",
    "        '\\n data lenth:', data.length, \n",
    "        '\\n data 1 hexadecimal to decimal:', data[3]\n",
    "        )  }\n",
    "    )\n",
    "\n",
    "console.log(`File system callback is asynchronous, and may finish executing after this later line`);"
   ]
  },
  {
   "cell_type": "code",
   "execution_count": null,
   "metadata": {
    "vscode": {
     "languageId": "javascript"
    }
   },
   "outputs": [],
   "source": [
    "%%script node\n",
    "\n",
    "// putting code in callback function in setTimeout executes it after timeout\n",
    "setTimeout(\n",
    "    function(){\n",
    "        alert(`next line won't be executed until you click OK`)\n",
    "    },\n",
    "    50\n",
    ")\n",
    "\n",
    "console.log('finally you clicked ok');"
   ]
  },
  {
   "cell_type": "code",
   "execution_count": null,
   "metadata": {
    "vscode": {
     "languageId": "javascript"
    }
   },
   "outputs": [],
   "source": [
    "%%script node\n",
    "\n",
    "const img = document.createElement('img');\n",
    "\n",
    "document.querySelector('body').append(img);\n",
    "\n",
    "img.src = './img/img-1.jpg';\n",
    "\n",
    "// event listener does not make code asynchronous\n",
    "img.addEventListener(\n",
    "    // event emition being asynchronous makes it asynchronous\n",
    "    'Load', function(){\n",
    "    img.classList.add('fadeIn')\n",
    "})"
   ]
  },
  {
   "cell_type": "markdown",
   "metadata": {},
   "source": [
    "# ajax\n",
    "asynchronous javascript and XML:  \n",
    "* loads json /xml from remote servers asynchronously without reloading entire page\n",
    "* XML data format is not used for communication\n",
    "* instead JSON is \n",
    "* is browser built-in XMLHttpRequest object"
   ]
  },
  {
   "cell_type": "markdown",
   "metadata": {},
   "source": [
    "## XMHttpRequest browser object\n",
    "contains methods that allows transfer of data\n",
    "* is used under different names in all client-side languages jQuery, React, Angular"
   ]
  },
  {
   "cell_type": "code",
   "execution_count": null,
   "metadata": {
    "vscode": {
     "languageId": "javascript"
    }
   },
   "outputs": [],
   "source": [
    "%%script node\n",
    "\n",
    "// new XMLHttpRequest object created\n",
    "let xhr = new XMLHttpRequest();\n",
    "\n",
    "// has method open\n",
    "\n",
    "// "
   ]
  },
  {
   "cell_type": "markdown",
   "metadata": {},
   "source": [
    "## http tcp/ip udp\n",
    "* datagram\n",
    "* *  divided into packets of MTU (1500 bytes)\n",
    "* * contains header\n",
    "* * * checksum, datagram size\n",
    "* * and payload"
   ]
  },
  {
   "cell_type": "markdown",
   "metadata": {},
   "source": [
    "## XMLHttp Request methods"
   ]
  },
  {
   "cell_type": "code",
   "execution_count": null,
   "metadata": {
    "vscode": {
     "languageId": "javascript"
    }
   },
   "outputs": [],
   "source": [
    "%%script node\n",
    "\n",
    "xhr.open();"
   ]
  },
  {
   "cell_type": "code",
   "execution_count": null,
   "metadata": {
    "vscode": {
     "languageId": "javascript"
    }
   },
   "outputs": [],
   "source": [
    "%%script node\n",
    "\n",
    "// all listeners must be declared before request is sent\n",
    "xhr.onload() = (req, res)=>{ console.log(req.res)}"
   ]
  },
  {
   "cell_type": "code",
   "execution_count": null,
   "metadata": {
    "vscode": {
     "languageId": "javascript"
    }
   },
   "outputs": [],
   "source": [
    "%%script node\n",
    "\n",
    "xhr.onerror() = (err) => { console.log(err);}"
   ]
  },
  {
   "cell_type": "code",
   "execution_count": null,
   "metadata": {
    "vscode": {
     "languageId": "javascript"
    }
   },
   "outputs": [],
   "source": [
    "%%script node\n",
    "\n",
    "xhr.send();"
   ]
  },
  {
   "cell_type": "markdown",
   "metadata": {},
   "source": [
    "# async ajax call\n",
    "\n",
    "sends HTTP request object to \n",
    "* web API server control\n",
    "* * calls the method (GET/SET) specified in the request object\n",
    "* * passing as argument the url from the same reuquest object\n",
    "* * sendst to SQL /noSQL data storage server\n",
    "* * * which returns unserialized model\n",
    "* * serializes the model to JSON\n",
    "* * sends the JSON  back to HTML page ajax caller as\n",
    "* * * HTTP response object"
   ]
  },
  {
   "cell_type": "markdown",
   "metadata": {},
   "source": [
    "## request response model\n",
    "client-server architercture\n",
    "* client requests IP-port for URL domain from DNS\n",
    "* DNS sends IP-port to client"
   ]
  },
  {
   "cell_type": "markdown",
   "metadata": {},
   "source": [
    "## web server online API\n",
    "contains methods that external apps can call"
   ]
  },
  {
   "cell_type": "markdown",
   "metadata": {},
   "source": [
    "# ways to use xmlhttp request object\n",
    "* node http\n",
    "* chrome fetch api\n",
    "* jquery"
   ]
  },
  {
   "cell_type": "markdown",
   "metadata": {},
   "source": [
    "## node http"
   ]
  },
  {
   "cell_type": "code",
   "execution_count": null,
   "metadata": {
    "vscode": {
     "languageId": "javascript"
    }
   },
   "outputs": [],
   "source": [
    "%%script node\n",
    "\n",
    "const ctrs = [\n",
    "    'portugal',\n",
    "    'brazil'\n",
    "]\n",
    "\n",
    "ctrs.forEach(c=>{\n",
    "    const ctrEl = document.createElement('article')\n",
    "    ctrEl.classList.add('country');\n",
    "    ctrEl.dataset['country']=c;\n",
    "    ctrEl.innerHTML = `<article class=\"country\" data-country=\"\">\n",
    "<img class=\"country__img\" src=\"\" />\n",
    "<div class=\"country__data\">\n",
    "  <h3 class=\"country__name\">COUNTRY</h3>\n",
    "  <h4 class=\"country__region\">REGION</h4>\n",
    "  <p class=\"country__pop\"><span>👫</span>POP people</p>\n",
    "  <p class=\"country__lang\"><span>🗣️</span>LANG</p>\n",
    "  <p class=\"country__cur\"><span>💰</span>CUR</p>\n",
    "</div>`\n",
    "\n",
    "    // XMLHttpRequest returns a request object with 'open' methods\n",
    "    const xhr = new XMLHttpRequest();\n",
    "    xhr.open(\n",
    "        'GET',\n",
    "        // public API url from github.com/public-apis/public-apis/blob.master/README.md\n",
    "        `https://restcountries.com/v3.1/name/${c}`\n",
    "        )\n",
    "    \n",
    "    xhr.addEventListener('load', function(e){\n",
    "        //JSON.parse converts JSON to array of objects\n",
    "        const data = JSON.parse(\n",
    "            // responseText is a JSON\n",
    "            this.responseText\n",
    "            );\n",
    "        console.log(\n",
    "            `receipt:`, rcv, '\\n', \n",
    "            'responsetext:', data\n",
    "            );\n",
    "        \n",
    "        countriesContainer.insertAdjacentElement('beforeend', ctrEl)\n",
    "    \n",
    "        if(data[0].name.common.slice(1)===ctrEl.dataset.country.slice(1)){\n",
    "            ctrEl.querySelector('.country__img').src = data[0].flags.png;\n",
    "            ctrEl.querySelector('.country__name').textContent += `: ${data[0].name.common}`;\n",
    "            ctrEl.querySelector('.country__region').textContent += `: ${data[0].name.common}`;\n",
    "            ctrEl.querySelector('.country__pop').textContent += `: ${data[0].population}`;\n",
    "            ctrEl.querySelector('.country__lang').textContent += `: ${Object.values(data[0].languages).toString()}`;\n",
    "            ctrEl.querySelector('.country__cur').textContent += `: ${Object.values(data[0].currencies).map(v=>v.name).toString()}`;\n",
    "        }\n",
    "        \n",
    "    })\n",
    "    \n",
    "    const rcv = xhr.send();\n",
    "    \n",
    "    countriesContainer.style.opacity = 1;\n",
    "})\n"
   ]
  },
  {
   "cell_type": "markdown",
   "metadata": {},
   "source": [
    "### promise"
   ]
  },
  {
   "cell_type": "code",
   "execution_count": null,
   "metadata": {
    "vscode": {
     "languageId": "javascript"
    }
   },
   "outputs": [],
   "source": [
    "%%script node\n",
    "\n",
    "const prom = new Promise"
   ]
  },
  {
   "cell_type": "markdown",
   "metadata": {},
   "source": [
    "## jquery ajax"
   ]
  },
  {
   "cell_type": "code",
   "execution_count": null,
   "metadata": {
    "vscode": {
     "languageId": "javascript"
    }
   },
   "outputs": [],
   "source": [
    "%%script node\n",
    "\n",
    "$.ajax({\n",
    "    url: \"/ \",\n",
    "    type: \"GET | POST | PUT | DELETE \",\n",
    "    success: function(){},\n",
    "    error: function(){}\n",
    "});"
   ]
  },
  {
   "cell_type": "code",
   "execution_count": null,
   "metadata": {
    "vscode": {
     "languageId": "javascript"
    }
   },
   "outputs": [],
   "source": [
    "%%script node\n",
    "\n",
    "// object converted to JSON when sending\n",
    "JSON.stringify()\n",
    "\n",
    "// JSON to object when receiving\n"
   ]
  },
  {
   "cell_type": "markdown",
   "metadata": {},
   "source": []
  },
  {
   "cell_type": "code",
   "execution_count": null,
   "metadata": {
    "vscode": {
     "languageId": "javascript"
    }
   },
   "outputs": [],
   "source": [
    "%%script node\n",
    "\n",
    "$.ajax({\n",
    "    url: \"/getemployees \",\n",
    "    type: \"GET\",\n",
    "    success: function(res){console.log('response', '\\n', res);\n",
    "    },\n",
    "    error: function(err){console.log('error', '\\n', err);\n",
    "    }\n",
    "});"
   ]
  },
  {
   "cell_type": "markdown",
   "metadata": {},
   "source": [
    "### fetch"
   ]
  },
  {
   "cell_type": "code",
   "execution_count": null,
   "metadata": {
    "vscode": {
     "languageId": "javascript"
    }
   },
   "outputs": [],
   "source": [
    "%%script node\n",
    "\n",
    "fetch(url)\n",
    "// fetch returns promise by default\n",
    "// callbacks can be chained to it\n",
    ".then(res=>{\n",
    "    console.log(\n",
    "        // readable stream format\n",
    "        res.body\n",
    "        );\n",
    "    return res;\n",
    "})\n",
    ".catch(err=>{console.log(err);})\n",
    ".then(res => {\n",
    "    console.log(\n",
    "        // converts res.body readable stream to text\n",
    "        typeof res.text(), ':', res.text(),\n",
    "        typeof res.json(), ':', res.json()\n",
    "    );\n",
    "})"
   ]
  },
  {
   "cell_type": "markdown",
   "metadata": {},
   "source": []
  },
  {
   "cell_type": "code",
   "execution_count": null,
   "metadata": {
    "vscode": {
     "languageId": "javascript"
    }
   },
   "outputs": [],
   "source": [
    "%%script node\n",
    "\n"
   ]
  },
  {
   "cell_type": "markdown",
   "metadata": {},
   "source": []
  },
  {
   "cell_type": "code",
   "execution_count": null,
   "metadata": {
    "vscode": {
     "languageId": "javascript"
    }
   },
   "outputs": [],
   "source": [
    "%%script node\n",
    "\n"
   ]
  },
  {
   "cell_type": "markdown",
   "metadata": {},
   "source": []
  },
  {
   "cell_type": "code",
   "execution_count": null,
   "metadata": {
    "vscode": {
     "languageId": "javascript"
    }
   },
   "outputs": [],
   "source": [
    "%%script node\n",
    "\n"
   ]
  },
  {
   "cell_type": "markdown",
   "metadata": {},
   "source": []
  },
  {
   "cell_type": "code",
   "execution_count": null,
   "metadata": {
    "vscode": {
     "languageId": "javascript"
    }
   },
   "outputs": [],
   "source": [
    "%%script node\n",
    "\n"
   ]
  }
 ],
 "metadata": {
  "kernelspec": {
   "display_name": "Python 3.10.7 64-bit",
   "language": "python",
   "name": "python3"
  },
  "language_info": {
   "name": "python",
   "version": "3.10.8"
  },
  "orig_nbformat": 4,
  "vscode": {
   "interpreter": {
    "hash": "e7370f93d1d0cde622a1f8e1c04877d8463912d04d973331ad4851f04de6915a"
   }
  }
 },
 "nbformat": 4,
 "nbformat_minor": 2
}

{
 "cells": [
  {
   "cell_type": "markdown",
   "metadata": {},
   "source": [
    "## hooks\n",
    "\n",
    "(16.8)\n",
    "* hooks are for function based components\n",
    "* allows use state & other react features \n",
    "* otherwise in class based react components\n",
    "* * such as componentdidmount for useeffect"
   ]
  },
  {
   "cell_type": "markdown",
   "metadata": {},
   "source": [
    "### use state"
   ]
  },
  {
   "cell_type": "code",
   "execution_count": null,
   "metadata": {
    "vscode": {
     "languageId": "javascript"
    }
   },
   "outputs": [],
   "source": [
    "%%script node\n",
    "\n",
    "// hooks need to be imported from react\n",
    "import useState from React;\n",
    "\n",
    "/*state handler /hook for react to render state change */\n",
    "const [cartCount, upCart] = useState(0)\n",
    "const [cost, setCost] = useState(0)\n",
    "\n",
    "const [books, setBooks] = useState([])"
   ]
  },
  {
   "cell_type": "markdown",
   "metadata": {},
   "source": [
    "### use effect"
   ]
  },
  {
   "cell_type": "code",
   "execution_count": null,
   "metadata": {
    "vscode": {
     "languageId": "javascript"
    }
   },
   "outputs": [],
   "source": [
    "%%script node\n",
    "\n",
    "import useEffect from React;\n",
    "\n",
    "// by default use effect executes after component first mount\n",
    "// without it fetch runs on loop\n",
    "useEffect(()=>{\n",
    "    fetch('http://localhost:3001/books')\n",
    "    .then(response => response.json()) // .json method converts json to object\n",
    "    .then(data => setBooks(data))\n",
    "},\n",
    "[]\n",
    ")"
   ]
  },
  {
   "cell_type": "code",
   "execution_count": 2,
   "metadata": {
    "vscode": {
     "languageId": "javascript"
    }
   },
   "outputs": [
    {
     "name": "stderr",
     "output_type": "stream",
     "text": [
      "UsageError: Cell magic `%%typescript` not found.\n"
     ]
    }
   ],
   "source": [
    "%%typescript\n",
    "\n",
    "// in src/customHooks/useFetch.js\n",
    "\n",
    "import {useState, useEffect} from 'react';\n",
    "\n",
    "\n",
    "function useFetch(url, method){\n",
    "    \n",
    "  const [tbl, setTbl] = useState([])\n",
    "  const [packet, setPack] = useState(null)\n",
    "  const [errLog, setErr] = useState(false)\n",
    "  \n",
    "  const postData = (data)=>{\n",
    "    setPack({\n",
    "      method: \"POST\",\n",
    "      headers: {\n",
    "        \"Content-Type\": \"application/json\"\n",
    "      },\n",
    "      body: JSON.stringify(data)\n",
    "    })\n",
    "  }\n",
    "\n",
    "  // by default use effect executes after component first mount\n",
    "  // without it fetch runs on loop\n",
    "  useEffect(()=>{\n",
    "    // async keyword? used when task cannot be finished in one go\n",
    "    const fetchData = async (pack) => {\n",
    "      try {\n",
    "        // await keyword? to indicate later part of task\n",
    "        const res = await fetch(url, {...pack});\n",
    "        if(res.status === 404){\n",
    "          throw new Error(res.statusText)\n",
    "        }\n",
    "        const data = await res.json();\n",
    "        console.log(data)\n",
    "        setTbl(data)\n",
    "        //setBooks(res.json());\n",
    "      }\n",
    "      catch (err){\n",
    "        setErr(true)\n",
    "        console.log(errLog)\n",
    "      }      \n",
    "    }\n",
    "\n",
    "    if(method===\"GET\"){\n",
    "      fetchData()\n",
    "      } else if(method===\"POST\") {\n",
    "      fetchData(packet)\n",
    "      }\n",
    "      \n",
    "  },\n",
    "  [url, packet, method ]\n",
    "  )\n",
    "\n",
    "  console.log(tbl, errLog)\n",
    "  return [tbl, postData, errLog]\n",
    "}\n",
    "\n",
    "\n",
    "// needs to be exported\n",
    "/*export default useFetch*/"
   ]
  },
  {
   "cell_type": "code",
   "execution_count": null,
   "metadata": {
    "vscode": {
     "languageId": "javascript"
    }
   },
   "outputs": [],
   "source": [
    "%%script node\n",
    "\n",
    "// custom hook needs to be imported\n",
    "/*import useFetch from './customHooks/useFetch'; */\n",
    "\n",
    "const [birds] = useFetch('http://localhost:3001/birds', 'GET')\n",
    "\n",
    "console.log({birds})"
   ]
  }
 ],
 "metadata": {
  "kernelspec": {
   "display_name": "Python 3.10.4 ('xproj': conda)",
   "language": "python",
   "name": "python3"
  },
  "language_info": {
   "codemirror_mode": {
    "name": "ipython",
    "version": 3
   },
   "file_extension": ".py",
   "mimetype": "text/x-python",
   "name": "python",
   "nbconvert_exporter": "python",
   "pygments_lexer": "ipython3",
   "version": "3.10.4 (main, Mar 31 2022, 08:41:55) [GCC 7.5.0]"
  },
  "orig_nbformat": 4,
  "vscode": {
   "interpreter": {
    "hash": "53ce4a372613acec3ced89ec12332be295014eb9a6e3df2a36b8fcc73e5ff10d"
   }
  }
 },
 "nbformat": 4,
 "nbformat_minor": 2
}

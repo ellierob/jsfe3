{
 "cells": [
  {
   "cell_type": "markdown",
   "metadata": {},
   "source": [
    "# jquery DOM selector /manipulator library\n",
    "converts long javascript DOM selector syntax into short jquery DOM selector"
   ]
  },
  {
   "cell_type": "markdown",
   "metadata": {},
   "source": [
    "## jquery is a library that needs to be imported"
   ]
  },
  {
   "cell_type": "code",
   "execution_count": null,
   "metadata": {
    "vscode": {
     "languageId": "javascript"
    }
   },
   "outputs": [],
   "source": [
    "// jquery library needs to be imported either in the module or in the html head\n",
    "// import $ from './node_modules/jquery/dist/jquery.js';\n",
    "// <head><script src='./node_modules/jquery/dist/jquery.js'></script>\n",
    "\n",
    "// better to load jquery from popular google CDN, so that it will already be cached in client memory\n",
    "// <script src=\"https://ajax.googleapis.com/ajax/libs/jquery/3.6.1/jquery.min.js\"></script>\n"
   ]
  },
  {
   "cell_type": "code",
   "execution_count": null,
   "metadata": {
    "vscode": {
     "languageId": "javascript"
    }
   },
   "outputs": [],
   "source": [
    "%%script node\n",
    "\n",
    "// javascript\n",
    "document.getElementById('div1')\n",
    "\n",
    "// jquery\n",
    "$('#div2')"
   ]
  },
  {
   "cell_type": "markdown",
   "metadata": {},
   "source": [
    "## $() /jquery() : document.querySelectorAll()\n",
    "predefined function \n",
    "* takes selector for argument\n",
    "* returns a jquery object like nodelist object\n",
    "* $('x')[0] = document.querySelector('x')\n",
    "* jquery object methods don't exist in node objects, node methods don't exist in jquery object"
   ]
  },
  {
   "cell_type": "code",
   "execution_count": null,
   "metadata": {
    "vscode": {
     "languageId": "javascript"
    }
   },
   "outputs": [],
   "source": [
    "%%script node\n",
    "\n",
    "try{\n",
    "    console.log($('#div2').textContent);\n",
    "    console.log(document.querySelector('#div1').text());\n",
    "} catch(e){\n",
    "    console.log('node object methods not available on jquery object & jquery object methods not available on node objects')\n",
    "}"
   ]
  },
  {
   "cell_type": "markdown",
   "metadata": {},
   "source": [
    "## createElement"
   ]
  },
  {
   "cell_type": "code",
   "execution_count": null,
   "metadata": {
    "vscode": {
     "languageId": "javascript"
    }
   },
   "outputs": [],
   "source": [
    "%%script node\n",
    "\n",
    "// javascript DOM selector\n",
    "const divNew = document.createElement('div');\n",
    "\n",
    "// jquery DOM selector\n",
    "const divNew2 = $('<div>');"
   ]
  },
  {
   "cell_type": "markdown",
   "metadata": {},
   "source": [
    "## html() : innerHtml"
   ]
  },
  {
   "cell_type": "code",
   "execution_count": null,
   "metadata": {
    "vscode": {
     "languageId": "javascript"
    }
   },
   "outputs": [],
   "source": [
    "%%script node\n",
    "\n",
    "// javascript\n",
    "divNew.innerHTML = '<div>';\n",
    "\n",
    "// jquery\n",
    "divNew2.html('<div>')"
   ]
  },
  {
   "cell_type": "markdown",
   "metadata": {},
   "source": [
    "## text(): textContent"
   ]
  },
  {
   "cell_type": "code",
   "execution_count": null,
   "metadata": {
    "vscode": {
     "languageId": "javascript"
    }
   },
   "outputs": [],
   "source": [
    "%%script node\n",
    "\n",
    "// javascript DOM selector\n",
    "document.getElementById('div1').textContent = 'set by javascript DOM selector';\n",
    "\n",
    "// jquery DOM selector\n",
    "$(divNew).text(\"set by jquery DOM selector\");"
   ]
  },
  {
   "cell_type": "markdown",
   "metadata": {},
   "source": [
    "## append = insertAdjacentElement('beforeend', )"
   ]
  },
  {
   "cell_type": "code",
   "execution_count": null,
   "metadata": {
    "vscode": {
     "languageId": "javascript"
    }
   },
   "outputs": [],
   "source": [
    "%%script node\n",
    "\n",
    "// javascript DOM selector\n",
    "document.body.insertAdjacentElement('beforeend', divNew);\n",
    "\n",
    "// jquery DOM selector\n",
    "$('body').append(divNew2);"
   ]
  },
  {
   "cell_type": "markdown",
   "metadata": {},
   "source": [
    "## attr = ids and src"
   ]
  },
  {
   "cell_type": "code",
   "execution_count": null,
   "metadata": {
    "vscode": {
     "languageId": "javascript"
    }
   },
   "outputs": [],
   "source": [
    "%%script node\n",
    "\n",
    "// javascript DOM selector\n",
    "divNew.id = 'div1';\n",
    "divNew.hasAttribute('id');\n",
    "\n",
    "// jquery DOM selector\n",
    "divNew2.attr('id', 'div2');\n",
    "// multiple attributes with object argument\n",
    "divNew2.attr({'id': 'div2', 'name': 'div2'});\n",
    "// only one attr at once\n",
    "divNew2.removeAttr('name')"
   ]
  },
  {
   "cell_type": "markdown",
   "metadata": {},
   "source": [
    "## data('key') = dataset['key']"
   ]
  },
  {
   "cell_type": "code",
   "execution_count": null,
   "metadata": {
    "vscode": {
     "languageId": "javascript"
    }
   },
   "outputs": [],
   "source": [
    "%%script\n",
    "\n",
    "// javascript DOM selector\n",
    "divNew.dataset['key'] = 'value';\n",
    "console.log(divNew2.dataset['key']);\n",
    "\n",
    "// jquery DOM selector\n",
    "divNew2.data('key', 'value');\n",
    "console.log(divNew2.data('key'));"
   ]
  },
  {
   "cell_type": "markdown",
   "metadata": {},
   "source": [
    "## *class = classList.add()"
   ]
  },
  {
   "cell_type": "code",
   "execution_count": null,
   "metadata": {
    "vscode": {
     "languageId": "javascript"
    }
   },
   "outputs": [],
   "source": [
    "%%script node\n",
    "\n",
    "// javascript DOM selector\n",
    "paraNew.classList.add('p1', 'p3');\n",
    "paraNew.classList.remove('p3');\n",
    "paraNew.classList.contains('p3');\n",
    "\n",
    "// jquery DOM selector\n",
    "paraNew2.addClass('p2 p4');\n",
    "paraNew2.removeClass('p4');\n",
    "paraNew2.hasClass('p4');"
   ]
  },
  {
   "cell_type": "markdown",
   "metadata": {},
   "source": [
    "## CSS = style"
   ]
  },
  {
   "cell_type": "code",
   "execution_count": null,
   "metadata": {
    "vscode": {
     "languageId": "javascript"
    }
   },
   "outputs": [],
   "source": [
    "%%script node\n",
    "\n",
    "// javascript\n",
    "divNew.style.color = 'red';\n",
    "console.log(divNew.style.color);\n",
    "\n",
    "// jquery\n",
    "divNew2.css('color', 'red');\n",
    "// multiple css\n",
    "divNew2.css({'color': 'red', 'font-size': '20em'});\n",
    "console.log(divNew2.css('color'));"
   ]
  },
  {
   "cell_type": "markdown",
   "metadata": {},
   "source": [
    "### after() | before() = insertAdjacentHTML('afterend', ), insertAdjacentHTML('beforebegin', )"
   ]
  },
  {
   "cell_type": "code",
   "execution_count": null,
   "metadata": {
    "vscode": {
     "languageId": "javascript"
    }
   },
   "outputs": [],
   "source": [
    "%%script node\n",
    "\n",
    "//javascript\n",
    "document.body.insertAdjacentElement('beforebegin', divNew);\n",
    "\n",
    "// jquery\n",
    "$('body').before(divNew2);"
   ]
  },
  {
   "cell_type": "markdown",
   "metadata": {},
   "source": [
    "### insertBefore() = insertAdjacentHTML('beforebegin',)"
   ]
  },
  {
   "cell_type": "code",
   "execution_count": null,
   "metadata": {
    "vscode": {
     "languageId": "javascript"
    }
   },
   "outputs": [],
   "source": [
    "%% script node\n",
    "\n",
    "// jquery\n",
    "diveNew2.insertBefore($('body'));"
   ]
  },
  {
   "cell_type": "markdown",
   "metadata": {},
   "source": [
    "### prepend | append = insertAdjacentHTML('afterbegin',) , insertAdjacentHTML('beforeend',)"
   ]
  },
  {
   "cell_type": "code",
   "execution_count": null,
   "metadata": {
    "vscode": {
     "languageId": "javascript"
    }
   },
   "outputs": [],
   "source": [
    "%%script node\n",
    "\n",
    "//javascript\n",
    "document.body.insertAdjacentElement('beforeend', divNew);\n",
    "\n",
    "// jquery\n",
    "$('body').append(divNew2);"
   ]
  },
  {
   "cell_type": "markdown",
   "metadata": {},
   "source": [
    "### prependTo() | appendTo()"
   ]
  },
  {
   "cell_type": "code",
   "execution_count": null,
   "metadata": {
    "vscode": {
     "languageId": "javascript"
    }
   },
   "outputs": [],
   "source": [
    "%%script node\n",
    "\n",
    "// jquery\n",
    "paraNew2.appendTo($('body'));"
   ]
  },
  {
   "cell_type": "markdown",
   "metadata": {},
   "source": [
    "### remove() = remove()"
   ]
  },
  {
   "cell_type": "code",
   "execution_count": null,
   "metadata": {
    "vscode": {
     "languageId": "javascript"
    }
   },
   "outputs": [],
   "source": [
    "%%script node\n",
    "\n",
    "paraNew.remove();"
   ]
  },
  {
   "cell_type": "markdown",
   "metadata": {},
   "source": [
    "### empty()"
   ]
  },
  {
   "cell_type": "code",
   "execution_count": null,
   "metadata": {
    "vscode": {
     "languageId": "javascript"
    }
   },
   "outputs": [],
   "source": [
    "%%script node\n",
    "\n",
    "$('.p2').empty()"
   ]
  },
  {
   "cell_type": "markdown",
   "metadata": {},
   "source": [
    "### replaceWith()"
   ]
  },
  {
   "cell_type": "code",
   "execution_count": null,
   "metadata": {
    "vscode": {
     "languageId": "javascript"
    }
   },
   "outputs": [],
   "source": [
    "%%script node\n",
    "\n",
    "// jquery\n",
    "$('.p2').replaceWith(`<p class='p2'>using super jquery!</p>`)"
   ]
  },
  {
   "cell_type": "markdown",
   "metadata": {},
   "source": [
    "### wrap() | wrapAll()"
   ]
  },
  {
   "cell_type": "code",
   "execution_count": null,
   "metadata": {
    "vscode": {
     "languageId": "javascript"
    }
   },
   "outputs": [],
   "source": [
    "%%script node\n",
    "\n",
    "// jquery\n",
    "// each element wrapped by specified element\n",
    "$('.p2').wrap(`<div>`)\n",
    "// all elements wrapped by one element\n",
    "$('.p2').wrapAll(`<div>`)"
   ]
  },
  {
   "cell_type": "markdown",
   "metadata": {},
   "source": [
    "### hide(), show(), toggle(), fadeOut(), fadeIn(), fadeToggle(), slideUp(), slideDown(), slideToggle() = hide"
   ]
  },
  {
   "cell_type": "code",
   "execution_count": null,
   "metadata": {
    "vscode": {
     "languageId": "javascript"
    }
   },
   "outputs": [],
   "source": [
    "%%script node\n",
    "\n",
    "// javascript\n",
    "divNew\n",
    "\n",
    "// jquery\n",
    "// takes ms as argument\n",
    "divNew2.hide(2000);\n",
    "\n",
    "divNew2.fadeTo(\n",
    "    2000, \n",
    "    // opacity argument\n",
    "    0.5\n",
    "    )"
   ]
  },
  {
   "cell_type": "markdown",
   "metadata": {},
   "source": [
    "### animate()"
   ]
  },
  {
   "cell_type": "code",
   "execution_count": null,
   "metadata": {
    "vscode": {
     "languageId": "javascript"
    }
   },
   "outputs": [],
   "source": [
    "%%script node\n",
    "\n",
    "// only changes css properties with numeric value\n",
    "divNew2.animate(\n",
    "    {\n",
    "        opacity:0.5,\n",
    "        margin: '20%'\n",
    "    },\n",
    "    // time for animation in ms\n",
    "    2000\n",
    "    )"
   ]
  },
  {
   "cell_type": "markdown",
   "metadata": {},
   "source": [
    "## events\n",
    "* dblclick()\n",
    "* focus(), blur()\n",
    "* keyup(), keypress()\n",
    "* change()"
   ]
  },
  {
   "cell_type": "markdown",
   "metadata": {},
   "source": [
    "### on() = eventListener()\n",
    "on('click', )is preferable to click() because the latter does not attach to dynamically added elements"
   ]
  },
  {
   "cell_type": "code",
   "execution_count": null,
   "metadata": {
    "vscode": {
     "languageId": "javascript"
    }
   },
   "outputs": [],
   "source": [
    "%%script node\n",
    "\n",
    "//javascript\n",
    "divNew.addEventListener('mouseover', (e)=>{e.target.style.color='green'});\n",
    "\n",
    "//jquery\n",
    "divNew2.on('mouseover', (e)=>{$(e.target).css('color','green')});"
   ]
  },
  {
   "cell_type": "markdown",
   "metadata": {},
   "source": [
    "### off() = removeEventListener()"
   ]
  },
  {
   "cell_type": "code",
   "execution_count": null,
   "metadata": {
    "vscode": {
     "languageId": "javascript"
    }
   },
   "outputs": [],
   "source": [
    "%%script\n",
    "\n",
    "//jquery\n",
    "// off() method can only be called if on() is used in the element\n",
    "paybtn.on('click', e=>{\n",
    "    // can take multiple event arguments\n",
    "    $(e.target).off('click', 'input');\n",
    "})"
   ]
  },
  {
   "cell_type": "markdown",
   "metadata": {},
   "source": [
    "### click"
   ]
  },
  {
   "cell_type": "code",
   "execution_count": null,
   "metadata": {
    "vscode": {
     "languageId": "javascript"
    }
   },
   "outputs": [],
   "source": [
    "%%scipt node\n",
    "\n",
    "//javascript\n",
    "divNew.addEventListener('click', (e)=>{e.target.style.color='green'});\n",
    "\n",
    "//jquery\n",
    "divNew2.click((e)=>{$(e.target).css('color','green')});"
   ]
  },
  {
   "cell_type": "markdown",
   "metadata": {},
   "source": [
    "### keypress\n",
    "* event emitted before latest key is accepted, \n",
    "* allows rejecting latest key\n",
    "* * ASCII codes: uppercase 65-90, lowercase 97-122, digits 48-57, space 32, backspace 8"
   ]
  },
  {
   "cell_type": "code",
   "execution_count": null,
   "metadata": {
    "vscode": {
     "languageId": "javascript"
    }
   },
   "outputs": [],
   "source": [
    "%%script node\n",
    "\n",
    "//javascript\n",
    "inp.addEventListener('keyup', (e)=>{\n",
    "    console.log('keyup', e.key);\n",
    "    //divNew.textContent+=e.key;\n",
    "});\n",
    "inp.addEventListener('keydown', (e)=>{\n",
    "    console.log('keypress', e.key, e.which, inp2.val());\n",
    "    //  checking ASCII keypress events which attribute\n",
    "    if(e.which>=48 && e.which<=57){\n",
    "        // guard clause for prevents input element default e.which acceptance behavior\n",
    "        e.preventDefault();\n",
    "        inp.value += '!';\n",
    "    }\n",
    "});\n",
    "\n",
    "\n",
    "//jquery\n",
    "inp2.keyup((e)=>{\n",
    "    console.log('keyup', e.key, e.which, inp2.val());\n",
    "    //divNew2.text($(inp2).val())\n",
    "});\n",
    "inp2.keypress((e)=>{\n",
    "    console.log('keypress', e.key, e.which, inp2.val());\n",
    "    if(e.which>=48 && e.which<=57){\n",
    "        e.preventDefault();\n",
    "        inp2.val(inp2.val()+'!')\n",
    "    }\n",
    "});"
   ]
  },
  {
   "cell_type": "markdown",
   "metadata": {},
   "source": [
    "### change() = addEventListener('onchange', )\n"
   ]
  },
  {
   "cell_type": "markdown",
   "metadata": {},
   "source": [
    "in form input, change event triggers when enter/tab is pressed"
   ]
  },
  {
   "cell_type": "code",
   "execution_count": null,
   "metadata": {
    "vscode": {
     "languageId": "javascript"
    }
   },
   "outputs": [],
   "source": [
    "%%script node\n",
    "\n",
    "// javascript\n",
    "inp.addEventListener('change', (e)=>{\n",
    "    // val() returns the value attribute input element\n",
    "    divNew.textContent = inp.value;\n",
    "})\n",
    "\n",
    "// jquery\n",
    "inp2.change((e)=>{\n",
    "    // val() returns the value attribute input element\n",
    "    divNew2.text($(inp2).val());\n",
    "})"
   ]
  },
  {
   "cell_type": "markdown",
   "metadata": {},
   "source": [
    "in checkbox input, change event triggers when checked or unchecked"
   ]
  },
  {
   "cell_type": "code",
   "execution_count": null,
   "metadata": {
    "vscode": {
     "languageId": "javascript"
    }
   },
   "outputs": [],
   "source": [
    "%%script node\n",
    "\n",
    "// javscript\n",
    "chk.addEventListener('change', e=>{\n",
    "    if(chk[0].checked){\n",
    "        divNew.textContent = inp.value;\n",
    "    }\n",
    "})\n",
    "\n",
    "// jquery\n",
    "chk2.change(e=>{\n",
    "    if($(e.target)[0].checked){\n",
    "        divNew2.text($(inp2).val());\n",
    "    }\n",
    "})"
   ]
  },
  {
   "cell_type": "markdown",
   "metadata": {},
   "source": [
    "in dropdown select, event triggers when option is selected,  \n",
    "val() is selected option"
   ]
  },
  {
   "cell_type": "code",
   "execution_count": null,
   "metadata": {
    "vscode": {
     "languageId": "javascript"
    }
   },
   "outputs": [],
   "source": [
    "%%script node\n",
    "\n",
    "dropD.change(e=>{\n",
    "    if($(e.target).val()>1996){\n",
    "        e.preventDefault();\n",
    "        console.log('too young!');\n",
    "    }\n",
    "})"
   ]
  },
  {
   "cell_type": "markdown",
   "metadata": {},
   "source": [
    "radio input"
   ]
  },
  {
   "cell_type": "code",
   "execution_count": null,
   "metadata": {
    "vscode": {
     "languageId": "javascript"
    }
   },
   "outputs": [],
   "source": [
    "%%script node\n",
    "\n",
    "// javascript\n",
    "document.querySelectorAll('input[name=\"rad\"]').forEach(r=>{\n",
    "    r.addEventListener('change', e=>{\n",
    "        console.log(e.target.nextElementSibling.textContent);\n",
    "    })\n",
    "})\n",
    "\n",
    "// jquery\n",
    "$(\"input[name='rad2']\").change(e=>{\n",
    "    console.log($(e.target).next('span').text());\n",
    "})"
   ]
  },
  {
   "cell_type": "markdown",
   "metadata": {},
   "source": [
    "### mouseover, mouseout, hover\n",
    "hover() takes two functions as parameters: 1 for mouseover, 1 for mouseout"
   ]
  },
  {
   "cell_type": "code",
   "execution_count": null,
   "metadata": {
    "vscode": {
     "languageId": "javascript"
    }
   },
   "outputs": [],
   "source": [
    "%%script node\n",
    "\n",
    "$(divNew2).hover(\n",
    "    e=>{$(e.target).addClass('cl1');},\n",
    "    // 2nd argument for mouseout event\n",
    "    e=>{$(e.target).toggleClass('cl2');},\n",
    "    )"
   ]
  },
  {
   "cell_type": "markdown",
   "metadata": {},
   "source": [
    "### on('contextmenu',)"
   ]
  },
  {
   "cell_type": "code",
   "execution_count": null,
   "metadata": {
    "vscode": {
     "languageId": "javascript"
    }
   },
   "outputs": [],
   "source": [
    "%%script node\n",
    "\n",
    "$(winodow).on('contextmenu', e=>{e.preventDefault();})"
   ]
  },
  {
   "cell_type": "markdown",
   "metadata": {},
   "source": [
    "### on('cut copy paste',)"
   ]
  },
  {
   "cell_type": "code",
   "execution_count": null,
   "metadata": {
    "vscode": {
     "languageId": "javascript"
    }
   },
   "outputs": [],
   "source": [
    "%%script node\n",
    "\n",
    "$(winodow).on('cut copy paste', e=>{\n",
    "    e.preventDefault();\n",
    "    alert('cut copy paste disabled')\n",
    "})"
   ]
  },
  {
   "cell_type": "markdown",
   "metadata": {},
   "source": [
    "## dynamicall add update table rows with jquery"
   ]
  },
  {
   "cell_type": "code",
   "execution_count": null,
   "metadata": {
    "vscode": {
     "languageId": "javascript"
    }
   },
   "outputs": [],
   "source": [
    "%%script node\n",
    "\n",
    "//import dbJSON from './db.json' assert {type: 'json'};\n",
    "\n",
    "//const db = dbJSON.map(i=>i) || db2;\n",
    "\n",
    "\n",
    "//import fs from './node_modules/file-saver/dist/FileSaver.js';\n",
    "\n",
    "const tab = $('<table>');\n",
    "let rowNum = 1;\n",
    "\n",
    "tab.after()\n",
    "\n",
    "const newRow = $(`<tr><td>${rowNum}</td><td>${'<input value=\"name\">'}</td><td>${'<input value=\"age\">'}</td></tr>`);\n",
    "\n",
    "tab.append(newRow);\n",
    "\n",
    "$('body').append(tab);\n",
    "\n",
    "db.forEach(r=>{\n",
    "    newRow.before(`<tr><td>${rowNum}</td><td>${r.name}</td><td>${r.age}</td></tr>`);\n",
    "    rowNum ++;\n",
    "    newRow.find('td').first().text(rowNum);\n",
    "    console.log(rowNum, newRow.first('td'));\n",
    "});\n",
    "\n",
    "let nam = false;\n",
    "let age = false;\n",
    "\n",
    "newRow.on('change', e=>{\n",
    "    let rowNum = Number(newRow.find('td').first().text());\n",
    "    if($(e.target).attr('value')==='name'){\n",
    "        nam = $(e.target).val();\n",
    "    } else if($(e.target).attr('value')==='age'){\n",
    "        age = $(e.target).val();\n",
    "    }\n",
    "    if(!nam || !age){\n",
    "        console.log('define both');\n",
    "    } else {\n",
    "        newRow.before(`<tr><td>${rowNum}</td><td>${nam}</td><td>${age}</td></tr>`);\n",
    "        rowNum++;\n",
    "        newRow.html(`<td>${rowNum}</td><td><input value=\"name\"></td><td><input value=\"age\"></td>`);\n",
    "        db.push({'name':nam, 'age': age});\n",
    "        //try{\n",
    "            //let dbJSON = JSON.stringify(db);\n",
    "            //require(fs).writeFile('./db.json', dbJSON, 'utf8');\n",
    "        //} catch(e){\n",
    "            console.log(e);\n",
    "        //}\n",
    "        nam = false;\n",
    "        age = false;\n",
    "        console.log(db)\n",
    "    }\n",
    "})"
   ]
  },
  {
   "cell_type": "markdown",
   "metadata": {},
   "source": [
    "## selectors"
   ]
  },
  {
   "cell_type": "markdown",
   "metadata": {},
   "source": [
    "### navigators"
   ]
  },
  {
   "cell_type": "code",
   "execution_count": null,
   "metadata": {
    "vscode": {
     "languageId": "javascript"
    }
   },
   "outputs": [],
   "source": [
    "%%script node\n",
    "\n",
    ".parent()\n",
    ".next()\n",
    ".prev()\n",
    ".siblings()\n",
    ".children()\n",
    ".index()"
   ]
  },
  {
   "cell_type": "markdown",
   "metadata": {},
   "source": [
    "### grouping"
   ]
  },
  {
   "cell_type": "code",
   "execution_count": null,
   "metadata": {
    "vscode": {
     "languageId": "javascript"
    }
   },
   "outputs": [],
   "source": [
    "%%script node\n",
    "\n",
    "\n",
    "$('input, .p2, #div2')"
   ]
  },
  {
   "cell_type": "markdown",
   "metadata": {},
   "source": [
    "### direct child"
   ]
  },
  {
   "cell_type": "code",
   "execution_count": null,
   "metadata": {
    "vscode": {
     "languageId": "javascript"
    }
   },
   "outputs": [],
   "source": [
    "%%script node\n",
    "\n",
    "// selects direct child\n",
    "$('p > span')"
   ]
  },
  {
   "cell_type": "markdown",
   "metadata": {},
   "source": [
    "### descendant"
   ]
  },
  {
   "cell_type": "code",
   "execution_count": null,
   "metadata": {
    "vscode": {
     "languageId": "javascript"
    }
   },
   "outputs": [],
   "source": [
    "%%script node\n",
    "\n",
    "// any descendants, not just child\n",
    "$('p span')"
   ]
  },
  {
   "cell_type": "markdown",
   "metadata": {},
   "source": [
    "### subsequent /adjacent siblings"
   ]
  },
  {
   "cell_type": "code",
   "execution_count": null,
   "metadata": {
    "vscode": {
     "languageId": "javascript"
    }
   },
   "outputs": [],
   "source": [
    "%%script node\n",
    "\n",
    "// \n",
    "$('#p3~p')\n",
    "\n",
    "// immediate sibling\n",
    "$('#p3+p')"
   ]
  },
  {
   "cell_type": "markdown",
   "metadata": {},
   "source": [
    "### attribute selector"
   ]
  },
  {
   "cell_type": "code",
   "execution_count": null,
   "metadata": {
    "vscode": {
     "languageId": "javascript"
    }
   },
   "outputs": [],
   "source": [
    "%%script node\n",
    "\n",
    "$('img[src=\"earth.png\"]');\n",
    "\n",
    "// does not have attribute\n",
    "$('img[src!=\"earth.png\"]');\n",
    "\n",
    "// attribute starts with\n",
    "$('img[src^=\"ear\"]');\n",
    "\n",
    "// attribute ends with\n",
    "$('img[src*=\"art\"]');"
   ]
  },
  {
   "cell_type": "markdown",
   "metadata": {},
   "source": [
    "### filters"
   ]
  },
  {
   "cell_type": "markdown",
   "metadata": {},
   "source": [
    "by index"
   ]
  },
  {
   "cell_type": "code",
   "execution_count": null,
   "metadata": {
    "vscode": {
     "languageId": "javascript"
    }
   },
   "outputs": [],
   "source": [
    "%%script node\n",
    "\n",
    "// by index\n",
    "console.log($('p:eq(4)'));\n",
    "\n",
    "// index greater than specified\n",
    "console.log($('p:gt(4)'));\n",
    "\n",
    "// index less than specified\n",
    "console.log($('p:lt(4)'));\n",
    "\n",
    "// not \n",
    "console.log($('p:not(p:eq(4))'));"
   ]
  },
  {
   "cell_type": "markdown",
   "metadata": {},
   "source": [
    "by contained text"
   ]
  },
  {
   "cell_type": "code",
   "execution_count": null,
   "metadata": {
    "vscode": {
     "languageId": "javascript"
    }
   },
   "outputs": [],
   "source": [
    "%%script node\n",
    "\n",
    "// select by text contained\n",
    "console.log($('p:contains(\"some text\")'));"
   ]
  },
  {
   "cell_type": "markdown",
   "metadata": {},
   "source": [
    "by contained element"
   ]
  },
  {
   "cell_type": "code",
   "execution_count": null,
   "metadata": {
    "vscode": {
     "languageId": "javascript"
    }
   },
   "outputs": [],
   "source": [
    "%%script node\n",
    "\n",
    "console.log($('div:has(\"p\")'))"
   ]
  },
  {
   "cell_type": "markdown",
   "metadata": {},
   "source": [
    "empty elements"
   ]
  },
  {
   "cell_type": "code",
   "execution_count": null,
   "metadata": {
    "vscode": {
     "languageId": "javascript"
    }
   },
   "outputs": [],
   "source": [
    "%%script node\n",
    "\n",
    "console.log($('p:empty'))"
   ]
  },
  {
   "cell_type": "markdown",
   "metadata": {},
   "source": [
    "by their index within parent"
   ]
  },
  {
   "cell_type": "code",
   "execution_count": null,
   "metadata": {
    "vscode": {
     "languageId": "javascript"
    }
   },
   "outputs": [],
   "source": [
    "%%script node\n",
    "\n",
    "// selects paragraphs which are in any parent tag\n",
    "console.log($('p:first-child'));\n",
    "console.log($('p:nth-child(4)'));\n",
    "console.log($('p:last-child'));\n",
    "console.log($('p:only-child'));"
   ]
  },
  {
   "cell_type": "markdown",
   "metadata": {},
   "source": [
    "by children"
   ]
  },
  {
   "cell_type": "code",
   "execution_count": null,
   "metadata": {
    "vscode": {
     "languageId": "javascript"
    }
   },
   "outputs": [],
   "source": [
    "%%script node\n",
    "\n",
    "console.log($('p:first'));\n",
    "console.log($('p:last'));\n",
    "console.log($('p:even'));\n",
    "console.log($('p:odd'));"
   ]
  },
  {
   "cell_type": "markdown",
   "metadata": {},
   "source": [
    "form filters, by input type"
   ]
  },
  {
   "cell_type": "code",
   "execution_count": null,
   "metadata": {
    "vscode": {
     "languageId": "javascript"
    }
   },
   "outputs": [],
   "source": [
    "%%script node\n",
    "\n",
    "console.log($(':submit'));\n",
    "console.log($(':select'));\n",
    "console.log($(':password'));\n",
    "console.log($(':checkbox'));\n",
    "console.log($(':radio'));\n",
    "console.log($(':file'));\n",
    "console.log($(':image'));"
   ]
  },
  {
   "cell_type": "markdown",
   "metadata": {},
   "source": [
    "# jquery UI plugins"
   ]
  },
  {
   "cell_type": "markdown",
   "metadata": {},
   "source": [
    "autocomplete"
   ]
  },
  {
   "cell_type": "code",
   "execution_count": null,
   "metadata": {
    "vscode": {
     "languageId": "javascript"
    }
   },
   "outputs": [],
   "source": [
    "%%script node\n",
    "\n",
    "let options = [];\n",
    "\n",
    "$('#inp1').autocomplete({sourc: options});"
   ]
  },
  {
   "cell_type": "markdown",
   "metadata": {},
   "source": [
    "draggable"
   ]
  },
  {
   "cell_type": "code",
   "execution_count": null,
   "metadata": {
    "vscode": {
     "languageId": "javascript"
    }
   },
   "outputs": [],
   "source": [
    "%%script node\n",
    "\n"
   ]
  },
  {
   "cell_type": "markdown",
   "metadata": {},
   "source": [
    "sortable"
   ]
  },
  {
   "cell_type": "code",
   "execution_count": null,
   "metadata": {
    "vscode": {
     "languageId": "javascript"
    }
   },
   "outputs": [],
   "source": [
    "%%script node\n",
    "\n"
   ]
  },
  {
   "cell_type": "markdown",
   "metadata": {},
   "source": [
    "accordion"
   ]
  },
  {
   "cell_type": "code",
   "execution_count": null,
   "metadata": {
    "vscode": {
     "languageId": "javascript"
    }
   },
   "outputs": [],
   "source": [
    "%%script node\n",
    "\n"
   ]
  },
  {
   "cell_type": "markdown",
   "metadata": {},
   "source": [
    "tabs"
   ]
  },
  {
   "cell_type": "code",
   "execution_count": null,
   "metadata": {
    "vscode": {
     "languageId": "javascript"
    }
   },
   "outputs": [],
   "source": [
    "%%script node\n",
    "\n"
   ]
  }
 ],
 "metadata": {
  "kernelspec": {
   "display_name": "Python 3.10.4 ('xproj': conda)",
   "language": "python",
   "name": "python3"
  },
  "language_info": {
   "name": "python",
   "version": "3.10.4"
  },
  "orig_nbformat": 4,
  "vscode": {
   "interpreter": {
    "hash": "53ce4a372613acec3ced89ec12332be295014eb9a6e3df2a36b8fcc73e5ff10d"
   }
  }
 },
 "nbformat": 4,
 "nbformat_minor": 2
}

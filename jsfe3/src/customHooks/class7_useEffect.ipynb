{
 "cells": [
  {
   "cell_type": "markdown",
   "metadata": {},
   "source": [
    "## Fetch with useEffect"
   ]
  },
  {
   "cell_type": "code",
   "execution_count": null,
   "metadata": {
    "vscode": {
     "languageId": "javascript"
    }
   },
   "outputs": [],
   "source": [
    "%%script node\n",
    "\n",
    "// hooks need to be imported from react\n",
    "import {useEffect} from 'react';\n",
    "\n",
    "const [books, setBooks] = useState([])\n",
    "  \n",
    "// by default use effect executes after component first mount\n",
    "// without it fetch runs on loop\n",
    "useEffect(()=>{\n",
    "    fetch('http://localhost:3001/books')\n",
    "    .then(response => response.json()) // .json method converts json to object\n",
    "    .then(data => setBooks(data))\n",
    "},\n",
    "[]\n",
    ")\n",
    "  \n",
    "console.log(books)"
   ]
  },
  {
   "cell_type": "markdown",
   "metadata": {},
   "source": [
    "## async await\n",
    "By default javascript execution is:  \n",
    "1) single threaded  \n",
    "2) synchronous: finishes a task in one go, blocking other task\n",
    "\n",
    "Async await:  \n",
    "* is asynchronous: \n",
    "* * doesn't finish a task (i.e. waiting for response) in one go\n",
    "* * doesn't block other processes   \n",
    "* * (without opening multiple threads for parallel execution) \n",
    "* waits for response  \n",
    "until it reaches specified line"
   ]
  },
  {
   "cell_type": "code",
   "execution_count": null,
   "metadata": {
    "vscode": {
     "languageId": "javascript"
    }
   },
   "outputs": [],
   "source": [
    "%%script node\n",
    "\n",
    "import {useEffect} from 'react';\n",
    "\n",
    "const [birds, setBirds] = useState([])\n",
    "  \n",
    "useEffect(()=>{\n",
    "  // async keyword? used when task cannot be finished in one go\n",
    "  // const fetchData = async () => {\n",
    "  async () => {\n",
    "    // await keyword? to indicate later part of task\n",
    "    const res = await fetch('http://localhost:3000/birds');\n",
    "    // const data = await res.json()\n",
    "    // setBooks(data)\n",
    "    setBooks(res.json());\n",
    "    }\n",
    "    //fetchData()\n",
    "  },\n",
    "  []\n",
    ")\n",
    "\n",
    "console.log(birds)"
   ]
  }
 ],
 "metadata": {
  "kernelspec": {
   "display_name": "Python 3.10.4 ('xproj': conda)",
   "language": "python",
   "name": "python3"
  },
  "language_info": {
   "codemirror_mode": {
    "name": "ipython",
    "version": 3
   },
   "file_extension": ".py",
   "mimetype": "text/x-python",
   "name": "python",
   "nbconvert_exporter": "python",
   "pygments_lexer": "ipython3",
   "version": "3.10.4"
  },
  "orig_nbformat": 4,
  "vscode": {
   "interpreter": {
    "hash": "ab8c4c1aa065ef4bf45014346553f7c05662feb01cd522c7343b10a256a1e8d9"
   }
  }
 },
 "nbformat": 4,
 "nbformat_minor": 2
}

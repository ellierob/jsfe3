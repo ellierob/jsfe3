{
 "cells": [
  {
   "cell_type": "markdown",
   "metadata": {},
   "source": [
    "# Modal"
   ]
  },
  {
   "cell_type": "code",
   "execution_count": null,
   "metadata": {
    "vscode": {
     "languageId": "javascript"
    }
   },
   "outputs": [],
   "source": [
    "%%script node\n",
    "\n",
    "const modal = document.querySelector('.modal');\n",
    "const overlay = document.querySelector('.overlay');\n",
    "const btnClose = document.querySelector('.close-modal');\n",
    "\n",
    "// only the first element of class is selected\n",
    "const btnOpen = document.querySelector('.show-modal');\n",
    "\n",
    "// querySelectorAll selects multiple elements of same class\n",
    "// returns an array-like nodelist\n",
    "const btnsOpen = document.querySelectorAll('.show-modal');\n",
    "\n",
    "for (let i = 0; i < btnsOpen.length; i++) {\n",
    "    btnsOpen[i].addEventListener(\n",
    "        'click',\n",
    "        ()=>{\n",
    "            console.log('Button clicked');\n",
    "            // classList returns DOMTokenList array\n",
    "            // classList method remove removes passed classes from element\n",
    "            // only classes, so does not need . dot to distinguish\n",
    "            console.log(modal.classList);\n",
    "            modal.classList.remove('hidden');\n",
    "            overlay.classList.remove('hidden');\n",
    "        }\n",
    "    );\n",
    "}\n",
    "\n",
    "const closeModal = ()=> {\n",
    "    modal.classList.add('hidden');\n",
    "    overlay.classList.add('hidden');\n",
    "}\n",
    "\n",
    "btnClose.addEventListener('click', closeModal);\n",
    "overlay.addEventListener('click', closeModal);"
   ]
  },
  {
   "cell_type": "markdown",
   "metadata": {},
   "source": [
    "# key event"
   ]
  },
  {
   "cell_type": "code",
   "execution_count": null,
   "metadata": {
    "vscode": {
     "languageId": "javascript"
    }
   },
   "outputs": [],
   "source": [
    "%% script node\n",
    "\n",
    "document.addEventListener(\n",
    "    'keydown', \n",
    "    // addEventListener passes event as event object 'e' to eventhandler\n",
    "    (e)=>{\n",
    "        console.log(e);\n",
    "        console.log(`${e.key} was pressed`);\n",
    "        if (e.key === 'Escape' && !modal.classList.contains('hidden')){\n",
    "            closeModal();\n",
    "            console.log(modal.classList);\n",
    "        }\n",
    "    }\n",
    "    )"
   ]
  }
 ],
 "metadata": {
  "kernelspec": {
   "display_name": "Python 3.10.7 64-bit",
   "language": "python",
   "name": "python3"
  },
  "language_info": {
   "name": "python",
   "version": "3.10.8"
  },
  "orig_nbformat": 4,
  "vscode": {
   "interpreter": {
    "hash": "e7370f93d1d0cde622a1f8e1c04877d8463912d04d973331ad4851f04de6915a"
   }
  }
 },
 "nbformat": 4,
 "nbformat_minor": 2
}

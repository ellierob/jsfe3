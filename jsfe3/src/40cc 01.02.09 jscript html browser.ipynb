{
 "cells": [
  {
   "cell_type": "markdown",
   "metadata": {},
   "source": [
    "### inline script\n",
    "Placement of the javascript code in the html file matters  \n",
    "placing script in head, loads the script before the page  \n",
    "placing in after body, loads the script after the page  \n",
    "\n",
    "pros: don't have to load separate file  \n",
    "cons: lack of separation, privacy issues"
   ]
  },
  {
   "cell_type": "code",
   "execution_count": null,
   "metadata": {
    "vscode": {
     "languageId": "html"
    }
   },
   "outputs": [],
   "source": [
    "<!--src-->\n",
    "<script>\n",
    "    let js = 'amazing';\n",
    "    if (js==='amazing') alert ('javascript is FUN!')\n",
    "</script>"
   ]
  },
  {
   "cell_type": "markdown",
   "metadata": {},
   "source": [
    "result not shown in console without explicit command"
   ]
  },
  {
   "cell_type": "markdown",
   "metadata": {},
   "source": [
    "### add script from source"
   ]
  },
  {
   "cell_type": "code",
   "execution_count": null,
   "metadata": {
    "vscode": {
     "languageId": "html"
    }
   },
   "outputs": [],
   "source": [
    "<!-- script:src -->\n",
    "<script src=\"script.js\"></script>"
   ]
  },
  {
   "cell_type": "code",
   "execution_count": 1,
   "metadata": {
    "vscode": {
     "languageId": "javascript"
    }
   },
   "outputs": [
    {
     "name": "stdout",
     "output_type": "stream",
     "text": [
      "70\n"
     ]
    }
   ],
   "source": [
    "%%script node\n",
    "\n",
    "console.log(40+8+22)"
   ]
  },
  {
   "cell_type": "code",
   "execution_count": 3,
   "metadata": {
    "vscode": {
     "languageId": "javascript"
    }
   },
   "outputs": [
    {
     "name": "stdout",
     "output_type": "stream",
     "text": [
      "70\n",
      "undefined undefined\n"
     ]
    }
   ],
   "source": [
    "%%script node\n",
    "\n",
    "// alert('I am loaded from script before the page starts loading')\n",
    "\n",
    "console.log(40+8+22)\n",
    "\n",
    "let undefinedVar;\n",
    "console.log(\n",
    "    // undefined is both the value \n",
    "    // of an unassigned declared variable\n",
    "    undefinedVar, \n",
    "    // and the datatype of the value\n",
    "    typeof undefinedVar\n",
    "    )"
   ]
  },
  {
   "cell_type": "markdown",
   "metadata": {},
   "source": [
    "# Browser functions"
   ]
  },
  {
   "cell_type": "code",
   "execution_count": null,
   "metadata": {
    "vscode": {
     "languageId": "javascript"
    }
   },
   "outputs": [],
   "source": [
    "%%script node\n",
    "\n",
    "const someVar = prompt(`What variable do you want to store?`);\n",
    "console.log(someVar)"
   ]
  },
  {
   "cell_type": "code",
   "execution_count": null,
   "metadata": {
    "vscode": {
     "languageId": "javascript"
    }
   },
   "outputs": [],
   "source": [
    "%%script node\n",
    "\n",
    "alert(`Does this work in jupyter?`)"
   ]
  }
 ],
 "metadata": {
  "kernelspec": {
   "display_name": "Python 3.10.4 ('xproj': conda)",
   "language": "python",
   "name": "python3"
  },
  "language_info": {
   "codemirror_mode": {
    "name": "ipython",
    "version": 3
   },
   "file_extension": ".py",
   "mimetype": "text/x-python",
   "name": "python",
   "nbconvert_exporter": "python",
   "pygments_lexer": "ipython3",
   "version": "3.10.4"
  },
  "orig_nbformat": 4,
  "vscode": {
   "interpreter": {
    "hash": "ab8c4c1aa065ef4bf45014346553f7c05662feb01cd522c7343b10a256a1e8d9"
   }
  }
 },
 "nbformat": 4,
 "nbformat_minor": 2
}

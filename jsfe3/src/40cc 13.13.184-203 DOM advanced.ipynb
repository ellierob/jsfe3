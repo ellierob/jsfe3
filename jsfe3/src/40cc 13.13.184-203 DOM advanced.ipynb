{
 "cells": [
  {
   "cell_type": "markdown",
   "metadata": {},
   "source": [
    "preventDefault()  \n",
    "prevents normal html-defined event-handler from triggering"
   ]
  },
  {
   "cell_type": "code",
   "execution_count": null,
   "metadata": {
    "vscode": {
     "languageId": "javascript"
    }
   },
   "outputs": [],
   "source": [
    "%%script node\n",
    "\n",
    "const openModal = function (e) {\n",
    "    // prevent default event behavior\n",
    "    e.preventDefault();\n",
    "    modal.classList.remove('hidden');\n",
    "    overlay.classList.remove('hidden');\n",
    "  };"
   ]
  },
  {
   "cell_type": "code",
   "execution_count": null,
   "metadata": {
    "vscode": {
     "languageId": "javascript"
    }
   },
   "outputs": [],
   "source": [
    "%%script node\n",
    "\n",
    "// forEach method on DOMtree nodelist\n",
    "btnsOpenModal.forEach(b=>{b.addEventListener('click', openModal);})"
   ]
  },
  {
   "cell_type": "markdown",
   "metadata": {},
   "source": [
    "## DOM \n",
    "is an API that allows interacting with DOM tree"
   ]
  },
  {
   "cell_type": "markdown",
   "metadata": {},
   "source": [
    "### DOM tree nodes\n",
    "* eventTarget\n",
    "* * window\n",
    "* * node\n",
    "* * * element (type 1)\n",
    "* * * * * HTMLButtonElement, HTMLDivElement, img, link etc.\n",
    "* * * text (type 3)\n",
    "* * * comment\n",
    "* * * document: document.documentElement"
   ]
  },
  {
   "cell_type": "markdown",
   "metadata": {},
   "source": [
    "### node\n",
    "* every single element/member of the DOM tree object  \n",
    "* each node is represented in javascript as an object"
   ]
  },
  {
   "cell_type": "markdown",
   "metadata": {},
   "source": [
    "### node methods"
   ]
  },
  {
   "cell_type": "markdown",
   "metadata": {},
   "source": [
    "#### get methods\n",
    "* .getElementById(), \n",
    "* .getElementsByTagName(), .getElementsByClassName()\n",
    "* * returns live HTMLCollection object, which updates with live page\n",
    "* .querySelector() available in both element & document types\n",
    "* .querySelectorAll()\n",
    "* * returns nodeList that does not update if changed"
   ]
  },
  {
   "cell_type": "markdown",
   "metadata": {},
   "source": [
    "#### settable properties /attributes\n",
    "* .texContent: el.textContent = 'text';\n",
    "* .innerHTML: el.innerHTML = '\\<el\\>text\\</el\\>'\n",
    "* .classList: el.classList.add('show');"
   ]
  },
  {
   "cell_type": "markdown",
   "metadata": {},
   "source": [
    "#### node properties & methods for DOM traversing\n",
    "* .firstElementChild, .secondElementChild, .nthElementChild\n",
    "* .childNodes\n",
    "* .children\n",
    "* * returns live HTMLCollection object instead of nodelist\n",
    "* .querySelector(matching selector): for closest matching child\n",
    "* .closest(matching selector): for closest matching parent\n",
    "* .parentNode, .parentElement, \n",
    "* .previousElementSibling, .nextElementSibling\n",
    "* .previousSibling, .nextSibling\n",
    "* [...current.parentElement.children]: all siblings, converted htmlcollection to array"
   ]
  },
  {
   "cell_type": "markdown",
   "metadata": {},
   "source": [
    "#### do methods\n",
    "* .cloneNode()\n",
    "* .createElement()\n",
    "* .createAttribute()\n",
    "* .createComment()\n",
    "* .createEvent()\n",
    "* .remove()\n",
    "* .after(), .beforer()\n",
    "* .append(), .prepend()\n",
    "* .addEventListener() & .removeEventListener() available to EventTarget & all its children"
   ]
  },
  {
   "cell_type": "markdown",
   "metadata": {},
   "source": [
    "#### DOM elements are unique\n",
    "appending & prepending DOM elements moves them  \n",
    "to copy them use .cloneNode()"
   ]
  },
  {
   "cell_type": "code",
   "execution_count": null,
   "metadata": {
    "vscode": {
     "languageId": "javascript"
    }
   },
   "outputs": [],
   "source": [
    "%%script node\n",
    "\n",
    "const targ = document.querySelector('header');\n",
    "\n",
    "const newEl = document.createElement('button');\n",
    "\n",
    "newEl.innerHTML = `New append button \n",
    "<p>New Element childNode text</p>`\n",
    "\n",
    "targ.prepend(newEl);\n",
    "\n",
    "const appnd = function (e){\n",
    "  if(e.target === newEl){\n",
    "    e.target.removeEventListener('click', appnd);\n",
    "    e.target.addEventListener('click', prepnd);\n",
    "    newEl.childNodes[0].textContent = `New prepend button \n",
    "    `;\n",
    "    // appending & prepending only moves the DOM node\n",
    "    targ.append(e.target);\n",
    "    console.log(document.body.childNodes[1]);\n",
    "  }\n",
    "}\n",
    "\n",
    "const prepnd = function (e){\n",
    "  if(e.target === newEl){\n",
    "    e.target.removeEventListener('click', prepnd);\n",
    "    e.target.addEventListener('click', clnWChild);\n",
    "    e.target.childNodes[0].textContent = `New clone with children button \n",
    "    `\n",
    "    targ.prepend(e.target);\n",
    "    console.log(document.body.childNodes[1]);\n",
    "  }\n",
    "}\n",
    "\n",
    "const clnWChild = function (e){\n",
    "  if(e.target === newEl){\n",
    "    e.target.removeEventListener('click', clnWChild);\n",
    "\n",
    "    // // to create copy, use .cloneNode\n",
    "    //true parameter for whether child nodes should be cloned as well\n",
    "    const cloneChild = e.target.cloneNode(true);\n",
    "    cloneChild.addEventListener('click', cln);\n",
    "    targ.append(cloneChild);\n",
    "    cloneChild.childNodes[0].textContent = `New clone without children button \n",
    "    `;\n",
    "    console.log(document.body.childNodes[1]);\n",
    "  }\n",
    "}\n",
    "\n",
    "const cln = function (e){\n",
    "    e.target.removeEventListener('click', cln);\n",
    "\n",
    "    //false parameter or none if child nodes should be ignored\n",
    "    const clone = e.target.cloneNode(false);\n",
    "    clone.addEventListener('click', appnd);\n",
    "    targ.prepend(clone);\n",
    "    clone.append(`New append button \n",
    "    `);\n",
    "    console.log(document.body.childNodes[1]);\n",
    "}\n",
    "\n",
    "newEl.addEventListener('click', appnd)"
   ]
  },
  {
   "cell_type": "markdown",
   "metadata": {},
   "source": [
    "### get css root variable styles"
   ]
  },
  {
   "cell_type": "code",
   "execution_count": null,
   "metadata": {
    "vscode": {
     "languageId": "javascript"
    }
   },
   "outputs": [],
   "source": [
    "%%script node\n",
    "document.documentElement.style;"
   ]
  },
  {
   "cell_type": "markdown",
   "metadata": {},
   "source": [
    "### set css root variablestyles"
   ]
  },
  {
   "cell_type": "code",
   "execution_count": null,
   "metadata": {
    "vscode": {
     "languageId": "javascript"
    }
   },
   "outputs": [],
   "source": [
    "%%script node\n",
    "\n",
    "document.documentElement.style.setProperty('--color-primary', 'oragered');"
   ]
  },
  {
   "cell_type": "markdown",
   "metadata": {},
   "source": [
    "### get computed styles outside css & inline"
   ]
  },
  {
   "cell_type": "code",
   "execution_count": null,
   "metadata": {
    "vscode": {
     "languageId": "javascript"
    }
   },
   "outputs": [],
   "source": [
    "%%script node\n",
    "\n",
    "console.log(getComputedStyle(newEl)).color;\n"
   ]
  },
  {
   "cell_type": "markdown",
   "metadata": {},
   "source": [
    "### changing parts of text using regex"
   ]
  },
  {
   "cell_type": "markdown",
   "metadata": {},
   "source": [
    "### get and set attributes of elements"
   ]
  },
  {
   "cell_type": "code",
   "execution_count": null,
   "metadata": {
    "vscode": {
     "languageId": "javascript"
    }
   },
   "outputs": [],
   "source": [
    "%%script node\n",
    "\n",
    "const logo = document.querySelector('.nav__logo');\n",
    "// standard attributes of elements\n",
    "console.log(logo.src);\n",
    "\n",
    "//className instead of class, since class reserved for javascript DOM nodes?\n",
    "console.log(logo.className);\n",
    "\n",
    "//to set & get non-standard attributes, use setAttribute & getAttribute\n",
    "logo.setAttribute('designer', 'jonas');\n",
    "console.log(logo.getAttribute('designer'));\n"
   ]
  },
  {
   "cell_type": "code",
   "execution_count": null,
   "metadata": {
    "vscode": {
     "languageId": "javascript"
    }
   },
   "outputs": [],
   "source": [
    "%%script node\n",
    "\n",
    "const logo = document.querySelector('.nav__logo');\n",
    "\n",
    "//standard properties return absolute values\n",
    "console.log(logo.src);\n",
    "\n",
    "//getAttribute returns attributes as is in the html document\n",
    "console.log(logo.getAttribute('src'));"
   ]
  },
  {
   "cell_type": "code",
   "execution_count": null,
   "metadata": {
    "vscode": {
     "languageId": "javascript"
    }
   },
   "outputs": [],
   "source": [
    "%%script node\n",
    "\n",
    "const logo = document.querySelector('.nav__logo');\n",
    "\n",
    "//dataset attribute can be populated by such\n",
    "logo.setAttribute('data-version-number', 3);\n",
    "\n",
    "logo.dataset.versionNumber\n",
    "\n",
    "//dataset attribute very useful in UI html storage"
   ]
  },
  {
   "cell_type": "code",
   "execution_count": null,
   "metadata": {
    "vscode": {
     "languageId": "javascript"
    }
   },
   "outputs": [],
   "source": [
    "%%script"
   ]
  },
  {
   "cell_type": "markdown",
   "metadata": {},
   "source": [
    "### inheritance"
   ]
  },
  {
   "cell_type": "code",
   "execution_count": null,
   "metadata": {
    "vscode": {
     "languageId": "javascript"
    }
   },
   "outputs": [],
   "source": [
    "%%script node\n",
    "\n",
    "const ctr = document.querySelectorAll('.ctr');\n",
    "ctr.forEach(c=>{\n",
    "\n",
    "    //get node number of middle element of col\n",
    "    //length of column\n",
    "    \n",
    "    let ctrLen = 0;\n",
    "    c.childNodes.forEach(ch=> {ctrLen += ch.textContent.length})\n",
    "\n",
    "    let colLen = 0;\n",
    "    let colLen2 = 0;\n",
    "\n",
    "    console.log(`length of centre:`, ctrLen);\n",
    "            \n",
    "    sibs = c.parentNode.childNodes;\n",
    "    sibN = 0;\n",
    "    console.log(sibs);\n",
    "    sibs.forEach(d=>{\n",
    "        if (d!==c){\n",
    "            d.childNodes.forEach(p=>{\n",
    "                colLen += p.textContent.length;\n",
    "                sibN += 1;                 \n",
    "            })  \n",
    "        }                      \n",
    "    })\n",
    "    console.log(`number of sibling:`, sibN, `length of columns:`, colLen);\n",
    " \n",
    "    // determine new position\n",
    "    let srl = 1;\n",
    "    let srlReal = 1;\n",
    "            \n",
    "    for (i in sibs){\n",
    "        \n",
    "        if (sibs[i].nodeType == 1 && sibs[i] !== c){\n",
    "            if (colLen2<colLen/2){\n",
    "                sibs[i].childNodes.forEach( ch =>\n",
    "                    {\n",
    "                        colLen2 += ch.textContent.length;\n",
    "                    }                            \n",
    "                )\n",
    "\n",
    "                srl += 2;\n",
    "\n",
    "                srlReal += 1;\n",
    "\n",
    "                console.log(\n",
    "                    `current iteration:`, i, \n",
    "                    `current element:`, sibs[i], \n",
    "                    `after element:`, srl, \n",
    "                    `after div:`, srlReal)\n",
    "                \n",
    "            } else {\n",
    "\n",
    "                if (colLen2>colLen/2){\n",
    "                    srl -= 2;\n",
    "                }\n",
    "\n",
    "                console.log(\n",
    "                    `length after:`, colLen/2, \n",
    "                    `length before:`, colLen2, \n",
    "                    `iteration:`, i, \n",
    "                    `after element:`, srl, \n",
    "                    `current element:`, sibs[srl], \n",
    "                    `first element:`, sibs[0], \n",
    "                    `second element:`, sibs[1]\n",
    "                    );\n",
    "                \n",
    "                if (colLen2 + 4*ctrLen > 2*colLen/3){\n",
    "                    srl -=2;\n",
    "                    sibs[srl].childNodes.forEach( ch =>\n",
    "                        {\n",
    "                            colLen2 -= ch.textContent.length;\n",
    "                        })\n",
    "                    }\n",
    "\n",
    "                console.log(\n",
    "                    `length after:`, colLen/2, \n",
    "                    `length before:`, colLen2, \n",
    "                    `iteration:`, i, \n",
    "                    `after element:`, srl, \n",
    "                    `current element:`, sibs[srl], \n",
    "                    `first element:`, sibs[0], \n",
    "                    `second element:`, sibs[1]\n",
    "                    );    \n",
    "                \n",
    "                if (colLen2 < 4*ctrLen+2*colLen/3){\n",
    "                    srl +=2;\n",
    "                    sibs[srl].childNodes.forEach( ch =>\n",
    "                        {\n",
    "                            colLen2 += ch.textContent.length;\n",
    "                        })\n",
    "                }\n",
    "                console.log(\n",
    "                    `length after:`, colLen/2, \n",
    "                    `length before:`, colLen2, \n",
    "                    `iteration:`, i, \n",
    "                    `after element:`, srl, \n",
    "                    `current element:`, sibs[srl], \n",
    "                    `first element:`, sibs[0], \n",
    "                    `second element:`, sibs[1]\n",
    "                    );\n",
    "                    \n",
    "                break;\n",
    "            }   \n",
    "        }\n",
    "    }\n",
    "\n",
    "    console.log(`length before`, colLen2, `after element`, srl);\n",
    "\n",
    "    //move ctr node to node number\n",
    "    sibs[srl].after(c);\n",
    "    //$('section:nth-child(5)').after($('.stamp2'));\n",
    "    //$('.stamp2').detach().insertAfter('.section:nth-child(srl)')\n",
    "\n",
    "    console.log(`final:`, sibs);\n",
    "            \n",
    "})"
   ]
  },
  {
   "cell_type": "markdown",
   "metadata": {},
   "source": [
    "### get client information"
   ]
  },
  {
   "cell_type": "code",
   "execution_count": null,
   "metadata": {
    "vscode": {
     "languageId": "javascript"
    }
   },
   "outputs": [],
   "source": [
    "%%script node\n",
    "\n",
    "const btnUpdate = document.querySelector('.btn--scroll-to');\n",
    "\n",
    "btnUpdate.addEventListener('click', (e)=>{\n",
    "  //client stored in document element\n",
    "  console.log(document.documentElement.clientHeight);\n",
    "})"
   ]
  },
  {
   "cell_type": "markdown",
   "metadata": {},
   "source": [
    "### get client based co-ordinates"
   ]
  },
  {
   "cell_type": "code",
   "execution_count": null,
   "metadata": {
    "vscode": {
     "languageId": "javascript"
    }
   },
   "outputs": [],
   "source": [
    "%%script node\n",
    "\n",
    "const btnScroll = document.querySelector('.btn--scroll-to');\n",
    "const sec1 = document.querySelector('#section--1');\n",
    "\n",
    "btnScroll.addEventListener('click', (e)=>{\n",
    "  //boundingClientRect coords relative to viewport\n",
    "  const coords = sec1.getBoundingClientRect();\n",
    "  //console.log(coords);\n",
    "  console.log(e.target.getBoundingClientRect());\n",
    "})"
   ]
  },
  {
   "cell_type": "code",
   "execution_count": null,
   "metadata": {
    "vscode": {
     "languageId": "javascript"
    }
   },
   "outputs": [],
   "source": [
    "%%script node\n",
    "\n",
    "const nav = document.querySelector('.nav');\n",
    "const links = nav.querySelectorAll('.nav__link');\n",
    "\n",
    "const handleHover = function(e, opac){\n",
    "  if (e.target.classList.contains('nav__link')){\n",
    "    const link = e.target;\n",
    "    links.forEach(l=>{\n",
    "      if (l!==link){        \n",
    "        l.style.opacity = opac;\n",
    "      }\n",
    "    })\n",
    "  }\n",
    "}\n",
    "\n",
    "nav.addEventListener('mouseover', function(e){\n",
    "  handleHover(e, 0.5)\n",
    "})\n",
    "\n",
    "nav.addEventListener('mouseout', function(e){\n",
    "  handleHover(e, 1)\n",
    "})"
   ]
  }
 ],
 "metadata": {
  "kernelspec": {
   "display_name": "Python 3.10.4 ('xproj': conda)",
   "language": "python",
   "name": "python3"
  },
  "language_info": {
   "codemirror_mode": {
    "name": "ipython",
    "version": 3
   },
   "file_extension": ".py",
   "mimetype": "text/x-python",
   "name": "python",
   "nbconvert_exporter": "python",
   "pygments_lexer": "ipython3",
   "version": "3.10.4"
  },
  "orig_nbformat": 4,
  "vscode": {
   "interpreter": {
    "hash": "53ce4a372613acec3ced89ec12332be295014eb9a6e3df2a36b8fcc73e5ff10d"
   }
  }
 },
 "nbformat": 4,
 "nbformat_minor": 2
}

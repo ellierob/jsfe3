{
 "cells": [
  {
   "cell_type": "markdown",
   "metadata": {},
   "source": [
    "# MVC\n",
    "* controller: (callback)\n",
    "* * browser sends request to controller\n",
    "* * creates model object \n",
    "* * calls view passing the model\n",
    "* model: \n",
    "* * object literal\n",
    "* * serverside javascript\n",
    "* view (ejs): \n",
    "* * engine, \n",
    "* * calls the model after controller supplies it\n",
    "* * turns html with serverside javascript to only html"
   ]
  },
  {
   "cell_type": "code",
   "execution_count": null,
   "metadata": {
    "vscode": {
     "languageId": "javascript"
    }
   },
   "outputs": [],
   "source": [
    "%%script node\n",
    "\n"
   ]
  },
  {
   "cell_type": "markdown",
   "metadata": {},
   "source": [
    "# models"
   ]
  },
  {
   "cell_type": "code",
   "execution_count": 8,
   "metadata": {
    "vscode": {
     "languageId": "javascript"
    }
   },
   "outputs": [
    {
     "name": "stdout",
     "output_type": "stream",
     "text": [
      "object \n",
      " {\n",
      "  birds: [ 'rok', 'anzud' ],\n",
      "  books: [\n",
      "    {\n",
      "      id: 1,\n",
      "      title: 'Data Structure and Algorithm',\n",
      "      writer: 'Mahbub Hasan',\n",
      "      price: 380,\n",
      "      rating: 4.5\n",
      "    },\n",
      "    {\n",
      "      id: 2,\n",
      "      title: 'Programming er Choddogushti',\n",
      "      writer: 'Jhankar Mahbub',\n",
      "      price: 360,\n",
      "      rating: 4.5\n",
      "    }\n",
      "  ]\n",
      "}\n"
     ]
    }
   ],
   "source": [
    "%%script node\n",
    "\n",
    "const model = \n",
    "// JSON.parse(\n",
    "    // JSON.stringify(\n",
    "        require('../../db/JSON_db/db.json')\n",
    "    // )\n",
    "// );\n",
    "\n",
    "console.log(typeof model, '\\n', model);"
   ]
  },
  {
   "cell_type": "markdown",
   "metadata": {},
   "source": [
    "# view"
   ]
  },
  {
   "cell_type": "markdown",
   "metadata": {},
   "source": [
    "## JSX view engine\n",
    "embedded javascript\n",
    "\n",
    "extension: .js"
   ]
  },
  {
   "cell_type": "code",
   "execution_count": null,
   "metadata": {
    "vscode": {
     "languageId": "javascript"
    }
   },
   "outputs": [],
   "source": [
    "%%script node --input-type=\"module\"\n",
    "// ./pages/pagename/pagename.js\n",
    "\n",
    "export default function Home(){\n",
    "    return (\n",
    "        <div className=\"Home\">\n",
    "        <h2>Home</h2>\n",
    "\n",
    "        {/* \n",
    "        (JSX comment)\n",
    "        javascript inside JSX\n",
    "        need to be in curly braces \n",
    "        */}\n",
    "        <Cart cartCount={cartCount} cost={cost}/>\n",
    "        <h1>Hello {username}!</h1>\n",
    "        <p>Your favorite birds are:</p>\n",
    "        <ul>\n",
    "            {birds.map(bird => (<li>{bird}</li>))}\n",
    "        </ul>\n",
    "        <div>\n",
    "            <h2>Books Library</h2>\n",
    "            {/*errLog && <div>Failed to fetch</div>*/}\n",
    "            {\n",
    "            // value of keys in prop object can be used\n",
    "            books.map(book => (\n",
    "            <Books \n",
    "                book={\n",
    "                book\n",
    "                /* through react props data flow feature,\n",
    "                data is passed from parent to child component\n",
    "                using js curly braces */\n",
    "                }\n",
    "                /* passing statehandler to child component as prop\n",
    "                allows state lift from child to parent component */\n",
    "                upCart={upCart} \n",
    "                cartCount={cartCount}\n",
    "                setCost={setCost}\n",
    "                key={book.id}\n",
    "            />\n",
    "            ))\n",
    "            }\n",
    "        </div>\n",
    "        {/* child component reference \n",
    "        inside parent component return object element, \n",
    "        returns child component element object */}\n",
    "        \n",
    "        {/* {<Form books={books}/>} */}\n",
    "        {<Ajax books={books}/>}\n",
    "\n",
    "      </div>   \n",
    "    )\n",
    "}"
   ]
  },
  {
   "cell_type": "code",
   "execution_count": null,
   "metadata": {
    "vscode": {
     "languageId": "javascript"
    }
   },
   "outputs": [],
   "source": [
    "%%script node\n",
    "\n",
    "// const ejs = require('ejs');\n",
    "\n",
    "// app.set({\n",
    "//     // view engine\n",
    "//     'view engine':'ejs'\n",
    "// });\n",
    "\n",
    "// model save in cache json?\n",
    "const model = \n",
    "// {property: value};\n",
    "require('./models/user.json')\n",
    "\n",
    "app.use(\n",
    "    // controller callback function\n",
    "    (req,res)=>{\n",
    "    res.render(\n",
    "        // ejs files should be inside /views subfolder\n",
    "        'viewfilename.ejs', \n",
    "        // model is passed to view engine\n",
    "        model\n",
    "        );\n",
    "}\n",
    ")"
   ]
  },
  {
   "cell_type": "markdown",
   "metadata": {},
   "source": [
    "## EJS view engine\n",
    "embedded javascript\n",
    "\n",
    "extension: .ejs"
   ]
  },
  {
   "cell_type": "code",
   "execution_count": null,
   "metadata": {
    "vscode": {
     "languageId": "html"
    }
   },
   "outputs": [],
   "source": [
    "<!-- ./views/viewfile.ejs -->\n",
    "\n",
    "<!DOCTYPE html>\n",
    "<html lang=\"en\">\n",
    "<head>\n",
    "    <meta charset=\"UTF-8\">\n",
    "    <meta http-equiv=\"X-UA-Compatible\" content=\"IE=edge\">\n",
    "    <meta name=\"viewport\" content=\"width=device-width, initial-scale=1.0\">\n",
    "    <title>Document</title>\n",
    "</head>\n",
    "<body>\n",
    "    <% include module.js %>\n",
    "    <%if (condition){%>\n",
    "        <html>\n",
    "    <%}else{%>\n",
    "        <html>\n",
    "    <%}else{%>\n",
    "        <html>html html <%=variable%> html </html>\n",
    "    <%}%>\n",
    "</body>\n",
    "</html>"
   ]
  },
  {
   "cell_type": "code",
   "execution_count": null,
   "metadata": {
    "vscode": {
     "languageId": "javascript"
    }
   },
   "outputs": [],
   "source": [
    "%%script node\n",
    "\n",
    "const ejs = require('ejs');\n",
    "\n",
    "app.set({\n",
    "    // view engine\n",
    "    'view engine':'ejs'\n",
    "});\n",
    "\n",
    "// model save in cache json?\n",
    "const model = \n",
    "// {property: value};\n",
    "require('./models/user.json')\n",
    "\n",
    "app.use(\n",
    "    // controller callback function\n",
    "    (req,res)=>{\n",
    "    res.render(\n",
    "        // ejs files should be inside /views subfolder\n",
    "        'viewfilename.ejs', \n",
    "        // model is passed to view engine\n",
    "        model\n",
    "        );\n",
    "}\n",
    ")"
   ]
  },
  {
   "cell_type": "markdown",
   "metadata": {},
   "source": [
    "## mustache view engine\n",
    "* mustache double curly braces '{{}}' instead of ejs '<% %>'\n",
    "* .mustache extension instead of .ejs\n",
    "* similar to angularjs syntax\n",
    "* allows executing arrays with #"
   ]
  },
  {
   "cell_type": "code",
   "execution_count": null,
   "metadata": {
    "vscode": {
     "languageId": "javascript"
    }
   },
   "outputs": [],
   "source": [
    "%%script node\n",
    "\n",
    "const mustache = require('mustache-express');\n",
    "\n",
    "app.engine('mustache', mustacheexpress());\n",
    "\n",
    "app.set({\n",
    "    // view engine\n",
    "    'view engine':'mustache'\n",
    "});\n",
    "\n",
    "// model save in cache json?\n",
    "const model = \n",
    "// {property: value};\n",
    "require('./models/user.json')\n",
    "\n",
    "app.use(\n",
    "    // controller callback function\n",
    "    (req,res)=>{\n",
    "    res.render(\n",
    "        // moustache files should be inside /views subfolder\n",
    "        'viewfilename.mustache', \n",
    "        // model is passed to view engine\n",
    "        model\n",
    "        );\n",
    "}\n",
    ")"
   ]
  },
  {
   "cell_type": "code",
   "execution_count": null,
   "metadata": {
    "vscode": {
     "languageId": "html"
    }
   },
   "outputs": [],
   "source": [
    "<!-- in ./views/mustache.mustache -->\n",
    "\n",
    "{{>embedded.mustache}}\n",
    "\n",
    "<!-- for loop -->\n",
    "{{#arrayProperty}}\n",
    "    <html>\n",
    "<!-- for loop close -->\n",
    "{{/arrayProperty}}\n",
    "\n",
    "<!-- if block -->\n",
    "{{#pass}}\n",
    "    <html>\n",
    "{{/arrayProperty}}\n",
    "\n",
    "<!-- else block -->\n",
    "{{^pass}}\n",
    "    <html>\n",
    "{{/arrayProperty}}"
   ]
  },
  {
   "cell_type": "markdown",
   "metadata": {},
   "source": [
    "## handlebars view engine\n",
    "* handlebares double curly braces '{{}}' same as mustache\n",
    "* .hbs extension instead of .ejs\n",
    "* .handlebars partial view file extension\n",
    "* similar to angularjs syntax\n",
    "* allows executing arrays with #\n",
    "* supports 'if', 'for', 'with' keywords"
   ]
  },
  {
   "cell_type": "code",
   "execution_count": null,
   "metadata": {
    "vscode": {
     "languageId": "javascript"
    }
   },
   "outputs": [],
   "source": [
    "%%script node\n",
    "\n",
    "const hbs = require('express-handlebars');\n",
    "\n",
    "app.engine('hbs', expresshandlebars());\n",
    "\n",
    "app.set({\n",
    "    // view engine\n",
    "    'view engine':'hbs'\n",
    "});\n",
    "\n",
    "// model save in cache json?\n",
    "const model = \n",
    "// {property: value};\n",
    "require('./models/user.json')\n",
    "\n",
    "app.use(\n",
    "    // controller callback function\n",
    "    (req,res)=>{\n",
    "    res.render(\n",
    "        // hbs files should be inside /views subfolder\n",
    "        // doesn't require extension\n",
    "        'viewfilename', \n",
    "        // model is passed to view engine\n",
    "        model\n",
    "        );\n",
    "}\n",
    ")"
   ]
  },
  {
   "cell_type": "code",
   "execution_count": null,
   "metadata": {
    "vscode": {
     "languageId": "html"
    }
   },
   "outputs": [],
   "source": [
    "<!-- in ./views/index.hbs -->\n",
    "\n",
    "<!-- embedded partial views in ./views/partials/partial.handlebars -->\n",
    "<!-- doesn't require extension -->\n",
    "{{>embedded}}\n",
    "\n",
    "<!-- for loop -->\n",
    "{{#each arrayProperty}}\n",
    "    <html>\n",
    "<!-- for loop close -->\n",
    "{{/each}}\n",
    "\n",
    "\n",
    "<!-- with loop -->\n",
    "{{#with arrayProperty}}\n",
    "    <html>\n",
    "<!-- for loop close -->\n",
    "{{/with}}\n",
    "\n",
    "\n",
    "<!-- if block -->\n",
    "{{#if pass}}\n",
    "    <html>\n",
    "\n",
    "<!-- else block -->\n",
    "{{else}}\n",
    "    <html>\n",
    "{{/if}}"
   ]
  },
  {
   "cell_type": "markdown",
   "metadata": {},
   "source": [
    "## pug view engine\n",
    "* pug double curly braces '{{}}' instead of ejs '<% %>'\n",
    "* .pug extension\n",
    "* .handlebars partial view file extension\n",
    "* similar to angularjs syntax\n",
    "* allows executing arrays with #\n",
    "* supports 'if', 'for', 'with' keywords"
   ]
  },
  {
   "cell_type": "code",
   "execution_count": null,
   "metadata": {
    "vscode": {
     "languageId": "javascript"
    }
   },
   "outputs": [],
   "source": [
    "%%script node\n",
    "\n",
    "const pug = require('pug');\n",
    "\n",
    "app.set({\n",
    "    // view engine\n",
    "    'view engine':'pug'\n",
    "});\n",
    "\n",
    "// model save in cache json?\n",
    "const model = \n",
    "// {property: value};\n",
    "require('./models/user.json')\n",
    "\n",
    "app.use(\n",
    "    // controller callback function\n",
    "    (req,res)=>{\n",
    "    res.render(\n",
    "        // hbs files should be inside /views subfolder\n",
    "        // doesn't require extension\n",
    "        'viewfilename', \n",
    "        // model is passed to view engine\n",
    "        model\n",
    "        );\n",
    "}\n",
    ")"
   ]
  },
  {
   "cell_type": "code",
   "execution_count": null,
   "metadata": {
    "vscode": {
     "languageId": "html"
    }
   },
   "outputs": [],
   "source": [
    "<!-- in ./views/viewfile.pug -->\n",
    "\n",
    "include partial.pug\n",
    "\n",
    "<!-- no closing tags -->\n",
    "<!-- tabs must for child element -->\n",
    "<!-- new line must for sibling element -->\n",
    "doctype html\n",
    "html\n",
    "    head\n",
    "    body\n",
    "        <!-- mutli line content requires . after tag, and tabs for each line -->\n",
    "        tag.\n",
    "            line\n",
    "            line\n",
    "            <!-- variable inside element -->\n",
    "            #{variable}\n",
    "        <!-- variable as element content -->\n",
    "        tag = variable\n",
    "        <!-- id with # -->\n",
    "        tag#id\n",
    "        <!-- class -->\n",
    "        tag.classname\n",
    "        <!-- attributes -->\n",
    "        tag(attribute='value')\n",
    "\n",
    "\n",
    "<!-- for loop -->\n",
    "for s in subjects\n",
    "    tr\n",
    "        td=s.subjectName\n",
    "        td #{s.marks}\n",
    "\n",
    "\n",
    "<!-- if block -->\n",
    "if pass\n",
    "    content\n",
    "\n",
    "<!-- else block -->\n",
    "else\n",
    "    content"
   ]
  }
 ],
 "metadata": {
  "kernelspec": {
   "display_name": "Python 3.10.4 ('xproj': conda)",
   "language": "python",
   "name": "python3"
  },
  "language_info": {
   "codemirror_mode": {
    "name": "ipython",
    "version": 3
   },
   "file_extension": ".py",
   "mimetype": "text/x-python",
   "name": "python",
   "nbconvert_exporter": "python",
   "pygments_lexer": "ipython3",
   "version": "3.10.4 (main, Mar 31 2022, 08:41:55) [GCC 7.5.0]"
  },
  "orig_nbformat": 4,
  "vscode": {
   "interpreter": {
    "hash": "53ce4a372613acec3ced89ec12332be295014eb9a6e3df2a36b8fcc73e5ff10d"
   }
  }
 },
 "nbformat": 4,
 "nbformat_minor": 2
}

{
 "cells": [
  {
   "cell_type": "markdown",
   "metadata": {},
   "source": [
    "### scroll"
   ]
  },
  {
   "cell_type": "code",
   "execution_count": null,
   "metadata": {
    "vscode": {
     "languageId": "javascript"
    }
   },
   "outputs": [],
   "source": [
    "%%script node\n",
    "\n",
    "const btnScroll = document.querySelector('.btn--scroll-to');\n",
    "const sec1 = document.querySelector('#section--1');\n",
    "\n",
    "btnScroll.addEventListener('click', (e)=>{\n",
    "  //client stored in document element\n",
    "  console.log(`client viewport height`, document.documentElement.clientHeight);\n",
    "  console.log(`button coords`, e.target.getBoundingClientRect());\n",
    "  //boundingClientRect coords relative to viewport\n",
    "  const targCoords = sec1.getBoundingClientRect();\n",
    "  console.log(`section coords`, targCoords);\n",
    "\n",
    "  // //old way\n",
    "  // window.scrollTo(\n",
    "  //   //takes parameters x, y\n",
    "  //   //or object with x, y & behavior\n",
    "  //   {\n",
    "  //     left: targCoords.left + scrollX, // adjusting to current scroll position\n",
    "  //     top: targCoords.top + scrollY,\n",
    "  //     // scroll behavior\n",
    "  //     behavior: 'smooth'\n",
    "  //   }\n",
    "    \n",
    "  //   //or total\n",
    "  //   //targCoords\n",
    "  //   )\n",
    "\n",
    "  sec1.scrollIntoView({behavior: 'smooth'});\n",
    "\n",
    "})"
   ]
  },
  {
   "cell_type": "markdown",
   "metadata": {},
   "source": [
    "### events"
   ]
  },
  {
   "cell_type": "markdown",
   "metadata": {},
   "source": [
    "#### onEvent properties\n"
   ]
  },
  {
   "cell_type": "code",
   "execution_count": null,
   "metadata": {
    "vscode": {
     "languageId": "javascript"
    }
   },
   "outputs": [],
   "source": [
    "%%script node\n",
    "\n",
    "const h1 = document.querySelector('h1');\n",
    "\n",
    "h1.onmouseenter = (e)=>{\n",
    "    alert(`hovered on h1`);\n",
    "}\n",
    "\n",
    "// reassigning onEvent properties overrides previous function"
   ]
  },
  {
   "cell_type": "markdown",
   "metadata": {},
   "source": [
    "#### addEventListener, removeEventListener\n",
    "* allows adding multiple functions\n",
    "* allows removing functions"
   ]
  },
  {
   "cell_type": "markdown",
   "metadata": {},
   "source": [
    "do perform a function only once"
   ]
  },
  {
   "cell_type": "code",
   "execution_count": null,
   "metadata": {
    "vscode": {
     "languageId": "javascript"
    }
   },
   "outputs": [],
   "source": [
    "%%script node\n",
    "\n",
    "const h1 = document.querySelector('h1');\n",
    "\n",
    "const alertOnce = (e)=>{\n",
    "    alert(`hovered on h1`);\n",
    "    h1.removeEventListener('mouseenter', alertOnce)\n",
    "}\n",
    "\n",
    "h1.addEventListener('mouseenter', alertOnce)"
   ]
  },
  {
   "cell_type": "markdown",
   "metadata": {},
   "source": [
    "perform a task after certain time"
   ]
  },
  {
   "cell_type": "code",
   "execution_count": null,
   "metadata": {
    "vscode": {
     "languageId": "javascript"
    }
   },
   "outputs": [],
   "source": [
    "%%script node\n",
    "\n",
    "setTimeout(()=>h1.removeEventListener('mouseenter', alertOnce), 3000)"
   ]
  },
  {
   "cell_type": "markdown",
   "metadata": {},
   "source": [
    "#### event propagation phases\n",
    "* capturing at document root at the top\n",
    "* move down to target at bottom\n",
    "* back up to document root again through bubbling phase"
   ]
  },
  {
   "cell_type": "markdown",
   "metadata": {},
   "source": [
    "event bubbling phase  \n",
    "events, while bubbling, can trigger tasks in parent elements listening to same events "
   ]
  },
  {
   "cell_type": "markdown",
   "metadata": {},
   "source": [
    "stopEventPropagation  \n",
    "prevents event from propagation from calling element /bubbling to parent element"
   ]
  },
  {
   "cell_type": "code",
   "execution_count": 6,
   "metadata": {
    "vscode": {
     "languageId": "javascript"
    }
   },
   "outputs": [
    {
     "name": "stdout",
     "output_type": "stream",
     "text": [
      "rgb(169,29,226)\n"
     ]
    }
   ],
   "source": [
    "%%script node\n",
    "\n",
    "// event bubbling\n",
    "const switchColor = function(e){\n",
    "  \n",
    "    const randInt = (min, max) => Math.floor(Math.random()*(max-min+1)+min);\n",
    "    \n",
    "    const randomColor = `rgb(${randInt(0,255)},${randInt(0,255)},${randInt(0,255)})`\n",
    "    console.log(randomColor);\n",
    "  \n",
    "    this.style.backgroundColor = randomColor;\n",
    "  \n",
    "    //currentTarget element the event is currently propagation through\n",
    "    //same as this \n",
    "    console.log(e.currentTarget===e.target, this);\n",
    "      \n",
    "  \n",
    "    if(this==e.target){\n",
    "        // stops event from bubbling once it reaches first parent\n",
    "        e.stopPropagation();\n",
    "    }\n",
    "    \n",
    "  }\n",
    "  \n",
    "  const trg = document.querySelector('.nav__link');\n",
    "  const trgParent = document.querySelector('.nav__links');\n",
    "  const trgGParent = document.querySelector('.nav');\n",
    "  \n",
    "  trg.addEventListener('click', switchColor)\n",
    "  trgParent.addEventListener('click', switchColor)\n",
    "  // to listen to child element events in capture phase add true\n",
    "  trgGParent.addEventListener('click', switchColor, true)"
   ]
  },
  {
   "cell_type": "markdown",
   "metadata": {},
   "source": [
    "some events don't have capturing and bubbling phases"
   ]
  },
  {
   "cell_type": "markdown",
   "metadata": {},
   "source": [
    "event delegation  \n",
    "listening to event from parent instead of many target children"
   ]
  },
  {
   "cell_type": "code",
   "execution_count": null,
   "metadata": {
    "vscode": {
     "languageId": "javascript"
    }
   },
   "outputs": [],
   "source": [
    "%%script node\n",
    "\n",
    "// add event listener to common parent element\n",
    "document.querySelector('.nav__links').addEventListener('click', function(e){\n",
    "    //prevents normal html-defined event-handler from triggering\n",
    "    e.preventDefault();\n",
    "    console.log(e.target === this);\n",
    "    if(e.target.matches('.nav__link')){\n",
    "      const id = e.target.getAttribute('href');\n",
    "      document.querySelector(id).scrollIntoView({behavior: 'smooth'});\n",
    "    }\n",
    "    \n",
    "})"
   ]
  },
  {
   "cell_type": "code",
   "execution_count": null,
   "metadata": {
    "vscode": {
     "languageId": "javascript"
    }
   },
   "outputs": [],
   "source": [
    "%%script node\n",
    "\n",
    "const tabs = document.querySelectorAll('.operations__tab');\n",
    "const tabsContain = document.querySelector('.operations__tab-container');\n",
    "const tabsContent = document.querySelectorAll('.operations__content');\n",
    "\n",
    "tabsContain.addEventListener('click', function(e){\n",
    "  const clicked = e.target.closest('.operations__tab');\n",
    "\n",
    "  // guard clause \n",
    "  if (!clicked) {\n",
    "    console.log(e.target, clicked);\n",
    "    return;\n",
    "  }\n",
    "\n",
    "  console.log(clicked);\n",
    "  tabs.forEach(t=>t.classList.remove('operations__tab--active'))\n",
    "  clicked.classList.add('operations__tab--active');\n",
    "\n",
    "  const activNum = clicked.dataset.tab\n",
    "  console.log(activNum);\n",
    "  \n",
    "  tabsContent.forEach(tc=>tc.classList.remove('operations__content--active'))\n",
    "\n",
    "  document.querySelector(`.operations__content--${activNum}`).classList.add('operations__content--active');\n",
    "\n",
    "})"
   ]
  },
  {
   "cell_type": "markdown",
   "metadata": {},
   "source": [
    "intersection observer api event"
   ]
  },
  {
   "cell_type": "code",
   "execution_count": null,
   "metadata": {
    "vscode": {
     "languageId": "javascript"
    }
   },
   "outputs": [],
   "source": [
    "%%script node\n",
    "\n",
    "const navStick = function (entries){\n",
    "    entries.forEach(entry=>{\n",
    "        console.log(`intersection ratio:`, entry.intersectionRatio);        \n",
    "    })\n",
    "    //const [entry] = entries;\n",
    "    let intersection = entries[0].intersectionRatio;\n",
    "    if(intersection==0){\n",
    "        // const entry = entries[0];\n",
    "        nav.classList.add('sticky')\n",
    "        console.log(`added sticky`);\n",
    "      } else {\n",
    "        nav.classList.remove('sticky');\n",
    "        console.log(`removed sticky`);\n",
    "      }\n",
    "  \n",
    "  }\n",
    "  \n",
    "  // intersectionobservers are more efficient than scroll event listener\n",
    "  const observer = new IntersectionObserver(\n",
    "    //callback function\n",
    "    navStick, \n",
    "    //observer options object\n",
    "    {\n",
    "      // root null means viewport\n",
    "      root: null,\n",
    "      // amount of intersection of observed element for creating entry\n",
    "      theshold: [\n",
    "        // when 0% of header is in viewport\n",
    "        0,\n",
    "        // when 100% of header is in viewport\n",
    "        1\n",
    "      ],\n",
    "      // for margin before intersecting\n",
    "      rootMargin: `-${nav.getBoundingClientRect().height}px`\n",
    "    }\n",
    "    );\n",
    "  \n",
    "  observer.observe(targ);"
   ]
  },
  {
   "cell_type": "markdown",
   "metadata": {},
   "source": [
    "intersection observer entry.target"
   ]
  },
  {
   "cell_type": "markdown",
   "metadata": {},
   "source": [
    "unobserve"
   ]
  },
  {
   "cell_type": "code",
   "execution_count": null,
   "metadata": {
    "vscode": {
     "languageId": "javascript"
    }
   },
   "outputs": [],
   "source": [
    "%%script node\n",
    "\n",
    "const sects = document.querySelectorAll('.section');\n",
    "\n",
    "const rvlSect = function(entries, observer) {\n",
    "  const [entry]= entries;\n",
    "  console.log(entries);\n",
    "\n",
    "  if (!entry.isIntersecting) return;\n",
    "\n",
    "  // target of observer is current\n",
    "  console.log(entry.target);\n",
    "  entry.target.classList.remove('section--hidden');\n",
    "\n",
    "  // unobserver after finishing task\n",
    "  observer.unobserve(entry.target);\n",
    "}\n",
    "\n",
    "const sectObs = new IntersectionObserver(\n",
    "  rvlSect, \n",
    "  {\n",
    "    root: null,\n",
    "    threshold: [0.2]\n",
    "  });\n",
    "\n",
    "sects.forEach(sect=>{\n",
    "  sect.classList.add('section--hidden');\n",
    "  sectObs.observe(sect);\n",
    "})"
   ]
  },
  {
   "cell_type": "markdown",
   "metadata": {},
   "source": [
    "lazy-loading"
   ]
  },
  {
   "cell_type": "code",
   "execution_count": null,
   "metadata": {
    "vscode": {
     "languageId": "javascript"
    }
   },
   "outputs": [],
   "source": [
    "%%script node\n",
    "\n",
    "// select element with given attribute\n",
    "const imgLazies = document.querySelectorAll('img[data-src]');\n",
    "\n",
    "const loadImg = function(entries, imgObs){\n",
    "  const [entry] = entries;\n",
    "\n",
    "  if (!entry.isIntersecting) return;\n",
    "  const imgCur = entry.target;\n",
    "  imgCur.src = entry.target.dataset.src;\n",
    "  // wait for image to load\n",
    "  imgCur.addEventListener('load', ()=>{\n",
    "    imgCur.classList.remove('lazy-img');\n",
    "    console.log(`image loaded`);\n",
    "  })\n",
    "  imgObs.unobserve(entry.target);\n",
    "}\n",
    "\n",
    "const imgObs = new IntersectionObserver(\n",
    "  loadImg,\n",
    "  {\n",
    "    root: null,\n",
    "    threshold: 0\n",
    "  });\n",
    "\n",
    "  imgLazies.forEach(img=>imgObs.observe(img));"
   ]
  },
  {
   "cell_type": "markdown",
   "metadata": {},
   "source": [
    "slider with css transform"
   ]
  },
  {
   "cell_type": "code",
   "execution_count": null,
   "metadata": {
    "vscode": {
     "languageId": "javascript"
    }
   },
   "outputs": [],
   "source": [
    "const slides = document.querySelectorAll('.slide');\n",
    "\n",
    "slides.forEach((s,i)=>{\n",
    "  s.style.transform = `translateX(${100*i}%)`\n",
    "})\n",
    "\n",
    "let slideCur = 0;\n",
    "const maxSlide = slides.length-1;\n",
    "\n",
    "const goToSlide = function(dir){\n",
    "  if(dir===btnLft||dir==='ArrowLeft'){\n",
    "    if(slideCur===0){\n",
    "      slideCur=maxSlide;\n",
    "    } else {\n",
    "      slideCur--;\n",
    "    }\n",
    "\n",
    "  } else if(dir===btnRgt||dir==='ArrowRight'){\n",
    "    if(slideCur===maxSlide){\n",
    "      slideCur=0;\n",
    "    } else {\n",
    "      slideCur++;\n",
    "    }\n",
    "  \n",
    "  } else if(dir.matches('.dots__dot')){\n",
    "    dotContain.childNodes.forEach(d=>{d.classList.remove('dots__dot--active')})\n",
    "    dir.classList.add('dots__dot--active');\n",
    "    slideCur=dir.dataset.slide;\n",
    "  }\n",
    "\n",
    "  slides.forEach((s,i)=>{\n",
    "    s.style.transform = `translateX(${100*(i-slideCur)}%)`;\n",
    "    console.log(i,slideCur,maxSlide,dir);\n",
    "  });\n",
    "}\n",
    "\n",
    "const slider = document.querySelector('.slider');\n",
    "const btnLft = document.querySelector('.slider__btn--left');\n",
    "const btnRgt = document.querySelector('.slider__btn--right');\n",
    "\n",
    "slider.addEventListener('click', function(e){\n",
    "  goToSlide(e.target);\n",
    "})\n",
    "\n",
    "document.addEventListener('keydown', function(e){\n",
    "  goToSlide(e.key)\n",
    "})\n",
    "\n",
    "goToSlide(slides[0]);\n",
    "\n",
    "const dotContain = document.querySelector('.dots');\n",
    "\n",
    "const createDots = function(){\n",
    "  slides.forEach(function(_, i) {\n",
    "    dotContain.insertAdjacentHTML(\n",
    "      'beforeend', //option for inserting html before end\n",
    "      `<button class=\"dots__dot\" data-slide=\"${i}\"></button>`\n",
    "    );\n",
    "  })\n",
    "}\n",
    "\n",
    "createDots();"
   ]
  },
  {
   "cell_type": "markdown",
   "metadata": {},
   "source": [
    "DOMContentLoad event  \n",
    "just HTML and javascript need to be loaded, not images & css"
   ]
  },
  {
   "cell_type": "code",
   "execution_count": null,
   "metadata": {
    "vscode": {
     "languageId": "javascript"
    }
   },
   "outputs": [],
   "source": [
    "%%script node\n",
    "\n",
    "document.addEventListener('DOMContentLoaded', function(e){\n",
    "    console.log('html, javascript loaded');\n",
    "    \n",
    "})"
   ]
  },
  {
   "cell_type": "markdown",
   "metadata": {},
   "source": [
    "JQuery documentready function"
   ]
  },
  {
   "cell_type": "code",
   "execution_count": null,
   "metadata": {
    "vscode": {
     "languageId": "javascript"
    }
   },
   "outputs": [],
   "source": [
    "%%script node\n",
    "\n",
    "document.ready"
   ]
  },
  {
   "cell_type": "markdown",
   "metadata": {},
   "source": [
    "Load event  \n",
    "when all html, css, and images load"
   ]
  },
  {
   "cell_type": "code",
   "execution_count": null,
   "metadata": {
    "vscode": {
     "languageId": "javascript"
    }
   },
   "outputs": [],
   "source": [
    "%%script node\n",
    "\n",
    "window.addEventListener('load', function(e){\n",
    "    console.log(`page fully loaded`);\n",
    "    \n",
    "})"
   ]
  },
  {
   "cell_type": "markdown",
   "metadata": {},
   "source": [
    "unload event  \n",
    "before user leaves page"
   ]
  },
  {
   "cell_type": "code",
   "execution_count": null,
   "metadata": {
    "vscode": {
     "languageId": "javascript"
    }
   },
   "outputs": [],
   "source": [
    "%%script node\n",
    "\n",
    "window.addEventListener('beforeunload', function(e){\n",
    "    e.preventDefault();\n",
    "    console.log(`page closing`);\n",
    "    // asks confirmation\n",
    "    e.returnValue = '';\n",
    "  })"
   ]
  },
  {
   "cell_type": "markdown",
   "metadata": {},
   "source": [
    "regular\n",
    "* parsing html: html converted to dom tree\n",
    "* * when reaches script tag, javascript fetched & executed, before html parsing resumes\n",
    "* * after html parsing finishes, domcontentloaded event fires"
   ]
  },
  {
   "cell_type": "markdown",
   "metadata": {},
   "source": [
    "async"
   ]
  },
  {
   "cell_type": "code",
   "execution_count": null,
   "metadata": {
    "vscode": {
     "languageId": "html"
    }
   },
   "outputs": [],
   "source": [
    "<!-- script fetched while html is being parsed -->\n",
    "<!-- so faster -->\n",
    "<script async src=\"\"></script>\n",
    "<!-- script execution happens synchronously becasue javascript, \n",
    "pausing html parsing -->\n",
    "<!-- domcontentloaded event may happen before script fetches and executes -->\n",
    "<!-- scripts may not be executed in the order they are declared -->"
   ]
  },
  {
   "cell_type": "markdown",
   "metadata": {},
   "source": [
    "defer"
   ]
  },
  {
   "cell_type": "code",
   "execution_count": null,
   "metadata": {
    "vscode": {
     "languageId": "html"
    }
   },
   "outputs": [],
   "source": [
    "<!-- script fetched while html is being parsed -->\n",
    "<script defer src=\"\"></script>\n",
    "<!-- script execution happens synchronously after html parsed -->"
   ]
  }
 ],
 "metadata": {
  "kernelspec": {
   "display_name": "Python 3.10.4 ('xproj': conda)",
   "language": "python",
   "name": "python3"
  },
  "language_info": {
   "codemirror_mode": {
    "name": "ipython",
    "version": 3
   },
   "file_extension": ".py",
   "mimetype": "text/x-python",
   "name": "python",
   "nbconvert_exporter": "python",
   "pygments_lexer": "ipython3",
   "version": "3.10.4"
  },
  "orig_nbformat": 4,
  "vscode": {
   "interpreter": {
    "hash": "ab8c4c1aa065ef4bf45014346553f7c05662feb01cd522c7343b10a256a1e8d9"
   }
  }
 },
 "nbformat": 4,
 "nbformat_minor": 2
}

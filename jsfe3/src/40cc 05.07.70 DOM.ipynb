{
 "cells": [
  {
   "cell_type": "markdown",
   "metadata": {},
   "source": [
    "# DOM document object model  \n",
    "\n",
    "is created by browser when page loads  \n",
    "is stored in a tree structure  \n",
    "* for each element in html, one element node in DOM tree  \n",
    "* document is selected as an object  \n",
    "allows javascript to access html elements and styles to manipulate them\n",
    "\n",
    "DOM, its methods and properties are part of   \n",
    "* WEB APIs: libraries written in javascript implemented by browsers\n",
    "* * other web apis: fetch, timer etc.\n",
    "* can be accessed by javascript\n",
    "\n",
    "DOM specification followed by all browsers"
   ]
  },
  {
   "cell_type": "code",
   "execution_count": null,
   "metadata": {
    "vscode": {
     "languageId": "javascript"
    }
   },
   "outputs": [],
   "source": [
    "%%script node\n",
    "\n",
    "console.log(document);\n"
   ]
  },
  {
   "cell_type": "markdown",
   "metadata": {},
   "source": [
    "querySelector is a method for doument object"
   ]
  },
  {
   "cell_type": "code",
   "execution_count": null,
   "metadata": {
    "vscode": {
     "languageId": "javascript"
    }
   },
   "outputs": [],
   "source": [
    "%%script node\n",
    "\n",
    "//document = './starter/index.html'\n",
    "console.log(document.querySelector('.message'));\n",
    "console.log(document.querySelector('.message').outerHTML);\n",
    "console.log(document.querySelector('.message').textContent);"
   ]
  },
  {
   "cell_type": "code",
   "execution_count": null,
   "metadata": {
    "vscode": {
     "languageId": "javascript"
    }
   },
   "outputs": [],
   "source": [
    "%%script node\n",
    "\n",
    "console.log(document.querySelector('.guess'));\n",
    "// for input element, the value is selected with value, not textContent\n",
    "console.log(document.querySelector('.guess').value);\n"
   ]
  },
  {
   "cell_type": "markdown",
   "metadata": {},
   "source": [
    "# DOM manipulation"
   ]
  },
  {
   "cell_type": "markdown",
   "metadata": {},
   "source": [
    "## element change"
   ]
  },
  {
   "cell_type": "code",
   "execution_count": null,
   "metadata": {
    "vscode": {
     "languageId": "javascript"
    }
   },
   "outputs": [],
   "source": [
    "%%script node\n",
    "\n",
    "document.querySelector('.message').textContent = 'Correct Number!'"
   ]
  },
  {
   "cell_type": "code",
   "execution_count": null,
   "metadata": {
    "vscode": {
     "languageId": "javascript"
    }
   },
   "outputs": [],
   "source": [
    "%%script node\n",
    "\n",
    "// input manipulation\n",
    "document.querySelector('.guess').value = 23;"
   ]
  },
  {
   "cell_type": "markdown",
   "metadata": {},
   "source": [
    "## event handling\n",
    "event handler is the second argument in an eventlistener"
   ]
  },
  {
   "cell_type": "code",
   "execution_count": null,
   "metadata": {
    "vscode": {
     "languageId": "javascript"
    }
   },
   "outputs": [],
   "source": [
    "%%script node\n",
    "\n",
    "document.querySelector('.check').addEventListener(\n",
    "    'click',\n",
    "    // event handler, \n",
    "    // function expression\n",
    "    // specifies what event does\n",
    "    // called only once event occurs\n",
    "    ()=>{\n",
    "        let guess = Number(document.querySelector('.guess').value);\n",
    "        console.log(guess);\n",
    "        if (!guess) {\n",
    "            displayMessage('No number');\n",
    "        } else if (score <= 0) {\n",
    "            displayMessage('You lost!');\n",
    "        } else if (guess === correct) {\n",
    "            displayMessage('Correct Answer!');\n",
    "            // inline style manipulation\n",
    "            // hyphen not allowed in DOM, so camel-case notation used\n",
    "            // value in string\n",
    "            document.querySelector('body').style.backgroundColor = '#60b347';\n",
    "            // display secret number\n",
    "            document.querySelector('.number').textContent = correct;\n",
    "            if (score>highscore){\n",
    "                highscore = score;\n",
    "                document.querySelector('.highscore').textContent = highscore;\n",
    "            }\n",
    "        } else if (guess !== correct) {\n",
    "            displayMessage(guess > correct ? 'Too high' : 'Too low');\n",
    "            score--;\n",
    "            document.querySelector('.score').textContent = score;\n",
    "        }\n",
    ")"
   ]
  },
  {
   "cell_type": "markdown",
   "metadata": {},
   "source": [
    "# refactoring"
   ]
  },
  {
   "cell_type": "code",
   "execution_count": null,
   "metadata": {
    "vscode": {
     "languageId": "javascript"
    }
   },
   "outputs": [],
   "source": [
    "%%script node\n",
    "\n",
    "const displayMessage = function(message){ document.querySelector('.message') = message }"
   ]
  }
 ],
 "metadata": {
  "kernelspec": {
   "display_name": "Python 3.10.7 64-bit",
   "language": "python",
   "name": "python3"
  },
  "language_info": {
   "codemirror_mode": {
    "name": "ipython",
    "version": 3
   },
   "file_extension": ".py",
   "mimetype": "text/x-python",
   "name": "python",
   "nbconvert_exporter": "python",
   "pygments_lexer": "ipython3",
   "version": "3.10.8"
  },
  "orig_nbformat": 4,
  "vscode": {
   "interpreter": {
    "hash": "e7370f93d1d0cde622a1f8e1c04877d8463912d04d973331ad4851f04de6915a"
   }
  }
 },
 "nbformat": 4,
 "nbformat_minor": 2
}

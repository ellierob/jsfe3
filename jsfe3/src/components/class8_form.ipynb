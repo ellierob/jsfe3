{
 "cells": [
  {
   "cell_type": "markdown",
   "metadata": {},
   "source": [
    "## Form"
   ]
  },
  {
   "cell_type": "markdown",
   "metadata": {},
   "source": [
    "### onChange\n",
    "event"
   ]
  },
  {
   "cell_type": "code",
   "execution_count": null,
   "metadata": {
    "vscode": {
     "languageId": "javascript"
    }
   },
   "outputs": [],
   "source": [
    "%%script node\n",
    "\n",
    "import { useState } from \"react\"\n",
    "\n",
    "function Form(props){\n",
    "    const [title, setTitle] = useState('');\n",
    "    const [writer, setWriter] = useState('');\n",
    "    const [price, setPrice] = useState('');\n",
    "    const [rating, setRating] = useState('');\n",
    "\n",
    "    return(\n",
    "        <div>\n",
    "            <form onSubmit={handleSubmit}>\n",
    "                <label htmlFor=\"\">\n",
    "                    <span>Title: </span>\n",
    "                    \n",
    "                    <input type=\"text\" id='title' \n",
    "                    \n",
    "                    //syncs form field value & view with set state\n",
    "                    value={title} \n",
    "                    \n",
    "                    //sets state value from form field input event\n",
    "                    onChange={(e)=> setTitle(e.target.value)}\n",
    "                    \n",
    "                    />\n",
    "\n",
    "                </label>\n",
    "                <label htmlFor=\"\">\n",
    "                    <span>Writer</span>\n",
    "                    <input type=\"text\" id='writer' value={writer} onChange={(e)=> setWriter(e.target.value)}/>\n",
    "                </label>\n",
    "                <label htmlFor=\"\">\n",
    "                    <span>Price: </span>\n",
    "                    <input type=\"text\" id='price' value={price} onChange={(e)=> setPrice(e.target.value)}/>\n",
    "                </label>\n",
    "                <label htmlFor=\"\">\n",
    "                    <span>Rating: </span>\n",
    "                    <input type=\"text\" id='rating' value={rating} onChange={(e)=> setRating(e.target.value)}/>\n",
    "                </label>\n",
    "                <button>Submit</button>\n",
    "            </form>\n",
    "        </div>\n",
    "    )\n",
    "}\n",
    "\n",
    "export default Form"
   ]
  },
  {
   "cell_type": "markdown",
   "metadata": {},
   "source": [
    "### post to database from form"
   ]
  },
  {
   "cell_type": "code",
   "execution_count": null,
   "metadata": {
    "vscode": {
     "languageId": "javascript"
    }
   },
   "outputs": [],
   "source": [
    "function handleSubmit(e){\n",
    "    // prevents default page reload after submit\n",
    "    e.preventDefault()\n",
    "    console.log(props.books)\n",
    "    const book = { \n",
    "        //\"id\" : props.books.length + 1,\n",
    "        title, writer, price, rating\n",
    "    }\n",
    "    console.log(book)\n",
    "    //props.setBooks([...props.books, book])\n",
    "    //console.log(props.books)\n",
    "\n",
    "    // post data query to server\n",
    "    const postData = async (data)=> {\n",
    "        const pack = {\n",
    "            method: \"POST\",\n",
    "            headers: {\n",
    "                \"Content-Type\": \"application/json\"\n",
    "            },\n",
    "            body: JSON.stringify(data)\n",
    "        }\n",
    "        const res = await fetch(\n",
    "            \"http://localhost:3001/books\",\n",
    "            {...pack}\n",
    "            )\n",
    "\n",
    "        if(res){\n",
    "\n",
    "            const book = await res.json();\n",
    "            console.log(book);\n",
    "            props.setBooks([...props.books, book]);\n",
    "            \n",
    "            // reload/ re-render app.js, clears form fields & states\n",
    "            //window.location.reload();\n",
    "        }\n",
    "    }\n",
    "\n",
    "    postData(book)\n",
    "}"
   ]
  },
  {
   "cell_type": "markdown",
   "metadata": {},
   "source": [
    "### clear state"
   ]
  },
  {
   "cell_type": "code",
   "execution_count": null,
   "metadata": {
    "vscode": {
     "languageId": "javascript"
    }
   },
   "outputs": [],
   "source": [
    "%%script node\n",
    "\n",
    "//clear state after submit\n",
    "setTitle('');\n",
    "setWriter('');\n",
    "setPrice('');\n",
    "setAuthor('');"
   ]
  }
 ],
 "metadata": {
  "kernelspec": {
   "display_name": "Python 3.10.4 ('xproj': conda)",
   "language": "python",
   "name": "python3"
  },
  "language_info": {
   "name": "python",
   "version": "3.10.4"
  },
  "orig_nbformat": 4,
  "vscode": {
   "interpreter": {
    "hash": "53ce4a372613acec3ced89ec12332be295014eb9a6e3df2a36b8fcc73e5ff10d"
   }
  }
 },
 "nbformat": 4,
 "nbformat_minor": 2
}

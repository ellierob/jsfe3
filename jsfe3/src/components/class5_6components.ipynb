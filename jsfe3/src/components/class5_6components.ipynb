{
 "cells": [
  {
   "cell_type": "markdown",
   "metadata": {},
   "source": [
    "## Element\n",
    "\n"
   ]
  },
  {
   "cell_type": "markdown",
   "metadata": {},
   "source": [
    "## Component\n",
    "repeatable piece of jsx /javascript code\n",
    "\n",
    "separate '.js' extensioned file  \n",
    "which is conventionally named in all caps\n",
    "\n",
    "two type: 1) Function based, 2) Class-based"
   ]
  },
  {
   "cell_type": "markdown",
   "metadata": {},
   "source": [
    "## Function based Component"
   ]
  },
  {
   "cell_type": "markdown",
   "metadata": {},
   "source": [
    "### top-level component"
   ]
  },
  {
   "cell_type": "code",
   "execution_count": null,
   "metadata": {
    "vscode": {
     "languageId": "javascript"
    }
   },
   "outputs": [],
   "source": [
    "%%script node\n",
    "\n",
    "// inside .js extensioned component file: App.js\n",
    "\n",
    "// in JSX, you import css instead of using link element\n",
    "import './App.css';\n",
    "\n",
    "/* App.js is the top level component: only this is rendered in index.js,\n",
    "all other components need to be imported and referenced inside it */\n",
    "import Books from './Books';\n",
    "import Cart from './Cart';\n",
    "import Form from './Form';\n",
    "\n",
    "// one function for one component\n",
    "// i.e. one replicating design\n",
    "\n",
    "function App(){\n",
    "  const username = \"Abs\";\n",
    "\n",
    "  return (\n",
    "      /* function can return only one element object, \n",
    "      so all elements need to be nested inside one element*/\n",
    "      <div className=\"app\">\n",
    "          {/* \n",
    "          (JSX comment)\n",
    "          javascript inside JSX\n",
    "          need to be in curly braces \n",
    "          */}\n",
    "          <Cart cartCount={cartCount} cost={cost}/>\n",
    "          <h1>Hello {username}!</h1>\n",
    "          <p>Your favorite birds are:</p>\n",
    "          <ul>\n",
    "              {birds.map(bird => (\n",
    "                <li>{bird}</li>\n",
    "              ))}\n",
    "          </ul>\n",
    "          <div>\n",
    "              <h2>Books Library</h2>\n",
    "                {\n",
    "                // value of keys in prop object can be used\n",
    "                books.map(book => (\n",
    "                  <Books \n",
    "                  book={\n",
    "                    book\n",
    "                    /* through react props data flow feature,\n",
    "                    data is passed from parent to child component\n",
    "                    using js curly braces */\n",
    "                  }\n",
    "                  /* passing statehandler to child component as prop\n",
    "                  allows state lift from child to parent component */\n",
    "                  upCart={upCart} \n",
    "                  cartCount={cartCount}\n",
    "                  setCost={setCost}\n",
    "                  key={book.id}\n",
    "                  />\n",
    "                ))\n",
    "                }\n",
    "          </div>\n",
    "          {/* child component reference \n",
    "          inside parent component return object element, \n",
    "          returns child component element object */}\n",
    "          \n",
    "          <Form books={books} setBooks={setBooks}/>\n",
    "\n",
    "      </div>    \n",
    "      )\n",
    "}\n",
    "\n",
    "// default export\n",
    "export default App"
   ]
  },
  {
   "cell_type": "markdown",
   "metadata": {},
   "source": [
    "### child component"
   ]
  },
  {
   "cell_type": "code",
   "execution_count": null,
   "metadata": {
    "vscode": {
     "languageId": "javascript"
    }
   },
   "outputs": [],
   "source": [
    "%%script node\n",
    "\n",
    "function Books(\n",
    "    /* Using react props data flow feature,\n",
    "    data can be passed from parent component \n",
    "    as an prop object containing all keys and values\n",
    "    as argument to child component */\n",
    "    props \n",
    "    ){\n",
    "        return (\n",
    "            // the html element returned by the function\n",
    "            <div>\n",
    "                <h2>Books Library</h2>\n",
    "                {\n",
    "                // value of keys in prop object can be used\n",
    "                props.books.map(book => (\n",
    "                <div className=\"book\">\n",
    "                    <h2>Title: {book.title}</h2>\n",
    "                    <p>Writer: {book.writer}</p>\n",
    "                    <p>Price: {book.price}</p>\n",
    "                    <p>Rating: {book.rating}</p>\n",
    "                    {/* mouse event: updates on user input */}\n",
    "                    <button onClick={addToCart}>Add to cart</button>\n",
    "                    <button onClick={removeFromCart}>Remove from cart</button>\n",
    "                </div>\n",
    "                ))\n",
    "                }\n",
    "                </div>\n",
    "                            )\n",
    "                        }\n",
    "\n",
    "export default Books"
   ]
  },
  {
   "cell_type": "code",
   "execution_count": null,
   "metadata": {
    "vscode": {
     "languageId": "javascript"
    }
   },
   "outputs": [],
   "source": [
    "%%script node\n",
    "\n",
    "function addToCart(){\n",
    "    console.log('Im Clicked');\n",
    "    props.upCart(cartCount=> cartCount+=1);\n",
    "}\n",
    "function removeFromCart(){\n",
    "    if (props.cartCount > 0){\n",
    "        props.upCart(cartCount=> cartCount-=1);\n",
    "    }\n",
    "    if (props.cartCount === 0){\n",
    "        alert(`Can't decrease less than 0`);\n",
    "    }\n",
    "}"
   ]
  },
  {
   "cell_type": "markdown",
   "metadata": {},
   "source": [
    "## Class based component"
   ]
  },
  {
   "cell_type": "code",
   "execution_count": null,
   "metadata": {
    "vscode": {
     "languageId": "javascript"
    }
   },
   "outputs": [],
   "source": []
  },
  {
   "cell_type": "markdown",
   "metadata": {},
   "source": [
    "## Importing in index.js"
   ]
  },
  {
   "cell_type": "code",
   "execution_count": null,
   "metadata": {
    "vscode": {
     "languageId": "javascript"
    }
   },
   "outputs": [],
   "source": [
    "%%script node\n",
    "\n",
    "// index.js\n",
    "// in the src folder with all other .js, .css, .svg files\n",
    "\n",
    "import React from 'react';\n",
    "import ReactDOM from 'react-dom/client';\n",
    "import './index.css';\n",
    "\n",
    "import App from './App';\n",
    "import reportWebVitals from './reportWebVitals';\n",
    "\n",
    "const root = ReactDOM.createRoot(document.getElementById('root'));\n",
    "root.render(\n",
    "  <React.StrictMode>\n",
    "    <App />\n",
    "  </React.StrictMode>\n",
    ");\n",
    "\n",
    "// If you want to start measuring performance in your app, pass a function\n",
    "// to log results (for example: reportWebVitals(console.log))\n",
    "// or send to an analytics endpoint. Learn more: https://bit.ly/CRA-vitals\n",
    "reportWebVitals();\n"
   ]
  }
 ],
 "metadata": {
  "kernelspec": {
   "display_name": "Python 3.10.4 ('xproj': conda)",
   "language": "python",
   "name": "python3"
  },
  "language_info": {
   "codemirror_mode": {
    "name": "ipython",
    "version": 3
   },
   "file_extension": ".py",
   "mimetype": "text/x-python",
   "name": "python",
   "nbconvert_exporter": "python",
   "pygments_lexer": "ipython3",
   "version": "3.10.4"
  },
  "orig_nbformat": 4,
  "vscode": {
   "interpreter": {
    "hash": "53ce4a372613acec3ced89ec12332be295014eb9a6e3df2a36b8fcc73e5ff10d"
   }
  }
 },
 "nbformat": 4,
 "nbformat_minor": 2
}

{
 "cells": [
  {
   "attachments": {},
   "cell_type": "markdown",
   "metadata": {},
   "source": [
    "# Browser\n",
    "browser is a REST client: \n",
    "* it can receive responses from REST servers\n",
    "* stores representational states in cache, cookies"
   ]
  },
  {
   "cell_type": "markdown",
   "metadata": {},
   "source": [
    "## Browser functions"
   ]
  },
  {
   "cell_type": "code",
   "execution_count": null,
   "metadata": {
    "vscode": {
     "languageId": "javascript"
    }
   },
   "outputs": [],
   "source": [
    "%%script node\n",
    "\n",
    "alert(`Does this work in jupyter?`)"
   ]
  },
  {
   "cell_type": "code",
   "execution_count": null,
   "metadata": {
    "vscode": {
     "languageId": "javascript"
    }
   },
   "outputs": [],
   "source": [
    "%%script node\n",
    "\n",
    "const someVar = prompt(`What variable do you want to store?`);\n",
    "console.log(someVar)"
   ]
  },
  {
   "cell_type": "markdown",
   "metadata": {},
   "source": [
    "## strict mode\n",
    "forbids certain things (like undeclared assignment, assigning to reserved word)  \n",
    "through visible errors in dev console  \n",
    "secure code, avoid bug"
   ]
  },
  {
   "cell_type": "code",
   "execution_count": null,
   "metadata": {
    "vscode": {
     "languageId": "javascript"
    }
   },
   "outputs": [],
   "source": [
    "%%script node\n",
    "\n",
    "'use strict';\n",
    "\n",
    "// can be used at the beginning of script\n",
    "// and the beginning of blocks\n",
    "\n",
    "let hasLicense = false;\n",
    "const passTest = true;\n",
    "\n",
    "if (passTest) haslicense = true;\n",
    "\n",
    "if (hasLicense) console.log('can drive')"
   ]
  },
  {
   "cell_type": "markdown",
   "metadata": {},
   "source": [
    "## window object\n",
    "different from DOM object"
   ]
  },
  {
   "cell_type": "code",
   "execution_count": null,
   "metadata": {
    "vscode": {
     "languageId": "javascript"
    }
   },
   "outputs": [],
   "source": [
    "%%script node\n",
    "\n",
    "console.log(window);"
   ]
  },
  {
   "cell_type": "markdown",
   "metadata": {},
   "source": [
    "window contains methods such as alert"
   ]
  },
  {
   "cell_type": "code",
   "execution_count": null,
   "metadata": {
    "vscode": {
     "languageId": "javascript"
    }
   },
   "outputs": [],
   "source": [
    "%%script node\n",
    "\n",
    "window.alert(`window alert method`)"
   ]
  },
  {
   "cell_type": "markdown",
   "metadata": {},
   "source": [
    "var variables are stored in window object"
   ]
  },
  {
   "cell_type": "code",
   "execution_count": null,
   "metadata": {
    "vscode": {
     "languageId": "javascript"
    }
   },
   "outputs": [],
   "source": [
    "%%script node\n",
    "\n",
    "var var1 = 'var';\n",
    "let let1 = 'let';\n",
    "\n",
    "console.log(window.var1);\n",
    "try{\n",
    "    console.log(window.let1);\n",
    "} catch(e){ \n",
    "    console.log(`'let' variable not stored in window`);\n",
    "}"
   ]
  },
  {
   "cell_type": "markdown",
   "metadata": {},
   "source": [
    "## browser global context this is window"
   ]
  },
  {
   "cell_type": "code",
   "execution_count": null,
   "metadata": {
    "vscode": {
     "languageId": "javascript"
    }
   },
   "outputs": [],
   "source": [
    "%%script node\n",
    "\n",
    "var var1 = 'var';\n",
    "let let1 = 'let';\n",
    "\n",
    "this.alert(var1, let1)"
   ]
  }
 ],
 "metadata": {
  "kernelspec": {
   "display_name": "Python 3.10.4 ('xproj': conda)",
   "language": "python",
   "name": "python3"
  },
  "language_info": {
   "codemirror_mode": {
    "name": "ipython",
    "version": 3
   },
   "file_extension": ".py",
   "mimetype": "text/x-python",
   "name": "python",
   "nbconvert_exporter": "python",
   "pygments_lexer": "ipython3",
   "version": "3.10.4"
  },
  "orig_nbformat": 4,
  "vscode": {
   "interpreter": {
    "hash": "53ce4a372613acec3ced89ec12332be295014eb9a6e3df2a36b8fcc73e5ff10d"
   }
  }
 },
 "nbformat": 4,
 "nbformat_minor": 2
}
